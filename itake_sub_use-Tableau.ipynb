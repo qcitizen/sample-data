{
 "cells": [
  {
   "cell_type": "code",
   "metadata": {
    "tags": [],
    "deepnote_to_be_reexecuted": false,
    "source_hash": "c609c68e",
    "execution_start": 1647635806929,
    "execution_millis": 691,
    "cell_id": "00000-75bdc2f1-369b-4e31-a21b-997a2333d27e",
    "deepnote_cell_type": "code",
    "deepnote_cell_height": 189
   },
   "source": "import pandas as pd\nimport numpy as np\nimport pyreadstat\nimport openpyxl\nimport savReaderWriter\n \nimport pycountry",
   "execution_count": null,
   "outputs": []
  },
  {
   "cell_type": "code",
   "metadata": {
    "cell_id": "5a9552db-a3ac-4dbb-a174-10d8edf05029",
    "tags": [],
    "deepnote_to_be_reexecuted": false,
    "source_hash": "ea3fe957",
    "execution_start": 1647635807638,
    "execution_millis": 4,
    "deepnote_cell_type": "code",
    "deepnote_cell_height": 135
   },
   "source": "# pd.set_option('display.max_rows', None)\n# pd.set_option('display.max_columns', None)\n# pd.set_option('display.width', None)\n# pd.set_option('display.max_colwidth', -1)",
   "execution_count": null,
   "outputs": []
  },
  {
   "cell_type": "code",
   "metadata": {
    "tags": [],
    "cell_id": "00001-565e888d-6535-447c-91b5-aaa7c85d99e1",
    "deepnote_to_be_reexecuted": false,
    "source_hash": "6252b3b0",
    "execution_start": 1647635807653,
    "execution_millis": 339,
    "deepnote_cell_type": "code",
    "deepnote_cell_height": 686.375
   },
   "source": "intake = pd.read_csv(\"/work/exports_november2021/data/intake.csv\")\nintake",
   "execution_count": null,
   "outputs": [
    {
     "name": "stderr",
     "text": "/shared-libs/python3.7/py-core/lib/python3.7/site-packages/IPython/core/interactiveshell.py:3524: DtypeWarning: Columns (0,5,6,7,8,9,32,33,50,51) have mixed types.Specify dtype option on import or set low_memory=False.\n  exec(code_obj, self.user_global_ns, self.user_ns)\n",
     "output_type": "stream"
    },
    {
     "output_type": "execute_result",
     "execution_count": 3,
     "data": {
      "application/vnd.deepnote.dataframe.v3+json": {
       "column_count": 72,
       "row_count": 16919,
       "columns": [
        {
         "name": "Participant Num",
         "dtype": "object",
         "stats": {
          "unique_count": 16898,
          "nan_count": 0,
          "categories": [
           {
            "name": "4803",
            "count": 2
           },
           {
            "name": "24929",
            "count": 2
           },
           {
            "name": "16896 others",
            "count": 16915
           }
          ]
         }
        },
        {
         "name": "Participant ID",
         "dtype": "object",
         "stats": {
          "unique_count": 16898,
          "nan_count": 0,
          "categories": [
           {
            "name": "010b908d-f3d9-49ef-9918-0443c6e78197",
            "count": 2
           },
           {
            "name": "018e6fbc-07c8-41ac-bfb5-89e1e4c0d446",
            "count": 2
           },
           {
            "name": "16896 others",
            "count": 16915
           }
          ]
         }
        },
        {
         "name": "Response ID",
         "dtype": "object",
         "stats": {
          "unique_count": 16919,
          "nan_count": 0,
          "categories": [
           {
            "name": "responseid",
            "count": 1
           },
           {
            "name": "9890f08a-8dfb-49a3-9af5-ccd4c497bd02",
            "count": 1
           },
           {
            "name": "16917 others",
            "count": 16917
           }
          ]
         }
        },
        {
         "name": "Join Date",
         "dtype": "object",
         "stats": {
          "unique_count": 16315,
          "nan_count": 584,
          "categories": [
           {
            "name": "2019-11-17T20:48:03.910000+00:00",
            "count": 2
           },
           {
            "name": "16314 others",
            "count": 16333
           },
           {
            "name": "Missing",
            "count": 584
           }
          ]
         }
        },
        {
         "name": "Submitted Date",
         "dtype": "object",
         "stats": {
          "unique_count": 16919,
          "nan_count": 0,
          "categories": [
           {
            "name": "submitteddate",
            "count": 1
           },
           {
            "name": "2021-01-20T16:32:21.458000+00:00",
            "count": 1
           },
           {
            "name": "16917 others",
            "count": 16917
           }
          ]
         }
        },
        {
         "name": "Index (Global)",
         "dtype": "object"
        },
        {
         "name": "Index",
         "dtype": "object"
        },
        {
         "name": "Participation Days",
         "dtype": "object"
        },
        {
         "name": "Participation Day",
         "dtype": "object"
        },
        {
         "name": "Month Index",
         "dtype": "object"
        },
        {
         "name": "Scoring",
         "dtype": "object"
        },
        {
         "name": "What is your gender?",
         "dtype": "object"
        },
        {
         "name": "How old are you?",
         "dtype": "object"
        },
        {
         "name": "Which sexual orientation do you most identify with?",
         "dtype": "object"
        },
        {
         "name": "What is your ethnicity? (Select all that apply)",
         "dtype": "object"
        },
        {
         "name": "Which country do you live in?",
         "dtype": "object"
        },
        {
         "name": "Do you currently live in a...?",
         "dtype": "object"
        },
        {
         "name": "Which employment status best applies to you?",
         "dtype": "object"
        },
        {
         "name": "What is the highest level of education you've attained?",
         "dtype": "object"
        },
        {
         "name": "What is your yearly household income (estimate in USD)?",
         "dtype": "object"
        },
        {
         "name": "Are you currently taking any prescription medications?",
         "dtype": "object"
        },
        {
         "name": "What are you taking?",
         "dtype": "object"
        },
        {
         "name": "Do you currently have allergies?",
         "dtype": "object"
        },
        {
         "name": "Which of the following describes your allergies? (Select all that apply)",
         "dtype": "object"
        },
        {
         "name": "If you selected 'Other', please specify:",
         "dtype": "object"
        },
        {
         "name": "Do you currently have any medical concerns with your blood and circulation system?",
         "dtype": "object"
        },
        {
         "name": "Which of the following describes your blood and circulation concerns? (Select all that apply)",
         "dtype": "object"
        },
        {
         "name": "If you selected 'Other', please specify:.1",
         "dtype": "object"
        },
        {
         "name": "Do you currently have any medical concerns with your brain and nervous (neurological) system?",
         "dtype": "object"
        },
        {
         "name": "Which of the following describes your brain and nervous (neurological) system concern(s)? (Select all that apply)",
         "dtype": "object"
        },
        {
         "name": "If you selected 'Other', please specify:.2",
         "dtype": "object"
        },
        {
         "name": "Do you currently have cancer?",
         "dtype": "object"
        },
        {
         "name": "What type of cancer do you have? (Select all that apply)",
         "dtype": "object"
        },
        {
         "name": "If you selected 'Other', please specify:.3",
         "dtype": "object"
        },
        {
         "name": "Do you currently have any medical concerns with your digestive system?",
         "dtype": "object"
        },
        {
         "name": "Which of the following best describes your digestive system concern(s)? (Select all that apply)",
         "dtype": "object"
        },
        {
         "name": "If you selected 'Other', please specify:.4",
         "dtype": "object"
        },
        {
         "name": "Do you currently have any medical concerns with your endocrine system?",
         "dtype": "object"
        },
        {
         "name": "Which of the following describes your endocrine system concern(s)? (Select all that apply)",
         "dtype": "object"
        },
        {
         "name": "If you selected 'Other', please specify:.5",
         "dtype": "object"
        },
        {
         "name": "Do you currently have any concerns with your eyes, ears, nose, or throat?",
         "dtype": "object"
        },
        {
         "name": "Which of the following best describes your eyes, ears, nose, or throat concern(s)? (Select all that apply)",
         "dtype": "object"
        },
        {
         "name": "If you wear glasses or contacts, for what reason?",
         "dtype": "object"
        },
        {
         "name": "If you experience visual disturbances, please describe them:",
         "dtype": "object"
        },
        {
         "name": "If you selected 'Other', please specify:.6",
         "dtype": "object"
        },
        {
         "name": "Do you currently have any heart or vascular disorders?",
         "dtype": "object"
        },
        {
         "name": "Which of the following describes your heart or vascular disorder(s)? (Select all that apply)",
         "dtype": "object"
        },
        {
         "name": "If you selected 'Other', please specify:.7",
         "dtype": "object"
        },
        {
         "name": "Do you currently have any infectious diseases?",
         "dtype": "object"
        },
        {
         "name": "Which of the following describes your infectious disease(s)? (Select all that apply)",
         "dtype": "object"
        },
        {
         "name": "If you selected 'Other', please specify:.8",
         "dtype": "object"
        },
        {
         "name": "Do you currently have any medical concerns with your musculoskeletal system?",
         "dtype": "object"
        },
        {
         "name": "Which of the following describes your musculoskeletal system concern(s)? (Select all that apply)",
         "dtype": "object"
        },
        {
         "name": "If you selected 'Other', please specify:.9",
         "dtype": "object"
        },
        {
         "name": "Do you currently have any psychological/mental health/addiction concerns?",
         "dtype": "object"
        },
        {
         "name": "Which of the following describes your psychological/mental health/addiction concern(s)? (Select all that apply)",
         "dtype": "object"
        },
        {
         "name": "If you have an addiction not listed, please specify:",
         "dtype": "object"
        },
        {
         "name": "If you selected 'Other', please specify:.10",
         "dtype": "object"
        },
        {
         "name": "Do you currently have any medical concerns with your reproductive system?",
         "dtype": "object"
        },
        {
         "name": "Which of the following describes your reproductive system concern(s)? (Select all that apply)",
         "dtype": "object"
        },
        {
         "name": "If you selected 'Other', please specify:.11",
         "dtype": "object"
        },
        {
         "name": "Do you currently have any medical concerns with your respiratory system?",
         "dtype": "object"
        },
        {
         "name": "Which of the following describes your respiratory system concern(s)? (Select all that apply)",
         "dtype": "object"
        },
        {
         "name": "If you selected 'Other', please specify:.12",
         "dtype": "object"
        },
        {
         "name": "Do you currently have any medical concerns with your skin/nails/hair?",
         "dtype": "object"
        },
        {
         "name": "Which of the following describes your skin/nails/hair concern(s)? (Select all that apply)",
         "dtype": "object"
        },
        {
         "name": "If you selected 'Other', please specify:.13",
         "dtype": "object"
        },
        {
         "name": "Have you ever experienced a head injury?",
         "dtype": "object"
        },
        {
         "name": "Which of the following best describes your head injury(s)? (Select all that apply)",
         "dtype": "object"
        },
        {
         "name": "If you selected 'Other', please specify:.14",
         "dtype": "object"
        },
        {
         "name": "Do you have any of the following symptoms? (Select all that apply)",
         "dtype": "object"
        },
        {
         "name": "If there is anything else you would like to add, please enter it below:",
         "dtype": "object"
        },
        {
         "name": "_deepnote_index_column",
         "dtype": "int64"
        }
       ],
       "rows": [
        {
         "Participant Num": "participantnum",
         "Participant ID": "participantid",
         "Response ID": "responseid",
         "Join Date": "joindate",
         "Submitted Date": "submitteddate",
         "Index (Global)": "index(global)",
         "Index": "index",
         "Participation Days": "participationdays",
         "Participation Day": "participationday",
         "Month Index": "monthindex",
         "Scoring": "scoring",
         "What is your gender?": "gender",
         "How old are you?": "age",
         "Which sexual orientation do you most identify with?": "orientation",
         "What is your ethnicity? (Select all that apply)": "ethnicity",
         "Which country do you live in?": "country",
         "Do you currently live in a...?": "area",
         "Which employment status best applies to you?": "employment",
         "What is the highest level of education you've attained?": "education",
         "What is your yearly household income (estimate in USD)?": "income",
         "Are you currently taking any prescription medications?": "medication",
         "What are you taking?": "whichmedication",
         "Do you currently have allergies?": "allergy",
         "Which of the following describes your allergies? (Select all that apply)": "whatallergies",
         "If you selected 'Other', please specify:": "otherallergies",
         "Do you currently have any medical concerns with your blood and circulation system?": "circulation",
         "Which of the following describes your blood and circulation concerns? (Select all that apply)": "circ",
         "If you selected 'Other', please specify:.1": "othercircul",
         "Do you currently have any medical concerns with your brain and nervous (neurological) system?": "neurological",
         "Which of the following describes your brain and nervous (neurological) system concern(s)? (Select all that apply)": "whatneuro",
         "If you selected 'Other', please specify:.2": "otherneuro",
         "Do you currently have cancer?": "cancer",
         "What type of cancer do you have? (Select all that apply)": "whatcancer",
         "If you selected 'Other', please specify:.3": "othercancer",
         "Do you currently have any medical concerns with your digestive system?": "digestive",
         "Which of the following best describes your digestive system concern(s)? (Select all that apply)": "whatdigestive",
         "If you selected 'Other', please specify:.4": "otherdigestive",
         "Do you currently have any medical concerns with your endocrine system?": "endocrine",
         "Which of the following describes your endocrine system concern(s)? (Select all that apply)": "whatendocrine",
         "If you selected 'Other', please specify:.5": "otherendocrine",
         "Do you currently have any concerns with your eyes, ears, nose, or throat?": "head",
         "Which of the following best describes your eyes, ears, nose, or throat concern(s)? (Select all that apply)": "whathead",
         "If you wear glasses or contacts, for what reason?": "whyglasses",
         "If you experience visual disturbances, please describe them:": "whatdisturbance",
         "If you selected 'Other', please specify:.6": "otherhead",
         "Do you currently have any heart or vascular disorders?": "heart",
         "Which of the following describes your heart or vascular disorder(s)? (Select all that apply)": "whatheart",
         "If you selected 'Other', please specify:.7": "otherheart",
         "Do you currently have any infectious diseases?": "infectious",
         "Which of the following describes your infectious disease(s)? (Select all that apply)": "whatinfectious",
         "If you selected 'Other', please specify:.8": "otherinfectious",
         "Do you currently have any medical concerns with your musculoskeletal system?": "skeletal",
         "Which of the following describes your musculoskeletal system concern(s)? (Select all that apply)": "whatskeletal",
         "If you selected 'Other', please specify:.9": "otherskeletal",
         "Do you currently have any psychological/mental health/addiction concerns?": "mental",
         "Which of the following describes your psychological/mental health/addiction concern(s)? (Select all that apply)": "whatmental",
         "If you have an addiction not listed, please specify:": "otheraddiction",
         "If you selected 'Other', please specify:.10": "othermental",
         "Do you currently have any medical concerns with your reproductive system?": "reproductive",
         "Which of the following describes your reproductive system concern(s)? (Select all that apply)": "whatrepro",
         "If you selected 'Other', please specify:.11": "otherrepro",
         "Do you currently have any medical concerns with your respiratory system?": "lungs",
         "Which of the following describes your respiratory system concern(s)? (Select all that apply)": "whatlungs",
         "If you selected 'Other', please specify:.12": "otherlungs",
         "Do you currently have any medical concerns with your skin/nails/hair?": "skin",
         "Which of the following describes your skin/nails/hair concern(s)? (Select all that apply)": "whatskin",
         "If you selected 'Other', please specify:.13": "otherskin",
         "Have you ever experienced a head injury?": "headinjury",
         "Which of the following best describes your head injury(s)? (Select all that apply)": "whatheadinjury",
         "If you selected 'Other', please specify:.14": "otherheadinj",
         "Do you have any of the following symptoms? (Select all that apply)": "misc",
         "If there is anything else you would like to add, please enter it below:": "final",
         "_deepnote_index_column": 0
        },
        {
         "Participant Num": "35186",
         "Participant ID": "0000288c-c113-4871-a7e2-d45baae6f869",
         "Response ID": "9890f08a-8dfb-49a3-9af5-ccd4c497bd02",
         "Join Date": "nan",
         "Submitted Date": "2021-01-20T16:32:21.458000+00:00",
         "Index (Global)": "nan",
         "Index": "nan",
         "Participation Days": "nan",
         "Participation Day": "-1",
         "Month Index": "0",
         "Scoring": "{}",
         "What is your gender?": "1",
         "How old are you?": "2",
         "Which sexual orientation do you most identify with?": "1",
         "What is your ethnicity? (Select all that apply)": "3",
         "Which country do you live in?": "prefernotsay",
         "Do you currently live in a...?": "2",
         "Which employment status best applies to you?": "5",
         "What is the highest level of education you've attained?": "6",
         "What is your yearly household income (estimate in USD)?": "prefernotsay",
         "Are you currently taking any prescription medications?": "False",
         "What are you taking?": "nan",
         "Do you currently have allergies?": "False",
         "Which of the following describes your allergies? (Select all that apply)": "nan",
         "If you selected 'Other', please specify:": "nan",
         "Do you currently have any medical concerns with your blood and circulation system?": "False",
         "Which of the following describes your blood and circulation concerns? (Select all that apply)": "nan",
         "If you selected 'Other', please specify:.1": "nan",
         "Do you currently have any medical concerns with your brain and nervous (neurological) system?": "False",
         "Which of the following describes your brain and nervous (neurological) system concern(s)? (Select all that apply)": "nan",
         "If you selected 'Other', please specify:.2": "nan",
         "Do you currently have cancer?": "False",
         "What type of cancer do you have? (Select all that apply)": "nan",
         "If you selected 'Other', please specify:.3": "nan",
         "Do you currently have any medical concerns with your digestive system?": "False",
         "Which of the following best describes your digestive system concern(s)? (Select all that apply)": "nan",
         "If you selected 'Other', please specify:.4": "nan",
         "Do you currently have any medical concerns with your endocrine system?": "False",
         "Which of the following describes your endocrine system concern(s)? (Select all that apply)": "nan",
         "If you selected 'Other', please specify:.5": "nan",
         "Do you currently have any concerns with your eyes, ears, nose, or throat?": "False",
         "Which of the following best describes your eyes, ears, nose, or throat concern(s)? (Select all that apply)": "nan",
         "If you wear glasses or contacts, for what reason?": "nan",
         "If you experience visual disturbances, please describe them:": "nan",
         "If you selected 'Other', please specify:.6": "nan",
         "Do you currently have any heart or vascular disorders?": "False",
         "Which of the following describes your heart or vascular disorder(s)? (Select all that apply)": "nan",
         "If you selected 'Other', please specify:.7": "nan",
         "Do you currently have any infectious diseases?": "False",
         "Which of the following describes your infectious disease(s)? (Select all that apply)": "nan",
         "If you selected 'Other', please specify:.8": "nan",
         "Do you currently have any medical concerns with your musculoskeletal system?": "False",
         "Which of the following describes your musculoskeletal system concern(s)? (Select all that apply)": "nan",
         "If you selected 'Other', please specify:.9": "nan",
         "Do you currently have any psychological/mental health/addiction concerns?": "prefernotsay",
         "Which of the following describes your psychological/mental health/addiction concern(s)? (Select all that apply)": "nan",
         "If you have an addiction not listed, please specify:": "nan",
         "If you selected 'Other', please specify:.10": "nan",
         "Do you currently have any medical concerns with your reproductive system?": "False",
         "Which of the following describes your reproductive system concern(s)? (Select all that apply)": "nan",
         "If you selected 'Other', please specify:.11": "nan",
         "Do you currently have any medical concerns with your respiratory system?": "False",
         "Which of the following describes your respiratory system concern(s)? (Select all that apply)": "nan",
         "If you selected 'Other', please specify:.12": "nan",
         "Do you currently have any medical concerns with your skin/nails/hair?": "False",
         "Which of the following describes your skin/nails/hair concern(s)? (Select all that apply)": "nan",
         "If you selected 'Other', please specify:.13": "nan",
         "Have you ever experienced a head injury?": "False",
         "Which of the following best describes your head injury(s)? (Select all that apply)": "nan",
         "If you selected 'Other', please specify:.14": "nan",
         "Do you have any of the following symptoms? (Select all that apply)": "1, 7",
         "If there is anything else you would like to add, please enter it below:": "Ptsd \nDissociation \n",
         "_deepnote_index_column": 1
        },
        {
         "Participant Num": "35535",
         "Participant ID": "000800ec-723f-4fa3-85ec-286a58a2b070",
         "Response ID": "742d4911-69b6-48ee-9999-c9c0657b3c36",
         "Join Date": "2021-02-01T18:56:01.035000+00:00",
         "Submitted Date": "2021-02-01T18:58:20.942000+00:00",
         "Index (Global)": "1",
         "Index": "1",
         "Participation Days": "1",
         "Participation Day": "0",
         "Month Index": "0",
         "Scoring": "{}",
         "What is your gender?": "2",
         "How old are you?": "2",
         "Which sexual orientation do you most identify with?": "1",
         "What is your ethnicity? (Select all that apply)": "3",
         "Which country do you live in?": "GB",
         "Do you currently live in a...?": "2",
         "Which employment status best applies to you?": "1",
         "What is the highest level of education you've attained?": "5",
         "What is your yearly household income (estimate in USD)?": "2",
         "Are you currently taking any prescription medications?": "False",
         "What are you taking?": "nan",
         "Do you currently have allergies?": "False",
         "Which of the following describes your allergies? (Select all that apply)": "nan",
         "If you selected 'Other', please specify:": "nan",
         "Do you currently have any medical concerns with your blood and circulation system?": "False",
         "Which of the following describes your blood and circulation concerns? (Select all that apply)": "nan",
         "If you selected 'Other', please specify:.1": "nan",
         "Do you currently have any medical concerns with your brain and nervous (neurological) system?": "False",
         "Which of the following describes your brain and nervous (neurological) system concern(s)? (Select all that apply)": "nan",
         "If you selected 'Other', please specify:.2": "nan",
         "Do you currently have cancer?": "False",
         "What type of cancer do you have? (Select all that apply)": "nan",
         "If you selected 'Other', please specify:.3": "nan",
         "Do you currently have any medical concerns with your digestive system?": "False",
         "Which of the following best describes your digestive system concern(s)? (Select all that apply)": "nan",
         "If you selected 'Other', please specify:.4": "nan",
         "Do you currently have any medical concerns with your endocrine system?": "False",
         "Which of the following describes your endocrine system concern(s)? (Select all that apply)": "nan",
         "If you selected 'Other', please specify:.5": "nan",
         "Do you currently have any concerns with your eyes, ears, nose, or throat?": "False",
         "Which of the following best describes your eyes, ears, nose, or throat concern(s)? (Select all that apply)": "nan",
         "If you wear glasses or contacts, for what reason?": "nan",
         "If you experience visual disturbances, please describe them:": "nan",
         "If you selected 'Other', please specify:.6": "nan",
         "Do you currently have any heart or vascular disorders?": "False",
         "Which of the following describes your heart or vascular disorder(s)? (Select all that apply)": "nan",
         "If you selected 'Other', please specify:.7": "nan",
         "Do you currently have any infectious diseases?": "False",
         "Which of the following describes your infectious disease(s)? (Select all that apply)": "nan",
         "If you selected 'Other', please specify:.8": "nan",
         "Do you currently have any medical concerns with your musculoskeletal system?": "False",
         "Which of the following describes your musculoskeletal system concern(s)? (Select all that apply)": "nan",
         "If you selected 'Other', please specify:.9": "nan",
         "Do you currently have any psychological/mental health/addiction concerns?": "False",
         "Which of the following describes your psychological/mental health/addiction concern(s)? (Select all that apply)": "nan",
         "If you have an addiction not listed, please specify:": "nan",
         "If you selected 'Other', please specify:.10": "nan",
         "Do you currently have any medical concerns with your reproductive system?": "True",
         "Which of the following describes your reproductive system concern(s)? (Select all that apply)": "other",
         "If you selected 'Other', please specify:.11": "PCOS",
         "Do you currently have any medical concerns with your respiratory system?": "False",
         "Which of the following describes your respiratory system concern(s)? (Select all that apply)": "nan",
         "If you selected 'Other', please specify:.12": "nan",
         "Do you currently have any medical concerns with your skin/nails/hair?": "False",
         "Which of the following describes your skin/nails/hair concern(s)? (Select all that apply)": "nan",
         "If you selected 'Other', please specify:.13": "nan",
         "Have you ever experienced a head injury?": "False",
         "Which of the following best describes your head injury(s)? (Select all that apply)": "nan",
         "If you selected 'Other', please specify:.14": "nan",
         "Do you have any of the following symptoms? (Select all that apply)": "1, 4",
         "If there is anything else you would like to add, please enter it below:": "nan",
         "_deepnote_index_column": 2
        },
        {
         "Participant Num": "25142",
         "Participant ID": "00113af1-e194-47a6-87ed-b7ba64e90019",
         "Response ID": "70e5fb07-2040-4150-80bf-874912961297",
         "Join Date": "2020-02-08T00:39:22.116000+00:00",
         "Submitted Date": "2020-02-08T00:41:52.416000+00:00",
         "Index (Global)": "1",
         "Index": "1",
         "Participation Days": "0",
         "Participation Day": "0",
         "Month Index": "0",
         "Scoring": "{}",
         "What is your gender?": "1",
         "How old are you?": "3",
         "Which sexual orientation do you most identify with?": "1",
         "What is your ethnicity? (Select all that apply)": "4",
         "Which country do you live in?": "BR",
         "Do you currently live in a...?": "3",
         "Which employment status best applies to you?": "10",
         "What is the highest level of education you've attained?": "2",
         "What is your yearly household income (estimate in USD)?": "2",
         "Are you currently taking any prescription medications?": "False",
         "What are you taking?": "nan",
         "Do you currently have allergies?": "False",
         "Which of the following describes your allergies? (Select all that apply)": "nan",
         "If you selected 'Other', please specify:": "nan",
         "Do you currently have any medical concerns with your blood and circulation system?": "False",
         "Which of the following describes your blood and circulation concerns? (Select all that apply)": "nan",
         "If you selected 'Other', please specify:.1": "nan",
         "Do you currently have any medical concerns with your brain and nervous (neurological) system?": "False",
         "Which of the following describes your brain and nervous (neurological) system concern(s)? (Select all that apply)": "nan",
         "If you selected 'Other', please specify:.2": "nan",
         "Do you currently have cancer?": "False",
         "What type of cancer do you have? (Select all that apply)": "nan",
         "If you selected 'Other', please specify:.3": "nan",
         "Do you currently have any medical concerns with your digestive system?": "False",
         "Which of the following best describes your digestive system concern(s)? (Select all that apply)": "nan",
         "If you selected 'Other', please specify:.4": "nan",
         "Do you currently have any medical concerns with your endocrine system?": "False",
         "Which of the following describes your endocrine system concern(s)? (Select all that apply)": "nan",
         "If you selected 'Other', please specify:.5": "nan",
         "Do you currently have any concerns with your eyes, ears, nose, or throat?": "False",
         "Which of the following best describes your eyes, ears, nose, or throat concern(s)? (Select all that apply)": "nan",
         "If you wear glasses or contacts, for what reason?": "nan",
         "If you experience visual disturbances, please describe them:": "nan",
         "If you selected 'Other', please specify:.6": "nan",
         "Do you currently have any heart or vascular disorders?": "False",
         "Which of the following describes your heart or vascular disorder(s)? (Select all that apply)": "nan",
         "If you selected 'Other', please specify:.7": "nan",
         "Do you currently have any infectious diseases?": "False",
         "Which of the following describes your infectious disease(s)? (Select all that apply)": "nan",
         "If you selected 'Other', please specify:.8": "nan",
         "Do you currently have any medical concerns with your musculoskeletal system?": "False",
         "Which of the following describes your musculoskeletal system concern(s)? (Select all that apply)": "nan",
         "If you selected 'Other', please specify:.9": "nan",
         "Do you currently have any psychological/mental health/addiction concerns?": "False",
         "Which of the following describes your psychological/mental health/addiction concern(s)? (Select all that apply)": "nan",
         "If you have an addiction not listed, please specify:": "nan",
         "If you selected 'Other', please specify:.10": "nan",
         "Do you currently have any medical concerns with your reproductive system?": "False",
         "Which of the following describes your reproductive system concern(s)? (Select all that apply)": "nan",
         "If you selected 'Other', please specify:.11": "nan",
         "Do you currently have any medical concerns with your respiratory system?": "False",
         "Which of the following describes your respiratory system concern(s)? (Select all that apply)": "nan",
         "If you selected 'Other', please specify:.12": "nan",
         "Do you currently have any medical concerns with your skin/nails/hair?": "False",
         "Which of the following describes your skin/nails/hair concern(s)? (Select all that apply)": "nan",
         "If you selected 'Other', please specify:.13": "nan",
         "Have you ever experienced a head injury?": "False",
         "Which of the following best describes your head injury(s)? (Select all that apply)": "nan",
         "If you selected 'Other', please specify:.14": "nan",
         "Do you have any of the following symptoms? (Select all that apply)": "1, 7",
         "If there is anything else you would like to add, please enter it below:": "nan",
         "_deepnote_index_column": 3
        },
        {
         "Participant Num": "2856",
         "Participant ID": "0012b992-47be-4403-b794-ecadfe7aefb0",
         "Response ID": "b6327a0d-70d1-40ab-a78b-8b6f62d96107",
         "Join Date": "2019-11-16T18:24:28.308000+00:00",
         "Submitted Date": "2019-11-16T18:28:24.643000+00:00",
         "Index (Global)": "1",
         "Index": "1",
         "Participation Days": "0",
         "Participation Day": "0",
         "Month Index": "0",
         "Scoring": "{}",
         "What is your gender?": "1",
         "How old are you?": "4",
         "Which sexual orientation do you most identify with?": "1",
         "What is your ethnicity? (Select all that apply)": "4",
         "Which country do you live in?": "US",
         "Do you currently live in a...?": "2",
         "Which employment status best applies to you?": "1",
         "What is the highest level of education you've attained?": "6",
         "What is your yearly household income (estimate in USD)?": "3",
         "Are you currently taking any prescription medications?": "False",
         "What are you taking?": "nan",
         "Do you currently have allergies?": "True",
         "Which of the following describes your allergies? (Select all that apply)": "other",
         "If you selected 'Other', please specify:": "Allergic to Penicillin ",
         "Do you currently have any medical concerns with your blood and circulation system?": "False",
         "Which of the following describes your blood and circulation concerns? (Select all that apply)": "nan",
         "If you selected 'Other', please specify:.1": "nan",
         "Do you currently have any medical concerns with your brain and nervous (neurological) system?": "False",
         "Which of the following describes your brain and nervous (neurological) system concern(s)? (Select all that apply)": "nan",
         "If you selected 'Other', please specify:.2": "nan",
         "Do you currently have cancer?": "False",
         "What type of cancer do you have? (Select all that apply)": "nan",
         "If you selected 'Other', please specify:.3": "nan",
         "Do you currently have any medical concerns with your digestive system?": "False",
         "Which of the following best describes your digestive system concern(s)? (Select all that apply)": "nan",
         "If you selected 'Other', please specify:.4": "nan",
         "Do you currently have any medical concerns with your endocrine system?": "False",
         "Which of the following describes your endocrine system concern(s)? (Select all that apply)": "nan",
         "If you selected 'Other', please specify:.5": "nan",
         "Do you currently have any concerns with your eyes, ears, nose, or throat?": "True",
         "Which of the following best describes your eyes, ears, nose, or throat concern(s)? (Select all that apply)": "1, 10",
         "If you wear glasses or contacts, for what reason?": "2",
         "If you experience visual disturbances, please describe them:": "nan",
         "If you selected 'Other', please specify:.6": "nan",
         "Do you currently have any heart or vascular disorders?": "False",
         "Which of the following describes your heart or vascular disorder(s)? (Select all that apply)": "nan",
         "If you selected 'Other', please specify:.7": "nan",
         "Do you currently have any infectious diseases?": "False",
         "Which of the following describes your infectious disease(s)? (Select all that apply)": "nan",
         "If you selected 'Other', please specify:.8": "nan",
         "Do you currently have any medical concerns with your musculoskeletal system?": "False",
         "Which of the following describes your musculoskeletal system concern(s)? (Select all that apply)": "nan",
         "If you selected 'Other', please specify:.9": "nan",
         "Do you currently have any psychological/mental health/addiction concerns?": "True",
         "Which of the following describes your psychological/mental health/addiction concern(s)? (Select all that apply)": "2, 6, 11, 15",
         "If you have an addiction not listed, please specify:": "nan",
         "If you selected 'Other', please specify:.10": "nan",
         "Do you currently have any medical concerns with your reproductive system?": "False",
         "Which of the following describes your reproductive system concern(s)? (Select all that apply)": "nan",
         "If you selected 'Other', please specify:.11": "nan",
         "Do you currently have any medical concerns with your respiratory system?": "True",
         "Which of the following describes your respiratory system concern(s)? (Select all that apply)": "5",
         "If you selected 'Other', please specify:.12": "nan",
         "Do you currently have any medical concerns with your skin/nails/hair?": "True",
         "Which of the following describes your skin/nails/hair concern(s)? (Select all that apply)": "5",
         "If you selected 'Other', please specify:.13": "nan",
         "Have you ever experienced a head injury?": "False",
         "Which of the following best describes your head injury(s)? (Select all that apply)": "nan",
         "If you selected 'Other', please specify:.14": "nan",
         "Do you have any of the following symptoms? (Select all that apply)": "1, 2, 4, 7, 10, 11",
         "If there is anything else you would like to add, please enter it below:": "nan",
         "_deepnote_index_column": 4
        },
        {
         "Participant Num": "11726",
         "Participant ID": "0015c8af-622e-4935-8ffd-ca2a3b16e8e0",
         "Response ID": "e87368c3-c39d-45be-9b20-d1b0b2288351",
         "Join Date": "2019-11-22T14:21:19.448000+00:00",
         "Submitted Date": "2019-11-22T14:33:18.864000+00:00",
         "Index (Global)": "1",
         "Index": "1",
         "Participation Days": "0",
         "Participation Day": "0",
         "Month Index": "0",
         "Scoring": "{}",
         "What is your gender?": "1",
         "How old are you?": "4",
         "Which sexual orientation do you most identify with?": "1",
         "What is your ethnicity? (Select all that apply)": "3",
         "Which country do you live in?": "US",
         "Do you currently live in a...?": "2",
         "Which employment status best applies to you?": "1",
         "What is the highest level of education you've attained?": "3",
         "What is your yearly household income (estimate in USD)?": "4",
         "Are you currently taking any prescription medications?": "False",
         "What are you taking?": "nan",
         "Do you currently have allergies?": "False",
         "Which of the following describes your allergies? (Select all that apply)": "nan",
         "If you selected 'Other', please specify:": "nan",
         "Do you currently have any medical concerns with your blood and circulation system?": "False",
         "Which of the following describes your blood and circulation concerns? (Select all that apply)": "nan",
         "If you selected 'Other', please specify:.1": "nan",
         "Do you currently have any medical concerns with your brain and nervous (neurological) system?": "False",
         "Which of the following describes your brain and nervous (neurological) system concern(s)? (Select all that apply)": "nan",
         "If you selected 'Other', please specify:.2": "nan",
         "Do you currently have cancer?": "False",
         "What type of cancer do you have? (Select all that apply)": "nan",
         "If you selected 'Other', please specify:.3": "nan",
         "Do you currently have any medical concerns with your digestive system?": "False",
         "Which of the following best describes your digestive system concern(s)? (Select all that apply)": "nan",
         "If you selected 'Other', please specify:.4": "nan",
         "Do you currently have any medical concerns with your endocrine system?": "False",
         "Which of the following describes your endocrine system concern(s)? (Select all that apply)": "nan",
         "If you selected 'Other', please specify:.5": "nan",
         "Do you currently have any concerns with your eyes, ears, nose, or throat?": "False",
         "Which of the following best describes your eyes, ears, nose, or throat concern(s)? (Select all that apply)": "nan",
         "If you wear glasses or contacts, for what reason?": "nan",
         "If you experience visual disturbances, please describe them:": "nan",
         "If you selected 'Other', please specify:.6": "nan",
         "Do you currently have any heart or vascular disorders?": "False",
         "Which of the following describes your heart or vascular disorder(s)? (Select all that apply)": "nan",
         "If you selected 'Other', please specify:.7": "nan",
         "Do you currently have any infectious diseases?": "False",
         "Which of the following describes your infectious disease(s)? (Select all that apply)": "nan",
         "If you selected 'Other', please specify:.8": "nan",
         "Do you currently have any medical concerns with your musculoskeletal system?": "False",
         "Which of the following describes your musculoskeletal system concern(s)? (Select all that apply)": "nan",
         "If you selected 'Other', please specify:.9": "nan",
         "Do you currently have any psychological/mental health/addiction concerns?": "False",
         "Which of the following describes your psychological/mental health/addiction concern(s)? (Select all that apply)": "nan",
         "If you have an addiction not listed, please specify:": "nan",
         "If you selected 'Other', please specify:.10": "nan",
         "Do you currently have any medical concerns with your reproductive system?": "False",
         "Which of the following describes your reproductive system concern(s)? (Select all that apply)": "nan",
         "If you selected 'Other', please specify:.11": "nan",
         "Do you currently have any medical concerns with your respiratory system?": "False",
         "Which of the following describes your respiratory system concern(s)? (Select all that apply)": "nan",
         "If you selected 'Other', please specify:.12": "nan",
         "Do you currently have any medical concerns with your skin/nails/hair?": "False",
         "Which of the following describes your skin/nails/hair concern(s)? (Select all that apply)": "nan",
         "If you selected 'Other', please specify:.13": "nan",
         "Have you ever experienced a head injury?": "False",
         "Which of the following best describes your head injury(s)? (Select all that apply)": "nan",
         "If you selected 'Other', please specify:.14": "nan",
         "Do you have any of the following symptoms? (Select all that apply)": "1, 4, 7",
         "If there is anything else you would like to add, please enter it below:": "nan",
         "_deepnote_index_column": 5
        },
        {
         "Participant Num": "34946",
         "Participant ID": "0015e7ea-78d8-4018-a047-551084444af3",
         "Response ID": "5656505e-4142-41ff-ade7-63bd1a98ca42",
         "Join Date": "2021-01-10T21:18:38.206000+00:00",
         "Submitted Date": "2021-01-10T21:26:05.143000+00:00",
         "Index (Global)": "1",
         "Index": "1",
         "Participation Days": "0",
         "Participation Day": "0",
         "Month Index": "0",
         "Scoring": "{}",
         "What is your gender?": "1",
         "How old are you?": "3",
         "Which sexual orientation do you most identify with?": "1",
         "What is your ethnicity? (Select all that apply)": "3",
         "Which country do you live in?": "US",
         "Do you currently live in a...?": "1",
         "Which employment status best applies to you?": "1",
         "What is the highest level of education you've attained?": "6",
         "What is your yearly household income (estimate in USD)?": "7",
         "Are you currently taking any prescription medications?": "False",
         "What are you taking?": "nan",
         "Do you currently have allergies?": "False",
         "Which of the following describes your allergies? (Select all that apply)": "nan",
         "If you selected 'Other', please specify:": "nan",
         "Do you currently have any medical concerns with your blood and circulation system?": "False",
         "Which of the following describes your blood and circulation concerns? (Select all that apply)": "nan",
         "If you selected 'Other', please specify:.1": "nan",
         "Do you currently have any medical concerns with your brain and nervous (neurological) system?": "False",
         "Which of the following describes your brain and nervous (neurological) system concern(s)? (Select all that apply)": "nan",
         "If you selected 'Other', please specify:.2": "nan",
         "Do you currently have cancer?": "False",
         "What type of cancer do you have? (Select all that apply)": "nan",
         "If you selected 'Other', please specify:.3": "nan",
         "Do you currently have any medical concerns with your digestive system?": "False",
         "Which of the following best describes your digestive system concern(s)? (Select all that apply)": "nan",
         "If you selected 'Other', please specify:.4": "nan",
         "Do you currently have any medical concerns with your endocrine system?": "False",
         "Which of the following describes your endocrine system concern(s)? (Select all that apply)": "nan",
         "If you selected 'Other', please specify:.5": "nan",
         "Do you currently have any concerns with your eyes, ears, nose, or throat?": "False",
         "Which of the following best describes your eyes, ears, nose, or throat concern(s)? (Select all that apply)": "nan",
         "If you wear glasses or contacts, for what reason?": "nan",
         "If you experience visual disturbances, please describe them:": "nan",
         "If you selected 'Other', please specify:.6": "nan",
         "Do you currently have any heart or vascular disorders?": "False",
         "Which of the following describes your heart or vascular disorder(s)? (Select all that apply)": "nan",
         "If you selected 'Other', please specify:.7": "nan",
         "Do you currently have any infectious diseases?": "False",
         "Which of the following describes your infectious disease(s)? (Select all that apply)": "nan",
         "If you selected 'Other', please specify:.8": "nan",
         "Do you currently have any medical concerns with your musculoskeletal system?": "False",
         "Which of the following describes your musculoskeletal system concern(s)? (Select all that apply)": "nan",
         "If you selected 'Other', please specify:.9": "nan",
         "Do you currently have any psychological/mental health/addiction concerns?": "False",
         "Which of the following describes your psychological/mental health/addiction concern(s)? (Select all that apply)": "nan",
         "If you have an addiction not listed, please specify:": "nan",
         "If you selected 'Other', please specify:.10": "nan",
         "Do you currently have any medical concerns with your reproductive system?": "False",
         "Which of the following describes your reproductive system concern(s)? (Select all that apply)": "nan",
         "If you selected 'Other', please specify:.11": "nan",
         "Do you currently have any medical concerns with your respiratory system?": "False",
         "Which of the following describes your respiratory system concern(s)? (Select all that apply)": "nan",
         "If you selected 'Other', please specify:.12": "nan",
         "Do you currently have any medical concerns with your skin/nails/hair?": "False",
         "Which of the following describes your skin/nails/hair concern(s)? (Select all that apply)": "nan",
         "If you selected 'Other', please specify:.13": "nan",
         "Have you ever experienced a head injury?": "True",
         "Which of the following best describes your head injury(s)? (Select all that apply)": "1",
         "If you selected 'Other', please specify:.14": "nan",
         "Do you have any of the following symptoms? (Select all that apply)": "none",
         "If there is anything else you would like to add, please enter it below:": "nan",
         "_deepnote_index_column": 6
        },
        {
         "Participant Num": "17543",
         "Participant ID": "001a7ed5-b009-4181-a6d8-f2e2998622be",
         "Response ID": "53df17ce-6501-4c9f-b628-ccf11a0b1bb5",
         "Join Date": "2019-12-04T02:18:04.194000+00:00",
         "Submitted Date": "2019-12-04T02:20:15.266000+00:00",
         "Index (Global)": "1",
         "Index": "1",
         "Participation Days": "0",
         "Participation Day": "0",
         "Month Index": "0",
         "Scoring": "{}",
         "What is your gender?": "2",
         "How old are you?": "3",
         "Which sexual orientation do you most identify with?": "1",
         "What is your ethnicity? (Select all that apply)": "3",
         "Which country do you live in?": "US",
         "Do you currently live in a...?": "2",
         "Which employment status best applies to you?": "2",
         "What is the highest level of education you've attained?": "5",
         "What is your yearly household income (estimate in USD)?": "prefernotsay",
         "Are you currently taking any prescription medications?": "False",
         "What are you taking?": "nan",
         "Do you currently have allergies?": "False",
         "Which of the following describes your allergies? (Select all that apply)": "nan",
         "If you selected 'Other', please specify:": "nan",
         "Do you currently have any medical concerns with your blood and circulation system?": "False",
         "Which of the following describes your blood and circulation concerns? (Select all that apply)": "nan",
         "If you selected 'Other', please specify:.1": "nan",
         "Do you currently have any medical concerns with your brain and nervous (neurological) system?": "False",
         "Which of the following describes your brain and nervous (neurological) system concern(s)? (Select all that apply)": "nan",
         "If you selected 'Other', please specify:.2": "nan",
         "Do you currently have cancer?": "False",
         "What type of cancer do you have? (Select all that apply)": "nan",
         "If you selected 'Other', please specify:.3": "nan",
         "Do you currently have any medical concerns with your digestive system?": "False",
         "Which of the following best describes your digestive system concern(s)? (Select all that apply)": "nan",
         "If you selected 'Other', please specify:.4": "nan",
         "Do you currently have any medical concerns with your endocrine system?": "False",
         "Which of the following describes your endocrine system concern(s)? (Select all that apply)": "nan",
         "If you selected 'Other', please specify:.5": "nan",
         "Do you currently have any concerns with your eyes, ears, nose, or throat?": "False",
         "Which of the following best describes your eyes, ears, nose, or throat concern(s)? (Select all that apply)": "nan",
         "If you wear glasses or contacts, for what reason?": "nan",
         "If you experience visual disturbances, please describe them:": "nan",
         "If you selected 'Other', please specify:.6": "nan",
         "Do you currently have any heart or vascular disorders?": "False",
         "Which of the following describes your heart or vascular disorder(s)? (Select all that apply)": "nan",
         "If you selected 'Other', please specify:.7": "nan",
         "Do you currently have any infectious diseases?": "False",
         "Which of the following describes your infectious disease(s)? (Select all that apply)": "nan",
         "If you selected 'Other', please specify:.8": "nan",
         "Do you currently have any medical concerns with your musculoskeletal system?": "False",
         "Which of the following describes your musculoskeletal system concern(s)? (Select all that apply)": "nan",
         "If you selected 'Other', please specify:.9": "nan",
         "Do you currently have any psychological/mental health/addiction concerns?": "False",
         "Which of the following describes your psychological/mental health/addiction concern(s)? (Select all that apply)": "nan",
         "If you have an addiction not listed, please specify:": "nan",
         "If you selected 'Other', please specify:.10": "nan",
         "Do you currently have any medical concerns with your reproductive system?": "False",
         "Which of the following describes your reproductive system concern(s)? (Select all that apply)": "nan",
         "If you selected 'Other', please specify:.11": "nan",
         "Do you currently have any medical concerns with your respiratory system?": "False",
         "Which of the following describes your respiratory system concern(s)? (Select all that apply)": "nan",
         "If you selected 'Other', please specify:.12": "nan",
         "Do you currently have any medical concerns with your skin/nails/hair?": "False",
         "Which of the following describes your skin/nails/hair concern(s)? (Select all that apply)": "nan",
         "If you selected 'Other', please specify:.13": "nan",
         "Have you ever experienced a head injury?": "False",
         "Which of the following best describes your head injury(s)? (Select all that apply)": "nan",
         "If you selected 'Other', please specify:.14": "nan",
         "Do you have any of the following symptoms? (Select all that apply)": "none",
         "If there is anything else you would like to add, please enter it below:": "nan",
         "_deepnote_index_column": 7
        },
        {
         "Participant Num": "1183",
         "Participant ID": "0021653c-7e71-4662-ae13-0bf2f3da0c13",
         "Response ID": "39b932f8-0b51-4515-b719-50ff5cb41a50",
         "Join Date": "2019-11-16T02:55:41.827000+00:00",
         "Submitted Date": "2019-11-16T03:02:14.588000+00:00",
         "Index (Global)": "1",
         "Index": "1",
         "Participation Days": "0",
         "Participation Day": "0",
         "Month Index": "0",
         "Scoring": "{}",
         "What is your gender?": "1",
         "How old are you?": "4",
         "Which sexual orientation do you most identify with?": "1",
         "What is your ethnicity? (Select all that apply)": "3",
         "Which country do you live in?": "CA",
         "Do you currently live in a...?": "3",
         "Which employment status best applies to you?": "1",
         "What is the highest level of education you've attained?": "5",
         "What is your yearly household income (estimate in USD)?": "7",
         "Are you currently taking any prescription medications?": "prefernotsay",
         "What are you taking?": "nan",
         "Do you currently have allergies?": "prefernotsay",
         "Which of the following describes your allergies? (Select all that apply)": "nan",
         "If you selected 'Other', please specify:": "nan",
         "Do you currently have any medical concerns with your blood and circulation system?": "False",
         "Which of the following describes your blood and circulation concerns? (Select all that apply)": "nan",
         "If you selected 'Other', please specify:.1": "nan",
         "Do you currently have any medical concerns with your brain and nervous (neurological) system?": "False",
         "Which of the following describes your brain and nervous (neurological) system concern(s)? (Select all that apply)": "nan",
         "If you selected 'Other', please specify:.2": "nan",
         "Do you currently have cancer?": "False",
         "What type of cancer do you have? (Select all that apply)": "nan",
         "If you selected 'Other', please specify:.3": "nan",
         "Do you currently have any medical concerns with your digestive system?": "False",
         "Which of the following best describes your digestive system concern(s)? (Select all that apply)": "nan",
         "If you selected 'Other', please specify:.4": "nan",
         "Do you currently have any medical concerns with your endocrine system?": "False",
         "Which of the following describes your endocrine system concern(s)? (Select all that apply)": "nan",
         "If you selected 'Other', please specify:.5": "nan",
         "Do you currently have any concerns with your eyes, ears, nose, or throat?": "False",
         "Which of the following best describes your eyes, ears, nose, or throat concern(s)? (Select all that apply)": "nan",
         "If you wear glasses or contacts, for what reason?": "nan",
         "If you experience visual disturbances, please describe them:": "nan",
         "If you selected 'Other', please specify:.6": "nan",
         "Do you currently have any heart or vascular disorders?": "False",
         "Which of the following describes your heart or vascular disorder(s)? (Select all that apply)": "nan",
         "If you selected 'Other', please specify:.7": "nan",
         "Do you currently have any infectious diseases?": "False",
         "Which of the following describes your infectious disease(s)? (Select all that apply)": "nan",
         "If you selected 'Other', please specify:.8": "nan",
         "Do you currently have any medical concerns with your musculoskeletal system?": "False",
         "Which of the following describes your musculoskeletal system concern(s)? (Select all that apply)": "nan",
         "If you selected 'Other', please specify:.9": "nan",
         "Do you currently have any psychological/mental health/addiction concerns?": "False",
         "Which of the following describes your psychological/mental health/addiction concern(s)? (Select all that apply)": "nan",
         "If you have an addiction not listed, please specify:": "nan",
         "If you selected 'Other', please specify:.10": "nan",
         "Do you currently have any medical concerns with your reproductive system?": "False",
         "Which of the following describes your reproductive system concern(s)? (Select all that apply)": "nan",
         "If you selected 'Other', please specify:.11": "nan",
         "Do you currently have any medical concerns with your respiratory system?": "False",
         "Which of the following describes your respiratory system concern(s)? (Select all that apply)": "nan",
         "If you selected 'Other', please specify:.12": "nan",
         "Do you currently have any medical concerns with your skin/nails/hair?": "False",
         "Which of the following describes your skin/nails/hair concern(s)? (Select all that apply)": "nan",
         "If you selected 'Other', please specify:.13": "nan",
         "Have you ever experienced a head injury?": "False",
         "Which of the following best describes your head injury(s)? (Select all that apply)": "nan",
         "If you selected 'Other', please specify:.14": "nan",
         "Do you have any of the following symptoms? (Select all that apply)": "1, 7",
         "If there is anything else you would like to add, please enter it below:": "nan",
         "_deepnote_index_column": 8
        },
        {
         "Participant Num": "2647",
         "Participant ID": "00249337-4ff2-4405-b9c8-807914a0dd2d",
         "Response ID": "45d42f16-44a0-4645-aeb9-e45ac6c15bb7",
         "Join Date": "2019-11-16T17:01:17.669000+00:00",
         "Submitted Date": "2019-11-18T16:08:38.104000+00:00",
         "Index (Global)": "1",
         "Index": "1",
         "Participation Days": "5",
         "Participation Day": "1",
         "Month Index": "0",
         "Scoring": "{}",
         "What is your gender?": "1",
         "How old are you?": "4",
         "Which sexual orientation do you most identify with?": "1",
         "What is your ethnicity? (Select all that apply)": "1",
         "Which country do you live in?": "US",
         "Do you currently live in a...?": "3",
         "Which employment status best applies to you?": "1",
         "What is the highest level of education you've attained?": "3",
         "What is your yearly household income (estimate in USD)?": "6",
         "Are you currently taking any prescription medications?": "False",
         "What are you taking?": "nan",
         "Do you currently have allergies?": "False",
         "Which of the following describes your allergies? (Select all that apply)": "nan",
         "If you selected 'Other', please specify:": "nan",
         "Do you currently have any medical concerns with your blood and circulation system?": "False",
         "Which of the following describes your blood and circulation concerns? (Select all that apply)": "nan",
         "If you selected 'Other', please specify:.1": "nan",
         "Do you currently have any medical concerns with your brain and nervous (neurological) system?": "False",
         "Which of the following describes your brain and nervous (neurological) system concern(s)? (Select all that apply)": "nan",
         "If you selected 'Other', please specify:.2": "nan",
         "Do you currently have cancer?": "False",
         "What type of cancer do you have? (Select all that apply)": "nan",
         "If you selected 'Other', please specify:.3": "nan",
         "Do you currently have any medical concerns with your digestive system?": "False",
         "Which of the following best describes your digestive system concern(s)? (Select all that apply)": "nan",
         "If you selected 'Other', please specify:.4": "nan",
         "Do you currently have any medical concerns with your endocrine system?": "False",
         "Which of the following describes your endocrine system concern(s)? (Select all that apply)": "nan",
         "If you selected 'Other', please specify:.5": "nan",
         "Do you currently have any concerns with your eyes, ears, nose, or throat?": "False",
         "Which of the following best describes your eyes, ears, nose, or throat concern(s)? (Select all that apply)": "nan",
         "If you wear glasses or contacts, for what reason?": "nan",
         "If you experience visual disturbances, please describe them:": "nan",
         "If you selected 'Other', please specify:.6": "nan",
         "Do you currently have any heart or vascular disorders?": "False",
         "Which of the following describes your heart or vascular disorder(s)? (Select all that apply)": "nan",
         "If you selected 'Other', please specify:.7": "nan",
         "Do you currently have any infectious diseases?": "False",
         "Which of the following describes your infectious disease(s)? (Select all that apply)": "nan",
         "If you selected 'Other', please specify:.8": "nan",
         "Do you currently have any medical concerns with your musculoskeletal system?": "False",
         "Which of the following describes your musculoskeletal system concern(s)? (Select all that apply)": "nan",
         "If you selected 'Other', please specify:.9": "nan",
         "Do you currently have any psychological/mental health/addiction concerns?": "False",
         "Which of the following describes your psychological/mental health/addiction concern(s)? (Select all that apply)": "nan",
         "If you have an addiction not listed, please specify:": "nan",
         "If you selected 'Other', please specify:.10": "nan",
         "Do you currently have any medical concerns with your reproductive system?": "False",
         "Which of the following describes your reproductive system concern(s)? (Select all that apply)": "nan",
         "If you selected 'Other', please specify:.11": "nan",
         "Do you currently have any medical concerns with your respiratory system?": "False",
         "Which of the following describes your respiratory system concern(s)? (Select all that apply)": "nan",
         "If you selected 'Other', please specify:.12": "nan",
         "Do you currently have any medical concerns with your skin/nails/hair?": "False",
         "Which of the following describes your skin/nails/hair concern(s)? (Select all that apply)": "nan",
         "If you selected 'Other', please specify:.13": "nan",
         "Have you ever experienced a head injury?": "False",
         "Which of the following best describes your head injury(s)? (Select all that apply)": "nan",
         "If you selected 'Other', please specify:.14": "nan",
         "Do you have any of the following symptoms? (Select all that apply)": "7",
         "If there is anything else you would like to add, please enter it below:": "nan",
         "_deepnote_index_column": 9
        }
       ]
      },
      "text/plain": "      Participant Num                        Participant ID  \\\n0      participantnum                         participantid   \n1               35186  0000288c-c113-4871-a7e2-d45baae6f869   \n2               35535  000800ec-723f-4fa3-85ec-286a58a2b070   \n3               25142  00113af1-e194-47a6-87ed-b7ba64e90019   \n4                2856  0012b992-47be-4403-b794-ecadfe7aefb0   \n...               ...                                   ...   \n16914           16199  fff0245e-f24d-4cc1-885e-ee356cc6d4f2   \n16915           25496  fff2be62-a93b-4ba5-a901-65ee9059f9c7   \n16916           38468  fff2c80f-1267-4a6e-84e1-04d7c1b5c9fe   \n16917            7263  fff87f2d-462a-4732-bb24-43092a2048a4   \n16918           26173  fffde26a-0148-456c-ba0d-8f7ab829712e   \n\n                                Response ID                         Join Date  \\\n0                                responseid                          joindate   \n1      9890f08a-8dfb-49a3-9af5-ccd4c497bd02                               NaN   \n2      742d4911-69b6-48ee-9999-c9c0657b3c36  2021-02-01T18:56:01.035000+00:00   \n3      70e5fb07-2040-4150-80bf-874912961297  2020-02-08T00:39:22.116000+00:00   \n4      b6327a0d-70d1-40ab-a78b-8b6f62d96107  2019-11-16T18:24:28.308000+00:00   \n...                                     ...                               ...   \n16914  24e1bea7-f660-4e03-8cf7-85fc2a949141  2019-11-30T15:16:47.037000+00:00   \n16915  925fefe3-da04-44f0-8742-741c3db61d30  2020-02-12T13:46:19.435000+00:00   \n16916  69e48ddb-953e-4060-80bd-6fafa69b342a  2021-04-14T01:27:49.167000+00:00   \n16917  7a0ad137-791c-4647-8e5c-03e1f5452471  2019-11-19T03:20:20.152000+00:00   \n16918  9f1ba469-9f85-4ac9-945f-978928f5bead  2020-02-24T16:58:13.223000+00:00   \n\n                         Submitted Date Index (Global)  Index  \\\n0                         submitteddate  index(global)  index   \n1      2021-01-20T16:32:21.458000+00:00            NaN    NaN   \n2      2021-02-01T18:58:20.942000+00:00              1      1   \n3      2020-02-08T00:41:52.416000+00:00              1      1   \n4      2019-11-16T18:28:24.643000+00:00              1      1   \n...                                 ...            ...    ...   \n16914  2019-11-30T16:18:28.601000+00:00            1.0    1.0   \n16915  2020-02-12T14:24:37.128000+00:00            1.0    1.0   \n16916  2021-04-14T01:29:45.526000+00:00            1.0    1.0   \n16917  2019-11-19T03:29:55.018000+00:00            1.0    1.0   \n16918  2020-02-24T17:03:59.075000+00:00            1.0    1.0   \n\n      Participation Days Participation Day Month Index  ...  \\\n0      participationdays  participationday  monthindex  ...   \n1                    NaN                -1           0  ...   \n2                      1                 0           0  ...   \n3                      0                 0           0  ...   \n4                      0                 0           0  ...   \n...                  ...               ...         ...  ...   \n16914               13.0                 0           0  ...   \n16915                0.0                 0           0  ...   \n16916                0.0                 0           0  ...   \n16917                0.0                 0           0  ...   \n16918                0.0                 0           0  ...   \n\n      Which of the following describes your respiratory system concern(s)? (Select all that apply)  \\\n0                                              whatlungs                                             \n1                                                    NaN                                             \n2                                                    NaN                                             \n3                                                    NaN                                             \n4                                                      5                                             \n...                                                  ...                                             \n16914                                                NaN                                             \n16915                                                NaN                                             \n16916                                                NaN                                             \n16917                                                NaN                                             \n16918                                                NaN                                             \n\n      If you selected 'Other', please specify:.12  \\\n0                                      otherlungs   \n1                                             NaN   \n2                                             NaN   \n3                                             NaN   \n4                                             NaN   \n...                                           ...   \n16914                                         NaN   \n16915                                         NaN   \n16916                                         NaN   \n16917                                         NaN   \n16918                                         NaN   \n\n      Do you currently have any medical concerns with your skin/nails/hair?  \\\n0                                                   skin                      \n1                                                  False                      \n2                                                  False                      \n3                                                  False                      \n4                                                   True                      \n...                                                  ...                      \n16914                                              False                      \n16915                                              False                      \n16916                                              False                      \n16917                                              False                      \n16918                                              False                      \n\n      Which of the following describes your skin/nails/hair concern(s)? (Select all that apply)  \\\n0                                               whatskin                                          \n1                                                    NaN                                          \n2                                                    NaN                                          \n3                                                    NaN                                          \n4                                                      5                                          \n...                                                  ...                                          \n16914                                                NaN                                          \n16915                                                NaN                                          \n16916                                                NaN                                          \n16917                                                NaN                                          \n16918                                                NaN                                          \n\n      If you selected 'Other', please specify:.13  \\\n0                                       otherskin   \n1                                             NaN   \n2                                             NaN   \n3                                             NaN   \n4                                             NaN   \n...                                           ...   \n16914                                         NaN   \n16915                                         NaN   \n16916                                         NaN   \n16917                                         NaN   \n16918                                         NaN   \n\n      Have you ever experienced a head injury?  \\\n0                                   headinjury   \n1                                        False   \n2                                        False   \n3                                        False   \n4                                        False   \n...                                        ...   \n16914                                    False   \n16915                                    False   \n16916                                    False   \n16917                                    False   \n16918                                     True   \n\n      Which of the following best describes your head injury(s)? (Select all that apply)  \\\n0                                         whatheadinjury                                   \n1                                                    NaN                                   \n2                                                    NaN                                   \n3                                                    NaN                                   \n4                                                    NaN                                   \n...                                                  ...                                   \n16914                                                NaN                                   \n16915                                                NaN                                   \n16916                                                NaN                                   \n16917                                                NaN                                   \n16918                                              other                                   \n\n             If you selected 'Other', please specify:.14  \\\n0                                           otherheadinj   \n1                                                    NaN   \n2                                                    NaN   \n3                                                    NaN   \n4                                                    NaN   \n...                                                  ...   \n16914                                                NaN   \n16915                                                NaN   \n16916                                                NaN   \n16917                                                NaN   \n16918  Bike crash when I was 6. I never went to the d...   \n\n      Do you have any of the following symptoms? (Select all that apply)  \\\n0                                                   misc                   \n1                                                   1, 7                   \n2                                                   1, 4                   \n3                                                   1, 7                   \n4                                     1, 2, 4, 7, 10, 11                   \n...                                                  ...                   \n16914                                               none                   \n16915                                               1, 9                   \n16916                                               none                   \n16917                                                  1                   \n16918                                                  1                   \n\n      If there is anything else you would like to add, please enter it below:  \n0                                                  final                       \n1                                 Ptsd \\nDissociation \\n                       \n2                                                    NaN                       \n3                                                    NaN                       \n4                                                    NaN                       \n...                                                  ...                       \n16914                                                NaN                       \n16915                                                NaN                       \n16916                                                NaN                       \n16917                                                NaN                       \n16918                                                NaN                       \n\n[16919 rows x 72 columns]",
      "text/html": "<div>\n<style scoped>\n    .dataframe tbody tr th:only-of-type {\n        vertical-align: middle;\n    }\n\n    .dataframe tbody tr th {\n        vertical-align: top;\n    }\n\n    .dataframe thead th {\n        text-align: right;\n    }\n</style>\n<table border=\"1\" class=\"dataframe\">\n  <thead>\n    <tr style=\"text-align: right;\">\n      <th></th>\n      <th>Participant Num</th>\n      <th>Participant ID</th>\n      <th>Response ID</th>\n      <th>Join Date</th>\n      <th>Submitted Date</th>\n      <th>Index (Global)</th>\n      <th>Index</th>\n      <th>Participation Days</th>\n      <th>Participation Day</th>\n      <th>Month Index</th>\n      <th>...</th>\n      <th>Which of the following describes your respiratory system concern(s)? (Select all that apply)</th>\n      <th>If you selected 'Other', please specify:.12</th>\n      <th>Do you currently have any medical concerns with your skin/nails/hair?</th>\n      <th>Which of the following describes your skin/nails/hair concern(s)? (Select all that apply)</th>\n      <th>If you selected 'Other', please specify:.13</th>\n      <th>Have you ever experienced a head injury?</th>\n      <th>Which of the following best describes your head injury(s)? (Select all that apply)</th>\n      <th>If you selected 'Other', please specify:.14</th>\n      <th>Do you have any of the following symptoms? (Select all that apply)</th>\n      <th>If there is anything else you would like to add, please enter it below:</th>\n    </tr>\n  </thead>\n  <tbody>\n    <tr>\n      <th>0</th>\n      <td>participantnum</td>\n      <td>participantid</td>\n      <td>responseid</td>\n      <td>joindate</td>\n      <td>submitteddate</td>\n      <td>index(global)</td>\n      <td>index</td>\n      <td>participationdays</td>\n      <td>participationday</td>\n      <td>monthindex</td>\n      <td>...</td>\n      <td>whatlungs</td>\n      <td>otherlungs</td>\n      <td>skin</td>\n      <td>whatskin</td>\n      <td>otherskin</td>\n      <td>headinjury</td>\n      <td>whatheadinjury</td>\n      <td>otherheadinj</td>\n      <td>misc</td>\n      <td>final</td>\n    </tr>\n    <tr>\n      <th>1</th>\n      <td>35186</td>\n      <td>0000288c-c113-4871-a7e2-d45baae6f869</td>\n      <td>9890f08a-8dfb-49a3-9af5-ccd4c497bd02</td>\n      <td>NaN</td>\n      <td>2021-01-20T16:32:21.458000+00:00</td>\n      <td>NaN</td>\n      <td>NaN</td>\n      <td>NaN</td>\n      <td>-1</td>\n      <td>0</td>\n      <td>...</td>\n      <td>NaN</td>\n      <td>NaN</td>\n      <td>False</td>\n      <td>NaN</td>\n      <td>NaN</td>\n      <td>False</td>\n      <td>NaN</td>\n      <td>NaN</td>\n      <td>1, 7</td>\n      <td>Ptsd \\nDissociation \\n</td>\n    </tr>\n    <tr>\n      <th>2</th>\n      <td>35535</td>\n      <td>000800ec-723f-4fa3-85ec-286a58a2b070</td>\n      <td>742d4911-69b6-48ee-9999-c9c0657b3c36</td>\n      <td>2021-02-01T18:56:01.035000+00:00</td>\n      <td>2021-02-01T18:58:20.942000+00:00</td>\n      <td>1</td>\n      <td>1</td>\n      <td>1</td>\n      <td>0</td>\n      <td>0</td>\n      <td>...</td>\n      <td>NaN</td>\n      <td>NaN</td>\n      <td>False</td>\n      <td>NaN</td>\n      <td>NaN</td>\n      <td>False</td>\n      <td>NaN</td>\n      <td>NaN</td>\n      <td>1, 4</td>\n      <td>NaN</td>\n    </tr>\n    <tr>\n      <th>3</th>\n      <td>25142</td>\n      <td>00113af1-e194-47a6-87ed-b7ba64e90019</td>\n      <td>70e5fb07-2040-4150-80bf-874912961297</td>\n      <td>2020-02-08T00:39:22.116000+00:00</td>\n      <td>2020-02-08T00:41:52.416000+00:00</td>\n      <td>1</td>\n      <td>1</td>\n      <td>0</td>\n      <td>0</td>\n      <td>0</td>\n      <td>...</td>\n      <td>NaN</td>\n      <td>NaN</td>\n      <td>False</td>\n      <td>NaN</td>\n      <td>NaN</td>\n      <td>False</td>\n      <td>NaN</td>\n      <td>NaN</td>\n      <td>1, 7</td>\n      <td>NaN</td>\n    </tr>\n    <tr>\n      <th>4</th>\n      <td>2856</td>\n      <td>0012b992-47be-4403-b794-ecadfe7aefb0</td>\n      <td>b6327a0d-70d1-40ab-a78b-8b6f62d96107</td>\n      <td>2019-11-16T18:24:28.308000+00:00</td>\n      <td>2019-11-16T18:28:24.643000+00:00</td>\n      <td>1</td>\n      <td>1</td>\n      <td>0</td>\n      <td>0</td>\n      <td>0</td>\n      <td>...</td>\n      <td>5</td>\n      <td>NaN</td>\n      <td>True</td>\n      <td>5</td>\n      <td>NaN</td>\n      <td>False</td>\n      <td>NaN</td>\n      <td>NaN</td>\n      <td>1, 2, 4, 7, 10, 11</td>\n      <td>NaN</td>\n    </tr>\n    <tr>\n      <th>...</th>\n      <td>...</td>\n      <td>...</td>\n      <td>...</td>\n      <td>...</td>\n      <td>...</td>\n      <td>...</td>\n      <td>...</td>\n      <td>...</td>\n      <td>...</td>\n      <td>...</td>\n      <td>...</td>\n      <td>...</td>\n      <td>...</td>\n      <td>...</td>\n      <td>...</td>\n      <td>...</td>\n      <td>...</td>\n      <td>...</td>\n      <td>...</td>\n      <td>...</td>\n      <td>...</td>\n    </tr>\n    <tr>\n      <th>16914</th>\n      <td>16199</td>\n      <td>fff0245e-f24d-4cc1-885e-ee356cc6d4f2</td>\n      <td>24e1bea7-f660-4e03-8cf7-85fc2a949141</td>\n      <td>2019-11-30T15:16:47.037000+00:00</td>\n      <td>2019-11-30T16:18:28.601000+00:00</td>\n      <td>1.0</td>\n      <td>1.0</td>\n      <td>13.0</td>\n      <td>0</td>\n      <td>0</td>\n      <td>...</td>\n      <td>NaN</td>\n      <td>NaN</td>\n      <td>False</td>\n      <td>NaN</td>\n      <td>NaN</td>\n      <td>False</td>\n      <td>NaN</td>\n      <td>NaN</td>\n      <td>none</td>\n      <td>NaN</td>\n    </tr>\n    <tr>\n      <th>16915</th>\n      <td>25496</td>\n      <td>fff2be62-a93b-4ba5-a901-65ee9059f9c7</td>\n      <td>925fefe3-da04-44f0-8742-741c3db61d30</td>\n      <td>2020-02-12T13:46:19.435000+00:00</td>\n      <td>2020-02-12T14:24:37.128000+00:00</td>\n      <td>1.0</td>\n      <td>1.0</td>\n      <td>0.0</td>\n      <td>0</td>\n      <td>0</td>\n      <td>...</td>\n      <td>NaN</td>\n      <td>NaN</td>\n      <td>False</td>\n      <td>NaN</td>\n      <td>NaN</td>\n      <td>False</td>\n      <td>NaN</td>\n      <td>NaN</td>\n      <td>1, 9</td>\n      <td>NaN</td>\n    </tr>\n    <tr>\n      <th>16916</th>\n      <td>38468</td>\n      <td>fff2c80f-1267-4a6e-84e1-04d7c1b5c9fe</td>\n      <td>69e48ddb-953e-4060-80bd-6fafa69b342a</td>\n      <td>2021-04-14T01:27:49.167000+00:00</td>\n      <td>2021-04-14T01:29:45.526000+00:00</td>\n      <td>1.0</td>\n      <td>1.0</td>\n      <td>0.0</td>\n      <td>0</td>\n      <td>0</td>\n      <td>...</td>\n      <td>NaN</td>\n      <td>NaN</td>\n      <td>False</td>\n      <td>NaN</td>\n      <td>NaN</td>\n      <td>False</td>\n      <td>NaN</td>\n      <td>NaN</td>\n      <td>none</td>\n      <td>NaN</td>\n    </tr>\n    <tr>\n      <th>16917</th>\n      <td>7263</td>\n      <td>fff87f2d-462a-4732-bb24-43092a2048a4</td>\n      <td>7a0ad137-791c-4647-8e5c-03e1f5452471</td>\n      <td>2019-11-19T03:20:20.152000+00:00</td>\n      <td>2019-11-19T03:29:55.018000+00:00</td>\n      <td>1.0</td>\n      <td>1.0</td>\n      <td>0.0</td>\n      <td>0</td>\n      <td>0</td>\n      <td>...</td>\n      <td>NaN</td>\n      <td>NaN</td>\n      <td>False</td>\n      <td>NaN</td>\n      <td>NaN</td>\n      <td>False</td>\n      <td>NaN</td>\n      <td>NaN</td>\n      <td>1</td>\n      <td>NaN</td>\n    </tr>\n    <tr>\n      <th>16918</th>\n      <td>26173</td>\n      <td>fffde26a-0148-456c-ba0d-8f7ab829712e</td>\n      <td>9f1ba469-9f85-4ac9-945f-978928f5bead</td>\n      <td>2020-02-24T16:58:13.223000+00:00</td>\n      <td>2020-02-24T17:03:59.075000+00:00</td>\n      <td>1.0</td>\n      <td>1.0</td>\n      <td>0.0</td>\n      <td>0</td>\n      <td>0</td>\n      <td>...</td>\n      <td>NaN</td>\n      <td>NaN</td>\n      <td>False</td>\n      <td>NaN</td>\n      <td>NaN</td>\n      <td>True</td>\n      <td>other</td>\n      <td>Bike crash when I was 6. I never went to the d...</td>\n      <td>1</td>\n      <td>NaN</td>\n    </tr>\n  </tbody>\n</table>\n<p>16919 rows × 72 columns</p>\n</div>"
     },
     "metadata": {}
    }
   ]
  },
  {
   "cell_type": "markdown",
   "source": "The first row (index= 0) is a repetition of column names, needs to be dropped. It is NOT always the case for all of the imports so needs to be evaluated case by case. Not sure why. ",
   "metadata": {
    "cell_id": "98c5bcf4-3b90-4b41-b58c-73b75cf6a121",
    "tags": [],
    "is_collapsed": false,
    "deepnote_cell_type": "text-cell-p"
   }
  },
  {
   "cell_type": "code",
   "metadata": {
    "cell_id": "6ae3aa32-3bdf-4e0d-9875-b40c9bff80bb",
    "tags": [],
    "deepnote_to_be_reexecuted": false,
    "source_hash": "5dbeb4c",
    "execution_start": 1647635807994,
    "execution_millis": 11,
    "deepnote_cell_type": "code",
    "deepnote_cell_height": 81
   },
   "source": "intake = intake.drop(index=0)",
   "execution_count": null,
   "outputs": []
  },
  {
   "cell_type": "markdown",
   "source": "Important to change dtype of \"Participant Num\" to int as we will do some processing based on that assumption",
   "metadata": {
    "cell_id": "719f4d3c-0891-4f66-8039-a6d33332d472",
    "tags": [],
    "is_collapsed": false,
    "deepnote_cell_type": "text-cell-p"
   }
  },
  {
   "cell_type": "code",
   "metadata": {
    "cell_id": "9ee899ec-642a-45de-8ca8-93b5b132a067",
    "tags": [],
    "deepnote_to_be_reexecuted": false,
    "source_hash": "97609352",
    "execution_start": 1647635808011,
    "execution_millis": 16,
    "deepnote_cell_type": "code",
    "deepnote_cell_height": 81
   },
   "source": "intake[\"Participant Num\"] = intake[\"Participant Num\"].astype(int)",
   "execution_count": null,
   "outputs": []
  },
  {
   "cell_type": "markdown",
   "source": "Writing \"Join Date\" column into a correct dtype, as half of them were saved as type float and another half as string. Columns TYPES are often inconsistent, needs to always check for them!",
   "metadata": {
    "cell_id": "affda47a-91dc-413b-a36c-2d8706cb1466",
    "tags": [],
    "is_collapsed": false,
    "deepnote_cell_type": "text-cell-p"
   }
  },
  {
   "cell_type": "code",
   "metadata": {
    "cell_id": "b7278c2f-7ee3-47a1-a631-283d3d6dea2c",
    "tags": [],
    "deepnote_to_be_reexecuted": false,
    "source_hash": "b756436f",
    "execution_start": 1647635808071,
    "execution_millis": 0,
    "deepnote_cell_type": "code",
    "deepnote_cell_height": 81
   },
   "source": "intake['Join Date'] = pd.to_datetime(intake['Join Date'])",
   "execution_count": null,
   "outputs": []
  },
  {
   "cell_type": "code",
   "metadata": {
    "cell_id": "99d0c548-7acc-4b4b-9f6b-d85fb118788a",
    "tags": [],
    "deepnote_to_be_reexecuted": false,
    "source_hash": "3101e7b5",
    "execution_start": 1647635808072,
    "execution_millis": 4,
    "deepnote_cell_type": "code",
    "deepnote_cell_height": 118.1875,
    "deepnote_output_heights": [
     21
    ]
   },
   "source": "type(intake['Join Date'][5])",
   "execution_count": null,
   "outputs": [
    {
     "output_type": "execute_result",
     "execution_count": 7,
     "data": {
      "text/plain": "pandas._libs.tslibs.timestamps.Timestamp"
     },
     "metadata": {}
    }
   ]
  },
  {
   "cell_type": "code",
   "metadata": {
    "tags": [],
    "deepnote_to_be_reexecuted": false,
    "source_hash": "4d214b52",
    "execution_start": 1647635808073,
    "execution_millis": 265,
    "cell_id": "00001-c04f19ed-005c-49fe-907d-7f39ab3d03ba",
    "deepnote_cell_type": "code",
    "deepnote_cell_height": 411
   },
   "source": "intake.sort_values(by=['Participant Num','Join Date'],inplace=True)\nintake.head()",
   "execution_count": null,
   "outputs": [
    {
     "output_type": "execute_result",
     "execution_count": 8,
     "data": {
      "application/vnd.deepnote.dataframe.v3+json": {
       "column_count": 72,
       "row_count": 5,
       "columns": [
        {
         "name": "Participant Num",
         "dtype": "int64",
         "stats": {
          "unique_count": 5,
          "nan_count": 0,
          "min": "44",
          "max": "53",
          "histogram": [
           {
            "bin_start": 44,
            "bin_end": 44.9,
            "count": 1
           },
           {
            "bin_start": 44.9,
            "bin_end": 45.8,
            "count": 0
           },
           {
            "bin_start": 45.8,
            "bin_end": 46.7,
            "count": 0
           },
           {
            "bin_start": 46.7,
            "bin_end": 47.6,
            "count": 0
           },
           {
            "bin_start": 47.6,
            "bin_end": 48.5,
            "count": 1
           },
           {
            "bin_start": 48.5,
            "bin_end": 49.4,
            "count": 0
           },
           {
            "bin_start": 49.4,
            "bin_end": 50.3,
            "count": 1
           },
           {
            "bin_start": 50.3,
            "bin_end": 51.2,
            "count": 0
           },
           {
            "bin_start": 51.2,
            "bin_end": 52.1,
            "count": 1
           },
           {
            "bin_start": 52.1,
            "bin_end": 53,
            "count": 1
           }
          ]
         }
        },
        {
         "name": "Participant ID",
         "dtype": "object",
         "stats": {
          "unique_count": 5,
          "nan_count": 0,
          "categories": [
           {
            "name": "c6397cdc-6c5a-4ed2-a575-1c7608341694",
            "count": 1
           },
           {
            "name": "1921c835-98fe-47bd-8ad8-c5a9f6025875",
            "count": 1
           },
           {
            "name": "3 others",
            "count": 3
           }
          ]
         }
        },
        {
         "name": "Response ID",
         "dtype": "object",
         "stats": {
          "unique_count": 5,
          "nan_count": 0,
          "categories": [
           {
            "name": "d66f777e-4ae6-4e99-a0af-e021113c70c0",
            "count": 1
           },
           {
            "name": "5d57289f-d7cd-426f-b6ea-7e6e7c8b19cb",
            "count": 1
           },
           {
            "name": "3 others",
            "count": 3
           }
          ]
         }
        },
        {
         "name": "Join Date",
         "dtype": "datetime64[ns, UTC]",
         "stats": {
          "unique_count": 5,
          "nan_count": 0,
          "min": "2019-11-13 18:50:13.052000+00:00",
          "max": "2019-11-13 20:00:16.842000+00:00",
          "histogram": [
           {
            "bin_start": 1573671013052000000,
            "bin_end": 1573671433431000000,
            "count": 1
           },
           {
            "bin_start": 1573671433431000000,
            "bin_end": 1573671853810000000,
            "count": 0
           },
           {
            "bin_start": 1573671853810000000,
            "bin_end": 1573672274189000000,
            "count": 1
           },
           {
            "bin_start": 1573672274189000000,
            "bin_end": 1573672694568000000,
            "count": 2
           },
           {
            "bin_start": 1573672694568000000,
            "bin_end": 1573673114946999800,
            "count": 0
           },
           {
            "bin_start": 1573673114946999800,
            "bin_end": 1573673535325999900,
            "count": 0
           },
           {
            "bin_start": 1573673535325999900,
            "bin_end": 1573673955705000000,
            "count": 0
           },
           {
            "bin_start": 1573673955705000000,
            "bin_end": 1573674376084000000,
            "count": 0
           },
           {
            "bin_start": 1573674376084000000,
            "bin_end": 1573674796462999800,
            "count": 0
           },
           {
            "bin_start": 1573674796462999800,
            "bin_end": 1573675216842000000,
            "count": 1
           }
          ]
         }
        },
        {
         "name": "Submitted Date",
         "dtype": "object",
         "stats": {
          "unique_count": 5,
          "nan_count": 0,
          "categories": [
           {
            "name": "2019-11-13T18:52:33.697000+00:00",
            "count": 1
           },
           {
            "name": "2019-11-14T15:53:24.919000+00:00",
            "count": 1
           },
           {
            "name": "3 others",
            "count": 3
           }
          ]
         }
        },
        {
         "name": "Index (Global)",
         "dtype": "object",
         "stats": {
          "unique_count": 2,
          "nan_count": 0,
          "categories": [
           {
            "name": "1",
            "count": 3
           },
           {
            "name": "1.0",
            "count": 2
           }
          ]
         }
        },
        {
         "name": "Index",
         "dtype": "object",
         "stats": {
          "unique_count": 2,
          "nan_count": 0,
          "categories": [
           {
            "name": "1",
            "count": 3
           },
           {
            "name": "1.0",
            "count": 2
           }
          ]
         }
        },
        {
         "name": "Participation Days",
         "dtype": "object",
         "stats": {
          "unique_count": 5,
          "nan_count": 0,
          "categories": [
           {
            "name": "2.0",
            "count": 1
           },
           {
            "name": "5",
            "count": 1
           },
           {
            "name": "3 others",
            "count": 3
           }
          ]
         }
        },
        {
         "name": "Participation Day",
         "dtype": "object",
         "stats": {
          "unique_count": 2,
          "nan_count": 0,
          "categories": [
           {
            "name": "0",
            "count": 5
           }
          ]
         }
        },
        {
         "name": "Month Index",
         "dtype": "object",
         "stats": {
          "unique_count": 2,
          "nan_count": 0,
          "categories": [
           {
            "name": "0",
            "count": 5
           }
          ]
         }
        },
        {
         "name": "Scoring",
         "dtype": "object",
         "stats": {
          "unique_count": 1,
          "nan_count": 0,
          "categories": [
           {
            "name": "{}",
            "count": 5
           }
          ]
         }
        },
        {
         "name": "What is your gender?",
         "dtype": "object",
         "stats": {
          "unique_count": 2,
          "nan_count": 0,
          "categories": [
           {
            "name": "1",
            "count": 4
           },
           {
            "name": "3",
            "count": 1
           }
          ]
         }
        },
        {
         "name": "How old are you?",
         "dtype": "object",
         "stats": {
          "unique_count": 3,
          "nan_count": 0,
          "categories": [
           {
            "name": "2",
            "count": 2
           },
           {
            "name": "3",
            "count": 2
           },
           {
            "name": "prefernotsay",
            "count": 1
           }
          ]
         }
        },
        {
         "name": "Which sexual orientation do you most identify with?",
         "dtype": "object",
         "stats": {
          "unique_count": 2,
          "nan_count": 0,
          "categories": [
           {
            "name": "1",
            "count": 4
           },
           {
            "name": "prefernotsay",
            "count": 1
           }
          ]
         }
        },
        {
         "name": "What is your ethnicity? (Select all that apply)",
         "dtype": "object",
         "stats": {
          "unique_count": 2,
          "nan_count": 0,
          "categories": [
           {
            "name": "3",
            "count": 4
           },
           {
            "name": "prefernotsay",
            "count": 1
           }
          ]
         }
        },
        {
         "name": "Which country do you live in?",
         "dtype": "object",
         "stats": {
          "unique_count": 3,
          "nan_count": 0,
          "categories": [
           {
            "name": "US",
            "count": 2
           },
           {
            "name": "prefernotsay",
            "count": 2
           },
           {
            "name": "DE",
            "count": 1
           }
          ]
         }
        },
        {
         "name": "Do you currently live in a...?",
         "dtype": "object",
         "stats": {
          "unique_count": 2,
          "nan_count": 0,
          "categories": [
           {
            "name": "3",
            "count": 3
           },
           {
            "name": "2",
            "count": 2
           }
          ]
         }
        },
        {
         "name": "Which employment status best applies to you?",
         "dtype": "object",
         "stats": {
          "unique_count": 3,
          "nan_count": 0,
          "categories": [
           {
            "name": "1",
            "count": 3
           },
           {
            "name": "6",
            "count": 1
           },
           {
            "name": "2",
            "count": 1
           }
          ]
         }
        },
        {
         "name": "What is the highest level of education you've attained?",
         "dtype": "object",
         "stats": {
          "unique_count": 5,
          "nan_count": 0,
          "categories": [
           {
            "name": "5",
            "count": 1
           },
           {
            "name": "6",
            "count": 1
           },
           {
            "name": "3 others",
            "count": 3
           }
          ]
         }
        },
        {
         "name": "What is your yearly household income (estimate in USD)?",
         "dtype": "object",
         "stats": {
          "unique_count": 3,
          "nan_count": 0,
          "categories": [
           {
            "name": "2",
            "count": 3
           },
           {
            "name": "8",
            "count": 1
           },
           {
            "name": "prefernotsay",
            "count": 1
           }
          ]
         }
        },
        {
         "name": "Are you currently taking any prescription medications?",
         "dtype": "object",
         "stats": {
          "unique_count": 3,
          "nan_count": 0,
          "categories": [
           {
            "name": "False",
            "count": 2
           },
           {
            "name": "True",
            "count": 2
           },
           {
            "name": "prefernotsay",
            "count": 1
           }
          ]
         }
        },
        {
         "name": "What are you taking?",
         "dtype": "object",
         "stats": {
          "unique_count": 2,
          "nan_count": 3,
          "categories": [
           {
            "name": "Clonazepam",
            "count": 1
           },
           {
            "name": "Sertralin",
            "count": 1
           },
           {
            "name": "Missing",
            "count": 3
           }
          ]
         }
        },
        {
         "name": "Do you currently have allergies?",
         "dtype": "object",
         "stats": {
          "unique_count": 2,
          "nan_count": 0,
          "categories": [
           {
            "name": "False",
            "count": 3
           },
           {
            "name": "True",
            "count": 2
           }
          ]
         }
        },
        {
         "name": "Which of the following describes your allergies? (Select all that apply)",
         "dtype": "object",
         "stats": {
          "unique_count": 2,
          "nan_count": 3,
          "categories": [
           {
            "name": "other",
            "count": 1
           },
           {
            "name": "2",
            "count": 1
           },
           {
            "name": "Missing",
            "count": 3
           }
          ]
         }
        },
        {
         "name": "If you selected 'Other', please specify:",
         "dtype": "object",
         "stats": {
          "unique_count": 1,
          "nan_count": 4,
          "categories": [
           {
            "name": "Penicillin ",
            "count": 1
           },
           {
            "name": "Missing",
            "count": 4
           }
          ]
         }
        },
        {
         "name": "Do you currently have any medical concerns with your blood and circulation system?",
         "dtype": "object",
         "stats": {
          "unique_count": 2,
          "nan_count": 0,
          "categories": [
           {
            "name": "False",
            "count": 4
           },
           {
            "name": "prefernotsay",
            "count": 1
           }
          ]
         }
        },
        {
         "name": "Which of the following describes your blood and circulation concerns? (Select all that apply)",
         "dtype": "object",
         "stats": {
          "unique_count": 0,
          "nan_count": 5,
          "categories": [
           {
            "name": "Missing",
            "count": 5
           }
          ]
         }
        },
        {
         "name": "If you selected 'Other', please specify:.1",
         "dtype": "object",
         "stats": {
          "unique_count": 0,
          "nan_count": 5,
          "categories": [
           {
            "name": "Missing",
            "count": 5
           }
          ]
         }
        },
        {
         "name": "Do you currently have any medical concerns with your brain and nervous (neurological) system?",
         "dtype": "object",
         "stats": {
          "unique_count": 2,
          "nan_count": 0,
          "categories": [
           {
            "name": "False",
            "count": 4
           },
           {
            "name": "prefernotsay",
            "count": 1
           }
          ]
         }
        },
        {
         "name": "Which of the following describes your brain and nervous (neurological) system concern(s)? (Select all that apply)",
         "dtype": "object",
         "stats": {
          "unique_count": 0,
          "nan_count": 5,
          "categories": [
           {
            "name": "Missing",
            "count": 5
           }
          ]
         }
        },
        {
         "name": "If you selected 'Other', please specify:.2",
         "dtype": "object",
         "stats": {
          "unique_count": 0,
          "nan_count": 5,
          "categories": [
           {
            "name": "Missing",
            "count": 5
           }
          ]
         }
        },
        {
         "name": "Do you currently have cancer?",
         "dtype": "object",
         "stats": {
          "unique_count": 2,
          "nan_count": 0,
          "categories": [
           {
            "name": "False",
            "count": 4
           },
           {
            "name": "prefernotsay",
            "count": 1
           }
          ]
         }
        },
        {
         "name": "What type of cancer do you have? (Select all that apply)",
         "dtype": "object",
         "stats": {
          "unique_count": 0,
          "nan_count": 5,
          "categories": [
           {
            "name": "Missing",
            "count": 5
           }
          ]
         }
        },
        {
         "name": "If you selected 'Other', please specify:.3",
         "dtype": "object",
         "stats": {
          "unique_count": 0,
          "nan_count": 5,
          "categories": [
           {
            "name": "Missing",
            "count": 5
           }
          ]
         }
        },
        {
         "name": "Do you currently have any medical concerns with your digestive system?",
         "dtype": "object",
         "stats": {
          "unique_count": 1,
          "nan_count": 0,
          "categories": [
           {
            "name": "False",
            "count": 5
           }
          ]
         }
        },
        {
         "name": "Which of the following best describes your digestive system concern(s)? (Select all that apply)",
         "dtype": "object",
         "stats": {
          "unique_count": 0,
          "nan_count": 5,
          "categories": [
           {
            "name": "Missing",
            "count": 5
           }
          ]
         }
        },
        {
         "name": "If you selected 'Other', please specify:.4",
         "dtype": "object",
         "stats": {
          "unique_count": 0,
          "nan_count": 5,
          "categories": [
           {
            "name": "Missing",
            "count": 5
           }
          ]
         }
        },
        {
         "name": "Do you currently have any medical concerns with your endocrine system?",
         "dtype": "object",
         "stats": {
          "unique_count": 2,
          "nan_count": 0,
          "categories": [
           {
            "name": "False",
            "count": 4
           },
           {
            "name": "prefernotsay",
            "count": 1
           }
          ]
         }
        },
        {
         "name": "Which of the following describes your endocrine system concern(s)? (Select all that apply)",
         "dtype": "object",
         "stats": {
          "unique_count": 0,
          "nan_count": 5,
          "categories": [
           {
            "name": "Missing",
            "count": 5
           }
          ]
         }
        },
        {
         "name": "If you selected 'Other', please specify:.5",
         "dtype": "object",
         "stats": {
          "unique_count": 0,
          "nan_count": 5,
          "categories": [
           {
            "name": "Missing",
            "count": 5
           }
          ]
         }
        },
        {
         "name": "Do you currently have any concerns with your eyes, ears, nose, or throat?",
         "dtype": "object",
         "stats": {
          "unique_count": 2,
          "nan_count": 0,
          "categories": [
           {
            "name": "False",
            "count": 4
           },
           {
            "name": "True",
            "count": 1
           }
          ]
         }
        },
        {
         "name": "Which of the following best describes your eyes, ears, nose, or throat concern(s)? (Select all that apply)",
         "dtype": "object",
         "stats": {
          "unique_count": 1,
          "nan_count": 4,
          "categories": [
           {
            "name": "1, 2",
            "count": 1
           },
           {
            "name": "Missing",
            "count": 4
           }
          ]
         }
        },
        {
         "name": "If you wear glasses or contacts, for what reason?",
         "dtype": "object",
         "stats": {
          "unique_count": 1,
          "nan_count": 4,
          "categories": [
           {
            "name": "1",
            "count": 1
           },
           {
            "name": "Missing",
            "count": 4
           }
          ]
         }
        },
        {
         "name": "If you experience visual disturbances, please describe them:",
         "dtype": "object",
         "stats": {
          "unique_count": 0,
          "nan_count": 5,
          "categories": [
           {
            "name": "Missing",
            "count": 5
           }
          ]
         }
        },
        {
         "name": "If you selected 'Other', please specify:.6",
         "dtype": "object",
         "stats": {
          "unique_count": 0,
          "nan_count": 5,
          "categories": [
           {
            "name": "Missing",
            "count": 5
           }
          ]
         }
        },
        {
         "name": "Do you currently have any heart or vascular disorders?",
         "dtype": "object",
         "stats": {
          "unique_count": 1,
          "nan_count": 0,
          "categories": [
           {
            "name": "False",
            "count": 5
           }
          ]
         }
        },
        {
         "name": "Which of the following describes your heart or vascular disorder(s)? (Select all that apply)",
         "dtype": "object",
         "stats": {
          "unique_count": 0,
          "nan_count": 5,
          "categories": [
           {
            "name": "Missing",
            "count": 5
           }
          ]
         }
        },
        {
         "name": "If you selected 'Other', please specify:.7",
         "dtype": "object",
         "stats": {
          "unique_count": 0,
          "nan_count": 5,
          "categories": [
           {
            "name": "Missing",
            "count": 5
           }
          ]
         }
        },
        {
         "name": "Do you currently have any infectious diseases?",
         "dtype": "object",
         "stats": {
          "unique_count": 1,
          "nan_count": 0,
          "categories": [
           {
            "name": "False",
            "count": 5
           }
          ]
         }
        },
        {
         "name": "Which of the following describes your infectious disease(s)? (Select all that apply)",
         "dtype": "object",
         "stats": {
          "unique_count": 0,
          "nan_count": 5,
          "categories": [
           {
            "name": "Missing",
            "count": 5
           }
          ]
         }
        },
        {
         "name": "If you selected 'Other', please specify:.8",
         "dtype": "object",
         "stats": {
          "unique_count": 0,
          "nan_count": 5,
          "categories": [
           {
            "name": "Missing",
            "count": 5
           }
          ]
         }
        },
        {
         "name": "Do you currently have any medical concerns with your musculoskeletal system?",
         "dtype": "object",
         "stats": {
          "unique_count": 2,
          "nan_count": 0,
          "categories": [
           {
            "name": "False",
            "count": 4
           },
           {
            "name": "prefernotsay",
            "count": 1
           }
          ]
         }
        },
        {
         "name": "Which of the following describes your musculoskeletal system concern(s)? (Select all that apply)",
         "dtype": "object",
         "stats": {
          "unique_count": 0,
          "nan_count": 5,
          "categories": [
           {
            "name": "Missing",
            "count": 5
           }
          ]
         }
        },
        {
         "name": "If you selected 'Other', please specify:.9",
         "dtype": "object",
         "stats": {
          "unique_count": 0,
          "nan_count": 5,
          "categories": [
           {
            "name": "Missing",
            "count": 5
           }
          ]
         }
        },
        {
         "name": "Do you currently have any psychological/mental health/addiction concerns?",
         "dtype": "object",
         "stats": {
          "unique_count": 2,
          "nan_count": 0,
          "categories": [
           {
            "name": "False",
            "count": 3
           },
           {
            "name": "True",
            "count": 2
           }
          ]
         }
        },
        {
         "name": "Which of the following describes your psychological/mental health/addiction concern(s)? (Select all that apply)",
         "dtype": "object",
         "stats": {
          "unique_count": 2,
          "nan_count": 3,
          "categories": [
           {
            "name": "2, 3, 6, 11, 12, 15",
            "count": 1
           },
           {
            "name": "2, 5, 6",
            "count": 1
           },
           {
            "name": "Missing",
            "count": 3
           }
          ]
         }
        },
        {
         "name": "If you have an addiction not listed, please specify:",
         "dtype": "object",
         "stats": {
          "unique_count": 0,
          "nan_count": 5,
          "categories": [
           {
            "name": "Missing",
            "count": 5
           }
          ]
         }
        },
        {
         "name": "If you selected 'Other', please specify:.10",
         "dtype": "object",
         "stats": {
          "unique_count": 0,
          "nan_count": 5,
          "categories": [
           {
            "name": "Missing",
            "count": 5
           }
          ]
         }
        },
        {
         "name": "Do you currently have any medical concerns with your reproductive system?",
         "dtype": "object",
         "stats": {
          "unique_count": 1,
          "nan_count": 0,
          "categories": [
           {
            "name": "False",
            "count": 5
           }
          ]
         }
        },
        {
         "name": "Which of the following describes your reproductive system concern(s)? (Select all that apply)",
         "dtype": "object",
         "stats": {
          "unique_count": 0,
          "nan_count": 5,
          "categories": [
           {
            "name": "Missing",
            "count": 5
           }
          ]
         }
        },
        {
         "name": "If you selected 'Other', please specify:.11",
         "dtype": "object",
         "stats": {
          "unique_count": 0,
          "nan_count": 5,
          "categories": [
           {
            "name": "Missing",
            "count": 5
           }
          ]
         }
        },
        {
         "name": "Do you currently have any medical concerns with your respiratory system?",
         "dtype": "object",
         "stats": {
          "unique_count": 2,
          "nan_count": 0,
          "categories": [
           {
            "name": "False",
            "count": 4
           },
           {
            "name": "True",
            "count": 1
           }
          ]
         }
        },
        {
         "name": "Which of the following describes your respiratory system concern(s)? (Select all that apply)",
         "dtype": "object",
         "stats": {
          "unique_count": 1,
          "nan_count": 4,
          "categories": [
           {
            "name": "1",
            "count": 1
           },
           {
            "name": "Missing",
            "count": 4
           }
          ]
         }
        },
        {
         "name": "If you selected 'Other', please specify:.12",
         "dtype": "object",
         "stats": {
          "unique_count": 0,
          "nan_count": 5,
          "categories": [
           {
            "name": "Missing",
            "count": 5
           }
          ]
         }
        },
        {
         "name": "Do you currently have any medical concerns with your skin/nails/hair?",
         "dtype": "object",
         "stats": {
          "unique_count": 2,
          "nan_count": 0,
          "categories": [
           {
            "name": "False",
            "count": 4
           },
           {
            "name": "prefernotsay",
            "count": 1
           }
          ]
         }
        },
        {
         "name": "Which of the following describes your skin/nails/hair concern(s)? (Select all that apply)",
         "dtype": "object",
         "stats": {
          "unique_count": 0,
          "nan_count": 5,
          "categories": [
           {
            "name": "Missing",
            "count": 5
           }
          ]
         }
        },
        {
         "name": "If you selected 'Other', please specify:.13",
         "dtype": "object",
         "stats": {
          "unique_count": 0,
          "nan_count": 5,
          "categories": [
           {
            "name": "Missing",
            "count": 5
           }
          ]
         }
        },
        {
         "name": "Have you ever experienced a head injury?",
         "dtype": "object",
         "stats": {
          "unique_count": 1,
          "nan_count": 0,
          "categories": [
           {
            "name": "False",
            "count": 5
           }
          ]
         }
        },
        {
         "name": "Which of the following best describes your head injury(s)? (Select all that apply)",
         "dtype": "object",
         "stats": {
          "unique_count": 0,
          "nan_count": 5,
          "categories": [
           {
            "name": "Missing",
            "count": 5
           }
          ]
         }
        },
        {
         "name": "If you selected 'Other', please specify:.14",
         "dtype": "object",
         "stats": {
          "unique_count": 0,
          "nan_count": 5,
          "categories": [
           {
            "name": "Missing",
            "count": 5
           }
          ]
         }
        },
        {
         "name": "Do you have any of the following symptoms? (Select all that apply)",
         "dtype": "object",
         "stats": {
          "unique_count": 3,
          "nan_count": 0,
          "categories": [
           {
            "name": "1, 7",
            "count": 2
           },
           {
            "name": "prefernotsay",
            "count": 2
           },
           {
            "name": "1, 4, 6",
            "count": 1
           }
          ]
         }
        },
        {
         "name": "If there is anything else you would like to add, please enter it below:",
         "dtype": "object",
         "stats": {
          "unique_count": 1,
          "nan_count": 4,
          "categories": [
           {
            "name": "I love this app already!",
            "count": 1
           },
           {
            "name": "Missing",
            "count": 4
           }
          ]
         }
        },
        {
         "name": "_deepnote_index_column",
         "dtype": "int64"
        }
       ],
       "rows": [
        {
         "Participant Num": 44,
         "Participant ID": "c6397cdc-6c5a-4ed2-a575-1c7608341694",
         "Response ID": "d66f777e-4ae6-4e99-a0af-e021113c70c0",
         "Join Date": "2019-11-13T18:50:13.052000",
         "Submitted Date": "2019-11-13T18:52:33.697000+00:00",
         "Index (Global)": "1.0",
         "Index": "1.0",
         "Participation Days": "2.0",
         "Participation Day": "0",
         "Month Index": "0",
         "Scoring": "{}",
         "What is your gender?": "1",
         "How old are you?": "2",
         "Which sexual orientation do you most identify with?": "1",
         "What is your ethnicity? (Select all that apply)": "3",
         "Which country do you live in?": "US",
         "Do you currently live in a...?": "2",
         "Which employment status best applies to you?": "1",
         "What is the highest level of education you've attained?": "5",
         "What is your yearly household income (estimate in USD)?": "2",
         "Are you currently taking any prescription medications?": "False",
         "What are you taking?": "nan",
         "Do you currently have allergies?": "False",
         "Which of the following describes your allergies? (Select all that apply)": "nan",
         "If you selected 'Other', please specify:": "nan",
         "Do you currently have any medical concerns with your blood and circulation system?": "False",
         "Which of the following describes your blood and circulation concerns? (Select all that apply)": "nan",
         "If you selected 'Other', please specify:.1": "nan",
         "Do you currently have any medical concerns with your brain and nervous (neurological) system?": "False",
         "Which of the following describes your brain and nervous (neurological) system concern(s)? (Select all that apply)": "nan",
         "If you selected 'Other', please specify:.2": "nan",
         "Do you currently have cancer?": "False",
         "What type of cancer do you have? (Select all that apply)": "nan",
         "If you selected 'Other', please specify:.3": "nan",
         "Do you currently have any medical concerns with your digestive system?": "False",
         "Which of the following best describes your digestive system concern(s)? (Select all that apply)": "nan",
         "If you selected 'Other', please specify:.4": "nan",
         "Do you currently have any medical concerns with your endocrine system?": "False",
         "Which of the following describes your endocrine system concern(s)? (Select all that apply)": "nan",
         "If you selected 'Other', please specify:.5": "nan",
         "Do you currently have any concerns with your eyes, ears, nose, or throat?": "False",
         "Which of the following best describes your eyes, ears, nose, or throat concern(s)? (Select all that apply)": "nan",
         "If you wear glasses or contacts, for what reason?": "nan",
         "If you experience visual disturbances, please describe them:": "nan",
         "If you selected 'Other', please specify:.6": "nan",
         "Do you currently have any heart or vascular disorders?": "False",
         "Which of the following describes your heart or vascular disorder(s)? (Select all that apply)": "nan",
         "If you selected 'Other', please specify:.7": "nan",
         "Do you currently have any infectious diseases?": "False",
         "Which of the following describes your infectious disease(s)? (Select all that apply)": "nan",
         "If you selected 'Other', please specify:.8": "nan",
         "Do you currently have any medical concerns with your musculoskeletal system?": "False",
         "Which of the following describes your musculoskeletal system concern(s)? (Select all that apply)": "nan",
         "If you selected 'Other', please specify:.9": "nan",
         "Do you currently have any psychological/mental health/addiction concerns?": "False",
         "Which of the following describes your psychological/mental health/addiction concern(s)? (Select all that apply)": "nan",
         "If you have an addiction not listed, please specify:": "nan",
         "If you selected 'Other', please specify:.10": "nan",
         "Do you currently have any medical concerns with your reproductive system?": "False",
         "Which of the following describes your reproductive system concern(s)? (Select all that apply)": "nan",
         "If you selected 'Other', please specify:.11": "nan",
         "Do you currently have any medical concerns with your respiratory system?": "False",
         "Which of the following describes your respiratory system concern(s)? (Select all that apply)": "nan",
         "If you selected 'Other', please specify:.12": "nan",
         "Do you currently have any medical concerns with your skin/nails/hair?": "False",
         "Which of the following describes your skin/nails/hair concern(s)? (Select all that apply)": "nan",
         "If you selected 'Other', please specify:.13": "nan",
         "Have you ever experienced a head injury?": "False",
         "Which of the following best describes your head injury(s)? (Select all that apply)": "nan",
         "If you selected 'Other', please specify:.14": "nan",
         "Do you have any of the following symptoms? (Select all that apply)": "1, 7",
         "If there is anything else you would like to add, please enter it below:": "nan",
         "_deepnote_index_column": 13080
        },
        {
         "Participant Num": 48,
         "Participant ID": "1921c835-98fe-47bd-8ad8-c5a9f6025875",
         "Response ID": "5d57289f-d7cd-426f-b6ea-7e6e7c8b19cb",
         "Join Date": "2019-11-13T19:04:52.729000",
         "Submitted Date": "2019-11-14T15:53:24.919000+00:00",
         "Index (Global)": "1",
         "Index": "1",
         "Participation Days": "5",
         "Participation Day": "0",
         "Month Index": "0",
         "Scoring": "{}",
         "What is your gender?": "1",
         "How old are you?": "2",
         "Which sexual orientation do you most identify with?": "1",
         "What is your ethnicity? (Select all that apply)": "3",
         "Which country do you live in?": "US",
         "Do you currently live in a...?": "2",
         "Which employment status best applies to you?": "6",
         "What is the highest level of education you've attained?": "6",
         "What is your yearly household income (estimate in USD)?": "8",
         "Are you currently taking any prescription medications?": "True",
         "What are you taking?": "Clonazepam",
         "Do you currently have allergies?": "True",
         "Which of the following describes your allergies? (Select all that apply)": "other",
         "If you selected 'Other', please specify:": "Penicillin ",
         "Do you currently have any medical concerns with your blood and circulation system?": "False",
         "Which of the following describes your blood and circulation concerns? (Select all that apply)": "nan",
         "If you selected 'Other', please specify:.1": "nan",
         "Do you currently have any medical concerns with your brain and nervous (neurological) system?": "False",
         "Which of the following describes your brain and nervous (neurological) system concern(s)? (Select all that apply)": "nan",
         "If you selected 'Other', please specify:.2": "nan",
         "Do you currently have cancer?": "False",
         "What type of cancer do you have? (Select all that apply)": "nan",
         "If you selected 'Other', please specify:.3": "nan",
         "Do you currently have any medical concerns with your digestive system?": "False",
         "Which of the following best describes your digestive system concern(s)? (Select all that apply)": "nan",
         "If you selected 'Other', please specify:.4": "nan",
         "Do you currently have any medical concerns with your endocrine system?": "False",
         "Which of the following describes your endocrine system concern(s)? (Select all that apply)": "nan",
         "If you selected 'Other', please specify:.5": "nan",
         "Do you currently have any concerns with your eyes, ears, nose, or throat?": "False",
         "Which of the following best describes your eyes, ears, nose, or throat concern(s)? (Select all that apply)": "nan",
         "If you wear glasses or contacts, for what reason?": "nan",
         "If you experience visual disturbances, please describe them:": "nan",
         "If you selected 'Other', please specify:.6": "nan",
         "Do you currently have any heart or vascular disorders?": "False",
         "Which of the following describes your heart or vascular disorder(s)? (Select all that apply)": "nan",
         "If you selected 'Other', please specify:.7": "nan",
         "Do you currently have any infectious diseases?": "False",
         "Which of the following describes your infectious disease(s)? (Select all that apply)": "nan",
         "If you selected 'Other', please specify:.8": "nan",
         "Do you currently have any medical concerns with your musculoskeletal system?": "False",
         "Which of the following describes your musculoskeletal system concern(s)? (Select all that apply)": "nan",
         "If you selected 'Other', please specify:.9": "nan",
         "Do you currently have any psychological/mental health/addiction concerns?": "True",
         "Which of the following describes your psychological/mental health/addiction concern(s)? (Select all that apply)": "2, 3, 6, 11, 12, 15",
         "If you have an addiction not listed, please specify:": "nan",
         "If you selected 'Other', please specify:.10": "nan",
         "Do you currently have any medical concerns with your reproductive system?": "False",
         "Which of the following describes your reproductive system concern(s)? (Select all that apply)": "nan",
         "If you selected 'Other', please specify:.11": "nan",
         "Do you currently have any medical concerns with your respiratory system?": "False",
         "Which of the following describes your respiratory system concern(s)? (Select all that apply)": "nan",
         "If you selected 'Other', please specify:.12": "nan",
         "Do you currently have any medical concerns with your skin/nails/hair?": "False",
         "Which of the following describes your skin/nails/hair concern(s)? (Select all that apply)": "nan",
         "If you selected 'Other', please specify:.13": "nan",
         "Have you ever experienced a head injury?": "False",
         "Which of the following best describes your head injury(s)? (Select all that apply)": "nan",
         "If you selected 'Other', please specify:.14": "nan",
         "Do you have any of the following symptoms? (Select all that apply)": "1, 4, 6",
         "If there is anything else you would like to add, please enter it below:": "nan",
         "_deepnote_index_column": 1654
        },
        {
         "Participant Num": 50,
         "Participant ID": "623624c9-881e-451f-aa2d-6f6978d5506f",
         "Response ID": "b06d8a05-a7ef-4ce9-83f0-971980bc12ef",
         "Join Date": "2019-11-13T19:11:25.763000",
         "Submitted Date": "2019-11-13T19:13:20.462000+00:00",
         "Index (Global)": "1",
         "Index": "1",
         "Participation Days": "1",
         "Participation Day": "0",
         "Month Index": "0",
         "Scoring": "{}",
         "What is your gender?": "1",
         "How old are you?": "3",
         "Which sexual orientation do you most identify with?": "1",
         "What is your ethnicity? (Select all that apply)": "3",
         "Which country do you live in?": "prefernotsay",
         "Do you currently live in a...?": "3",
         "Which employment status best applies to you?": "1",
         "What is the highest level of education you've attained?": "3",
         "What is your yearly household income (estimate in USD)?": "prefernotsay",
         "Are you currently taking any prescription medications?": "False",
         "What are you taking?": "nan",
         "Do you currently have allergies?": "False",
         "Which of the following describes your allergies? (Select all that apply)": "nan",
         "If you selected 'Other', please specify:": "nan",
         "Do you currently have any medical concerns with your blood and circulation system?": "False",
         "Which of the following describes your blood and circulation concerns? (Select all that apply)": "nan",
         "If you selected 'Other', please specify:.1": "nan",
         "Do you currently have any medical concerns with your brain and nervous (neurological) system?": "False",
         "Which of the following describes your brain and nervous (neurological) system concern(s)? (Select all that apply)": "nan",
         "If you selected 'Other', please specify:.2": "nan",
         "Do you currently have cancer?": "False",
         "What type of cancer do you have? (Select all that apply)": "nan",
         "If you selected 'Other', please specify:.3": "nan",
         "Do you currently have any medical concerns with your digestive system?": "False",
         "Which of the following best describes your digestive system concern(s)? (Select all that apply)": "nan",
         "If you selected 'Other', please specify:.4": "nan",
         "Do you currently have any medical concerns with your endocrine system?": "False",
         "Which of the following describes your endocrine system concern(s)? (Select all that apply)": "nan",
         "If you selected 'Other', please specify:.5": "nan",
         "Do you currently have any concerns with your eyes, ears, nose, or throat?": "False",
         "Which of the following best describes your eyes, ears, nose, or throat concern(s)? (Select all that apply)": "nan",
         "If you wear glasses or contacts, for what reason?": "nan",
         "If you experience visual disturbances, please describe them:": "nan",
         "If you selected 'Other', please specify:.6": "nan",
         "Do you currently have any heart or vascular disorders?": "False",
         "Which of the following describes your heart or vascular disorder(s)? (Select all that apply)": "nan",
         "If you selected 'Other', please specify:.7": "nan",
         "Do you currently have any infectious diseases?": "False",
         "Which of the following describes your infectious disease(s)? (Select all that apply)": "nan",
         "If you selected 'Other', please specify:.8": "nan",
         "Do you currently have any medical concerns with your musculoskeletal system?": "False",
         "Which of the following describes your musculoskeletal system concern(s)? (Select all that apply)": "nan",
         "If you selected 'Other', please specify:.9": "nan",
         "Do you currently have any psychological/mental health/addiction concerns?": "False",
         "Which of the following describes your psychological/mental health/addiction concern(s)? (Select all that apply)": "nan",
         "If you have an addiction not listed, please specify:": "nan",
         "If you selected 'Other', please specify:.10": "nan",
         "Do you currently have any medical concerns with your reproductive system?": "False",
         "Which of the following describes your reproductive system concern(s)? (Select all that apply)": "nan",
         "If you selected 'Other', please specify:.11": "nan",
         "Do you currently have any medical concerns with your respiratory system?": "False",
         "Which of the following describes your respiratory system concern(s)? (Select all that apply)": "nan",
         "If you selected 'Other', please specify:.12": "nan",
         "Do you currently have any medical concerns with your skin/nails/hair?": "False",
         "Which of the following describes your skin/nails/hair concern(s)? (Select all that apply)": "nan",
         "If you selected 'Other', please specify:.13": "nan",
         "Have you ever experienced a head injury?": "False",
         "Which of the following best describes your head injury(s)? (Select all that apply)": "nan",
         "If you selected 'Other', please specify:.14": "nan",
         "Do you have any of the following symptoms? (Select all that apply)": "prefernotsay",
         "If there is anything else you would like to add, please enter it below:": "nan",
         "_deepnote_index_column": 6453
        },
        {
         "Participant Num": 52,
         "Participant ID": "d4b0496f-94bd-465d-ace1-0faceefd5744",
         "Response ID": "359b60fe-b880-40a1-bfce-4ec36f088a15",
         "Join Date": "2019-11-13T19:17:18.037000",
         "Submitted Date": "2019-11-13T19:19:32.618000+00:00",
         "Index (Global)": "1.0",
         "Index": "1.0",
         "Participation Days": "0.0",
         "Participation Day": "0",
         "Month Index": "0",
         "Scoring": "{}",
         "What is your gender?": "1",
         "How old are you?": "3",
         "Which sexual orientation do you most identify with?": "1",
         "What is your ethnicity? (Select all that apply)": "3",
         "Which country do you live in?": "DE",
         "Do you currently live in a...?": "3",
         "Which employment status best applies to you?": "2",
         "What is the highest level of education you've attained?": "2",
         "What is your yearly household income (estimate in USD)?": "2",
         "Are you currently taking any prescription medications?": "True",
         "What are you taking?": "Sertralin",
         "Do you currently have allergies?": "True",
         "Which of the following describes your allergies? (Select all that apply)": "2",
         "If you selected 'Other', please specify:": "nan",
         "Do you currently have any medical concerns with your blood and circulation system?": "False",
         "Which of the following describes your blood and circulation concerns? (Select all that apply)": "nan",
         "If you selected 'Other', please specify:.1": "nan",
         "Do you currently have any medical concerns with your brain and nervous (neurological) system?": "False",
         "Which of the following describes your brain and nervous (neurological) system concern(s)? (Select all that apply)": "nan",
         "If you selected 'Other', please specify:.2": "nan",
         "Do you currently have cancer?": "False",
         "What type of cancer do you have? (Select all that apply)": "nan",
         "If you selected 'Other', please specify:.3": "nan",
         "Do you currently have any medical concerns with your digestive system?": "False",
         "Which of the following best describes your digestive system concern(s)? (Select all that apply)": "nan",
         "If you selected 'Other', please specify:.4": "nan",
         "Do you currently have any medical concerns with your endocrine system?": "False",
         "Which of the following describes your endocrine system concern(s)? (Select all that apply)": "nan",
         "If you selected 'Other', please specify:.5": "nan",
         "Do you currently have any concerns with your eyes, ears, nose, or throat?": "True",
         "Which of the following best describes your eyes, ears, nose, or throat concern(s)? (Select all that apply)": "1, 2",
         "If you wear glasses or contacts, for what reason?": "1",
         "If you experience visual disturbances, please describe them:": "nan",
         "If you selected 'Other', please specify:.6": "nan",
         "Do you currently have any heart or vascular disorders?": "False",
         "Which of the following describes your heart or vascular disorder(s)? (Select all that apply)": "nan",
         "If you selected 'Other', please specify:.7": "nan",
         "Do you currently have any infectious diseases?": "False",
         "Which of the following describes your infectious disease(s)? (Select all that apply)": "nan",
         "If you selected 'Other', please specify:.8": "nan",
         "Do you currently have any medical concerns with your musculoskeletal system?": "False",
         "Which of the following describes your musculoskeletal system concern(s)? (Select all that apply)": "nan",
         "If you selected 'Other', please specify:.9": "nan",
         "Do you currently have any psychological/mental health/addiction concerns?": "True",
         "Which of the following describes your psychological/mental health/addiction concern(s)? (Select all that apply)": "2, 5, 6",
         "If you have an addiction not listed, please specify:": "nan",
         "If you selected 'Other', please specify:.10": "nan",
         "Do you currently have any medical concerns with your reproductive system?": "False",
         "Which of the following describes your reproductive system concern(s)? (Select all that apply)": "nan",
         "If you selected 'Other', please specify:.11": "nan",
         "Do you currently have any medical concerns with your respiratory system?": "True",
         "Which of the following describes your respiratory system concern(s)? (Select all that apply)": "1",
         "If you selected 'Other', please specify:.12": "nan",
         "Do you currently have any medical concerns with your skin/nails/hair?": "False",
         "Which of the following describes your skin/nails/hair concern(s)? (Select all that apply)": "nan",
         "If you selected 'Other', please specify:.13": "nan",
         "Have you ever experienced a head injury?": "False",
         "Which of the following best describes your head injury(s)? (Select all that apply)": "nan",
         "If you selected 'Other', please specify:.14": "nan",
         "Do you have any of the following symptoms? (Select all that apply)": "1, 7",
         "If there is anything else you would like to add, please enter it below:": "I love this app already!",
         "_deepnote_index_column": 14013
        },
        {
         "Participant Num": 53,
         "Participant ID": "40324a26-fff2-4b17-9532-a5834adbe983",
         "Response ID": "032f04e5-ad60-4d4f-b28c-7fd65250f492",
         "Join Date": "2019-11-13T20:00:16.842000",
         "Submitted Date": "2019-11-13T20:00:56.756000+00:00",
         "Index (Global)": "1",
         "Index": "1",
         "Participation Days": "20",
         "Participation Day": "0",
         "Month Index": "0",
         "Scoring": "{}",
         "What is your gender?": "3",
         "How old are you?": "prefernotsay",
         "Which sexual orientation do you most identify with?": "prefernotsay",
         "What is your ethnicity? (Select all that apply)": "prefernotsay",
         "Which country do you live in?": "prefernotsay",
         "Do you currently live in a...?": "3",
         "Which employment status best applies to you?": "1",
         "What is the highest level of education you've attained?": "4",
         "What is your yearly household income (estimate in USD)?": "2",
         "Are you currently taking any prescription medications?": "prefernotsay",
         "What are you taking?": "nan",
         "Do you currently have allergies?": "False",
         "Which of the following describes your allergies? (Select all that apply)": "nan",
         "If you selected 'Other', please specify:": "nan",
         "Do you currently have any medical concerns with your blood and circulation system?": "prefernotsay",
         "Which of the following describes your blood and circulation concerns? (Select all that apply)": "nan",
         "If you selected 'Other', please specify:.1": "nan",
         "Do you currently have any medical concerns with your brain and nervous (neurological) system?": "prefernotsay",
         "Which of the following describes your brain and nervous (neurological) system concern(s)? (Select all that apply)": "nan",
         "If you selected 'Other', please specify:.2": "nan",
         "Do you currently have cancer?": "prefernotsay",
         "What type of cancer do you have? (Select all that apply)": "nan",
         "If you selected 'Other', please specify:.3": "nan",
         "Do you currently have any medical concerns with your digestive system?": "False",
         "Which of the following best describes your digestive system concern(s)? (Select all that apply)": "nan",
         "If you selected 'Other', please specify:.4": "nan",
         "Do you currently have any medical concerns with your endocrine system?": "prefernotsay",
         "Which of the following describes your endocrine system concern(s)? (Select all that apply)": "nan",
         "If you selected 'Other', please specify:.5": "nan",
         "Do you currently have any concerns with your eyes, ears, nose, or throat?": "False",
         "Which of the following best describes your eyes, ears, nose, or throat concern(s)? (Select all that apply)": "nan",
         "If you wear glasses or contacts, for what reason?": "nan",
         "If you experience visual disturbances, please describe them:": "nan",
         "If you selected 'Other', please specify:.6": "nan",
         "Do you currently have any heart or vascular disorders?": "False",
         "Which of the following describes your heart or vascular disorder(s)? (Select all that apply)": "nan",
         "If you selected 'Other', please specify:.7": "nan",
         "Do you currently have any infectious diseases?": "False",
         "Which of the following describes your infectious disease(s)? (Select all that apply)": "nan",
         "If you selected 'Other', please specify:.8": "nan",
         "Do you currently have any medical concerns with your musculoskeletal system?": "prefernotsay",
         "Which of the following describes your musculoskeletal system concern(s)? (Select all that apply)": "nan",
         "If you selected 'Other', please specify:.9": "nan",
         "Do you currently have any psychological/mental health/addiction concerns?": "False",
         "Which of the following describes your psychological/mental health/addiction concern(s)? (Select all that apply)": "nan",
         "If you have an addiction not listed, please specify:": "nan",
         "If you selected 'Other', please specify:.10": "nan",
         "Do you currently have any medical concerns with your reproductive system?": "False",
         "Which of the following describes your reproductive system concern(s)? (Select all that apply)": "nan",
         "If you selected 'Other', please specify:.11": "nan",
         "Do you currently have any medical concerns with your respiratory system?": "False",
         "Which of the following describes your respiratory system concern(s)? (Select all that apply)": "nan",
         "If you selected 'Other', please specify:.12": "nan",
         "Do you currently have any medical concerns with your skin/nails/hair?": "prefernotsay",
         "Which of the following describes your skin/nails/hair concern(s)? (Select all that apply)": "nan",
         "If you selected 'Other', please specify:.13": "nan",
         "Have you ever experienced a head injury?": "False",
         "Which of the following best describes your head injury(s)? (Select all that apply)": "nan",
         "If you selected 'Other', please specify:.14": "nan",
         "Do you have any of the following symptoms? (Select all that apply)": "prefernotsay",
         "If there is anything else you would like to add, please enter it below:": "nan",
         "_deepnote_index_column": 4167
        }
       ]
      },
      "text/plain": "       Participant Num                        Participant ID  \\\n13080               44  c6397cdc-6c5a-4ed2-a575-1c7608341694   \n1654                48  1921c835-98fe-47bd-8ad8-c5a9f6025875   \n6453                50  623624c9-881e-451f-aa2d-6f6978d5506f   \n14013               52  d4b0496f-94bd-465d-ace1-0faceefd5744   \n4167                53  40324a26-fff2-4b17-9532-a5834adbe983   \n\n                                Response ID                        Join Date  \\\n13080  d66f777e-4ae6-4e99-a0af-e021113c70c0 2019-11-13 18:50:13.052000+00:00   \n1654   5d57289f-d7cd-426f-b6ea-7e6e7c8b19cb 2019-11-13 19:04:52.729000+00:00   \n6453   b06d8a05-a7ef-4ce9-83f0-971980bc12ef 2019-11-13 19:11:25.763000+00:00   \n14013  359b60fe-b880-40a1-bfce-4ec36f088a15 2019-11-13 19:17:18.037000+00:00   \n4167   032f04e5-ad60-4d4f-b28c-7fd65250f492 2019-11-13 20:00:16.842000+00:00   \n\n                         Submitted Date Index (Global) Index  \\\n13080  2019-11-13T18:52:33.697000+00:00            1.0   1.0   \n1654   2019-11-14T15:53:24.919000+00:00              1     1   \n6453   2019-11-13T19:13:20.462000+00:00              1     1   \n14013  2019-11-13T19:19:32.618000+00:00            1.0   1.0   \n4167   2019-11-13T20:00:56.756000+00:00              1     1   \n\n      Participation Days Participation Day Month Index  ...  \\\n13080                2.0                 0           0  ...   \n1654                   5                 0           0  ...   \n6453                   1                 0           0  ...   \n14013                0.0                 0           0  ...   \n4167                  20                 0           0  ...   \n\n      Which of the following describes your respiratory system concern(s)? (Select all that apply)  \\\n13080                                                NaN                                             \n1654                                                 NaN                                             \n6453                                                 NaN                                             \n14013                                                  1                                             \n4167                                                 NaN                                             \n\n      If you selected 'Other', please specify:.12  \\\n13080                                         NaN   \n1654                                          NaN   \n6453                                          NaN   \n14013                                         NaN   \n4167                                          NaN   \n\n      Do you currently have any medical concerns with your skin/nails/hair?  \\\n13080                                              False                      \n1654                                               False                      \n6453                                               False                      \n14013                                              False                      \n4167                                        prefernotsay                      \n\n      Which of the following describes your skin/nails/hair concern(s)? (Select all that apply)  \\\n13080                                                NaN                                          \n1654                                                 NaN                                          \n6453                                                 NaN                                          \n14013                                                NaN                                          \n4167                                                 NaN                                          \n\n      If you selected 'Other', please specify:.13  \\\n13080                                         NaN   \n1654                                          NaN   \n6453                                          NaN   \n14013                                         NaN   \n4167                                          NaN   \n\n      Have you ever experienced a head injury?  \\\n13080                                    False   \n1654                                     False   \n6453                                     False   \n14013                                    False   \n4167                                     False   \n\n      Which of the following best describes your head injury(s)? (Select all that apply)  \\\n13080                                                NaN                                   \n1654                                                 NaN                                   \n6453                                                 NaN                                   \n14013                                                NaN                                   \n4167                                                 NaN                                   \n\n      If you selected 'Other', please specify:.14  \\\n13080                                         NaN   \n1654                                          NaN   \n6453                                          NaN   \n14013                                         NaN   \n4167                                          NaN   \n\n      Do you have any of the following symptoms? (Select all that apply)  \\\n13080                                               1, 7                   \n1654                                             1, 4, 6                   \n6453                                        prefernotsay                   \n14013                                               1, 7                   \n4167                                        prefernotsay                   \n\n      If there is anything else you would like to add, please enter it below:  \n13080                                                NaN                       \n1654                                                 NaN                       \n6453                                                 NaN                       \n14013                           I love this app already!                       \n4167                                                 NaN                       \n\n[5 rows x 72 columns]",
      "text/html": "<div>\n<style scoped>\n    .dataframe tbody tr th:only-of-type {\n        vertical-align: middle;\n    }\n\n    .dataframe tbody tr th {\n        vertical-align: top;\n    }\n\n    .dataframe thead th {\n        text-align: right;\n    }\n</style>\n<table border=\"1\" class=\"dataframe\">\n  <thead>\n    <tr style=\"text-align: right;\">\n      <th></th>\n      <th>Participant Num</th>\n      <th>Participant ID</th>\n      <th>Response ID</th>\n      <th>Join Date</th>\n      <th>Submitted Date</th>\n      <th>Index (Global)</th>\n      <th>Index</th>\n      <th>Participation Days</th>\n      <th>Participation Day</th>\n      <th>Month Index</th>\n      <th>...</th>\n      <th>Which of the following describes your respiratory system concern(s)? (Select all that apply)</th>\n      <th>If you selected 'Other', please specify:.12</th>\n      <th>Do you currently have any medical concerns with your skin/nails/hair?</th>\n      <th>Which of the following describes your skin/nails/hair concern(s)? (Select all that apply)</th>\n      <th>If you selected 'Other', please specify:.13</th>\n      <th>Have you ever experienced a head injury?</th>\n      <th>Which of the following best describes your head injury(s)? (Select all that apply)</th>\n      <th>If you selected 'Other', please specify:.14</th>\n      <th>Do you have any of the following symptoms? (Select all that apply)</th>\n      <th>If there is anything else you would like to add, please enter it below:</th>\n    </tr>\n  </thead>\n  <tbody>\n    <tr>\n      <th>13080</th>\n      <td>44</td>\n      <td>c6397cdc-6c5a-4ed2-a575-1c7608341694</td>\n      <td>d66f777e-4ae6-4e99-a0af-e021113c70c0</td>\n      <td>2019-11-13 18:50:13.052000+00:00</td>\n      <td>2019-11-13T18:52:33.697000+00:00</td>\n      <td>1.0</td>\n      <td>1.0</td>\n      <td>2.0</td>\n      <td>0</td>\n      <td>0</td>\n      <td>...</td>\n      <td>NaN</td>\n      <td>NaN</td>\n      <td>False</td>\n      <td>NaN</td>\n      <td>NaN</td>\n      <td>False</td>\n      <td>NaN</td>\n      <td>NaN</td>\n      <td>1, 7</td>\n      <td>NaN</td>\n    </tr>\n    <tr>\n      <th>1654</th>\n      <td>48</td>\n      <td>1921c835-98fe-47bd-8ad8-c5a9f6025875</td>\n      <td>5d57289f-d7cd-426f-b6ea-7e6e7c8b19cb</td>\n      <td>2019-11-13 19:04:52.729000+00:00</td>\n      <td>2019-11-14T15:53:24.919000+00:00</td>\n      <td>1</td>\n      <td>1</td>\n      <td>5</td>\n      <td>0</td>\n      <td>0</td>\n      <td>...</td>\n      <td>NaN</td>\n      <td>NaN</td>\n      <td>False</td>\n      <td>NaN</td>\n      <td>NaN</td>\n      <td>False</td>\n      <td>NaN</td>\n      <td>NaN</td>\n      <td>1, 4, 6</td>\n      <td>NaN</td>\n    </tr>\n    <tr>\n      <th>6453</th>\n      <td>50</td>\n      <td>623624c9-881e-451f-aa2d-6f6978d5506f</td>\n      <td>b06d8a05-a7ef-4ce9-83f0-971980bc12ef</td>\n      <td>2019-11-13 19:11:25.763000+00:00</td>\n      <td>2019-11-13T19:13:20.462000+00:00</td>\n      <td>1</td>\n      <td>1</td>\n      <td>1</td>\n      <td>0</td>\n      <td>0</td>\n      <td>...</td>\n      <td>NaN</td>\n      <td>NaN</td>\n      <td>False</td>\n      <td>NaN</td>\n      <td>NaN</td>\n      <td>False</td>\n      <td>NaN</td>\n      <td>NaN</td>\n      <td>prefernotsay</td>\n      <td>NaN</td>\n    </tr>\n    <tr>\n      <th>14013</th>\n      <td>52</td>\n      <td>d4b0496f-94bd-465d-ace1-0faceefd5744</td>\n      <td>359b60fe-b880-40a1-bfce-4ec36f088a15</td>\n      <td>2019-11-13 19:17:18.037000+00:00</td>\n      <td>2019-11-13T19:19:32.618000+00:00</td>\n      <td>1.0</td>\n      <td>1.0</td>\n      <td>0.0</td>\n      <td>0</td>\n      <td>0</td>\n      <td>...</td>\n      <td>1</td>\n      <td>NaN</td>\n      <td>False</td>\n      <td>NaN</td>\n      <td>NaN</td>\n      <td>False</td>\n      <td>NaN</td>\n      <td>NaN</td>\n      <td>1, 7</td>\n      <td>I love this app already!</td>\n    </tr>\n    <tr>\n      <th>4167</th>\n      <td>53</td>\n      <td>40324a26-fff2-4b17-9532-a5834adbe983</td>\n      <td>032f04e5-ad60-4d4f-b28c-7fd65250f492</td>\n      <td>2019-11-13 20:00:16.842000+00:00</td>\n      <td>2019-11-13T20:00:56.756000+00:00</td>\n      <td>1</td>\n      <td>1</td>\n      <td>20</td>\n      <td>0</td>\n      <td>0</td>\n      <td>...</td>\n      <td>NaN</td>\n      <td>NaN</td>\n      <td>prefernotsay</td>\n      <td>NaN</td>\n      <td>NaN</td>\n      <td>False</td>\n      <td>NaN</td>\n      <td>NaN</td>\n      <td>prefernotsay</td>\n      <td>NaN</td>\n    </tr>\n  </tbody>\n</table>\n<p>5 rows × 72 columns</p>\n</div>"
     },
     "metadata": {}
    }
   ]
  },
  {
   "cell_type": "code",
   "metadata": {
    "cell_id": "bfa98794-9f32-4a97-b52b-ac02617cc29e",
    "tags": [],
    "deepnote_to_be_reexecuted": false,
    "source_hash": "81a5d22a",
    "execution_start": 1647635808335,
    "execution_millis": 5,
    "deepnote_cell_type": "code",
    "deepnote_cell_height": 81
   },
   "source": "len_intake_before_cleaning = len(intake)",
   "execution_count": null,
   "outputs": []
  },
  {
   "cell_type": "markdown",
   "source": "## Cleaning",
   "metadata": {
    "tags": [],
    "is_collapsed": false,
    "cell_id": "00015-2c5e7612-caca-42b3-9292-30ae512d09c9",
    "deepnote_cell_type": "text-cell-h2"
   }
  },
  {
   "cell_type": "markdown",
   "source": "Checking if there are participants with double-entries and dropping the SECOND entry",
   "metadata": {
    "cell_id": "f985d735-36a1-4498-9e53-e4199c9a7bd9",
    "tags": [],
    "is_collapsed": false,
    "deepnote_cell_type": "text-cell-p"
   }
  },
  {
   "cell_type": "code",
   "metadata": {
    "tags": [],
    "cell_id": "00004-e8686552-7242-4d02-bb79-41b3ea3a9138",
    "deepnote_to_be_reexecuted": false,
    "source_hash": "8d28915f",
    "execution_start": 1647635808344,
    "execution_millis": 19,
    "deepnote_cell_type": "code",
    "deepnote_cell_height": 238.75,
    "deepnote_output_heights": [
     null,
     60
    ]
   },
   "source": "double_entries_intake = intake[intake.groupby('Participant Num')['Participant Num'].transform('size') > 1]\nprint(\"Number of duplicated entries (first and second count): \", double_entries_intake['Participant Num'].count())\ndouble_entries_intake['Participant Num'].unique()",
   "execution_count": null,
   "outputs": [
    {
     "name": "stdout",
     "text": "Number of duplicated entries (first and second count):  42\n",
     "output_type": "stream"
    },
    {
     "output_type": "execute_result",
     "execution_count": 10,
     "data": {
      "text/plain": "array([ 1330,  4803, 14299, 17436, 22325, 22673, 24929, 25748, 26088,\n       28620, 28646, 28723, 28736, 29079, 29633, 29845, 31322, 32173,\n       32257, 37405, 40545])"
     },
     "metadata": {}
    }
   ]
  },
  {
   "cell_type": "code",
   "metadata": {
    "cell_id": "71ec55e8-21e6-491f-b8a6-e7e720d66e68",
    "tags": [],
    "deepnote_to_be_reexecuted": false,
    "source_hash": "9d21f2a7",
    "execution_start": 1647635808359,
    "execution_millis": 7,
    "deepnote_cell_type": "code",
    "deepnote_cell_height": 135
   },
   "source": "to_drop_intake = []\nfor i, element in enumerate(double_entries_intake.index):\n    if i % 2 == 1:\n        to_drop_intake.append(element)",
   "execution_count": null,
   "outputs": []
  },
  {
   "cell_type": "code",
   "metadata": {
    "cell_id": "4a325223-e8a2-4d1b-b4d0-19d86978b735",
    "tags": [],
    "deepnote_to_be_reexecuted": false,
    "source_hash": "b2aa4b43",
    "execution_start": 1647635808372,
    "execution_millis": 10,
    "deepnote_cell_type": "code",
    "deepnote_cell_height": 154.1875,
    "deepnote_output_heights": [
     21
    ]
   },
   "source": "intake.drop(index=to_drop_intake, inplace=True)\n\nlen(intake)",
   "execution_count": null,
   "outputs": [
    {
     "output_type": "execute_result",
     "execution_count": 12,
     "data": {
      "text/plain": "16897"
     },
     "metadata": {}
    }
   ]
  },
  {
   "cell_type": "code",
   "metadata": {
    "cell_id": "36f80643-b0f5-407f-afa0-8e0ba9c0e65f",
    "tags": [],
    "deepnote_to_be_reexecuted": false,
    "source_hash": "57a2c9fd",
    "execution_start": 1647635808383,
    "execution_millis": 22,
    "deepnote_cell_type": "code",
    "deepnote_cell_height": 112.1875
   },
   "source": "print(\"Number of entries that were dropped: \", len_intake_before_cleaning - len(intake))",
   "execution_count": null,
   "outputs": [
    {
     "name": "stdout",
     "text": "Number of entries that were dropped:  21\n",
     "output_type": "stream"
    }
   ]
  },
  {
   "cell_type": "code",
   "metadata": {
    "cell_id": "7ebec03e-6c03-44aa-9175-dd22dc849b50",
    "tags": [],
    "deepnote_to_be_reexecuted": false,
    "source_hash": "691052ba",
    "execution_start": 1647635808402,
    "execution_millis": 117,
    "deepnote_cell_type": "code",
    "deepnote_cell_height": 229
   },
   "source": "intake[intake[\"Participant Num\"] == 14299]",
   "execution_count": null,
   "outputs": [
    {
     "output_type": "execute_result",
     "execution_count": 14,
     "data": {
      "application/vnd.deepnote.dataframe.v3+json": {
       "column_count": 72,
       "row_count": 1,
       "columns": [
        {
         "name": "Participant Num",
         "dtype": "int64",
         "stats": {
          "unique_count": 1,
          "nan_count": 0,
          "min": "14299",
          "max": "14299",
          "histogram": [
           {
            "bin_start": 14298.5,
            "bin_end": 14298.6,
            "count": 0
           },
           {
            "bin_start": 14298.6,
            "bin_end": 14298.7,
            "count": 0
           },
           {
            "bin_start": 14298.7,
            "bin_end": 14298.8,
            "count": 0
           },
           {
            "bin_start": 14298.8,
            "bin_end": 14298.9,
            "count": 0
           },
           {
            "bin_start": 14298.9,
            "bin_end": 14299,
            "count": 0
           },
           {
            "bin_start": 14299,
            "bin_end": 14299.1,
            "count": 1
           },
           {
            "bin_start": 14299.1,
            "bin_end": 14299.2,
            "count": 0
           },
           {
            "bin_start": 14299.2,
            "bin_end": 14299.3,
            "count": 0
           },
           {
            "bin_start": 14299.3,
            "bin_end": 14299.4,
            "count": 0
           },
           {
            "bin_start": 14299.4,
            "bin_end": 14299.5,
            "count": 0
           }
          ]
         }
        },
        {
         "name": "Participant ID",
         "dtype": "object",
         "stats": {
          "unique_count": 1,
          "nan_count": 0,
          "categories": [
           {
            "name": "7f725dbf-02ad-4e1b-bc66-f9c932dd85c4",
            "count": 1
           }
          ]
         }
        },
        {
         "name": "Response ID",
         "dtype": "object",
         "stats": {
          "unique_count": 1,
          "nan_count": 0,
          "categories": [
           {
            "name": "bcd3f7a1-569f-4d79-973e-ed50ef9d6660",
            "count": 1
           }
          ]
         }
        },
        {
         "name": "Join Date",
         "dtype": "datetime64[ns, UTC]",
         "stats": {
          "unique_count": 1,
          "nan_count": 0,
          "min": "2019-11-26 07:24:55.568000+00:00",
          "max": "2019-11-26 07:24:55.568000+00:00",
          "histogram": null
         }
        },
        {
         "name": "Submitted Date",
         "dtype": "object",
         "stats": {
          "unique_count": 1,
          "nan_count": 0,
          "categories": [
           {
            "name": "2019-11-26T13:54:28.191000+00:00",
            "count": 1
           }
          ]
         }
        },
        {
         "name": "Index (Global)",
         "dtype": "object",
         "stats": {
          "unique_count": 1,
          "nan_count": 0,
          "categories": [
           {
            "name": "1.0",
            "count": 1
           }
          ]
         }
        },
        {
         "name": "Index",
         "dtype": "object",
         "stats": {
          "unique_count": 1,
          "nan_count": 0,
          "categories": [
           {
            "name": "1.0",
            "count": 1
           }
          ]
         }
        },
        {
         "name": "Participation Days",
         "dtype": "object",
         "stats": {
          "unique_count": 1,
          "nan_count": 0,
          "categories": [
           {
            "name": "2.0",
            "count": 1
           }
          ]
         }
        },
        {
         "name": "Participation Day",
         "dtype": "object",
         "stats": {
          "unique_count": 1,
          "nan_count": 0,
          "categories": [
           {
            "name": "0",
            "count": 1
           }
          ]
         }
        },
        {
         "name": "Month Index",
         "dtype": "object",
         "stats": {
          "unique_count": 1,
          "nan_count": 0,
          "categories": [
           {
            "name": "0",
            "count": 1
           }
          ]
         }
        },
        {
         "name": "Scoring",
         "dtype": "object",
         "stats": {
          "unique_count": 1,
          "nan_count": 0,
          "categories": [
           {
            "name": "{}",
            "count": 1
           }
          ]
         }
        },
        {
         "name": "What is your gender?",
         "dtype": "object",
         "stats": {
          "unique_count": 1,
          "nan_count": 0,
          "categories": [
           {
            "name": "1",
            "count": 1
           }
          ]
         }
        },
        {
         "name": "How old are you?",
         "dtype": "object",
         "stats": {
          "unique_count": 1,
          "nan_count": 0,
          "categories": [
           {
            "name": "3",
            "count": 1
           }
          ]
         }
        },
        {
         "name": "Which sexual orientation do you most identify with?",
         "dtype": "object",
         "stats": {
          "unique_count": 1,
          "nan_count": 0,
          "categories": [
           {
            "name": "1",
            "count": 1
           }
          ]
         }
        },
        {
         "name": "What is your ethnicity? (Select all that apply)",
         "dtype": "object",
         "stats": {
          "unique_count": 1,
          "nan_count": 0,
          "categories": [
           {
            "name": "3",
            "count": 1
           }
          ]
         }
        },
        {
         "name": "Which country do you live in?",
         "dtype": "object",
         "stats": {
          "unique_count": 1,
          "nan_count": 0,
          "categories": [
           {
            "name": "GB",
            "count": 1
           }
          ]
         }
        },
        {
         "name": "Do you currently live in a...?",
         "dtype": "object",
         "stats": {
          "unique_count": 1,
          "nan_count": 0,
          "categories": [
           {
            "name": "1",
            "count": 1
           }
          ]
         }
        },
        {
         "name": "Which employment status best applies to you?",
         "dtype": "object",
         "stats": {
          "unique_count": 1,
          "nan_count": 0,
          "categories": [
           {
            "name": "1",
            "count": 1
           }
          ]
         }
        },
        {
         "name": "What is the highest level of education you've attained?",
         "dtype": "object",
         "stats": {
          "unique_count": 1,
          "nan_count": 0,
          "categories": [
           {
            "name": "6",
            "count": 1
           }
          ]
         }
        },
        {
         "name": "What is your yearly household income (estimate in USD)?",
         "dtype": "object",
         "stats": {
          "unique_count": 1,
          "nan_count": 0,
          "categories": [
           {
            "name": "4",
            "count": 1
           }
          ]
         }
        },
        {
         "name": "Are you currently taking any prescription medications?",
         "dtype": "object",
         "stats": {
          "unique_count": 1,
          "nan_count": 0,
          "categories": [
           {
            "name": "False",
            "count": 1
           }
          ]
         }
        },
        {
         "name": "What are you taking?",
         "dtype": "object",
         "stats": {
          "unique_count": 0,
          "nan_count": 1,
          "categories": [
           {
            "name": "Missing",
            "count": 1
           }
          ]
         }
        },
        {
         "name": "Do you currently have allergies?",
         "dtype": "object",
         "stats": {
          "unique_count": 1,
          "nan_count": 0,
          "categories": [
           {
            "name": "False",
            "count": 1
           }
          ]
         }
        },
        {
         "name": "Which of the following describes your allergies? (Select all that apply)",
         "dtype": "object",
         "stats": {
          "unique_count": 0,
          "nan_count": 1,
          "categories": [
           {
            "name": "Missing",
            "count": 1
           }
          ]
         }
        },
        {
         "name": "If you selected 'Other', please specify:",
         "dtype": "object",
         "stats": {
          "unique_count": 0,
          "nan_count": 1,
          "categories": [
           {
            "name": "Missing",
            "count": 1
           }
          ]
         }
        },
        {
         "name": "Do you currently have any medical concerns with your blood and circulation system?",
         "dtype": "object",
         "stats": {
          "unique_count": 1,
          "nan_count": 0,
          "categories": [
           {
            "name": "False",
            "count": 1
           }
          ]
         }
        },
        {
         "name": "Which of the following describes your blood and circulation concerns? (Select all that apply)",
         "dtype": "object",
         "stats": {
          "unique_count": 0,
          "nan_count": 1,
          "categories": [
           {
            "name": "Missing",
            "count": 1
           }
          ]
         }
        },
        {
         "name": "If you selected 'Other', please specify:.1",
         "dtype": "object",
         "stats": {
          "unique_count": 0,
          "nan_count": 1,
          "categories": [
           {
            "name": "Missing",
            "count": 1
           }
          ]
         }
        },
        {
         "name": "Do you currently have any medical concerns with your brain and nervous (neurological) system?",
         "dtype": "object",
         "stats": {
          "unique_count": 1,
          "nan_count": 0,
          "categories": [
           {
            "name": "False",
            "count": 1
           }
          ]
         }
        },
        {
         "name": "Which of the following describes your brain and nervous (neurological) system concern(s)? (Select all that apply)",
         "dtype": "object",
         "stats": {
          "unique_count": 0,
          "nan_count": 1,
          "categories": [
           {
            "name": "Missing",
            "count": 1
           }
          ]
         }
        },
        {
         "name": "If you selected 'Other', please specify:.2",
         "dtype": "object",
         "stats": {
          "unique_count": 0,
          "nan_count": 1,
          "categories": [
           {
            "name": "Missing",
            "count": 1
           }
          ]
         }
        },
        {
         "name": "Do you currently have cancer?",
         "dtype": "object",
         "stats": {
          "unique_count": 1,
          "nan_count": 0,
          "categories": [
           {
            "name": "False",
            "count": 1
           }
          ]
         }
        },
        {
         "name": "What type of cancer do you have? (Select all that apply)",
         "dtype": "object",
         "stats": {
          "unique_count": 0,
          "nan_count": 1,
          "categories": [
           {
            "name": "Missing",
            "count": 1
           }
          ]
         }
        },
        {
         "name": "If you selected 'Other', please specify:.3",
         "dtype": "object",
         "stats": {
          "unique_count": 0,
          "nan_count": 1,
          "categories": [
           {
            "name": "Missing",
            "count": 1
           }
          ]
         }
        },
        {
         "name": "Do you currently have any medical concerns with your digestive system?",
         "dtype": "object",
         "stats": {
          "unique_count": 1,
          "nan_count": 0,
          "categories": [
           {
            "name": "False",
            "count": 1
           }
          ]
         }
        },
        {
         "name": "Which of the following best describes your digestive system concern(s)? (Select all that apply)",
         "dtype": "object",
         "stats": {
          "unique_count": 0,
          "nan_count": 1,
          "categories": [
           {
            "name": "Missing",
            "count": 1
           }
          ]
         }
        },
        {
         "name": "If you selected 'Other', please specify:.4",
         "dtype": "object",
         "stats": {
          "unique_count": 0,
          "nan_count": 1,
          "categories": [
           {
            "name": "Missing",
            "count": 1
           }
          ]
         }
        },
        {
         "name": "Do you currently have any medical concerns with your endocrine system?",
         "dtype": "object",
         "stats": {
          "unique_count": 1,
          "nan_count": 0,
          "categories": [
           {
            "name": "False",
            "count": 1
           }
          ]
         }
        },
        {
         "name": "Which of the following describes your endocrine system concern(s)? (Select all that apply)",
         "dtype": "object",
         "stats": {
          "unique_count": 0,
          "nan_count": 1,
          "categories": [
           {
            "name": "Missing",
            "count": 1
           }
          ]
         }
        },
        {
         "name": "If you selected 'Other', please specify:.5",
         "dtype": "object",
         "stats": {
          "unique_count": 0,
          "nan_count": 1,
          "categories": [
           {
            "name": "Missing",
            "count": 1
           }
          ]
         }
        },
        {
         "name": "Do you currently have any concerns with your eyes, ears, nose, or throat?",
         "dtype": "object",
         "stats": {
          "unique_count": 1,
          "nan_count": 0,
          "categories": [
           {
            "name": "False",
            "count": 1
           }
          ]
         }
        },
        {
         "name": "Which of the following best describes your eyes, ears, nose, or throat concern(s)? (Select all that apply)",
         "dtype": "object",
         "stats": {
          "unique_count": 0,
          "nan_count": 1,
          "categories": [
           {
            "name": "Missing",
            "count": 1
           }
          ]
         }
        },
        {
         "name": "If you wear glasses or contacts, for what reason?",
         "dtype": "object",
         "stats": {
          "unique_count": 0,
          "nan_count": 1,
          "categories": [
           {
            "name": "Missing",
            "count": 1
           }
          ]
         }
        },
        {
         "name": "If you experience visual disturbances, please describe them:",
         "dtype": "object",
         "stats": {
          "unique_count": 0,
          "nan_count": 1,
          "categories": [
           {
            "name": "Missing",
            "count": 1
           }
          ]
         }
        },
        {
         "name": "If you selected 'Other', please specify:.6",
         "dtype": "object",
         "stats": {
          "unique_count": 0,
          "nan_count": 1,
          "categories": [
           {
            "name": "Missing",
            "count": 1
           }
          ]
         }
        },
        {
         "name": "Do you currently have any heart or vascular disorders?",
         "dtype": "object",
         "stats": {
          "unique_count": 1,
          "nan_count": 0,
          "categories": [
           {
            "name": "False",
            "count": 1
           }
          ]
         }
        },
        {
         "name": "Which of the following describes your heart or vascular disorder(s)? (Select all that apply)",
         "dtype": "object",
         "stats": {
          "unique_count": 0,
          "nan_count": 1,
          "categories": [
           {
            "name": "Missing",
            "count": 1
           }
          ]
         }
        },
        {
         "name": "If you selected 'Other', please specify:.7",
         "dtype": "object",
         "stats": {
          "unique_count": 0,
          "nan_count": 1,
          "categories": [
           {
            "name": "Missing",
            "count": 1
           }
          ]
         }
        },
        {
         "name": "Do you currently have any infectious diseases?",
         "dtype": "object",
         "stats": {
          "unique_count": 1,
          "nan_count": 0,
          "categories": [
           {
            "name": "False",
            "count": 1
           }
          ]
         }
        },
        {
         "name": "Which of the following describes your infectious disease(s)? (Select all that apply)",
         "dtype": "object",
         "stats": {
          "unique_count": 0,
          "nan_count": 1,
          "categories": [
           {
            "name": "Missing",
            "count": 1
           }
          ]
         }
        },
        {
         "name": "If you selected 'Other', please specify:.8",
         "dtype": "object",
         "stats": {
          "unique_count": 0,
          "nan_count": 1,
          "categories": [
           {
            "name": "Missing",
            "count": 1
           }
          ]
         }
        },
        {
         "name": "Do you currently have any medical concerns with your musculoskeletal system?",
         "dtype": "object",
         "stats": {
          "unique_count": 1,
          "nan_count": 0,
          "categories": [
           {
            "name": "False",
            "count": 1
           }
          ]
         }
        },
        {
         "name": "Which of the following describes your musculoskeletal system concern(s)? (Select all that apply)",
         "dtype": "object",
         "stats": {
          "unique_count": 0,
          "nan_count": 1,
          "categories": [
           {
            "name": "Missing",
            "count": 1
           }
          ]
         }
        },
        {
         "name": "If you selected 'Other', please specify:.9",
         "dtype": "object",
         "stats": {
          "unique_count": 0,
          "nan_count": 1,
          "categories": [
           {
            "name": "Missing",
            "count": 1
           }
          ]
         }
        },
        {
         "name": "Do you currently have any psychological/mental health/addiction concerns?",
         "dtype": "object",
         "stats": {
          "unique_count": 1,
          "nan_count": 0,
          "categories": [
           {
            "name": "True",
            "count": 1
           }
          ]
         }
        },
        {
         "name": "Which of the following describes your psychological/mental health/addiction concern(s)? (Select all that apply)",
         "dtype": "object",
         "stats": {
          "unique_count": 1,
          "nan_count": 0,
          "categories": [
           {
            "name": "1, 2, 3, 5, 6, 7, 8, 9, 11, 12, 13, 14, 15, 16",
            "count": 1
           }
          ]
         }
        },
        {
         "name": "If you have an addiction not listed, please specify:",
         "dtype": "object",
         "stats": {
          "unique_count": 0,
          "nan_count": 1,
          "categories": [
           {
            "name": "Missing",
            "count": 1
           }
          ]
         }
        },
        {
         "name": "If you selected 'Other', please specify:.10",
         "dtype": "object",
         "stats": {
          "unique_count": 0,
          "nan_count": 1,
          "categories": [
           {
            "name": "Missing",
            "count": 1
           }
          ]
         }
        },
        {
         "name": "Do you currently have any medical concerns with your reproductive system?",
         "dtype": "object",
         "stats": {
          "unique_count": 1,
          "nan_count": 0,
          "categories": [
           {
            "name": "False",
            "count": 1
           }
          ]
         }
        },
        {
         "name": "Which of the following describes your reproductive system concern(s)? (Select all that apply)",
         "dtype": "object",
         "stats": {
          "unique_count": 0,
          "nan_count": 1,
          "categories": [
           {
            "name": "Missing",
            "count": 1
           }
          ]
         }
        },
        {
         "name": "If you selected 'Other', please specify:.11",
         "dtype": "object",
         "stats": {
          "unique_count": 0,
          "nan_count": 1,
          "categories": [
           {
            "name": "Missing",
            "count": 1
           }
          ]
         }
        },
        {
         "name": "Do you currently have any medical concerns with your respiratory system?",
         "dtype": "object",
         "stats": {
          "unique_count": 1,
          "nan_count": 0,
          "categories": [
           {
            "name": "False",
            "count": 1
           }
          ]
         }
        },
        {
         "name": "Which of the following describes your respiratory system concern(s)? (Select all that apply)",
         "dtype": "object",
         "stats": {
          "unique_count": 0,
          "nan_count": 1,
          "categories": [
           {
            "name": "Missing",
            "count": 1
           }
          ]
         }
        },
        {
         "name": "If you selected 'Other', please specify:.12",
         "dtype": "object",
         "stats": {
          "unique_count": 0,
          "nan_count": 1,
          "categories": [
           {
            "name": "Missing",
            "count": 1
           }
          ]
         }
        },
        {
         "name": "Do you currently have any medical concerns with your skin/nails/hair?",
         "dtype": "object",
         "stats": {
          "unique_count": 1,
          "nan_count": 0,
          "categories": [
           {
            "name": "False",
            "count": 1
           }
          ]
         }
        },
        {
         "name": "Which of the following describes your skin/nails/hair concern(s)? (Select all that apply)",
         "dtype": "object",
         "stats": {
          "unique_count": 0,
          "nan_count": 1,
          "categories": [
           {
            "name": "Missing",
            "count": 1
           }
          ]
         }
        },
        {
         "name": "If you selected 'Other', please specify:.13",
         "dtype": "object",
         "stats": {
          "unique_count": 0,
          "nan_count": 1,
          "categories": [
           {
            "name": "Missing",
            "count": 1
           }
          ]
         }
        },
        {
         "name": "Have you ever experienced a head injury?",
         "dtype": "object",
         "stats": {
          "unique_count": 1,
          "nan_count": 0,
          "categories": [
           {
            "name": "True",
            "count": 1
           }
          ]
         }
        },
        {
         "name": "Which of the following best describes your head injury(s)? (Select all that apply)",
         "dtype": "object",
         "stats": {
          "unique_count": 1,
          "nan_count": 0,
          "categories": [
           {
            "name": "1, 3, 4, other",
            "count": 1
           }
          ]
         }
        },
        {
         "name": "If you selected 'Other', please specify:.14",
         "dtype": "object",
         "stats": {
          "unique_count": 1,
          "nan_count": 0,
          "categories": [
           {
            "name": "Multiple head injuries throughout life (lots of scars on my head)",
            "count": 1
           }
          ]
         }
        },
        {
         "name": "Do you have any of the following symptoms? (Select all that apply)",
         "dtype": "object",
         "stats": {
          "unique_count": 1,
          "nan_count": 0,
          "categories": [
           {
            "name": "1, 2, 4, 6, 7, 9, 10, 11",
            "count": 1
           }
          ]
         }
        },
        {
         "name": "If there is anything else you would like to add, please enter it below:",
         "dtype": "object",
         "stats": {
          "unique_count": 0,
          "nan_count": 1,
          "categories": [
           {
            "name": "Missing",
            "count": 1
           }
          ]
         }
        },
        {
         "name": "_deepnote_index_column",
         "dtype": "int64"
        }
       ],
       "rows": [
        {
         "Participant Num": 14299,
         "Participant ID": "7f725dbf-02ad-4e1b-bc66-f9c932dd85c4",
         "Response ID": "bcd3f7a1-569f-4d79-973e-ed50ef9d6660",
         "Join Date": "2019-11-26T07:24:55.568000",
         "Submitted Date": "2019-11-26T13:54:28.191000+00:00",
         "Index (Global)": "1.0",
         "Index": "1.0",
         "Participation Days": "2.0",
         "Participation Day": "0",
         "Month Index": "0",
         "Scoring": "{}",
         "What is your gender?": "1",
         "How old are you?": "3",
         "Which sexual orientation do you most identify with?": "1",
         "What is your ethnicity? (Select all that apply)": "3",
         "Which country do you live in?": "GB",
         "Do you currently live in a...?": "1",
         "Which employment status best applies to you?": "1",
         "What is the highest level of education you've attained?": "6",
         "What is your yearly household income (estimate in USD)?": "4",
         "Are you currently taking any prescription medications?": "False",
         "What are you taking?": "nan",
         "Do you currently have allergies?": "False",
         "Which of the following describes your allergies? (Select all that apply)": "nan",
         "If you selected 'Other', please specify:": "nan",
         "Do you currently have any medical concerns with your blood and circulation system?": "False",
         "Which of the following describes your blood and circulation concerns? (Select all that apply)": "nan",
         "If you selected 'Other', please specify:.1": "nan",
         "Do you currently have any medical concerns with your brain and nervous (neurological) system?": "False",
         "Which of the following describes your brain and nervous (neurological) system concern(s)? (Select all that apply)": "nan",
         "If you selected 'Other', please specify:.2": "nan",
         "Do you currently have cancer?": "False",
         "What type of cancer do you have? (Select all that apply)": "nan",
         "If you selected 'Other', please specify:.3": "nan",
         "Do you currently have any medical concerns with your digestive system?": "False",
         "Which of the following best describes your digestive system concern(s)? (Select all that apply)": "nan",
         "If you selected 'Other', please specify:.4": "nan",
         "Do you currently have any medical concerns with your endocrine system?": "False",
         "Which of the following describes your endocrine system concern(s)? (Select all that apply)": "nan",
         "If you selected 'Other', please specify:.5": "nan",
         "Do you currently have any concerns with your eyes, ears, nose, or throat?": "False",
         "Which of the following best describes your eyes, ears, nose, or throat concern(s)? (Select all that apply)": "nan",
         "If you wear glasses or contacts, for what reason?": "nan",
         "If you experience visual disturbances, please describe them:": "nan",
         "If you selected 'Other', please specify:.6": "nan",
         "Do you currently have any heart or vascular disorders?": "False",
         "Which of the following describes your heart or vascular disorder(s)? (Select all that apply)": "nan",
         "If you selected 'Other', please specify:.7": "nan",
         "Do you currently have any infectious diseases?": "False",
         "Which of the following describes your infectious disease(s)? (Select all that apply)": "nan",
         "If you selected 'Other', please specify:.8": "nan",
         "Do you currently have any medical concerns with your musculoskeletal system?": "False",
         "Which of the following describes your musculoskeletal system concern(s)? (Select all that apply)": "nan",
         "If you selected 'Other', please specify:.9": "nan",
         "Do you currently have any psychological/mental health/addiction concerns?": "True",
         "Which of the following describes your psychological/mental health/addiction concern(s)? (Select all that apply)": "1, 2, 3, 5, 6, 7, 8, 9, 11, 12, 13, 14, 15, 16",
         "If you have an addiction not listed, please specify:": "nan",
         "If you selected 'Other', please specify:.10": "nan",
         "Do you currently have any medical concerns with your reproductive system?": "False",
         "Which of the following describes your reproductive system concern(s)? (Select all that apply)": "nan",
         "If you selected 'Other', please specify:.11": "nan",
         "Do you currently have any medical concerns with your respiratory system?": "False",
         "Which of the following describes your respiratory system concern(s)? (Select all that apply)": "nan",
         "If you selected 'Other', please specify:.12": "nan",
         "Do you currently have any medical concerns with your skin/nails/hair?": "False",
         "Which of the following describes your skin/nails/hair concern(s)? (Select all that apply)": "nan",
         "If you selected 'Other', please specify:.13": "nan",
         "Have you ever experienced a head injury?": "True",
         "Which of the following best describes your head injury(s)? (Select all that apply)": "1, 3, 4, other",
         "If you selected 'Other', please specify:.14": "Multiple head injuries throughout life (lots of scars on my head)",
         "Do you have any of the following symptoms? (Select all that apply)": "1, 2, 4, 6, 7, 9, 10, 11",
         "If there is anything else you would like to add, please enter it below:": "nan",
         "_deepnote_index_column": 8440
        }
       ]
      },
      "text/plain": "      Participant Num                        Participant ID  \\\n8440            14299  7f725dbf-02ad-4e1b-bc66-f9c932dd85c4   \n\n                               Response ID                        Join Date  \\\n8440  bcd3f7a1-569f-4d79-973e-ed50ef9d6660 2019-11-26 07:24:55.568000+00:00   \n\n                        Submitted Date Index (Global) Index  \\\n8440  2019-11-26T13:54:28.191000+00:00            1.0   1.0   \n\n     Participation Days Participation Day Month Index  ...  \\\n8440                2.0                 0           0  ...   \n\n     Which of the following describes your respiratory system concern(s)? (Select all that apply)  \\\n8440                                                NaN                                             \n\n     If you selected 'Other', please specify:.12  \\\n8440                                         NaN   \n\n     Do you currently have any medical concerns with your skin/nails/hair?  \\\n8440                                              False                      \n\n     Which of the following describes your skin/nails/hair concern(s)? (Select all that apply)  \\\n8440                                                NaN                                          \n\n     If you selected 'Other', please specify:.13  \\\n8440                                         NaN   \n\n     Have you ever experienced a head injury?  \\\n8440                                     True   \n\n     Which of the following best describes your head injury(s)? (Select all that apply)  \\\n8440                                     1, 3, 4, other                                   \n\n            If you selected 'Other', please specify:.14  \\\n8440  Multiple head injuries throughout life (lots o...   \n\n     Do you have any of the following symptoms? (Select all that apply)  \\\n8440                           1, 2, 4, 6, 7, 9, 10, 11                   \n\n     If there is anything else you would like to add, please enter it below:  \n8440                                                NaN                       \n\n[1 rows x 72 columns]",
      "text/html": "<div>\n<style scoped>\n    .dataframe tbody tr th:only-of-type {\n        vertical-align: middle;\n    }\n\n    .dataframe tbody tr th {\n        vertical-align: top;\n    }\n\n    .dataframe thead th {\n        text-align: right;\n    }\n</style>\n<table border=\"1\" class=\"dataframe\">\n  <thead>\n    <tr style=\"text-align: right;\">\n      <th></th>\n      <th>Participant Num</th>\n      <th>Participant ID</th>\n      <th>Response ID</th>\n      <th>Join Date</th>\n      <th>Submitted Date</th>\n      <th>Index (Global)</th>\n      <th>Index</th>\n      <th>Participation Days</th>\n      <th>Participation Day</th>\n      <th>Month Index</th>\n      <th>...</th>\n      <th>Which of the following describes your respiratory system concern(s)? (Select all that apply)</th>\n      <th>If you selected 'Other', please specify:.12</th>\n      <th>Do you currently have any medical concerns with your skin/nails/hair?</th>\n      <th>Which of the following describes your skin/nails/hair concern(s)? (Select all that apply)</th>\n      <th>If you selected 'Other', please specify:.13</th>\n      <th>Have you ever experienced a head injury?</th>\n      <th>Which of the following best describes your head injury(s)? (Select all that apply)</th>\n      <th>If you selected 'Other', please specify:.14</th>\n      <th>Do you have any of the following symptoms? (Select all that apply)</th>\n      <th>If there is anything else you would like to add, please enter it below:</th>\n    </tr>\n  </thead>\n  <tbody>\n    <tr>\n      <th>8440</th>\n      <td>14299</td>\n      <td>7f725dbf-02ad-4e1b-bc66-f9c932dd85c4</td>\n      <td>bcd3f7a1-569f-4d79-973e-ed50ef9d6660</td>\n      <td>2019-11-26 07:24:55.568000+00:00</td>\n      <td>2019-11-26T13:54:28.191000+00:00</td>\n      <td>1.0</td>\n      <td>1.0</td>\n      <td>2.0</td>\n      <td>0</td>\n      <td>0</td>\n      <td>...</td>\n      <td>NaN</td>\n      <td>NaN</td>\n      <td>False</td>\n      <td>NaN</td>\n      <td>NaN</td>\n      <td>True</td>\n      <td>1, 3, 4, other</td>\n      <td>Multiple head injuries throughout life (lots o...</td>\n      <td>1, 2, 4, 6, 7, 9, 10, 11</td>\n      <td>NaN</td>\n    </tr>\n  </tbody>\n</table>\n<p>1 rows × 72 columns</p>\n</div>"
     },
     "metadata": {}
    }
   ]
  },
  {
   "cell_type": "markdown",
   "source": "Dropping unnecessary cols",
   "metadata": {
    "tags": [],
    "is_collapsed": false,
    "cell_id": "00016-3c4d5059-a1aa-4b45-ae4d-660aa57e4492",
    "deepnote_cell_type": "text-cell-p"
   }
  },
  {
   "cell_type": "code",
   "metadata": {
    "tags": [],
    "deepnote_to_be_reexecuted": false,
    "source_hash": "c6081faa",
    "execution_start": 1647635808527,
    "execution_millis": 7,
    "cell_id": "00017-a111bbd3-63cb-4b75-b824-567d86774c50",
    "deepnote_cell_type": "code",
    "deepnote_cell_height": 708,
    "deepnote_output_heights": [
     611
    ]
   },
   "source": "intake.columns.to_list()",
   "execution_count": null,
   "outputs": [
    {
     "output_type": "execute_result",
     "execution_count": 15,
     "data": {
      "text/plain": "['Participant Num',\n 'Participant ID',\n 'Response ID',\n 'Join Date',\n 'Submitted Date',\n 'Index (Global)',\n 'Index',\n 'Participation Days',\n 'Participation Day',\n 'Month Index',\n 'Scoring',\n 'What is your gender?',\n 'How old are you?',\n 'Which sexual orientation do you most identify with?',\n 'What is your ethnicity? (Select all that apply)',\n 'Which country do you live in?',\n 'Do you currently live in a...?',\n 'Which employment status best applies to you?',\n \"What is the highest level of education you've attained?\",\n 'What is your yearly household income (estimate in USD)?',\n 'Are you currently taking any prescription medications?',\n 'What are you taking?',\n 'Do you currently have allergies?',\n 'Which of the following describes your allergies? (Select all that apply)',\n \"If you selected 'Other', please specify:\",\n 'Do you currently have any medical concerns with your blood and circulation system?',\n 'Which of the following describes your blood and circulation concerns? (Select all that apply)',\n \"If you selected 'Other', please specify:.1\",\n 'Do you currently have any medical concerns with your brain and nervous (neurological) system?',\n 'Which of the following describes your brain and nervous (neurological) system concern(s)? (Select all that apply)',\n \"If you selected 'Other', please specify:.2\",\n 'Do you currently have cancer?',\n 'What type of cancer do you have? (Select all that apply)',\n \"If you selected 'Other', please specify:.3\",\n 'Do you currently have any medical concerns with your digestive system?',\n 'Which of the following best describes your digestive system concern(s)? (Select all that apply)',\n \"If you selected 'Other', please specify:.4\",\n 'Do you currently have any medical concerns with your endocrine system?',\n 'Which of the following describes your endocrine system concern(s)? (Select all that apply)',\n \"If you selected 'Other', please specify:.5\",\n 'Do you currently have any concerns with your eyes, ears, nose, or throat?',\n 'Which of the following best describes your eyes, ears, nose, or throat concern(s)? (Select all that apply)',\n 'If you wear glasses or contacts, for what reason?',\n 'If you experience visual disturbances, please describe them:',\n \"If you selected 'Other', please specify:.6\",\n 'Do you currently have any heart or vascular disorders?',\n 'Which of the following describes your heart or vascular disorder(s)? (Select all that apply)',\n \"If you selected 'Other', please specify:.7\",\n 'Do you currently have any infectious diseases?',\n 'Which of the following describes your infectious disease(s)? (Select all that apply)',\n \"If you selected 'Other', please specify:.8\",\n 'Do you currently have any medical concerns with your musculoskeletal system?',\n 'Which of the following describes your musculoskeletal system concern(s)? (Select all that apply)',\n \"If you selected 'Other', please specify:.9\",\n 'Do you currently have any psychological/mental health/addiction concerns?',\n 'Which of the following describes your psychological/mental health/addiction concern(s)? (Select all that apply)',\n 'If you have an addiction not listed, please specify:',\n \"If you selected 'Other', please specify:.10\",\n 'Do you currently have any medical concerns with your reproductive system?',\n 'Which of the following describes your reproductive system concern(s)? (Select all that apply)',\n \"If you selected 'Other', please specify:.11\",\n 'Do you currently have any medical concerns with your respiratory system?',\n 'Which of the following describes your respiratory system concern(s)? (Select all that apply)',\n \"If you selected 'Other', please specify:.12\",\n 'Do you currently have any medical concerns with your skin/nails/hair?',\n 'Which of the following describes your skin/nails/hair concern(s)? (Select all that apply)',\n \"If you selected 'Other', please specify:.13\",\n 'Have you ever experienced a head injury?',\n 'Which of the following best describes your head injury(s)? (Select all that apply)',\n \"If you selected 'Other', please specify:.14\",\n 'Do you have any of the following symptoms? (Select all that apply)',\n 'If there is anything else you would like to add, please enter it below:']"
     },
     "metadata": {}
    }
   ]
  },
  {
   "cell_type": "code",
   "metadata": {
    "tags": [],
    "deepnote_to_be_reexecuted": false,
    "source_hash": "8726e287",
    "execution_start": 1647635808538,
    "execution_millis": 1,
    "cell_id": "00018-63fe28d6-c2d5-418e-9cd3-909303949dd7",
    "deepnote_cell_type": "code",
    "deepnote_cell_height": 315
   },
   "source": "intake_clean = intake[['Participant Num',\n 'Participant ID',\n 'Join Date',\n 'Submitted Date',\n 'What is your gender?',\n 'How old are you?',\n 'Which sexual orientation do you most identify with?',\n 'What is your ethnicity? (Select all that apply)',\n 'Which country do you live in?',\n 'Do you currently live in a...?',\n 'Which employment status best applies to you?',\n \"What is the highest level of education you've attained?\",\n 'What is your yearly household income (estimate in USD)?'\n]]",
   "execution_count": null,
   "outputs": []
  },
  {
   "cell_type": "code",
   "metadata": {
    "cell_id": "dd1b2d77-7ad4-4da7-bbce-5dcb60d1761f",
    "tags": [],
    "deepnote_to_be_reexecuted": false,
    "source_hash": "cf9a8c96",
    "execution_start": 1647635808544,
    "execution_millis": 1,
    "deepnote_cell_type": "code",
    "deepnote_cell_height": 153
   },
   "source": "# medical_info_cols = list(intake.columns)[:2] + list(intake.columns)[20:-1]\n\n# medical_info = intake[list(intake.columns)[:2] + list(intake.columns)[20:-1]]\n\n# medical_info.to_csv('/work/exports_november2021/data/medical_info.csv', index=False)",
   "execution_count": null,
   "outputs": []
  },
  {
   "cell_type": "markdown",
   "source": "Renaming cols (working further in this notebook with the intake df; a separate notebook for the medical info df)",
   "metadata": {
    "tags": [],
    "is_collapsed": false,
    "cell_id": "00019-8b2dfd1b-7766-4a2d-8bf6-9985ec6b9870",
    "deepnote_cell_type": "text-cell-p"
   }
  },
  {
   "cell_type": "code",
   "metadata": {
    "tags": [],
    "cell_id": "00009-678cf1df-1668-4c56-b763-3d8d3e546c4f",
    "deepnote_to_be_reexecuted": false,
    "source_hash": "908edb28",
    "execution_start": 1647635808589,
    "execution_millis": 35753,
    "deepnote_cell_type": "code",
    "deepnote_cell_height": 153
   },
   "source": "def replace_col(col):\n    if col in rename_dict:\n        return rename_dict[col]\n    else:\n        return col",
   "execution_count": null,
   "outputs": []
  },
  {
   "cell_type": "code",
   "metadata": {
    "tags": [],
    "deepnote_to_be_reexecuted": false,
    "source_hash": "a84d0da8",
    "execution_start": 1647635808589,
    "execution_millis": 11,
    "cell_id": "00020-552fbba7-db04-49e1-9fff-ec5630c10261",
    "deepnote_cell_type": "code",
    "deepnote_cell_height": 663
   },
   "source": "rename_dict = {\n'What is your gender?': 'Gender',\n'How old are you?': 'Age',\n'Which sexual orientation do you most identify with?': 'Sexual orientation',\n'What is your ethnicity? (Select all that apply)': 'Ethnicity',\n'Which country do you live in?': 'Country Code',\n'Do you currently live in a...?': 'Living area',\n'Which employment status best applies to you?': 'Employment',\n\"What is the highest level of education you've attained?\": 'Education',\n'What is your yearly household income (estimate in USD)?': 'Yearly household income (thousand USD)'\n}\n\nintake_clean = intake_clean.rename(columns={col: replace_col(col) for col in intake_clean.columns})\nintake_clean = intake_clean.rename(columns=rename_dict)\n\nintake_clean.head()",
   "execution_count": null,
   "outputs": [
    {
     "output_type": "execute_result",
     "execution_count": 19,
     "data": {
      "application/vnd.deepnote.dataframe.v3+json": {
       "column_count": 13,
       "row_count": 5,
       "columns": [
        {
         "name": "Participant Num",
         "dtype": "int64",
         "stats": {
          "unique_count": 5,
          "nan_count": 0,
          "min": "44",
          "max": "53",
          "histogram": [
           {
            "bin_start": 44,
            "bin_end": 44.9,
            "count": 1
           },
           {
            "bin_start": 44.9,
            "bin_end": 45.8,
            "count": 0
           },
           {
            "bin_start": 45.8,
            "bin_end": 46.7,
            "count": 0
           },
           {
            "bin_start": 46.7,
            "bin_end": 47.6,
            "count": 0
           },
           {
            "bin_start": 47.6,
            "bin_end": 48.5,
            "count": 1
           },
           {
            "bin_start": 48.5,
            "bin_end": 49.4,
            "count": 0
           },
           {
            "bin_start": 49.4,
            "bin_end": 50.3,
            "count": 1
           },
           {
            "bin_start": 50.3,
            "bin_end": 51.2,
            "count": 0
           },
           {
            "bin_start": 51.2,
            "bin_end": 52.1,
            "count": 1
           },
           {
            "bin_start": 52.1,
            "bin_end": 53,
            "count": 1
           }
          ]
         }
        },
        {
         "name": "Participant ID",
         "dtype": "object",
         "stats": {
          "unique_count": 5,
          "nan_count": 0,
          "categories": [
           {
            "name": "c6397cdc-6c5a-4ed2-a575-1c7608341694",
            "count": 1
           },
           {
            "name": "1921c835-98fe-47bd-8ad8-c5a9f6025875",
            "count": 1
           },
           {
            "name": "3 others",
            "count": 3
           }
          ]
         }
        },
        {
         "name": "Join Date",
         "dtype": "datetime64[ns, UTC]",
         "stats": {
          "unique_count": 5,
          "nan_count": 0,
          "min": "2019-11-13 18:50:13.052000+00:00",
          "max": "2019-11-13 20:00:16.842000+00:00",
          "histogram": [
           {
            "bin_start": 1573671013052000000,
            "bin_end": 1573671433431000000,
            "count": 1
           },
           {
            "bin_start": 1573671433431000000,
            "bin_end": 1573671853810000000,
            "count": 0
           },
           {
            "bin_start": 1573671853810000000,
            "bin_end": 1573672274189000000,
            "count": 1
           },
           {
            "bin_start": 1573672274189000000,
            "bin_end": 1573672694568000000,
            "count": 2
           },
           {
            "bin_start": 1573672694568000000,
            "bin_end": 1573673114946999800,
            "count": 0
           },
           {
            "bin_start": 1573673114946999800,
            "bin_end": 1573673535325999900,
            "count": 0
           },
           {
            "bin_start": 1573673535325999900,
            "bin_end": 1573673955705000000,
            "count": 0
           },
           {
            "bin_start": 1573673955705000000,
            "bin_end": 1573674376084000000,
            "count": 0
           },
           {
            "bin_start": 1573674376084000000,
            "bin_end": 1573674796462999800,
            "count": 0
           },
           {
            "bin_start": 1573674796462999800,
            "bin_end": 1573675216842000000,
            "count": 1
           }
          ]
         }
        },
        {
         "name": "Submitted Date",
         "dtype": "object",
         "stats": {
          "unique_count": 5,
          "nan_count": 0,
          "categories": [
           {
            "name": "2019-11-13T18:52:33.697000+00:00",
            "count": 1
           },
           {
            "name": "2019-11-14T15:53:24.919000+00:00",
            "count": 1
           },
           {
            "name": "3 others",
            "count": 3
           }
          ]
         }
        },
        {
         "name": "Gender",
         "dtype": "object",
         "stats": {
          "unique_count": 2,
          "nan_count": 0,
          "categories": [
           {
            "name": "1",
            "count": 4
           },
           {
            "name": "3",
            "count": 1
           }
          ]
         }
        },
        {
         "name": "Age",
         "dtype": "object",
         "stats": {
          "unique_count": 3,
          "nan_count": 0,
          "categories": [
           {
            "name": "2",
            "count": 2
           },
           {
            "name": "3",
            "count": 2
           },
           {
            "name": "prefernotsay",
            "count": 1
           }
          ]
         }
        },
        {
         "name": "Sexual orientation",
         "dtype": "object",
         "stats": {
          "unique_count": 2,
          "nan_count": 0,
          "categories": [
           {
            "name": "1",
            "count": 4
           },
           {
            "name": "prefernotsay",
            "count": 1
           }
          ]
         }
        },
        {
         "name": "Ethnicity",
         "dtype": "object",
         "stats": {
          "unique_count": 2,
          "nan_count": 0,
          "categories": [
           {
            "name": "3",
            "count": 4
           },
           {
            "name": "prefernotsay",
            "count": 1
           }
          ]
         }
        },
        {
         "name": "Country Code",
         "dtype": "object",
         "stats": {
          "unique_count": 3,
          "nan_count": 0,
          "categories": [
           {
            "name": "US",
            "count": 2
           },
           {
            "name": "prefernotsay",
            "count": 2
           },
           {
            "name": "DE",
            "count": 1
           }
          ]
         }
        },
        {
         "name": "Living area",
         "dtype": "object",
         "stats": {
          "unique_count": 2,
          "nan_count": 0,
          "categories": [
           {
            "name": "3",
            "count": 3
           },
           {
            "name": "2",
            "count": 2
           }
          ]
         }
        },
        {
         "name": "Employment",
         "dtype": "object",
         "stats": {
          "unique_count": 3,
          "nan_count": 0,
          "categories": [
           {
            "name": "1",
            "count": 3
           },
           {
            "name": "6",
            "count": 1
           },
           {
            "name": "2",
            "count": 1
           }
          ]
         }
        },
        {
         "name": "Education",
         "dtype": "object",
         "stats": {
          "unique_count": 5,
          "nan_count": 0,
          "categories": [
           {
            "name": "5",
            "count": 1
           },
           {
            "name": "6",
            "count": 1
           },
           {
            "name": "3 others",
            "count": 3
           }
          ]
         }
        },
        {
         "name": "Yearly household income (thousand USD)",
         "dtype": "object",
         "stats": {
          "unique_count": 3,
          "nan_count": 0,
          "categories": [
           {
            "name": "2",
            "count": 3
           },
           {
            "name": "8",
            "count": 1
           },
           {
            "name": "prefernotsay",
            "count": 1
           }
          ]
         }
        },
        {
         "name": "_deepnote_index_column",
         "dtype": "int64"
        }
       ],
       "rows": [
        {
         "Participant Num": 44,
         "Participant ID": "c6397cdc-6c5a-4ed2-a575-1c7608341694",
         "Join Date": "2019-11-13T18:50:13.052000",
         "Submitted Date": "2019-11-13T18:52:33.697000+00:00",
         "Gender": "1",
         "Age": "2",
         "Sexual orientation": "1",
         "Ethnicity": "3",
         "Country Code": "US",
         "Living area": "2",
         "Employment": "1",
         "Education": "5",
         "Yearly household income (thousand USD)": "2",
         "_deepnote_index_column": 13080
        },
        {
         "Participant Num": 48,
         "Participant ID": "1921c835-98fe-47bd-8ad8-c5a9f6025875",
         "Join Date": "2019-11-13T19:04:52.729000",
         "Submitted Date": "2019-11-14T15:53:24.919000+00:00",
         "Gender": "1",
         "Age": "2",
         "Sexual orientation": "1",
         "Ethnicity": "3",
         "Country Code": "US",
         "Living area": "2",
         "Employment": "6",
         "Education": "6",
         "Yearly household income (thousand USD)": "8",
         "_deepnote_index_column": 1654
        },
        {
         "Participant Num": 50,
         "Participant ID": "623624c9-881e-451f-aa2d-6f6978d5506f",
         "Join Date": "2019-11-13T19:11:25.763000",
         "Submitted Date": "2019-11-13T19:13:20.462000+00:00",
         "Gender": "1",
         "Age": "3",
         "Sexual orientation": "1",
         "Ethnicity": "3",
         "Country Code": "prefernotsay",
         "Living area": "3",
         "Employment": "1",
         "Education": "3",
         "Yearly household income (thousand USD)": "prefernotsay",
         "_deepnote_index_column": 6453
        },
        {
         "Participant Num": 52,
         "Participant ID": "d4b0496f-94bd-465d-ace1-0faceefd5744",
         "Join Date": "2019-11-13T19:17:18.037000",
         "Submitted Date": "2019-11-13T19:19:32.618000+00:00",
         "Gender": "1",
         "Age": "3",
         "Sexual orientation": "1",
         "Ethnicity": "3",
         "Country Code": "DE",
         "Living area": "3",
         "Employment": "2",
         "Education": "2",
         "Yearly household income (thousand USD)": "2",
         "_deepnote_index_column": 14013
        },
        {
         "Participant Num": 53,
         "Participant ID": "40324a26-fff2-4b17-9532-a5834adbe983",
         "Join Date": "2019-11-13T20:00:16.842000",
         "Submitted Date": "2019-11-13T20:00:56.756000+00:00",
         "Gender": "3",
         "Age": "prefernotsay",
         "Sexual orientation": "prefernotsay",
         "Ethnicity": "prefernotsay",
         "Country Code": "prefernotsay",
         "Living area": "3",
         "Employment": "1",
         "Education": "4",
         "Yearly household income (thousand USD)": "2",
         "_deepnote_index_column": 4167
        }
       ]
      },
      "text/plain": "       Participant Num                        Participant ID  \\\n13080               44  c6397cdc-6c5a-4ed2-a575-1c7608341694   \n1654                48  1921c835-98fe-47bd-8ad8-c5a9f6025875   \n6453                50  623624c9-881e-451f-aa2d-6f6978d5506f   \n14013               52  d4b0496f-94bd-465d-ace1-0faceefd5744   \n4167                53  40324a26-fff2-4b17-9532-a5834adbe983   \n\n                             Join Date                    Submitted Date  \\\n13080 2019-11-13 18:50:13.052000+00:00  2019-11-13T18:52:33.697000+00:00   \n1654  2019-11-13 19:04:52.729000+00:00  2019-11-14T15:53:24.919000+00:00   \n6453  2019-11-13 19:11:25.763000+00:00  2019-11-13T19:13:20.462000+00:00   \n14013 2019-11-13 19:17:18.037000+00:00  2019-11-13T19:19:32.618000+00:00   \n4167  2019-11-13 20:00:16.842000+00:00  2019-11-13T20:00:56.756000+00:00   \n\n      Gender           Age Sexual orientation     Ethnicity  Country Code  \\\n13080      1             2                  1             3            US   \n1654       1             2                  1             3            US   \n6453       1             3                  1             3  prefernotsay   \n14013      1             3                  1             3            DE   \n4167       3  prefernotsay       prefernotsay  prefernotsay  prefernotsay   \n\n      Living area Employment Education Yearly household income (thousand USD)  \n13080           2          1         5                                      2  \n1654            2          6         6                                      8  \n6453            3          1         3                           prefernotsay  \n14013           3          2         2                                      2  \n4167            3          1         4                                      2  ",
      "text/html": "<div>\n<style scoped>\n    .dataframe tbody tr th:only-of-type {\n        vertical-align: middle;\n    }\n\n    .dataframe tbody tr th {\n        vertical-align: top;\n    }\n\n    .dataframe thead th {\n        text-align: right;\n    }\n</style>\n<table border=\"1\" class=\"dataframe\">\n  <thead>\n    <tr style=\"text-align: right;\">\n      <th></th>\n      <th>Participant Num</th>\n      <th>Participant ID</th>\n      <th>Join Date</th>\n      <th>Submitted Date</th>\n      <th>Gender</th>\n      <th>Age</th>\n      <th>Sexual orientation</th>\n      <th>Ethnicity</th>\n      <th>Country Code</th>\n      <th>Living area</th>\n      <th>Employment</th>\n      <th>Education</th>\n      <th>Yearly household income (thousand USD)</th>\n    </tr>\n  </thead>\n  <tbody>\n    <tr>\n      <th>13080</th>\n      <td>44</td>\n      <td>c6397cdc-6c5a-4ed2-a575-1c7608341694</td>\n      <td>2019-11-13 18:50:13.052000+00:00</td>\n      <td>2019-11-13T18:52:33.697000+00:00</td>\n      <td>1</td>\n      <td>2</td>\n      <td>1</td>\n      <td>3</td>\n      <td>US</td>\n      <td>2</td>\n      <td>1</td>\n      <td>5</td>\n      <td>2</td>\n    </tr>\n    <tr>\n      <th>1654</th>\n      <td>48</td>\n      <td>1921c835-98fe-47bd-8ad8-c5a9f6025875</td>\n      <td>2019-11-13 19:04:52.729000+00:00</td>\n      <td>2019-11-14T15:53:24.919000+00:00</td>\n      <td>1</td>\n      <td>2</td>\n      <td>1</td>\n      <td>3</td>\n      <td>US</td>\n      <td>2</td>\n      <td>6</td>\n      <td>6</td>\n      <td>8</td>\n    </tr>\n    <tr>\n      <th>6453</th>\n      <td>50</td>\n      <td>623624c9-881e-451f-aa2d-6f6978d5506f</td>\n      <td>2019-11-13 19:11:25.763000+00:00</td>\n      <td>2019-11-13T19:13:20.462000+00:00</td>\n      <td>1</td>\n      <td>3</td>\n      <td>1</td>\n      <td>3</td>\n      <td>prefernotsay</td>\n      <td>3</td>\n      <td>1</td>\n      <td>3</td>\n      <td>prefernotsay</td>\n    </tr>\n    <tr>\n      <th>14013</th>\n      <td>52</td>\n      <td>d4b0496f-94bd-465d-ace1-0faceefd5744</td>\n      <td>2019-11-13 19:17:18.037000+00:00</td>\n      <td>2019-11-13T19:19:32.618000+00:00</td>\n      <td>1</td>\n      <td>3</td>\n      <td>1</td>\n      <td>3</td>\n      <td>DE</td>\n      <td>3</td>\n      <td>2</td>\n      <td>2</td>\n      <td>2</td>\n    </tr>\n    <tr>\n      <th>4167</th>\n      <td>53</td>\n      <td>40324a26-fff2-4b17-9532-a5834adbe983</td>\n      <td>2019-11-13 20:00:16.842000+00:00</td>\n      <td>2019-11-13T20:00:56.756000+00:00</td>\n      <td>3</td>\n      <td>prefernotsay</td>\n      <td>prefernotsay</td>\n      <td>prefernotsay</td>\n      <td>prefernotsay</td>\n      <td>3</td>\n      <td>1</td>\n      <td>4</td>\n      <td>2</td>\n    </tr>\n  </tbody>\n</table>\n</div>"
     },
     "metadata": {}
    }
   ]
  },
  {
   "cell_type": "markdown",
   "source": "Add columns of interest",
   "metadata": {
    "tags": [],
    "cell_id": "00011-95c47c23-8c20-48a1-ab31-703d377e8454",
    "deepnote_cell_type": "markdown",
    "deepnote_cell_height": 52.390625
   }
  },
  {
   "cell_type": "code",
   "metadata": {
    "tags": [],
    "cell_id": "00012-837da11c-b7bd-4391-b0ee-6288c4dc65af",
    "deepnote_to_be_reexecuted": false,
    "source_hash": "8588b2ba",
    "execution_start": 1647635808609,
    "execution_millis": 1,
    "deepnote_cell_type": "code",
    "deepnote_cell_height": 99
   },
   "source": "intake_clean['EntryNumber'] = intake_clean.groupby((intake_clean['Participant Num'] != intake_clean['Participant Num'].shift(1)).cumsum()).cumcount()+1\n",
   "execution_count": null,
   "outputs": []
  },
  {
   "cell_type": "code",
   "metadata": {
    "cell_id": "c3f361b6-5325-4104-b012-a37c47bc3b62",
    "tags": [],
    "deepnote_to_be_reexecuted": false,
    "source_hash": "d9d13289",
    "execution_start": 1647635808614,
    "execution_millis": 8,
    "deepnote_cell_type": "code",
    "deepnote_cell_height": 137.375,
    "deepnote_output_heights": [
     40
    ]
   },
   "source": "intake_clean['EntryNumber'].value_counts()",
   "execution_count": null,
   "outputs": [
    {
     "output_type": "execute_result",
     "execution_count": 21,
     "data": {
      "text/plain": "1    16897\nName: EntryNumber, dtype: int64"
     },
     "metadata": {}
    }
   ]
  },
  {
   "cell_type": "markdown",
   "source": "Writing intake completion rates to csv",
   "metadata": {
    "cell_id": "a21f8549-e376-4d80-8227-4fc7e9ef6d75",
    "tags": [],
    "is_collapsed": false,
    "deepnote_cell_type": "text-cell-p"
   }
  },
  {
   "cell_type": "code",
   "metadata": {
    "cell_id": "803b5c65-64b7-4918-a563-1835934cbaf3",
    "tags": [],
    "deepnote_to_be_reexecuted": false,
    "source_hash": "51b15bd0",
    "execution_start": 1647635808622,
    "execution_millis": 4,
    "deepnote_cell_type": "code",
    "deepnote_cell_height": 117
   },
   "source": "# intake_completion_rates_df = intake_clean[[\"Participant Num\",'EntryNumber']]\n\n# intake_completion_rates_df.to_csv(\"/work/exports_november2021/data/intake_completion_rates.csv\", index=False)",
   "execution_count": null,
   "outputs": []
  },
  {
   "cell_type": "code",
   "metadata": {
    "tags": [],
    "cell_id": "00015-76046d68-2bd0-416e-9adf-4b91e741d140",
    "deepnote_to_be_reexecuted": false,
    "source_hash": "c19a2b5c",
    "execution_start": 1647635808627,
    "execution_millis": 2,
    "deepnote_cell_type": "code",
    "deepnote_cell_height": 99
   },
   "source": "# Not needed as we took care of duplicated entries above\n# intake_clean.drop_duplicates(inplace=True)",
   "execution_count": null,
   "outputs": []
  },
  {
   "cell_type": "markdown",
   "source": "Checking for missing values",
   "metadata": {
    "tags": [],
    "is_collapsed": false,
    "cell_id": "00023-cde00f92-717e-46cd-98ce-b4dfadc50b84",
    "deepnote_cell_type": "text-cell-p"
   }
  },
  {
   "cell_type": "code",
   "metadata": {
    "tags": [],
    "deepnote_to_be_reexecuted": false,
    "source_hash": "58622f2d",
    "execution_start": 1647635808672,
    "execution_millis": 5,
    "cell_id": "00026-53dbcadd-3c01-46af-b916-ab9b9362bc92",
    "deepnote_cell_type": "code",
    "deepnote_cell_height": 386.8125,
    "deepnote_output_heights": [
     290
    ]
   },
   "source": "intake_clean.isna().sum()/len(intake_clean)",
   "execution_count": null,
   "outputs": [
    {
     "output_type": "execute_result",
     "execution_count": 24,
     "data": {
      "text/plain": "Participant Num                           0.000000\nParticipant ID                            0.000000\nJoin Date                                 0.034503\nSubmitted Date                            0.000000\nGender                                    0.000533\nAge                                       0.000533\nSexual orientation                        0.000651\nEthnicity                                 0.001420\nCountry Code                              0.001302\nLiving area                               0.001124\nEmployment                                0.001006\nEducation                                 0.001302\nYearly household income (thousand USD)    0.002841\nEntryNumber                               0.000000\ndtype: float64"
     },
     "metadata": {}
    }
   ]
  },
  {
   "cell_type": "markdown",
   "source": "Encoding values",
   "metadata": {
    "tags": [],
    "cell_id": "00022-04435a17-d667-446f-bb15-d332c6a8c2cb",
    "deepnote_cell_type": "markdown",
    "deepnote_cell_height": 52.390625
   }
  },
  {
   "cell_type": "code",
   "metadata": {
    "tags": [],
    "deepnote_to_be_reexecuted": false,
    "source_hash": "8d35679a",
    "execution_start": 1647635808672,
    "execution_millis": 1,
    "cell_id": "00029-211a9960-3b5d-4bd1-97b3-8c53ba5751ed",
    "deepnote_cell_type": "code",
    "deepnote_cell_height": 81
   },
   "source": "intake_clean = intake_clean.replace('prefernotsay', 'Skipped question')",
   "execution_count": null,
   "outputs": []
  },
  {
   "cell_type": "code",
   "metadata": {
    "tags": [],
    "deepnote_to_be_reexecuted": false,
    "source_hash": "1d8e6de7",
    "execution_start": 1647635808673,
    "execution_millis": 5,
    "cell_id": "00033-31a3a775-550a-48ba-859a-740988c0f416",
    "deepnote_cell_type": "code",
    "deepnote_cell_height": 287.3125,
    "deepnote_output_heights": [
     136
    ]
   },
   "source": "intake_clean['Gender'] = intake_clean['Gender'].replace([\"1\", \"2\", \"3\", \"4\", \"5\"], [\"Male\",\"Female\",\"Transgender\",\n                                                                    \"Non-Binary\",\"Other\"])\n\nintake_clean[\"Gender\"].value_counts()",
   "execution_count": null,
   "outputs": [
    {
     "output_type": "execute_result",
     "execution_count": 26,
     "data": {
      "text/plain": "Male                12319\nFemale               4371\nNon-Binary            111\nSkipped question       39\nTransgender            37\nOther                  11\nName: Gender, dtype: int64"
     },
     "metadata": {}
    }
   ]
  },
  {
   "cell_type": "code",
   "metadata": {
    "tags": [],
    "deepnote_to_be_reexecuted": false,
    "source_hash": "afb0ea08",
    "execution_start": 1647635808725,
    "execution_millis": 3,
    "cell_id": "00036-3b889a33-b64e-4139-8315-fcb0c7c69b42",
    "deepnote_cell_type": "code",
    "deepnote_cell_height": 288.5,
    "deepnote_output_heights": [
     156
    ]
   },
   "source": "intake_clean.Age = intake_clean.Age.replace([\"2\", \"3\", \"4\", \"5\", \"6\", \"7\"], \n                                            [\"18-24\",\"25-34\",\"35-44\",\"45-54\",\"55-64\",\"65 or Above\"])\nintake_clean[\"Age\"].value_counts()",
   "execution_count": null,
   "outputs": [
    {
     "output_type": "execute_result",
     "execution_count": 27,
     "data": {
      "text/plain": "25-34               6470\n35-44               4084\n18-24               3731\n45-54               1642\n55-64                660\n65 or Above          257\nSkipped question      44\nName: Age, dtype: int64"
     },
     "metadata": {}
    }
   ]
  },
  {
   "cell_type": "code",
   "metadata": {
    "tags": [],
    "deepnote_to_be_reexecuted": false,
    "source_hash": "eda323bc",
    "execution_start": 1647635808726,
    "execution_millis": 2,
    "cell_id": "00038-e298fccd-55e7-4421-8dcb-f1acd11d21a5",
    "deepnote_cell_type": "code",
    "deepnote_cell_height": 306.5,
    "deepnote_output_heights": [
     156
    ]
   },
   "source": "intake_clean[\"Sexual orientation\"] = intake_clean[\"Sexual orientation\"].replace([\"1\",\"2\", \"3\", \"4\", \"5\", \"6\"], \n                                            [\"Heterosexual\",\"Homosexual\",\"Bisexual\",\"Asexual\",\"Pansexual\",\"Other\"])\n\nintake_clean[\"Sexual orientation\"].value_counts()",
   "execution_count": null,
   "outputs": [
    {
     "output_type": "execute_result",
     "execution_count": 28,
     "data": {
      "text/plain": "Heterosexual        14833\nBisexual             1087\nHomosexual            435\nPansexual             309\nSkipped question      132\nOther                  67\nAsexual                23\nName: Sexual orientation, dtype: int64"
     },
     "metadata": {}
    }
   ]
  },
  {
   "cell_type": "code",
   "metadata": {
    "tags": [],
    "deepnote_to_be_reexecuted": false,
    "source_hash": "aec9bc35",
    "execution_start": 1647635808727,
    "execution_millis": 1172,
    "cell_id": "00041-d5810c80-9289-41ab-aeb2-19414011e0da",
    "deepnote_cell_type": "code",
    "deepnote_cell_height": 472.0625,
    "deepnote_output_heights": [
     213
    ]
   },
   "source": "for i, row in intake_clean.iterrows():\n    if type(row.Ethnicity) == str:\n        if len(row.Ethnicity.split(\",\")) > 1:\n            intake_clean.at[i, \"Ethnicity\"] = \"Mixed\"\n            \nintake_clean[\"Ethnicity\"] = intake_clean[\"Ethnicity\"].replace([\"1\",\"2\", \"3\", \"4\", \"5\", \"6\", \"7\", \"8\"], \n                                            [\"Asian\",\"Black/African\",\"Caucasian\",\"Hispanic/Latino\",\"Middle Eastern/North African\",\n                                            \"Native American\",\"Pacific Islander\",\"Other\"])\n\nintake_clean[\"Ethnicity\"].value_counts()",
   "execution_count": null,
   "outputs": [
    {
     "output_type": "execute_result",
     "execution_count": 29,
     "data": {
      "text/plain": "Caucasian                       12332\nMixed                            1307\nHispanic/Latino                  1133\nOther                             833\nAsian                             498\nMiddle Eastern/North African      250\nSkipped question                  221\nBlack/African                     185\nNative American                    69\nPacific Islander                   45\nName: Ethnicity, dtype: int64"
     },
     "metadata": {}
    }
   ]
  },
  {
   "cell_type": "code",
   "metadata": {
    "tags": [],
    "cell_id": "00027-1f3bd7f8-1e06-454f-8c09-1499aa49517a",
    "deepnote_to_be_reexecuted": false,
    "source_hash": "b2434d2c",
    "execution_start": 1647635809903,
    "execution_millis": 6,
    "deepnote_cell_type": "code",
    "deepnote_cell_height": 315
   },
   "source": "list_alpha_2 = [i.alpha_2 for i in list(pycountry.countries)]\nlist_alpha_3 = [i.alpha_3 for i in list(pycountry.countries)]    \n\ndef country_flag(df):\n    try:\n        if (len(df['Country Code'])==2 and df['Country Code'] in list_alpha_2):\n            return pycountry.countries.get(alpha_2=df['Country Code']).name\n        elif (len(df['Country Code'])==3 and df['Country Code'] in list_alpha_3):\n            return pycountry.countries.get(alpha_3=df['Country Code']).name\n        else:\n            return 'Invalid Code'\n    except:\n        return 'Invalid Code'\n",
   "execution_count": null,
   "outputs": []
  },
  {
   "cell_type": "code",
   "metadata": {
    "tags": [],
    "cell_id": "00028-657832be-aade-4b36-b5f1-c98061f566f0",
    "deepnote_to_be_reexecuted": false,
    "source_hash": "f8f7d3b4",
    "execution_start": 1647635809914,
    "execution_millis": 13,
    "deepnote_cell_type": "code",
    "deepnote_cell_height": 329.25,
    "deepnote_output_heights": [
     232
    ]
   },
   "source": "intake_clean['Country Code'].value_counts(dropna=False)",
   "execution_count": null,
   "outputs": [
    {
     "output_type": "execute_result",
     "execution_count": 31,
     "data": {
      "text/plain": "US                  10386\nCA                   2178\nGB                    702\nAU                    670\nSkipped question      499\n                    ...  \nFJ                      1\nXK                      1\nBS                      1\nAZ                      1\nBA                      1\nName: Country Code, Length: 109, dtype: int64"
     },
     "metadata": {}
    }
   ]
  },
  {
   "cell_type": "code",
   "metadata": {
    "tags": [],
    "cell_id": "00028-da3a51f0-0f0d-4ebf-8773-5a68abb65269",
    "deepnote_to_be_reexecuted": false,
    "source_hash": "db7d490e",
    "execution_start": 1647635809926,
    "execution_millis": 428,
    "deepnote_cell_type": "code",
    "deepnote_cell_height": 347.25,
    "deepnote_output_heights": [
     232
    ]
   },
   "source": "intake_clean['Country']=intake_clean.apply(country_flag, axis = 1)\nintake_clean['Country'].value_counts(dropna=False)",
   "execution_count": null,
   "outputs": [
    {
     "output_type": "execute_result",
     "execution_count": 32,
     "data": {
      "text/plain": "United States             10386\nCanada                     2178\nUnited Kingdom              702\nAustralia                   670\nInvalid Code                524\n                          ...  \nMauritius                     1\nFiji                          1\nBahamas                       1\nAzerbaijan                    1\nBosnia and Herzegovina        1\nName: Country, Length: 106, dtype: int64"
     },
     "metadata": {}
    }
   ]
  },
  {
   "cell_type": "code",
   "metadata": {
    "tags": [],
    "deepnote_to_be_reexecuted": false,
    "source_hash": "fab3ff10",
    "execution_start": 1647635810362,
    "execution_millis": 14,
    "cell_id": "00045-59b90ea2-34e9-4345-92a2-5aa6a24dcad6",
    "deepnote_cell_type": "code",
    "deepnote_cell_height": 268.125,
    "deepnote_output_heights": [
     117
    ]
   },
   "source": "intake_clean[\"Living area\"] = intake_clean[\"Living area\"].replace(['1','2','3'], \n                                            [\"Rural\",\"Suburban\",\"Urban\"])\n\nintake_clean[\"Living area\"].value_counts(dropna=False)",
   "execution_count": null,
   "outputs": [
    {
     "output_type": "execute_result",
     "execution_count": 33,
     "data": {
      "text/plain": "Urban               7141\nSuburban            6860\nRural               2557\nSkipped question     320\nNaN                   19\nName: Living area, dtype: int64"
     },
     "metadata": {}
    }
   ]
  },
  {
   "cell_type": "code",
   "metadata": {
    "tags": [],
    "deepnote_to_be_reexecuted": false,
    "source_hash": "a3b0c9ca",
    "execution_start": 1647635810384,
    "execution_millis": 11,
    "cell_id": "00047-cad8a6ad-2eec-471e-943d-77e5e8780557",
    "deepnote_cell_type": "code",
    "deepnote_cell_height": 362.875,
    "deepnote_output_heights": [
     194
    ]
   },
   "source": "intake_clean[\"Education\"] = intake_clean[\"Education\"].replace(['1','2','3','4','5','6','7'], \n                                            [\"Doctoral\",\"Master\",\"Bachelor\",\"Professional degree\",\n                                            \"Associate degree\",\"High school degree\",\"Primary education\"])\n\nintake_clean[\"Education\"].value_counts(dropna=False)",
   "execution_count": null,
   "outputs": [
    {
     "output_type": "execute_result",
     "execution_count": 34,
     "data": {
      "text/plain": "Bachelor               5549\nHigh school degree     4914\nAssociate degree       2571\nMaster                 1969\nProfessional degree     915\nDoctoral                402\nSkipped question        282\nPrimary education       273\nNaN                      22\nName: Education, dtype: int64"
     },
     "metadata": {}
    }
   ]
  },
  {
   "cell_type": "code",
   "metadata": {
    "tags": [],
    "deepnote_to_be_reexecuted": false,
    "source_hash": "f5b50c86",
    "execution_start": 1647635810397,
    "execution_millis": 14,
    "cell_id": "00049-e1d90306-2a5b-442c-85b8-73af429e80bf",
    "deepnote_cell_type": "code",
    "deepnote_cell_height": 401.25,
    "deepnote_output_heights": [
     232
    ]
   },
   "source": "intake_clean[\"Employment\"] = intake_clean[\"Employment\"].replace(['1','2','3','4','5','6','7',\"8\",\"9\",\"10\"], \n                                            [\"Full-time\",\"Part-time\",\"Leave\",\"Unemployed\",\"Unemployed\",\"Going to school\",\n                                            \"Keeping house\",\"Retired\",\"Receiving disability payments\",\"Other\"])\n\nintake_clean[\"Employment\"].value_counts(dropna=False)",
   "execution_count": null,
   "outputs": [
    {
     "output_type": "execute_result",
     "execution_count": 35,
     "data": {
      "text/plain": "Full-time                        10140\nPart-time                         2152\nGoing to school                   1684\nUnemployed                        1007\nOther                              682\nRetired                            323\nLeave                              284\nKeeping house                      274\nSkipped question                   200\nReceiving disability payments      134\nNaN                                 17\nName: Employment, dtype: int64"
     },
     "metadata": {}
    }
   ]
  },
  {
   "cell_type": "code",
   "metadata": {
    "tags": [],
    "deepnote_to_be_reexecuted": false,
    "source_hash": "31ccae2e",
    "execution_start": 1647635810457,
    "execution_millis": 5,
    "cell_id": "00051-5c4fc9d5-f954-415f-9651-6823e42ff84a",
    "deepnote_cell_type": "code",
    "deepnote_cell_height": 364.0625,
    "deepnote_output_heights": [
     213
    ]
   },
   "source": "intake_clean[\"Yearly household income (thousand USD)\"] = intake_clean[\"Yearly household income (thousand USD)\"].replace(['1','2','3','4','5','6','7',\"8\"], \n                                            [\"under 10\",\"10 - 29\",\"30 - 49\",\"50 - 69\",\"70 - 89\",\"90 - 109\",\"110 - 129\",\"over 130\"])\n\nintake_clean[\"Yearly household income (thousand USD)\"].value_counts(dropna=False)",
   "execution_count": null,
   "outputs": [
    {
     "output_type": "execute_result",
     "execution_count": 36,
     "data": {
      "text/plain": "10 - 29             2816\n30 - 49             2754\nover 130            2432\n50 - 69             2310\n70 - 89             1767\n90 - 109            1473\nunder 10            1184\n110 - 129           1080\nSkipped question    1033\nNaN                   48\nName: Yearly household income (thousand USD), dtype: int64"
     },
     "metadata": {}
    }
   ]
  },
  {
   "cell_type": "markdown",
   "source": "I made the decision to remove \"Mental Health concerns\" column from the intake and include it in the medical_info df and dashboard. It was misplaced here. ",
   "metadata": {
    "cell_id": "d601d9ac-7f58-481f-bdc4-bb0edbaee7b9",
    "tags": [],
    "is_collapsed": false,
    "deepnote_cell_type": "text-cell-p"
   }
  },
  {
   "cell_type": "code",
   "metadata": {
    "tags": [],
    "deepnote_to_be_reexecuted": false,
    "source_hash": "b4f79989",
    "execution_start": 1647635810457,
    "execution_millis": 1,
    "cell_id": "00054-f8228a64-db71-4988-92be-5d57b106eb30",
    "deepnote_cell_type": "code",
    "deepnote_cell_height": 333
   },
   "source": "# intake_clean[\"Mental health concerns (type)\"] = intake_clean[\"Mental health concerns (type)\"].replace([\"1\",\"2\",\"3\",\"4\",\"5\",\"6\",\"7\",\"8\",\n#                                             \"9\",\"10\",\"11\",\"12\",\"13\",\"14\",\"15\",\"16\",\"otheraddiction\",\"other\"], \n#                                             [\"Alcoholism\",\"Anxiety\",\"Autism\",\"Bipolar Disorder\",\"Cannabis Addiction\",\"Depression\",\n#                                             \"Eating Disorder\",\"Gambling Addiction\",\"Learning Disabilities\",\"Opioid addiction\",\n#                                             \"OCD\",\"Panic attacks\",\"PTSD\",\"Schizophrenia\",\"Sex Addiction\",\"Tobacco Dependence\",\n#                                             \"Other addiction\",\"Other\"])\n\n# for i, row in intake_clean.iterrows():\n#     if type(row[\"Mental health concerns (type)\"]) == str:\n#         if len(row[\"Mental health concerns (type)\"].split(\",\")) > 1:\n#             cell = len(row[\"Mental health concerns (type)\"].split(\",\"))\n#             intake_clean.at[i, \"Mental health concerns (type)\"] = f'Combination of {cell}' \n\n\n# intake_clean[\"Mental health concerns (type)\"].value_counts(dropna=False)",
   "execution_count": null,
   "outputs": []
  },
  {
   "cell_type": "code",
   "metadata": {
    "tags": [],
    "deepnote_to_be_reexecuted": false,
    "source_hash": "4fb702a9",
    "execution_start": 1647635810458,
    "execution_millis": 118,
    "cell_id": "00057-9adb87a8-de3d-4164-9709-e871d195d360",
    "deepnote_cell_type": "code",
    "deepnote_cell_height": 598
   },
   "source": "intake_clean",
   "execution_count": null,
   "outputs": [
    {
     "output_type": "execute_result",
     "execution_count": 38,
     "data": {
      "application/vnd.deepnote.dataframe.v3+json": {
       "column_count": 15,
       "row_count": 16897,
       "columns": [
        {
         "name": "Participant Num",
         "dtype": "int64",
         "stats": {
          "unique_count": 16897,
          "nan_count": 0,
          "min": "44",
          "max": "43157",
          "histogram": [
           {
            "bin_start": 44,
            "bin_end": 4355.3,
            "count": 1202
           },
           {
            "bin_start": 4355.3,
            "bin_end": 8666.6,
            "count": 1201
           },
           {
            "bin_start": 8666.6,
            "bin_end": 12977.900000000001,
            "count": 1111
           },
           {
            "bin_start": 12977.900000000001,
            "bin_end": 17289.2,
            "count": 1142
           },
           {
            "bin_start": 17289.2,
            "bin_end": 21600.5,
            "count": 1203
           },
           {
            "bin_start": 21600.5,
            "bin_end": 25911.800000000003,
            "count": 2374
           },
           {
            "bin_start": 25911.800000000003,
            "bin_end": 30223.100000000002,
            "count": 2083
           },
           {
            "bin_start": 30223.100000000002,
            "bin_end": 34534.4,
            "count": 2444
           },
           {
            "bin_start": 34534.4,
            "bin_end": 38845.700000000004,
            "count": 2299
           },
           {
            "bin_start": 38845.700000000004,
            "bin_end": 43157,
            "count": 1838
           }
          ]
         }
        },
        {
         "name": "Participant ID",
         "dtype": "object",
         "stats": {
          "unique_count": 16897,
          "nan_count": 0,
          "categories": [
           {
            "name": "c6397cdc-6c5a-4ed2-a575-1c7608341694",
            "count": 1
           },
           {
            "name": "1921c835-98fe-47bd-8ad8-c5a9f6025875",
            "count": 1
           },
           {
            "name": "16895 others",
            "count": 16895
           }
          ]
         }
        },
        {
         "name": "Join Date",
         "dtype": "datetime64[ns, UTC]",
         "stats": {
          "unique_count": 16314,
          "nan_count": 583,
          "min": "2019-11-13 18:50:13.052000+00:00",
          "max": "2021-11-09 21:44:58.155000+00:00",
          "histogram": [
           {
            "bin_start": 1573671013052000000,
            "bin_end": 1579953341562300000,
            "count": 6951
           },
           {
            "bin_start": 1579953341562300000,
            "bin_end": 1586235670072600000,
            "count": 1817
           },
           {
            "bin_start": 1586235670072600000,
            "bin_end": 1592517998582900000,
            "count": 987
           },
           {
            "bin_start": 1592517998582900000,
            "bin_end": 1598800327093200100,
            "count": 968
           },
           {
            "bin_start": 1598800327093200100,
            "bin_end": 1605082655603500000,
            "count": 1038
           },
           {
            "bin_start": 1605082655603500000,
            "bin_end": 1611364984113800000,
            "count": 891
           },
           {
            "bin_start": 1611364984113800000,
            "bin_end": 1617647312624100000,
            "count": 1675
           },
           {
            "bin_start": 1617647312624100000,
            "bin_end": 1623929641134400000,
            "count": 418
           },
           {
            "bin_start": 1623929641134400000,
            "bin_end": 1630211969644700200,
            "count": 981
           },
           {
            "bin_start": 1630211969644700200,
            "bin_end": 1636494298155000000,
            "count": 588
           }
          ]
         }
        },
        {
         "name": "Submitted Date",
         "dtype": "object",
         "stats": {
          "unique_count": 16897,
          "nan_count": 0,
          "categories": [
           {
            "name": "2019-11-13T18:52:33.697000+00:00",
            "count": 1
           },
           {
            "name": "2019-11-14T15:53:24.919000+00:00",
            "count": 1
           },
           {
            "name": "16895 others",
            "count": 16895
           }
          ]
         }
        },
        {
         "name": "Gender",
         "dtype": "object",
         "stats": {
          "unique_count": 6,
          "nan_count": 9,
          "categories": [
           {
            "name": "Male",
            "count": 12319
           },
           {
            "name": "5 others",
            "count": 4569
           },
           {
            "name": "Missing",
            "count": 9
           }
          ]
         }
        },
        {
         "name": "Age",
         "dtype": "object"
        },
        {
         "name": "Sexual orientation",
         "dtype": "object"
        },
        {
         "name": "Ethnicity",
         "dtype": "object"
        },
        {
         "name": "Country Code",
         "dtype": "object"
        },
        {
         "name": "Living area",
         "dtype": "object"
        },
        {
         "name": "Employment",
         "dtype": "object"
        },
        {
         "name": "Education",
         "dtype": "object"
        },
        {
         "name": "Yearly household income (thousand USD)",
         "dtype": "object"
        },
        {
         "name": "EntryNumber",
         "dtype": "int64"
        },
        {
         "name": "Country",
         "dtype": "object"
        },
        {
         "name": "_deepnote_index_column",
         "dtype": "int64"
        }
       ],
       "rows": [
        {
         "Participant Num": 44,
         "Participant ID": "c6397cdc-6c5a-4ed2-a575-1c7608341694",
         "Join Date": "2019-11-13 18:50:13.052000+00:00",
         "Submitted Date": "2019-11-13T18:52:33.697000+00:00",
         "Gender": "Male",
         "Age": "18-24",
         "Sexual orientation": "Heterosexual",
         "Ethnicity": "Caucasian",
         "Country Code": "US",
         "Living area": "Suburban",
         "Employment": "Full-time",
         "Education": "Associate degree",
         "Yearly household income (thousand USD)": "10 - 29",
         "EntryNumber": 1,
         "Country": "United States",
         "_deepnote_index_column": 13080
        },
        {
         "Participant Num": 48,
         "Participant ID": "1921c835-98fe-47bd-8ad8-c5a9f6025875",
         "Join Date": "2019-11-13 19:04:52.729000+00:00",
         "Submitted Date": "2019-11-14T15:53:24.919000+00:00",
         "Gender": "Male",
         "Age": "18-24",
         "Sexual orientation": "Heterosexual",
         "Ethnicity": "Caucasian",
         "Country Code": "US",
         "Living area": "Suburban",
         "Employment": "Going to school",
         "Education": "High school degree",
         "Yearly household income (thousand USD)": "over 130",
         "EntryNumber": 1,
         "Country": "United States",
         "_deepnote_index_column": 1654
        },
        {
         "Participant Num": 50,
         "Participant ID": "623624c9-881e-451f-aa2d-6f6978d5506f",
         "Join Date": "2019-11-13 19:11:25.763000+00:00",
         "Submitted Date": "2019-11-13T19:13:20.462000+00:00",
         "Gender": "Male",
         "Age": "25-34",
         "Sexual orientation": "Heterosexual",
         "Ethnicity": "Caucasian",
         "Country Code": "Skipped question",
         "Living area": "Urban",
         "Employment": "Full-time",
         "Education": "Bachelor",
         "Yearly household income (thousand USD)": "Skipped question",
         "EntryNumber": 1,
         "Country": "Invalid Code",
         "_deepnote_index_column": 6453
        },
        {
         "Participant Num": 52,
         "Participant ID": "d4b0496f-94bd-465d-ace1-0faceefd5744",
         "Join Date": "2019-11-13 19:17:18.037000+00:00",
         "Submitted Date": "2019-11-13T19:19:32.618000+00:00",
         "Gender": "Male",
         "Age": "25-34",
         "Sexual orientation": "Heterosexual",
         "Ethnicity": "Caucasian",
         "Country Code": "DE",
         "Living area": "Urban",
         "Employment": "Part-time",
         "Education": "Master",
         "Yearly household income (thousand USD)": "10 - 29",
         "EntryNumber": 1,
         "Country": "Germany",
         "_deepnote_index_column": 14013
        },
        {
         "Participant Num": 53,
         "Participant ID": "40324a26-fff2-4b17-9532-a5834adbe983",
         "Join Date": "2019-11-13 20:00:16.842000+00:00",
         "Submitted Date": "2019-11-13T20:00:56.756000+00:00",
         "Gender": "Transgender",
         "Age": "Skipped question",
         "Sexual orientation": "Skipped question",
         "Ethnicity": "Skipped question",
         "Country Code": "Skipped question",
         "Living area": "Urban",
         "Employment": "Full-time",
         "Education": "Professional degree",
         "Yearly household income (thousand USD)": "10 - 29",
         "EntryNumber": 1,
         "Country": "Invalid Code",
         "_deepnote_index_column": 4167
        },
        {
         "Participant Num": 56,
         "Participant ID": "2f20267b-eba2-4e5d-b817-89e0ab8de2da",
         "Join Date": "2019-11-13 21:53:05.529000+00:00",
         "Submitted Date": "2019-11-13T21:55:22.387000+00:00",
         "Gender": "Male",
         "Age": "45-54",
         "Sexual orientation": "Other",
         "Ethnicity": "Caucasian",
         "Country Code": "CA",
         "Living area": "Rural",
         "Employment": "Unemployed",
         "Education": "Bachelor",
         "Yearly household income (thousand USD)": "70 - 89",
         "EntryNumber": 1,
         "Country": "Canada",
         "_deepnote_index_column": 3062
        },
        {
         "Participant Num": 60,
         "Participant ID": "4e8efe78-a87e-464d-bc44-59f389b67002",
         "Join Date": "2019-11-13 23:29:41.380000+00:00",
         "Submitted Date": "2019-11-14T00:16:02.510000+00:00",
         "Gender": "Female",
         "Age": "25-34",
         "Sexual orientation": "Heterosexual",
         "Ethnicity": "Caucasian",
         "Country Code": "CA",
         "Living area": "Urban",
         "Employment": "Leave",
         "Education": "Master",
         "Yearly household income (thousand USD)": "70 - 89",
         "EntryNumber": 1,
         "Country": "Canada",
         "_deepnote_index_column": 5135
        },
        {
         "Participant Num": 64,
         "Participant ID": "3982e500-bc10-4b67-9f71-dafac3c873fc",
         "Join Date": "NaT",
         "Submitted Date": "2019-11-13T23:51:29.524000+00:00",
         "Gender": "Non-Binary",
         "Age": "25-34",
         "Sexual orientation": "Homosexual",
         "Ethnicity": "Caucasian",
         "Country Code": "CA",
         "Living area": "Urban",
         "Employment": "Going to school",
         "Education": "Master",
         "Yearly household income (thousand USD)": "30 - 49",
         "EntryNumber": 1,
         "Country": "Canada",
         "_deepnote_index_column": 3737
        },
        {
         "Participant Num": 66,
         "Participant ID": "bde6a201-2e84-4102-855f-27f9342d6ba0",
         "Join Date": "2019-11-14 00:27:00.846000+00:00",
         "Submitted Date": "2019-11-14T00:28:57.503000+00:00",
         "Gender": "Female",
         "Age": "45-54",
         "Sexual orientation": "Heterosexual",
         "Ethnicity": "Caucasian",
         "Country Code": "US",
         "Living area": "Suburban",
         "Employment": "Full-time",
         "Education": "Master",
         "Yearly household income (thousand USD)": "over 130",
         "EntryNumber": 1,
         "Country": "United States",
         "_deepnote_index_column": 12538
        },
        {
         "Participant Num": 70,
         "Participant ID": "a98c785a-4d20-4989-bd7b-0f8d5448e35e",
         "Join Date": "2019-11-14 01:02:24.797000+00:00",
         "Submitted Date": "2019-11-14T07:39:44.156000+00:00",
         "Gender": "Female",
         "Age": "25-34",
         "Sexual orientation": "Heterosexual",
         "Ethnicity": "Caucasian",
         "Country Code": "CA",
         "Living area": "Urban",
         "Employment": "Full-time",
         "Education": "High school degree",
         "Yearly household income (thousand USD)": "90 - 109",
         "EntryNumber": 1,
         "Country": "Canada",
         "_deepnote_index_column": 11215
        }
       ]
      },
      "text/plain": "       Participant Num                        Participant ID  \\\n13080               44  c6397cdc-6c5a-4ed2-a575-1c7608341694   \n1654                48  1921c835-98fe-47bd-8ad8-c5a9f6025875   \n6453                50  623624c9-881e-451f-aa2d-6f6978d5506f   \n14013               52  d4b0496f-94bd-465d-ace1-0faceefd5744   \n4167                53  40324a26-fff2-4b17-9532-a5834adbe983   \n...                ...                                   ...   \n3130             43151  305b886b-b172-487d-a020-bebe82240bb2   \n16210            43152  f5a325f5-b62f-4084-8416-26024a098d5e   \n12420            43154  bc2debe0-d7b8-4446-b7e7-7e8c0c7c6983   \n3742             43156  398c20c5-be67-4385-9ca9-83b59a91f181   \n9167             43157  8a411a51-a5c0-4ca4-8c08-24303d0a0a35   \n\n                             Join Date                    Submitted Date  \\\n13080 2019-11-13 18:50:13.052000+00:00  2019-11-13T18:52:33.697000+00:00   \n1654  2019-11-13 19:04:52.729000+00:00  2019-11-14T15:53:24.919000+00:00   \n6453  2019-11-13 19:11:25.763000+00:00  2019-11-13T19:13:20.462000+00:00   \n14013 2019-11-13 19:17:18.037000+00:00  2019-11-13T19:19:32.618000+00:00   \n4167  2019-11-13 20:00:16.842000+00:00  2019-11-13T20:00:56.756000+00:00   \n...                                ...                               ...   \n3130  2021-11-09 18:07:14.521000+00:00  2021-11-09T18:14:52.897000+00:00   \n16210 2021-11-09 20:28:23.053000+00:00  2021-11-09T20:30:43.863000+00:00   \n12420 2021-11-09 20:55:58.629000+00:00  2021-11-09T20:59:05.953000+00:00   \n3742  2021-11-09 21:15:47.436000+00:00  2021-11-09T21:19:07.376000+00:00   \n9167  2021-11-09 21:44:58.155000+00:00  2021-11-09T21:51:19.443000+00:00   \n\n            Gender               Age Sexual orientation         Ethnicity  \\\n13080         Male             18-24       Heterosexual         Caucasian   \n1654          Male             18-24       Heterosexual         Caucasian   \n6453          Male             25-34       Heterosexual         Caucasian   \n14013         Male             25-34       Heterosexual         Caucasian   \n4167   Transgender  Skipped question   Skipped question  Skipped question   \n...            ...               ...                ...               ...   \n3130          Male             45-54       Heterosexual         Caucasian   \n16210         Male             35-44       Heterosexual         Caucasian   \n12420       Female             25-34       Heterosexual         Caucasian   \n3742          Male             55-64       Heterosexual         Caucasian   \n9167        Female             35-44       Heterosexual         Caucasian   \n\n           Country Code Living area       Employment            Education  \\\n13080                US    Suburban        Full-time     Associate degree   \n1654                 US    Suburban  Going to school   High school degree   \n6453   Skipped question       Urban        Full-time             Bachelor   \n14013                DE       Urban        Part-time               Master   \n4167   Skipped question       Urban        Full-time  Professional degree   \n...                 ...         ...              ...                  ...   \n3130                 US       Urban       Unemployed               Master   \n16210                GB       Urban            Other   High school degree   \n12420  Skipped question       Urban        Full-time             Bachelor   \n3742                 US       Urban        Full-time             Bachelor   \n9167                 US    Suburban        Part-time               Master   \n\n      Yearly household income (thousand USD)  EntryNumber         Country  \n13080                                10 - 29            1   United States  \n1654                                over 130            1   United States  \n6453                        Skipped question            1    Invalid Code  \n14013                                10 - 29            1         Germany  \n4167                                 10 - 29            1    Invalid Code  \n...                                      ...          ...             ...  \n3130                                 10 - 29            1   United States  \n16210                                30 - 49            1  United Kingdom  \n12420                                30 - 49            1    Invalid Code  \n3742                                over 130            1   United States  \n9167                                 10 - 29            1   United States  \n\n[16897 rows x 15 columns]",
      "text/html": "<div>\n<style scoped>\n    .dataframe tbody tr th:only-of-type {\n        vertical-align: middle;\n    }\n\n    .dataframe tbody tr th {\n        vertical-align: top;\n    }\n\n    .dataframe thead th {\n        text-align: right;\n    }\n</style>\n<table border=\"1\" class=\"dataframe\">\n  <thead>\n    <tr style=\"text-align: right;\">\n      <th></th>\n      <th>Participant Num</th>\n      <th>Participant ID</th>\n      <th>Join Date</th>\n      <th>Submitted Date</th>\n      <th>Gender</th>\n      <th>Age</th>\n      <th>Sexual orientation</th>\n      <th>Ethnicity</th>\n      <th>Country Code</th>\n      <th>Living area</th>\n      <th>Employment</th>\n      <th>Education</th>\n      <th>Yearly household income (thousand USD)</th>\n      <th>EntryNumber</th>\n      <th>Country</th>\n    </tr>\n  </thead>\n  <tbody>\n    <tr>\n      <th>13080</th>\n      <td>44</td>\n      <td>c6397cdc-6c5a-4ed2-a575-1c7608341694</td>\n      <td>2019-11-13 18:50:13.052000+00:00</td>\n      <td>2019-11-13T18:52:33.697000+00:00</td>\n      <td>Male</td>\n      <td>18-24</td>\n      <td>Heterosexual</td>\n      <td>Caucasian</td>\n      <td>US</td>\n      <td>Suburban</td>\n      <td>Full-time</td>\n      <td>Associate degree</td>\n      <td>10 - 29</td>\n      <td>1</td>\n      <td>United States</td>\n    </tr>\n    <tr>\n      <th>1654</th>\n      <td>48</td>\n      <td>1921c835-98fe-47bd-8ad8-c5a9f6025875</td>\n      <td>2019-11-13 19:04:52.729000+00:00</td>\n      <td>2019-11-14T15:53:24.919000+00:00</td>\n      <td>Male</td>\n      <td>18-24</td>\n      <td>Heterosexual</td>\n      <td>Caucasian</td>\n      <td>US</td>\n      <td>Suburban</td>\n      <td>Going to school</td>\n      <td>High school degree</td>\n      <td>over 130</td>\n      <td>1</td>\n      <td>United States</td>\n    </tr>\n    <tr>\n      <th>6453</th>\n      <td>50</td>\n      <td>623624c9-881e-451f-aa2d-6f6978d5506f</td>\n      <td>2019-11-13 19:11:25.763000+00:00</td>\n      <td>2019-11-13T19:13:20.462000+00:00</td>\n      <td>Male</td>\n      <td>25-34</td>\n      <td>Heterosexual</td>\n      <td>Caucasian</td>\n      <td>Skipped question</td>\n      <td>Urban</td>\n      <td>Full-time</td>\n      <td>Bachelor</td>\n      <td>Skipped question</td>\n      <td>1</td>\n      <td>Invalid Code</td>\n    </tr>\n    <tr>\n      <th>14013</th>\n      <td>52</td>\n      <td>d4b0496f-94bd-465d-ace1-0faceefd5744</td>\n      <td>2019-11-13 19:17:18.037000+00:00</td>\n      <td>2019-11-13T19:19:32.618000+00:00</td>\n      <td>Male</td>\n      <td>25-34</td>\n      <td>Heterosexual</td>\n      <td>Caucasian</td>\n      <td>DE</td>\n      <td>Urban</td>\n      <td>Part-time</td>\n      <td>Master</td>\n      <td>10 - 29</td>\n      <td>1</td>\n      <td>Germany</td>\n    </tr>\n    <tr>\n      <th>4167</th>\n      <td>53</td>\n      <td>40324a26-fff2-4b17-9532-a5834adbe983</td>\n      <td>2019-11-13 20:00:16.842000+00:00</td>\n      <td>2019-11-13T20:00:56.756000+00:00</td>\n      <td>Transgender</td>\n      <td>Skipped question</td>\n      <td>Skipped question</td>\n      <td>Skipped question</td>\n      <td>Skipped question</td>\n      <td>Urban</td>\n      <td>Full-time</td>\n      <td>Professional degree</td>\n      <td>10 - 29</td>\n      <td>1</td>\n      <td>Invalid Code</td>\n    </tr>\n    <tr>\n      <th>...</th>\n      <td>...</td>\n      <td>...</td>\n      <td>...</td>\n      <td>...</td>\n      <td>...</td>\n      <td>...</td>\n      <td>...</td>\n      <td>...</td>\n      <td>...</td>\n      <td>...</td>\n      <td>...</td>\n      <td>...</td>\n      <td>...</td>\n      <td>...</td>\n      <td>...</td>\n    </tr>\n    <tr>\n      <th>3130</th>\n      <td>43151</td>\n      <td>305b886b-b172-487d-a020-bebe82240bb2</td>\n      <td>2021-11-09 18:07:14.521000+00:00</td>\n      <td>2021-11-09T18:14:52.897000+00:00</td>\n      <td>Male</td>\n      <td>45-54</td>\n      <td>Heterosexual</td>\n      <td>Caucasian</td>\n      <td>US</td>\n      <td>Urban</td>\n      <td>Unemployed</td>\n      <td>Master</td>\n      <td>10 - 29</td>\n      <td>1</td>\n      <td>United States</td>\n    </tr>\n    <tr>\n      <th>16210</th>\n      <td>43152</td>\n      <td>f5a325f5-b62f-4084-8416-26024a098d5e</td>\n      <td>2021-11-09 20:28:23.053000+00:00</td>\n      <td>2021-11-09T20:30:43.863000+00:00</td>\n      <td>Male</td>\n      <td>35-44</td>\n      <td>Heterosexual</td>\n      <td>Caucasian</td>\n      <td>GB</td>\n      <td>Urban</td>\n      <td>Other</td>\n      <td>High school degree</td>\n      <td>30 - 49</td>\n      <td>1</td>\n      <td>United Kingdom</td>\n    </tr>\n    <tr>\n      <th>12420</th>\n      <td>43154</td>\n      <td>bc2debe0-d7b8-4446-b7e7-7e8c0c7c6983</td>\n      <td>2021-11-09 20:55:58.629000+00:00</td>\n      <td>2021-11-09T20:59:05.953000+00:00</td>\n      <td>Female</td>\n      <td>25-34</td>\n      <td>Heterosexual</td>\n      <td>Caucasian</td>\n      <td>Skipped question</td>\n      <td>Urban</td>\n      <td>Full-time</td>\n      <td>Bachelor</td>\n      <td>30 - 49</td>\n      <td>1</td>\n      <td>Invalid Code</td>\n    </tr>\n    <tr>\n      <th>3742</th>\n      <td>43156</td>\n      <td>398c20c5-be67-4385-9ca9-83b59a91f181</td>\n      <td>2021-11-09 21:15:47.436000+00:00</td>\n      <td>2021-11-09T21:19:07.376000+00:00</td>\n      <td>Male</td>\n      <td>55-64</td>\n      <td>Heterosexual</td>\n      <td>Caucasian</td>\n      <td>US</td>\n      <td>Urban</td>\n      <td>Full-time</td>\n      <td>Bachelor</td>\n      <td>over 130</td>\n      <td>1</td>\n      <td>United States</td>\n    </tr>\n    <tr>\n      <th>9167</th>\n      <td>43157</td>\n      <td>8a411a51-a5c0-4ca4-8c08-24303d0a0a35</td>\n      <td>2021-11-09 21:44:58.155000+00:00</td>\n      <td>2021-11-09T21:51:19.443000+00:00</td>\n      <td>Female</td>\n      <td>35-44</td>\n      <td>Heterosexual</td>\n      <td>Caucasian</td>\n      <td>US</td>\n      <td>Suburban</td>\n      <td>Part-time</td>\n      <td>Master</td>\n      <td>10 - 29</td>\n      <td>1</td>\n      <td>United States</td>\n    </tr>\n  </tbody>\n</table>\n<p>16897 rows × 15 columns</p>\n</div>"
     },
     "metadata": {}
    }
   ]
  },
  {
   "cell_type": "markdown",
   "source": "## Substance Use",
   "metadata": {
    "tags": [],
    "is_collapsed": false,
    "cell_id": "00058-332c3f44-469c-4172-8aa0-267fb602ef44",
    "deepnote_cell_type": "text-cell-h2"
   }
  },
  {
   "cell_type": "code",
   "metadata": {
    "tags": [],
    "deepnote_to_be_reexecuted": false,
    "source_hash": "8cdac954",
    "execution_start": 1647635810570,
    "execution_millis": 313,
    "cell_id": "00059-dc1e4151-2a01-4749-9d5c-c2054a2a983e",
    "deepnote_cell_type": "code",
    "deepnote_cell_height": 686.375
   },
   "source": "sub_use = pd.read_csv('/work/exports_november2021/data/substance_use.csv')\nsub_use",
   "execution_count": null,
   "outputs": [
    {
     "name": "stderr",
     "text": "/shared-libs/python3.7/py-core/lib/python3.7/site-packages/IPython/core/interactiveshell.py:3524: DtypeWarning: Columns (0,5,6,7,8,9,11) have mixed types.Specify dtype option on import or set low_memory=False.\n  exec(code_obj, self.user_global_ns, self.user_ns)\n",
     "output_type": "stream"
    },
    {
     "output_type": "execute_result",
     "execution_count": 39,
     "data": {
      "application/vnd.deepnote.dataframe.v3+json": {
       "column_count": 73,
       "row_count": 13811,
       "columns": [
        {
         "name": "Participant Num",
         "dtype": "object",
         "stats": {
          "unique_count": 13780,
          "nan_count": 0,
          "categories": [
           {
            "name": "2359",
            "count": 2
           },
           {
            "name": "32775",
            "count": 2
           },
           {
            "name": "13778 others",
            "count": 13807
           }
          ]
         }
        },
        {
         "name": "Participant ID",
         "dtype": "object",
         "stats": {
          "unique_count": 13780,
          "nan_count": 0,
          "categories": [
           {
            "name": "023ea024-d948-4d37-bd3e-267662cae3d3",
            "count": 2
           },
           {
            "name": "08fe0cef-8ed3-43b9-98c5-074b4f10975d",
            "count": 2
           },
           {
            "name": "13778 others",
            "count": 13807
           }
          ]
         }
        },
        {
         "name": "Response ID",
         "dtype": "object",
         "stats": {
          "unique_count": 13811,
          "nan_count": 0,
          "categories": [
           {
            "name": "responseid",
            "count": 1
           },
           {
            "name": "cc335767-ef43-437a-bbe5-bd416d9f53ff",
            "count": 1
           },
           {
            "name": "13809 others",
            "count": 13809
           }
          ]
         }
        },
        {
         "name": "Join Date",
         "dtype": "object",
         "stats": {
          "unique_count": 13267,
          "nan_count": 515,
          "categories": [
           {
            "name": "2019-11-16T15:05:51.306000+00:00",
            "count": 2
           },
           {
            "name": "13266 others",
            "count": 13294
           },
           {
            "name": "Missing",
            "count": 515
           }
          ]
         }
        },
        {
         "name": "Submitted Date",
         "dtype": "object",
         "stats": {
          "unique_count": 13811,
          "nan_count": 0,
          "categories": [
           {
            "name": "submitteddate",
            "count": 1
           },
           {
            "name": "2021-01-20T16:42:20.660000+00:00",
            "count": 1
           },
           {
            "name": "13809 others",
            "count": 13809
           }
          ]
         }
        },
        {
         "name": "Index (Global)",
         "dtype": "object",
         "stats": {
          "unique_count": 28,
          "nan_count": 86,
          "categories": [
           {
            "name": "2",
            "count": 6549
           },
           {
            "name": "27 others",
            "count": 7176
           },
           {
            "name": "Missing",
            "count": 86
           }
          ]
         }
        },
        {
         "name": "Index",
         "dtype": "object",
         "stats": {
          "unique_count": 5,
          "nan_count": 86,
          "categories": [
           {
            "name": "1",
            "count": 8128
           },
           {
            "name": "4 others",
            "count": 5597
           },
           {
            "name": "Missing",
            "count": 86
           }
          ]
         }
        },
        {
         "name": "Participation Days",
         "dtype": "object"
        },
        {
         "name": "Participation Day",
         "dtype": "object"
        },
        {
         "name": "Month Index",
         "dtype": "object"
        },
        {
         "name": "Scoring",
         "dtype": "object"
        },
        {
         "name": "Are you currently engaged in a regular practice of microdosing?",
         "dtype": "object"
        },
        {
         "name": "What are you microdosing with?",
         "dtype": "object"
        },
        {
         "name": "What other substance do you microdose with?",
         "dtype": "object"
        },
        {
         "name": "What dosage of LSD do you take per administration?",
         "dtype": "object"
        },
        {
         "name": "What dosage of psilocybin do you take per administration?",
         "dtype": "object"
        },
        {
         "name": "What dosage do you take per administration?",
         "dtype": "object"
        },
        {
         "name": "Do you \"stack\" your microdose with anything? \"Stacking\" refers to combining the microdosing substance with another substance with the idea of enhancing the effects. (Select all that apply)",
         "dtype": "object"
        },
        {
         "name": "If you selected 'Other', or can provide additional dosage information, please specify:",
         "dtype": "object"
        },
        {
         "name": "When microdosing, are you consuming prepared products (pre-weighted pills, microdosing blotter, etc.)",
         "dtype": "object"
        },
        {
         "name": "Are you following a specific microdosing protocol?",
         "dtype": "object"
        },
        {
         "name": "What microdosing protocol(s) are you following?",
         "dtype": "object"
        },
        {
         "name": "On average, how often do you microdose?",
         "dtype": "object"
        },
        {
         "name": "Please specify how often you microdose on average:",
         "dtype": "object"
        },
        {
         "name": "How long have you been microdosing?",
         "dtype": "object"
        },
        {
         "name": "Why did you start microdosing? (Select all that apply)",
         "dtype": "object"
        },
        {
         "name": "If you selected 'Other', please specify:",
         "dtype": "object"
        },
        {
         "name": "How often do you consume alcohol?",
         "dtype": "object"
        },
        {
         "name": "How often do you consume, vape, or smoke cannabis?",
         "dtype": "object"
        },
        {
         "name": "How often do you consume CBD?",
         "dtype": "object"
        },
        {
         "name": "How often do you use nicotine-based products?",
         "dtype": "object"
        },
        {
         "name": "LSD (Acid)?",
         "dtype": "object"
        },
        {
         "name": "How many times in the past year?",
         "dtype": "object"
        },
        {
         "name": "How many times in your lifetime?",
         "dtype": "object"
        },
        {
         "name": "Psilocybin (Magic Mushrooms)?",
         "dtype": "object"
        },
        {
         "name": "How many times in the past year?.1",
         "dtype": "object"
        },
        {
         "name": "How many times in your lifetime?.1",
         "dtype": "object"
        },
        {
         "name": "MDMA?",
         "dtype": "object"
        },
        {
         "name": "How many times in the past year?.2",
         "dtype": "object"
        },
        {
         "name": "How many times in your lifetime?.2",
         "dtype": "object"
        },
        {
         "name": "Ketamine?",
         "dtype": "object"
        },
        {
         "name": "How many times in the past year?.3",
         "dtype": "object"
        },
        {
         "name": "How many times in your lifetime?.3",
         "dtype": "object"
        },
        {
         "name": "Mescaline?",
         "dtype": "object"
        },
        {
         "name": "How many times in the past year?.4",
         "dtype": "object"
        },
        {
         "name": "How many times in your lifetime?.4",
         "dtype": "object"
        },
        {
         "name": "Dimethyltryptamine (DMT)?",
         "dtype": "object"
        },
        {
         "name": "How many times in the past year?.5",
         "dtype": "object"
        },
        {
         "name": "How many times in your lifetime?.5",
         "dtype": "object"
        },
        {
         "name": "Ayahuasca?",
         "dtype": "object"
        },
        {
         "name": "How many times in the past year?.6",
         "dtype": "object"
        },
        {
         "name": "How many times in your lifetime?.6",
         "dtype": "object"
        },
        {
         "name": "3-MMC?",
         "dtype": "object"
        },
        {
         "name": "How many times in the past year?.7",
         "dtype": "object"
        },
        {
         "name": "How many times in your lifetime?.7",
         "dtype": "object"
        },
        {
         "name": "Ibogaine?",
         "dtype": "object"
        },
        {
         "name": "How many times in the past year?.8",
         "dtype": "object"
        },
        {
         "name": "How many times in your lifetime?.8",
         "dtype": "object"
        },
        {
         "name": "Salvia?",
         "dtype": "object"
        },
        {
         "name": "How many times in the past year?.9",
         "dtype": "object"
        },
        {
         "name": "How many times in your lifetime?.9",
         "dtype": "object"
        },
        {
         "name": "Other Lysergamides (e.g. 1P-LSD, ALD-52)?",
         "dtype": "object"
        },
        {
         "name": "How many times in the past year?.10",
         "dtype": "object"
        },
        {
         "name": "How many times in your lifetime?.10",
         "dtype": "object"
        },
        {
         "name": "Other Tryptamines (e.g. 4-AcO-DMT)?",
         "dtype": "object"
        },
        {
         "name": "How many times in the past year?.11",
         "dtype": "object"
        },
        {
         "name": "How many times in your lifetime?.11",
         "dtype": "object"
        },
        {
         "name": "Phenethylamines (2C family)?",
         "dtype": "object"
        },
        {
         "name": "How many times in the past year?.12",
         "dtype": "object"
        },
        {
         "name": "How many times in your lifetime?.12",
         "dtype": "object"
        },
        {
         "name": "Any other psychedelics? If so, please specify:",
         "dtype": "object"
        },
        {
         "name": "How many times in the past year?.13",
         "dtype": "object"
        },
        {
         "name": "How many times in your lifetime?.13",
         "dtype": "object"
        },
        {
         "name": "_deepnote_index_column",
         "dtype": "int64"
        }
       ],
       "rows": [
        {
         "Participant Num": "participantnum",
         "Participant ID": "participantid",
         "Response ID": "responseid",
         "Join Date": "joindate",
         "Submitted Date": "submitteddate",
         "Index (Global)": "index(global)",
         "Index": "index",
         "Participation Days": "participationdays",
         "Participation Day": "participationday",
         "Month Index": "monthindex",
         "Scoring": "scoring",
         "Are you currently engaged in a regular practice of microdosing?": "doyoumd",
         "What are you microdosing with?": "whatsubstance",
         "What other substance do you microdose with?": "othersubstance",
         "What dosage of LSD do you take per administration?": "lsddosage",
         "What dosage of psilocybin do you take per administration?": "psildosage",
         "What dosage do you take per administration?": "otherdosage",
         "Do you \"stack\" your microdose with anything? \"Stacking\" refers to combining the microdosing substance with another substance with the idea of enhancing the effects. (Select all that apply)": "stacked",
         "If you selected 'Other', or can provide additional dosage information, please specify:": "otherstack",
         "When microdosing, are you consuming prepared products (pre-weighted pills, microdosing blotter, etc.)": "preparedproduct",
         "Are you following a specific microdosing protocol?": "protocolq",
         "What microdosing protocol(s) are you following?": "whatprotocol",
         "On average, how often do you microdose?": "frequency",
         "Please specify how often you microdose on average:": "otherfreq",
         "How long have you been microdosing?": "howlongq",
         "Why did you start microdosing? (Select all that apply)": "reason",
         "If you selected 'Other', please specify:": "otherreasons",
         "How often do you consume alcohol?": "alcohol",
         "How often do you consume, vape, or smoke cannabis?": "cannabis",
         "How often do you consume CBD?": "cbd",
         "How often do you use nicotine-based products?": "nicotine",
         "LSD (Acid)?": "lsd",
         "How many times in the past year?": "lsdyear",
         "How many times in your lifetime?": "lsdlife",
         "Psilocybin (Magic Mushrooms)?": "psilocybin",
         "How many times in the past year?.1": "psilyear",
         "How many times in your lifetime?.1": "psillife",
         "MDMA?": "mdma",
         "How many times in the past year?.2": "mdmayear",
         "How many times in your lifetime?.2": "mdmalife",
         "Ketamine?": "ketamine",
         "How many times in the past year?.3": "ketayear",
         "How many times in your lifetime?.3": "ketalife",
         "Mescaline?": "mescaline",
         "How many times in the past year?.4": "mescayear",
         "How many times in your lifetime?.4": "mescalife",
         "Dimethyltryptamine (DMT)?": "dmt",
         "How many times in the past year?.5": "dmtyear",
         "How many times in your lifetime?.5": "dmtlife",
         "Ayahuasca?": "ayahuasca",
         "How many times in the past year?.6": "ayayear",
         "How many times in your lifetime?.6": "ayalife",
         "3-MMC?": "3mmc",
         "How many times in the past year?.7": "3mmcyear",
         "How many times in your lifetime?.7": "3mmclife",
         "Ibogaine?": "ibogaine",
         "How many times in the past year?.8": "ibogaineyear",
         "How many times in your lifetime?.8": "ibogainelife",
         "Salvia?": "salvia",
         "How many times in the past year?.9": "salviayear",
         "How many times in your lifetime?.9": "salvialife",
         "Other Lysergamides (e.g. 1P-LSD, ALD-52)?": "otherls",
         "How many times in the past year?.10": "otherlsyear",
         "How many times in your lifetime?.10": "otherlslife",
         "Other Tryptamines (e.g. 4-AcO-DMT)?": "othertryp",
         "How many times in the past year?.11": "othertrypyear",
         "How many times in your lifetime?.11": "othertryplife",
         "Phenethylamines (2C family)?": "2c",
         "How many times in the past year?.12": "2cyear",
         "How many times in your lifetime?.12": "2clife",
         "Any other psychedelics? If so, please specify:": "otherpsych",
         "How many times in the past year?.13": "otheryear",
         "How many times in your lifetime?.13": "otherlife",
         "_deepnote_index_column": 0
        },
        {
         "Participant Num": "35186",
         "Participant ID": "0000288c-c113-4871-a7e2-d45baae6f869",
         "Response ID": "cc335767-ef43-437a-bbe5-bd416d9f53ff",
         "Join Date": "nan",
         "Submitted Date": "2021-01-20T16:42:20.660000+00:00",
         "Index (Global)": "nan",
         "Index": "nan",
         "Participation Days": "nan",
         "Participation Day": "-1",
         "Month Index": "0",
         "Scoring": "{}",
         "Are you currently engaged in a regular practice of microdosing?": "True",
         "What are you microdosing with?": "psilocybin",
         "What other substance do you microdose with?": "nan",
         "What dosage of LSD do you take per administration?": "nan",
         "What dosage of psilocybin do you take per administration?": "medmd",
         "What dosage do you take per administration?": "nan",
         "Do you \"stack\" your microdose with anything? \"Stacking\" refers to combining the microdosing substance with another substance with the idea of enhancing the effects. (Select all that apply)": "lionsmane",
         "If you selected 'Other', or can provide additional dosage information, please specify:": "nan",
         "When microdosing, are you consuming prepared products (pre-weighted pills, microdosing blotter, etc.)": "True",
         "Are you following a specific microdosing protocol?": "True",
         "What microdosing protocol(s) are you following?": "Fadiman ",
         "On average, how often do you microdose?": "2week",
         "Please specify how often you microdose on average:": "nan",
         "How long have you been microdosing?": "<1",
         "Why did you start microdosing? (Select all that apply)": "1, 2, 3, 4, 5, 10, 15",
         "If you selected 'Other', please specify:": "Decrease Dissociation due to Ptsd ",
         "How often do you consume alcohol?": "never",
         "How often do you consume, vape, or smoke cannabis?": "5+week",
         "How often do you consume CBD?": "occasionally",
         "How often do you use nicotine-based products?": "occasionally",
         "LSD (Acid)?": "prefernotsay",
         "How many times in the past year?": "nan",
         "How many times in your lifetime?": "nan",
         "Psilocybin (Magic Mushrooms)?": "prefernotsay",
         "How many times in the past year?.1": "nan",
         "How many times in your lifetime?.1": "nan",
         "MDMA?": "False",
         "How many times in the past year?.2": "nan",
         "How many times in your lifetime?.2": "nan",
         "Ketamine?": "True",
         "How many times in the past year?.3": "6-10",
         "How many times in your lifetime?.3": "11-20",
         "Mescaline?": "False",
         "How many times in the past year?.4": "nan",
         "How many times in your lifetime?.4": "nan",
         "Dimethyltryptamine (DMT)?": "False",
         "How many times in the past year?.5": "nan",
         "How many times in your lifetime?.5": "nan",
         "Ayahuasca?": "False",
         "How many times in the past year?.6": "nan",
         "How many times in your lifetime?.6": "nan",
         "3-MMC?": "False",
         "How many times in the past year?.7": "nan",
         "How many times in your lifetime?.7": "nan",
         "Ibogaine?": "False",
         "How many times in the past year?.8": "nan",
         "How many times in your lifetime?.8": "nan",
         "Salvia?": "False",
         "How many times in the past year?.9": "nan",
         "How many times in your lifetime?.9": "nan",
         "Other Lysergamides (e.g. 1P-LSD, ALD-52)?": "False",
         "How many times in the past year?.10": "nan",
         "How many times in your lifetime?.10": "nan",
         "Other Tryptamines (e.g. 4-AcO-DMT)?": "False",
         "How many times in the past year?.11": "nan",
         "How many times in your lifetime?.11": "nan",
         "Phenethylamines (2C family)?": "False",
         "How many times in the past year?.12": "nan",
         "How many times in your lifetime?.12": "nan",
         "Any other psychedelics? If so, please specify:": "nan",
         "How many times in the past year?.13": "nan",
         "How many times in your lifetime?.13": "nan",
         "_deepnote_index_column": 1
        },
        {
         "Participant Num": "35535",
         "Participant ID": "000800ec-723f-4fa3-85ec-286a58a2b070",
         "Response ID": "573163a9-9397-4af3-a5d4-ff97d800e2b0",
         "Join Date": "2021-02-01T18:56:01.035000+00:00",
         "Submitted Date": "2021-02-01T19:02:11.282000+00:00",
         "Index (Global)": "2",
         "Index": "1",
         "Participation Days": "1",
         "Participation Day": "0",
         "Month Index": "0",
         "Scoring": "{}",
         "Are you currently engaged in a regular practice of microdosing?": "True",
         "What are you microdosing with?": "psilocybin",
         "What other substance do you microdose with?": "nan",
         "What dosage of LSD do you take per administration?": "nan",
         "What dosage of psilocybin do you take per administration?": "highmd",
         "What dosage do you take per administration?": "nan",
         "Do you \"stack\" your microdose with anything? \"Stacking\" refers to combining the microdosing substance with another substance with the idea of enhancing the effects. (Select all that apply)": "none",
         "If you selected 'Other', or can provide additional dosage information, please specify:": "nan",
         "When microdosing, are you consuming prepared products (pre-weighted pills, microdosing blotter, etc.)": "False",
         "Are you following a specific microdosing protocol?": "False",
         "What microdosing protocol(s) are you following?": "nan",
         "On average, how often do you microdose?": "3week",
         "Please specify how often you microdose on average:": "nan",
         "How long have you been microdosing?": "now",
         "Why did you start microdosing? (Select all that apply)": "1, 3, 5, 9, 15",
         "If you selected 'Other', please specify:": "nan",
         "How often do you consume alcohol?": "occasionally",
         "How often do you consume, vape, or smoke cannabis?": "never",
         "How often do you consume CBD?": "never",
         "How often do you use nicotine-based products?": "occasionally",
         "LSD (Acid)?": "True",
         "How many times in the past year?": "1-2",
         "How many times in your lifetime?": "1-2",
         "Psilocybin (Magic Mushrooms)?": "False",
         "How many times in the past year?.1": "nan",
         "How many times in your lifetime?.1": "nan",
         "MDMA?": "True",
         "How many times in the past year?.2": "3-5",
         "How many times in your lifetime?.2": ">50",
         "Ketamine?": "True",
         "How many times in the past year?.3": "6-10",
         "How many times in your lifetime?.3": "3-10",
         "Mescaline?": "False",
         "How many times in the past year?.4": "nan",
         "How many times in your lifetime?.4": "nan",
         "Dimethyltryptamine (DMT)?": "False",
         "How many times in the past year?.5": "nan",
         "How many times in your lifetime?.5": "nan",
         "Ayahuasca?": "False",
         "How many times in the past year?.6": "nan",
         "How many times in your lifetime?.6": "nan",
         "3-MMC?": "False",
         "How many times in the past year?.7": "nan",
         "How many times in your lifetime?.7": "nan",
         "Ibogaine?": "False",
         "How many times in the past year?.8": "nan",
         "How many times in your lifetime?.8": "nan",
         "Salvia?": "False",
         "How many times in the past year?.9": "nan",
         "How many times in your lifetime?.9": "nan",
         "Other Lysergamides (e.g. 1P-LSD, ALD-52)?": "False",
         "How many times in the past year?.10": "nan",
         "How many times in your lifetime?.10": "nan",
         "Other Tryptamines (e.g. 4-AcO-DMT)?": "False",
         "How many times in the past year?.11": "nan",
         "How many times in your lifetime?.11": "nan",
         "Phenethylamines (2C family)?": "False",
         "How many times in the past year?.12": "nan",
         "How many times in your lifetime?.12": "nan",
         "Any other psychedelics? If so, please specify:": "nan",
         "How many times in the past year?.13": "never",
         "How many times in your lifetime?.13": "nan",
         "_deepnote_index_column": 2
        },
        {
         "Participant Num": "25142",
         "Participant ID": "00113af1-e194-47a6-87ed-b7ba64e90019",
         "Response ID": "f5d01f5f-9e31-4ab5-bf70-d6c0a2440020",
         "Join Date": "2020-02-08T00:39:22.116000+00:00",
         "Submitted Date": "2020-02-08T00:44:47.413000+00:00",
         "Index (Global)": "2",
         "Index": "1",
         "Participation Days": "0",
         "Participation Day": "0",
         "Month Index": "0",
         "Scoring": "{}",
         "Are you currently engaged in a regular practice of microdosing?": "True",
         "What are you microdosing with?": "psilocybin",
         "What other substance do you microdose with?": "nan",
         "What dosage of LSD do you take per administration?": "nan",
         "What dosage of psilocybin do you take per administration?": "medmd",
         "What dosage do you take per administration?": "nan",
         "Do you \"stack\" your microdose with anything? \"Stacking\" refers to combining the microdosing substance with another substance with the idea of enhancing the effects. (Select all that apply)": "none",
         "If you selected 'Other', or can provide additional dosage information, please specify:": "nan",
         "When microdosing, are you consuming prepared products (pre-weighted pills, microdosing blotter, etc.)": "True",
         "Are you following a specific microdosing protocol?": "True",
         "What microdosing protocol(s) are you following?": "Take day one, rest for two days and repeat",
         "On average, how often do you microdose?": "2week",
         "Please specify how often you microdose on average:": "nan",
         "How long have you been microdosing?": "now",
         "Why did you start microdosing? (Select all that apply)": "3, 5, 6, 9, 11, 14, 16, 18",
         "If you selected 'Other', please specify:": "nan",
         "How often do you consume alcohol?": "occasionally",
         "How often do you consume, vape, or smoke cannabis?": "occasionally",
         "How often do you consume CBD?": "never",
         "How often do you use nicotine-based products?": "never",
         "LSD (Acid)?": "False",
         "How many times in the past year?": "nan",
         "How many times in your lifetime?": "nan",
         "Psilocybin (Magic Mushrooms)?": "False",
         "How many times in the past year?.1": "nan",
         "How many times in your lifetime?.1": "nan",
         "MDMA?": "False",
         "How many times in the past year?.2": "nan",
         "How many times in your lifetime?.2": "nan",
         "Ketamine?": "False",
         "How many times in the past year?.3": "nan",
         "How many times in your lifetime?.3": "nan",
         "Mescaline?": "False",
         "How many times in the past year?.4": "nan",
         "How many times in your lifetime?.4": "nan",
         "Dimethyltryptamine (DMT)?": "False",
         "How many times in the past year?.5": "nan",
         "How many times in your lifetime?.5": "nan",
         "Ayahuasca?": "True",
         "How many times in the past year?.6": "3-5",
         "How many times in your lifetime?.6": "3-10",
         "3-MMC?": "False",
         "How many times in the past year?.7": "nan",
         "How many times in your lifetime?.7": "nan",
         "Ibogaine?": "False",
         "How many times in the past year?.8": "nan",
         "How many times in your lifetime?.8": "nan",
         "Salvia?": "False",
         "How many times in the past year?.9": "nan",
         "How many times in your lifetime?.9": "nan",
         "Other Lysergamides (e.g. 1P-LSD, ALD-52)?": "False",
         "How many times in the past year?.10": "nan",
         "How many times in your lifetime?.10": "nan",
         "Other Tryptamines (e.g. 4-AcO-DMT)?": "False",
         "How many times in the past year?.11": "nan",
         "How many times in your lifetime?.11": "nan",
         "Phenethylamines (2C family)?": "False",
         "How many times in the past year?.12": "nan",
         "How many times in your lifetime?.12": "nan",
         "Any other psychedelics? If so, please specify:": "nan",
         "How many times in the past year?.13": "never",
         "How many times in your lifetime?.13": "nan",
         "_deepnote_index_column": 3
        },
        {
         "Participant Num": "2856",
         "Participant ID": "0012b992-47be-4403-b794-ecadfe7aefb0",
         "Response ID": "9b8ff852-a0c4-4804-abdd-11e08883b7bd",
         "Join Date": "2019-11-16T18:24:28.308000+00:00",
         "Submitted Date": "2019-11-16T22:36:47.772000+00:00",
         "Index (Global)": "2",
         "Index": "1",
         "Participation Days": "0",
         "Participation Day": "0",
         "Month Index": "0",
         "Scoring": "{}",
         "Are you currently engaged in a regular practice of microdosing?": "False",
         "What are you microdosing with?": "nan",
         "What other substance do you microdose with?": "nan",
         "What dosage of LSD do you take per administration?": "nan",
         "What dosage of psilocybin do you take per administration?": "nan",
         "What dosage do you take per administration?": "nan",
         "Do you \"stack\" your microdose with anything? \"Stacking\" refers to combining the microdosing substance with another substance with the idea of enhancing the effects. (Select all that apply)": "nan",
         "If you selected 'Other', or can provide additional dosage information, please specify:": "nan",
         "When microdosing, are you consuming prepared products (pre-weighted pills, microdosing blotter, etc.)": "nan",
         "Are you following a specific microdosing protocol?": "nan",
         "What microdosing protocol(s) are you following?": "nan",
         "On average, how often do you microdose?": "nan",
         "Please specify how often you microdose on average:": "nan",
         "How long have you been microdosing?": "nan",
         "Why did you start microdosing? (Select all that apply)": "nan",
         "If you selected 'Other', please specify:": "nan",
         "How often do you consume alcohol?": "occasionally",
         "How often do you consume, vape, or smoke cannabis?": "5+week",
         "How often do you consume CBD?": "occasionally",
         "How often do you use nicotine-based products?": "34day",
         "LSD (Acid)?": "False",
         "How many times in the past year?": "nan",
         "How many times in your lifetime?": "nan",
         "Psilocybin (Magic Mushrooms)?": "True",
         "How many times in the past year?.1": "3-5",
         "How many times in your lifetime?.1": "3-10",
         "MDMA?": "False",
         "How many times in the past year?.2": "nan",
         "How many times in your lifetime?.2": "nan",
         "Ketamine?": "False",
         "How many times in the past year?.3": "nan",
         "How many times in your lifetime?.3": "nan",
         "Mescaline?": "False",
         "How many times in the past year?.4": "nan",
         "How many times in your lifetime?.4": "nan",
         "Dimethyltryptamine (DMT)?": "False",
         "How many times in the past year?.5": "nan",
         "How many times in your lifetime?.5": "nan",
         "Ayahuasca?": "False",
         "How many times in the past year?.6": "nan",
         "How many times in your lifetime?.6": "nan",
         "3-MMC?": "False",
         "How many times in the past year?.7": "nan",
         "How many times in your lifetime?.7": "nan",
         "Ibogaine?": "False",
         "How many times in the past year?.8": "nan",
         "How many times in your lifetime?.8": "nan",
         "Salvia?": "False",
         "How many times in the past year?.9": "nan",
         "How many times in your lifetime?.9": "nan",
         "Other Lysergamides (e.g. 1P-LSD, ALD-52)?": "False",
         "How many times in the past year?.10": "nan",
         "How many times in your lifetime?.10": "nan",
         "Other Tryptamines (e.g. 4-AcO-DMT)?": "False",
         "How many times in the past year?.11": "nan",
         "How many times in your lifetime?.11": "nan",
         "Phenethylamines (2C family)?": "False",
         "How many times in the past year?.12": "nan",
         "How many times in your lifetime?.12": "nan",
         "Any other psychedelics? If so, please specify:": "nan",
         "How many times in the past year?.13": "never",
         "How many times in your lifetime?.13": "nan",
         "_deepnote_index_column": 4
        },
        {
         "Participant Num": "11726",
         "Participant ID": "0015c8af-622e-4935-8ffd-ca2a3b16e8e0",
         "Response ID": "d581062e-aeee-48d6-bd74-f2d75a522d87",
         "Join Date": "2019-11-22T14:21:19.448000+00:00",
         "Submitted Date": "2019-11-22T14:35:33.254000+00:00",
         "Index (Global)": "2",
         "Index": "1",
         "Participation Days": "0",
         "Participation Day": "0",
         "Month Index": "0",
         "Scoring": "{}",
         "Are you currently engaged in a regular practice of microdosing?": "False",
         "What are you microdosing with?": "nan",
         "What other substance do you microdose with?": "nan",
         "What dosage of LSD do you take per administration?": "nan",
         "What dosage of psilocybin do you take per administration?": "nan",
         "What dosage do you take per administration?": "nan",
         "Do you \"stack\" your microdose with anything? \"Stacking\" refers to combining the microdosing substance with another substance with the idea of enhancing the effects. (Select all that apply)": "nan",
         "If you selected 'Other', or can provide additional dosage information, please specify:": "nan",
         "When microdosing, are you consuming prepared products (pre-weighted pills, microdosing blotter, etc.)": "nan",
         "Are you following a specific microdosing protocol?": "nan",
         "What microdosing protocol(s) are you following?": "nan",
         "On average, how often do you microdose?": "nan",
         "Please specify how often you microdose on average:": "nan",
         "How long have you been microdosing?": "nan",
         "Why did you start microdosing? (Select all that apply)": "nan",
         "If you selected 'Other', please specify:": "nan",
         "How often do you consume alcohol?": "occasionally",
         "How often do you consume, vape, or smoke cannabis?": "occasionally",
         "How often do you consume CBD?": "occasionally",
         "How often do you use nicotine-based products?": "never",
         "LSD (Acid)?": "False",
         "How many times in the past year?": "nan",
         "How many times in your lifetime?": "nan",
         "Psilocybin (Magic Mushrooms)?": "False",
         "How many times in the past year?.1": "nan",
         "How many times in your lifetime?.1": "nan",
         "MDMA?": "False",
         "How many times in the past year?.2": "nan",
         "How many times in your lifetime?.2": "nan",
         "Ketamine?": "False",
         "How many times in the past year?.3": "nan",
         "How many times in your lifetime?.3": "nan",
         "Mescaline?": "False",
         "How many times in the past year?.4": "nan",
         "How many times in your lifetime?.4": "nan",
         "Dimethyltryptamine (DMT)?": "False",
         "How many times in the past year?.5": "nan",
         "How many times in your lifetime?.5": "nan",
         "Ayahuasca?": "False",
         "How many times in the past year?.6": "nan",
         "How many times in your lifetime?.6": "nan",
         "3-MMC?": "False",
         "How many times in the past year?.7": "nan",
         "How many times in your lifetime?.7": "nan",
         "Ibogaine?": "False",
         "How many times in the past year?.8": "nan",
         "How many times in your lifetime?.8": "nan",
         "Salvia?": "False",
         "How many times in the past year?.9": "nan",
         "How many times in your lifetime?.9": "nan",
         "Other Lysergamides (e.g. 1P-LSD, ALD-52)?": "False",
         "How many times in the past year?.10": "nan",
         "How many times in your lifetime?.10": "nan",
         "Other Tryptamines (e.g. 4-AcO-DMT)?": "False",
         "How many times in the past year?.11": "nan",
         "How many times in your lifetime?.11": "nan",
         "Phenethylamines (2C family)?": "False",
         "How many times in the past year?.12": "nan",
         "How many times in your lifetime?.12": "nan",
         "Any other psychedelics? If so, please specify:": "nan",
         "How many times in the past year?.13": "nan",
         "How many times in your lifetime?.13": "nan",
         "_deepnote_index_column": 5
        },
        {
         "Participant Num": "17543",
         "Participant ID": "001a7ed5-b009-4181-a6d8-f2e2998622be",
         "Response ID": "3cde5640-5f4a-4619-88bf-a51f35b4aa43",
         "Join Date": "2019-12-04T02:18:04.194000+00:00",
         "Submitted Date": "2019-12-04T02:24:01.653000+00:00",
         "Index (Global)": "3",
         "Index": "1",
         "Participation Days": "0",
         "Participation Day": "0",
         "Month Index": "0",
         "Scoring": "{}",
         "Are you currently engaged in a regular practice of microdosing?": "False",
         "What are you microdosing with?": "nan",
         "What other substance do you microdose with?": "nan",
         "What dosage of LSD do you take per administration?": "nan",
         "What dosage of psilocybin do you take per administration?": "nan",
         "What dosage do you take per administration?": "nan",
         "Do you \"stack\" your microdose with anything? \"Stacking\" refers to combining the microdosing substance with another substance with the idea of enhancing the effects. (Select all that apply)": "nan",
         "If you selected 'Other', or can provide additional dosage information, please specify:": "nan",
         "When microdosing, are you consuming prepared products (pre-weighted pills, microdosing blotter, etc.)": "nan",
         "Are you following a specific microdosing protocol?": "nan",
         "What microdosing protocol(s) are you following?": "nan",
         "On average, how often do you microdose?": "nan",
         "Please specify how often you microdose on average:": "nan",
         "How long have you been microdosing?": "nan",
         "Why did you start microdosing? (Select all that apply)": "nan",
         "If you selected 'Other', please specify:": "nan",
         "How often do you consume alcohol?": "occasionally",
         "How often do you consume, vape, or smoke cannabis?": "5+week",
         "How often do you consume CBD?": "12week",
         "How often do you use nicotine-based products?": "never",
         "LSD (Acid)?": "False",
         "How many times in the past year?": "nan",
         "How many times in your lifetime?": "nan",
         "Psilocybin (Magic Mushrooms)?": "True",
         "How many times in the past year?.1": "1-2",
         "How many times in your lifetime?.1": "1-2",
         "MDMA?": "True",
         "How many times in the past year?.2": "1-2",
         "How many times in your lifetime?.2": "1-2",
         "Ketamine?": "False",
         "How many times in the past year?.3": "nan",
         "How many times in your lifetime?.3": "nan",
         "Mescaline?": "False",
         "How many times in the past year?.4": "nan",
         "How many times in your lifetime?.4": "nan",
         "Dimethyltryptamine (DMT)?": "True",
         "How many times in the past year?.5": "never",
         "How many times in your lifetime?.5": "1-2",
         "Ayahuasca?": "False",
         "How many times in the past year?.6": "nan",
         "How many times in your lifetime?.6": "nan",
         "3-MMC?": "False",
         "How many times in the past year?.7": "nan",
         "How many times in your lifetime?.7": "nan",
         "Ibogaine?": "False",
         "How many times in the past year?.8": "nan",
         "How many times in your lifetime?.8": "nan",
         "Salvia?": "False",
         "How many times in the past year?.9": "nan",
         "How many times in your lifetime?.9": "nan",
         "Other Lysergamides (e.g. 1P-LSD, ALD-52)?": "False",
         "How many times in the past year?.10": "nan",
         "How many times in your lifetime?.10": "nan",
         "Other Tryptamines (e.g. 4-AcO-DMT)?": "False",
         "How many times in the past year?.11": "nan",
         "How many times in your lifetime?.11": "nan",
         "Phenethylamines (2C family)?": "False",
         "How many times in the past year?.12": "nan",
         "How many times in your lifetime?.12": "nan",
         "Any other psychedelics? If so, please specify:": "nan",
         "How many times in the past year?.13": "never",
         "How many times in your lifetime?.13": "nan",
         "_deepnote_index_column": 6
        },
        {
         "Participant Num": "2647",
         "Participant ID": "00249337-4ff2-4405-b9c8-807914a0dd2d",
         "Response ID": "85b86b2c-807a-41dd-93ad-f1cda462e36f",
         "Join Date": "2019-11-16T17:01:17.669000+00:00",
         "Submitted Date": "2019-11-22T07:07:39.182000+00:00",
         "Index (Global)": "2",
         "Index": "1",
         "Participation Days": "5",
         "Participation Day": "5",
         "Month Index": "0",
         "Scoring": "{}",
         "Are you currently engaged in a regular practice of microdosing?": "True",
         "What are you microdosing with?": "psilocybin",
         "What other substance do you microdose with?": "nan",
         "What dosage of LSD do you take per administration?": "nan",
         "What dosage of psilocybin do you take per administration?": "medmd",
         "What dosage do you take per administration?": "nan",
         "Do you \"stack\" your microdose with anything? \"Stacking\" refers to combining the microdosing substance with another substance with the idea of enhancing the effects. (Select all that apply)": "lionsmane, niacinnon",
         "If you selected 'Other', or can provide additional dosage information, please specify:": "nan",
         "When microdosing, are you consuming prepared products (pre-weighted pills, microdosing blotter, etc.)": "True",
         "Are you following a specific microdosing protocol?": "True",
         "What microdosing protocol(s) are you following?": "Stamets protocol ",
         "On average, how often do you microdose?": "1day",
         "Please specify how often you microdose on average:": "nan",
         "How long have you been microdosing?": "12-24",
         "Why did you start microdosing? (Select all that apply)": "3, 6, 10, 14",
         "If you selected 'Other', please specify:": "nan",
         "How often do you consume alcohol?": "12week",
         "How often do you consume, vape, or smoke cannabis?": "occasionally",
         "How often do you consume CBD?": "occasionally",
         "How often do you use nicotine-based products?": "never",
         "LSD (Acid)?": "True",
         "How many times in the past year?": "1-2",
         "How many times in your lifetime?": "1-2",
         "Psilocybin (Magic Mushrooms)?": "True",
         "How many times in the past year?.1": "1-2",
         "How many times in your lifetime?.1": "3-10",
         "MDMA?": "prefernotsay",
         "How many times in the past year?.2": "nan",
         "How many times in your lifetime?.2": "nan",
         "Ketamine?": "False",
         "How many times in the past year?.3": "nan",
         "How many times in your lifetime?.3": "nan",
         "Mescaline?": "False",
         "How many times in the past year?.4": "nan",
         "How many times in your lifetime?.4": "nan",
         "Dimethyltryptamine (DMT)?": "False",
         "How many times in the past year?.5": "nan",
         "How many times in your lifetime?.5": "nan",
         "Ayahuasca?": "True",
         "How many times in the past year?.6": "1-2",
         "How many times in your lifetime?.6": "3-10",
         "3-MMC?": "False",
         "How many times in the past year?.7": "nan",
         "How many times in your lifetime?.7": "nan",
         "Ibogaine?": "False",
         "How many times in the past year?.8": "nan",
         "How many times in your lifetime?.8": "nan",
         "Salvia?": "True",
         "How many times in the past year?.9": "1-2",
         "How many times in your lifetime?.9": "1-2",
         "Other Lysergamides (e.g. 1P-LSD, ALD-52)?": "False",
         "How many times in the past year?.10": "nan",
         "How many times in your lifetime?.10": "nan",
         "Other Tryptamines (e.g. 4-AcO-DMT)?": "False",
         "How many times in the past year?.11": "nan",
         "How many times in your lifetime?.11": "nan",
         "Phenethylamines (2C family)?": "False",
         "How many times in the past year?.12": "nan",
         "How many times in your lifetime?.12": "nan",
         "Any other psychedelics? If so, please specify:": "nan",
         "How many times in the past year?.13": "nan",
         "How many times in your lifetime?.13": "nan",
         "_deepnote_index_column": 7
        },
        {
         "Participant Num": "32178",
         "Participant ID": "002b5914-4b3e-483f-a062-3a9e2a987ae1",
         "Response ID": "c23d27c6-8aae-4ee4-b6d6-8baa74721ab2",
         "Join Date": "2020-09-20T14:32:11.609000+00:00",
         "Submitted Date": "2020-09-20T17:39:23.403000+00:00",
         "Index (Global)": "7",
         "Index": "1",
         "Participation Days": "13",
         "Participation Day": "0",
         "Month Index": "0",
         "Scoring": "{}",
         "Are you currently engaged in a regular practice of microdosing?": "True",
         "What are you microdosing with?": "othertryp",
         "What other substance do you microdose with?": "nan",
         "What dosage of LSD do you take per administration?": "nan",
         "What dosage of psilocybin do you take per administration?": "nan",
         "What dosage do you take per administration?": "0.5 to 1.0 mL",
         "Do you \"stack\" your microdose with anything? \"Stacking\" refers to combining the microdosing substance with another substance with the idea of enhancing the effects. (Select all that apply)": "lionsmane",
         "If you selected 'Other', or can provide additional dosage information, please specify:": "nan",
         "When microdosing, are you consuming prepared products (pre-weighted pills, microdosing blotter, etc.)": "True",
         "Are you following a specific microdosing protocol?": "True",
         "What microdosing protocol(s) are you following?": "Fadiman:one day on, two days off",
         "On average, how often do you microdose?": "2week",
         "Please specify how often you microdose on average:": "nan",
         "How long have you been microdosing?": "1-3",
         "Why did you start microdosing? (Select all that apply)": "1, 2, 3, 5, 6",
         "If you selected 'Other', please specify:": "nan",
         "How often do you consume alcohol?": "34week",
         "How often do you consume, vape, or smoke cannabis?": "5+week",
         "How often do you consume CBD?": "5+week",
         "How often do you use nicotine-based products?": "never",
         "LSD (Acid)?": "True",
         "How many times in the past year?": "never",
         "How many times in your lifetime?": "1-2",
         "Psilocybin (Magic Mushrooms)?": "True",
         "How many times in the past year?.1": "never",
         "How many times in your lifetime?.1": "3-10",
         "MDMA?": "True",
         "How many times in the past year?.2": "never",
         "How many times in your lifetime?.2": "1-2",
         "Ketamine?": "True",
         "How many times in the past year?.3": "never",
         "How many times in your lifetime?.3": "3-10",
         "Mescaline?": "False",
         "How many times in the past year?.4": "nan",
         "How many times in your lifetime?.4": "nan",
         "Dimethyltryptamine (DMT)?": "False",
         "How many times in the past year?.5": "nan",
         "How many times in your lifetime?.5": "nan",
         "Ayahuasca?": "False",
         "How many times in the past year?.6": "nan",
         "How many times in your lifetime?.6": "nan",
         "3-MMC?": "False",
         "How many times in the past year?.7": "nan",
         "How many times in your lifetime?.7": "nan",
         "Ibogaine?": "False",
         "How many times in the past year?.8": "nan",
         "How many times in your lifetime?.8": "nan",
         "Salvia?": "True",
         "How many times in the past year?.9": "never",
         "How many times in your lifetime?.9": "3-10",
         "Other Lysergamides (e.g. 1P-LSD, ALD-52)?": "False",
         "How many times in the past year?.10": "nan",
         "How many times in your lifetime?.10": "nan",
         "Other Tryptamines (e.g. 4-AcO-DMT)?": "True",
         "How many times in the past year?.11": ">10",
         "How many times in your lifetime?.11": "21-50",
         "Phenethylamines (2C family)?": "False",
         "How many times in the past year?.12": "nan",
         "How many times in your lifetime?.12": "nan",
         "Any other psychedelics? If so, please specify:": "nan",
         "How many times in the past year?.13": "never",
         "How many times in your lifetime?.13": "nan",
         "_deepnote_index_column": 8
        },
        {
         "Participant Num": "38483",
         "Participant ID": "002dda04-b50c-48be-b4f7-5e4541d07af2",
         "Response ID": "c937676d-961e-40f4-9b0a-d14aad921f32",
         "Join Date": "2021-04-14T10:31:09.415000+00:00",
         "Submitted Date": "2021-04-14T10:46:07.399000+00:00",
         "Index (Global)": "3",
         "Index": "1",
         "Participation Days": "4",
         "Participation Day": "0",
         "Month Index": "0",
         "Scoring": "{}",
         "Are you currently engaged in a regular practice of microdosing?": "True",
         "What are you microdosing with?": "psilocybin",
         "What other substance do you microdose with?": "nan",
         "What dosage of LSD do you take per administration?": "nan",
         "What dosage of psilocybin do you take per administration?": "medmd",
         "What dosage do you take per administration?": "nan",
         "Do you \"stack\" your microdose with anything? \"Stacking\" refers to combining the microdosing substance with another substance with the idea of enhancing the effects. (Select all that apply)": "none",
         "If you selected 'Other', or can provide additional dosage information, please specify:": "nan",
         "When microdosing, are you consuming prepared products (pre-weighted pills, microdosing blotter, etc.)": "True",
         "Are you following a specific microdosing protocol?": "True",
         "What microdosing protocol(s) are you following?": "3 on one off",
         "On average, how often do you microdose?": "5week",
         "Please specify how often you microdose on average:": "nan",
         "How long have you been microdosing?": "<1",
         "Why did you start microdosing? (Select all that apply)": "1",
         "If you selected 'Other', please specify:": "nan",
         "How often do you consume alcohol?": "occasionally",
         "How often do you consume, vape, or smoke cannabis?": "5+week",
         "How often do you consume CBD?": "never",
         "How often do you use nicotine-based products?": "never",
         "LSD (Acid)?": "True",
         "How many times in the past year?": "never",
         "How many times in your lifetime?": "3-10",
         "Psilocybin (Magic Mushrooms)?": "True",
         "How many times in the past year?.1": "never",
         "How many times in your lifetime?.1": "3-10",
         "MDMA?": "False",
         "How many times in the past year?.2": "nan",
         "How many times in your lifetime?.2": "nan",
         "Ketamine?": "False",
         "How many times in the past year?.3": "nan",
         "How many times in your lifetime?.3": "nan",
         "Mescaline?": "False",
         "How many times in the past year?.4": "nan",
         "How many times in your lifetime?.4": "nan",
         "Dimethyltryptamine (DMT)?": "False",
         "How many times in the past year?.5": "nan",
         "How many times in your lifetime?.5": "nan",
         "Ayahuasca?": "False",
         "How many times in the past year?.6": "nan",
         "How many times in your lifetime?.6": "nan",
         "3-MMC?": "False",
         "How many times in the past year?.7": "nan",
         "How many times in your lifetime?.7": "nan",
         "Ibogaine?": "False",
         "How many times in the past year?.8": "nan",
         "How many times in your lifetime?.8": "nan",
         "Salvia?": "False",
         "How many times in the past year?.9": "nan",
         "How many times in your lifetime?.9": "nan",
         "Other Lysergamides (e.g. 1P-LSD, ALD-52)?": "False",
         "How many times in the past year?.10": "nan",
         "How many times in your lifetime?.10": "nan",
         "Other Tryptamines (e.g. 4-AcO-DMT)?": "False",
         "How many times in the past year?.11": "nan",
         "How many times in your lifetime?.11": "nan",
         "Phenethylamines (2C family)?": "False",
         "How many times in the past year?.12": "nan",
         "How many times in your lifetime?.12": "nan",
         "Any other psychedelics? If so, please specify:": "nan",
         "How many times in the past year?.13": "never",
         "How many times in your lifetime?.13": "nan",
         "_deepnote_index_column": 9
        }
       ]
      },
      "text/plain": "      Participant Num                        Participant ID  \\\n0      participantnum                         participantid   \n1               35186  0000288c-c113-4871-a7e2-d45baae6f869   \n2               35535  000800ec-723f-4fa3-85ec-286a58a2b070   \n3               25142  00113af1-e194-47a6-87ed-b7ba64e90019   \n4                2856  0012b992-47be-4403-b794-ecadfe7aefb0   \n...               ...                                   ...   \n13806           40991  ffef9ece-c5bb-453b-8d06-ce187ff8cc8e   \n13807           16199  fff0245e-f24d-4cc1-885e-ee356cc6d4f2   \n13808           25496  fff2be62-a93b-4ba5-a901-65ee9059f9c7   \n13809            7263  fff87f2d-462a-4732-bb24-43092a2048a4   \n13810           26173  fffde26a-0148-456c-ba0d-8f7ab829712e   \n\n                                Response ID                         Join Date  \\\n0                                responseid                          joindate   \n1      cc335767-ef43-437a-bbe5-bd416d9f53ff                               NaN   \n2      573163a9-9397-4af3-a5d4-ff97d800e2b0  2021-02-01T18:56:01.035000+00:00   \n3      f5d01f5f-9e31-4ab5-bf70-d6c0a2440020  2020-02-08T00:39:22.116000+00:00   \n4      9b8ff852-a0c4-4804-abdd-11e08883b7bd  2019-11-16T18:24:28.308000+00:00   \n...                                     ...                               ...   \n13806  68367cea-2e03-4322-82d6-772db0817c05  2021-07-14T09:21:39.491000+00:00   \n13807  5c59a8a0-f27c-4e95-8888-c32e36513c84  2019-11-30T15:16:47.037000+00:00   \n13808  eef1bb46-64c9-4d62-bce9-b6c7e08bb18f  2020-02-12T13:46:19.435000+00:00   \n13809  24cc65d8-6b68-4016-9c61-3d6431b62450  2019-11-19T03:20:20.152000+00:00   \n13810  420d305e-1cca-4ecc-9f81-cc6a8d4d303e  2020-02-24T16:58:13.223000+00:00   \n\n                         Submitted Date Index (Global)  Index  \\\n0                         submitteddate  index(global)  index   \n1      2021-01-20T16:42:20.660000+00:00            NaN    NaN   \n2      2021-02-01T19:02:11.282000+00:00              2      1   \n3      2020-02-08T00:44:47.413000+00:00              2      1   \n4      2019-11-16T22:36:47.772000+00:00              2      1   \n...                                 ...            ...    ...   \n13806  2021-07-14T09:27:18.966000+00:00            2.0    1.0   \n13807  2019-11-30T16:21:09.448000+00:00            2.0    1.0   \n13808  2020-02-12T14:25:53.618000+00:00            2.0    1.0   \n13809  2019-11-19T03:30:58.610000+00:00            2.0    1.0   \n13810  2020-02-24T17:05:43.973000+00:00            2.0    1.0   \n\n      Participation Days Participation Day Month Index  ...  \\\n0      participationdays  participationday  monthindex  ...   \n1                    NaN                -1           0  ...   \n2                      1                 0           0  ...   \n3                      0                 0           0  ...   \n4                      0                 0           0  ...   \n...                  ...               ...         ...  ...   \n13806               86.0                 0           0  ...   \n13807               13.0                 0           0  ...   \n13808                0.0                 0           0  ...   \n13809                0.0                 0           0  ...   \n13810                0.0                 0           0  ...   \n\n      How many times in your lifetime?.10 Other Tryptamines (e.g. 4-AcO-DMT)?  \\\n0                             otherlslife                           othertryp   \n1                                     NaN                               False   \n2                                     NaN                               False   \n3                                     NaN                               False   \n4                                     NaN                               False   \n...                                   ...                                 ...   \n13806                                 NaN                               False   \n13807                                 NaN                               False   \n13808                                 NaN                               False   \n13809                                 NaN                               False   \n13810                                 NaN                               False   \n\n      How many times in the past year?.11 How many times in your lifetime?.11  \\\n0                           othertrypyear                       othertryplife   \n1                                     NaN                                 NaN   \n2                                     NaN                                 NaN   \n3                                     NaN                                 NaN   \n4                                     NaN                                 NaN   \n...                                   ...                                 ...   \n13806                                 NaN                                 NaN   \n13807                                 NaN                                 NaN   \n13808                                 NaN                                 NaN   \n13809                                 NaN                                 NaN   \n13810                                 NaN                                 NaN   \n\n      Phenethylamines (2C family)? How many times in the past year?.12  \\\n0                               2c                              2cyear   \n1                            False                                 NaN   \n2                            False                                 NaN   \n3                            False                                 NaN   \n4                            False                                 NaN   \n...                            ...                                 ...   \n13806                        False                                 NaN   \n13807                        False                                 NaN   \n13808                        False                                 NaN   \n13809                        False                                 NaN   \n13810                        False                                 NaN   \n\n      How many times in your lifetime?.12  \\\n0                                  2clife   \n1                                     NaN   \n2                                     NaN   \n3                                     NaN   \n4                                     NaN   \n...                                   ...   \n13806                                 NaN   \n13807                                 NaN   \n13808                                 NaN   \n13809                                 NaN   \n13810                                 NaN   \n\n      Any other psychedelics? If so, please specify:  \\\n0                                         otherpsych   \n1                                                NaN   \n2                                                NaN   \n3                                                NaN   \n4                                                NaN   \n...                                              ...   \n13806                                            NaN   \n13807                                            NaN   \n13808                                            NaN   \n13809                                            NaN   \n13810                                            NaN   \n\n      How many times in the past year?.13 How many times in your lifetime?.13  \n0                               otheryear                           otherlife  \n1                                     NaN                                 NaN  \n2                                   never                                 NaN  \n3                                   never                                 NaN  \n4                                   never                                 NaN  \n...                                   ...                                 ...  \n13806                               never                                 NaN  \n13807                               never                                 NaN  \n13808                               never                                 NaN  \n13809                               never                                 NaN  \n13810                               never                                 NaN  \n\n[13811 rows x 73 columns]",
      "text/html": "<div>\n<style scoped>\n    .dataframe tbody tr th:only-of-type {\n        vertical-align: middle;\n    }\n\n    .dataframe tbody tr th {\n        vertical-align: top;\n    }\n\n    .dataframe thead th {\n        text-align: right;\n    }\n</style>\n<table border=\"1\" class=\"dataframe\">\n  <thead>\n    <tr style=\"text-align: right;\">\n      <th></th>\n      <th>Participant Num</th>\n      <th>Participant ID</th>\n      <th>Response ID</th>\n      <th>Join Date</th>\n      <th>Submitted Date</th>\n      <th>Index (Global)</th>\n      <th>Index</th>\n      <th>Participation Days</th>\n      <th>Participation Day</th>\n      <th>Month Index</th>\n      <th>...</th>\n      <th>How many times in your lifetime?.10</th>\n      <th>Other Tryptamines (e.g. 4-AcO-DMT)?</th>\n      <th>How many times in the past year?.11</th>\n      <th>How many times in your lifetime?.11</th>\n      <th>Phenethylamines (2C family)?</th>\n      <th>How many times in the past year?.12</th>\n      <th>How many times in your lifetime?.12</th>\n      <th>Any other psychedelics? If so, please specify:</th>\n      <th>How many times in the past year?.13</th>\n      <th>How many times in your lifetime?.13</th>\n    </tr>\n  </thead>\n  <tbody>\n    <tr>\n      <th>0</th>\n      <td>participantnum</td>\n      <td>participantid</td>\n      <td>responseid</td>\n      <td>joindate</td>\n      <td>submitteddate</td>\n      <td>index(global)</td>\n      <td>index</td>\n      <td>participationdays</td>\n      <td>participationday</td>\n      <td>monthindex</td>\n      <td>...</td>\n      <td>otherlslife</td>\n      <td>othertryp</td>\n      <td>othertrypyear</td>\n      <td>othertryplife</td>\n      <td>2c</td>\n      <td>2cyear</td>\n      <td>2clife</td>\n      <td>otherpsych</td>\n      <td>otheryear</td>\n      <td>otherlife</td>\n    </tr>\n    <tr>\n      <th>1</th>\n      <td>35186</td>\n      <td>0000288c-c113-4871-a7e2-d45baae6f869</td>\n      <td>cc335767-ef43-437a-bbe5-bd416d9f53ff</td>\n      <td>NaN</td>\n      <td>2021-01-20T16:42:20.660000+00:00</td>\n      <td>NaN</td>\n      <td>NaN</td>\n      <td>NaN</td>\n      <td>-1</td>\n      <td>0</td>\n      <td>...</td>\n      <td>NaN</td>\n      <td>False</td>\n      <td>NaN</td>\n      <td>NaN</td>\n      <td>False</td>\n      <td>NaN</td>\n      <td>NaN</td>\n      <td>NaN</td>\n      <td>NaN</td>\n      <td>NaN</td>\n    </tr>\n    <tr>\n      <th>2</th>\n      <td>35535</td>\n      <td>000800ec-723f-4fa3-85ec-286a58a2b070</td>\n      <td>573163a9-9397-4af3-a5d4-ff97d800e2b0</td>\n      <td>2021-02-01T18:56:01.035000+00:00</td>\n      <td>2021-02-01T19:02:11.282000+00:00</td>\n      <td>2</td>\n      <td>1</td>\n      <td>1</td>\n      <td>0</td>\n      <td>0</td>\n      <td>...</td>\n      <td>NaN</td>\n      <td>False</td>\n      <td>NaN</td>\n      <td>NaN</td>\n      <td>False</td>\n      <td>NaN</td>\n      <td>NaN</td>\n      <td>NaN</td>\n      <td>never</td>\n      <td>NaN</td>\n    </tr>\n    <tr>\n      <th>3</th>\n      <td>25142</td>\n      <td>00113af1-e194-47a6-87ed-b7ba64e90019</td>\n      <td>f5d01f5f-9e31-4ab5-bf70-d6c0a2440020</td>\n      <td>2020-02-08T00:39:22.116000+00:00</td>\n      <td>2020-02-08T00:44:47.413000+00:00</td>\n      <td>2</td>\n      <td>1</td>\n      <td>0</td>\n      <td>0</td>\n      <td>0</td>\n      <td>...</td>\n      <td>NaN</td>\n      <td>False</td>\n      <td>NaN</td>\n      <td>NaN</td>\n      <td>False</td>\n      <td>NaN</td>\n      <td>NaN</td>\n      <td>NaN</td>\n      <td>never</td>\n      <td>NaN</td>\n    </tr>\n    <tr>\n      <th>4</th>\n      <td>2856</td>\n      <td>0012b992-47be-4403-b794-ecadfe7aefb0</td>\n      <td>9b8ff852-a0c4-4804-abdd-11e08883b7bd</td>\n      <td>2019-11-16T18:24:28.308000+00:00</td>\n      <td>2019-11-16T22:36:47.772000+00:00</td>\n      <td>2</td>\n      <td>1</td>\n      <td>0</td>\n      <td>0</td>\n      <td>0</td>\n      <td>...</td>\n      <td>NaN</td>\n      <td>False</td>\n      <td>NaN</td>\n      <td>NaN</td>\n      <td>False</td>\n      <td>NaN</td>\n      <td>NaN</td>\n      <td>NaN</td>\n      <td>never</td>\n      <td>NaN</td>\n    </tr>\n    <tr>\n      <th>...</th>\n      <td>...</td>\n      <td>...</td>\n      <td>...</td>\n      <td>...</td>\n      <td>...</td>\n      <td>...</td>\n      <td>...</td>\n      <td>...</td>\n      <td>...</td>\n      <td>...</td>\n      <td>...</td>\n      <td>...</td>\n      <td>...</td>\n      <td>...</td>\n      <td>...</td>\n      <td>...</td>\n      <td>...</td>\n      <td>...</td>\n      <td>...</td>\n      <td>...</td>\n      <td>...</td>\n    </tr>\n    <tr>\n      <th>13806</th>\n      <td>40991</td>\n      <td>ffef9ece-c5bb-453b-8d06-ce187ff8cc8e</td>\n      <td>68367cea-2e03-4322-82d6-772db0817c05</td>\n      <td>2021-07-14T09:21:39.491000+00:00</td>\n      <td>2021-07-14T09:27:18.966000+00:00</td>\n      <td>2.0</td>\n      <td>1.0</td>\n      <td>86.0</td>\n      <td>0</td>\n      <td>0</td>\n      <td>...</td>\n      <td>NaN</td>\n      <td>False</td>\n      <td>NaN</td>\n      <td>NaN</td>\n      <td>False</td>\n      <td>NaN</td>\n      <td>NaN</td>\n      <td>NaN</td>\n      <td>never</td>\n      <td>NaN</td>\n    </tr>\n    <tr>\n      <th>13807</th>\n      <td>16199</td>\n      <td>fff0245e-f24d-4cc1-885e-ee356cc6d4f2</td>\n      <td>5c59a8a0-f27c-4e95-8888-c32e36513c84</td>\n      <td>2019-11-30T15:16:47.037000+00:00</td>\n      <td>2019-11-30T16:21:09.448000+00:00</td>\n      <td>2.0</td>\n      <td>1.0</td>\n      <td>13.0</td>\n      <td>0</td>\n      <td>0</td>\n      <td>...</td>\n      <td>NaN</td>\n      <td>False</td>\n      <td>NaN</td>\n      <td>NaN</td>\n      <td>False</td>\n      <td>NaN</td>\n      <td>NaN</td>\n      <td>NaN</td>\n      <td>never</td>\n      <td>NaN</td>\n    </tr>\n    <tr>\n      <th>13808</th>\n      <td>25496</td>\n      <td>fff2be62-a93b-4ba5-a901-65ee9059f9c7</td>\n      <td>eef1bb46-64c9-4d62-bce9-b6c7e08bb18f</td>\n      <td>2020-02-12T13:46:19.435000+00:00</td>\n      <td>2020-02-12T14:25:53.618000+00:00</td>\n      <td>2.0</td>\n      <td>1.0</td>\n      <td>0.0</td>\n      <td>0</td>\n      <td>0</td>\n      <td>...</td>\n      <td>NaN</td>\n      <td>False</td>\n      <td>NaN</td>\n      <td>NaN</td>\n      <td>False</td>\n      <td>NaN</td>\n      <td>NaN</td>\n      <td>NaN</td>\n      <td>never</td>\n      <td>NaN</td>\n    </tr>\n    <tr>\n      <th>13809</th>\n      <td>7263</td>\n      <td>fff87f2d-462a-4732-bb24-43092a2048a4</td>\n      <td>24cc65d8-6b68-4016-9c61-3d6431b62450</td>\n      <td>2019-11-19T03:20:20.152000+00:00</td>\n      <td>2019-11-19T03:30:58.610000+00:00</td>\n      <td>2.0</td>\n      <td>1.0</td>\n      <td>0.0</td>\n      <td>0</td>\n      <td>0</td>\n      <td>...</td>\n      <td>NaN</td>\n      <td>False</td>\n      <td>NaN</td>\n      <td>NaN</td>\n      <td>False</td>\n      <td>NaN</td>\n      <td>NaN</td>\n      <td>NaN</td>\n      <td>never</td>\n      <td>NaN</td>\n    </tr>\n    <tr>\n      <th>13810</th>\n      <td>26173</td>\n      <td>fffde26a-0148-456c-ba0d-8f7ab829712e</td>\n      <td>420d305e-1cca-4ecc-9f81-cc6a8d4d303e</td>\n      <td>2020-02-24T16:58:13.223000+00:00</td>\n      <td>2020-02-24T17:05:43.973000+00:00</td>\n      <td>2.0</td>\n      <td>1.0</td>\n      <td>0.0</td>\n      <td>0</td>\n      <td>0</td>\n      <td>...</td>\n      <td>NaN</td>\n      <td>False</td>\n      <td>NaN</td>\n      <td>NaN</td>\n      <td>False</td>\n      <td>NaN</td>\n      <td>NaN</td>\n      <td>NaN</td>\n      <td>never</td>\n      <td>NaN</td>\n    </tr>\n  </tbody>\n</table>\n<p>13811 rows × 73 columns</p>\n</div>"
     },
     "metadata": {}
    }
   ]
  },
  {
   "cell_type": "markdown",
   "source": "Running the same pre-processing steps as above",
   "metadata": {
    "cell_id": "c4224ce9-1e3a-4800-a3bc-3e7ddbea50a4",
    "tags": [],
    "is_collapsed": false,
    "deepnote_cell_type": "text-cell-p"
   }
  },
  {
   "cell_type": "code",
   "metadata": {
    "cell_id": "fb4b37c3-fb8a-484f-bbc3-4006b92a75fa",
    "tags": [],
    "deepnote_to_be_reexecuted": false,
    "source_hash": "bb67cb93",
    "execution_start": 1647635810879,
    "execution_millis": 45,
    "deepnote_cell_type": "code",
    "deepnote_cell_height": 135
   },
   "source": "sub_use = sub_use.drop(index=0)\nsub_use['Participant Num'] = sub_use['Participant Num'].astype(int)\nsub_use['Join Date'] = pd.to_datetime(sub_use['Join Date'])\nsub_use.sort_values(by=['Participant Num','Join Date'],inplace=True)",
   "execution_count": null,
   "outputs": []
  },
  {
   "cell_type": "code",
   "metadata": {
    "cell_id": "5d803eea-9d0b-4f47-a7ab-cb0feba43d12",
    "tags": [],
    "deepnote_to_be_reexecuted": false,
    "source_hash": "31cc7162",
    "execution_start": 1647635810930,
    "execution_millis": 2,
    "deepnote_cell_type": "code",
    "deepnote_cell_height": 81
   },
   "source": "len_sub_use_before_cleaning = len(sub_use)",
   "execution_count": null,
   "outputs": []
  },
  {
   "cell_type": "markdown",
   "source": "### Cleaning",
   "metadata": {
    "cell_id": "e0b0d977-5f90-4925-9c71-613843e54811",
    "tags": [],
    "is_collapsed": false,
    "deepnote_cell_type": "text-cell-h3"
   }
  },
  {
   "cell_type": "markdown",
   "source": "Checking if there are participants with double-entries and dropping the SECOND entry",
   "metadata": {
    "cell_id": "62f968fa-97c7-456e-98fe-e3eab0f188d6",
    "tags": [],
    "is_collapsed": false,
    "deepnote_cell_type": "text-cell-p"
   }
  },
  {
   "cell_type": "code",
   "metadata": {
    "cell_id": "ae7b4688-d79c-4ce8-884a-bcdd9366c253",
    "tags": [],
    "deepnote_to_be_reexecuted": false,
    "source_hash": "7e2301c0",
    "execution_start": 1647635810937,
    "execution_millis": 45,
    "deepnote_cell_type": "code",
    "deepnote_cell_height": 257.9375,
    "deepnote_output_heights": [
     null,
     79
    ]
   },
   "source": "double_entries_sub_use = sub_use[sub_use.groupby('Participant Num')['Participant Num'].transform('size') > 1]\nprint(\"Number of duplicated entries (first and second count): \", double_entries_sub_use['Participant Num'].count())\ndouble_entries_sub_use['Participant Num'].unique()",
   "execution_count": null,
   "outputs": [
    {
     "name": "stdout",
     "text": "Number of duplicated entries (first and second count):  62\n",
     "output_type": "stream"
    },
    {
     "output_type": "execute_result",
     "execution_count": 42,
     "data": {
      "text/plain": "array([ 2359,  4278,  4689,  5489, 15467, 16141, 17060, 24051, 25031,\n       25486, 26705, 28542, 28723, 29083, 29543, 30317, 30332, 30583,\n       30697, 30814, 30906, 31186, 32293, 32775, 33407, 34323, 35248,\n       37875, 40778, 40984, 42232])"
     },
     "metadata": {}
    }
   ]
  },
  {
   "cell_type": "code",
   "metadata": {
    "tags": [],
    "cell_id": "00038-113df142-8c00-40e6-844a-b973d8fab4c2",
    "deepnote_to_be_reexecuted": false,
    "source_hash": "e93b25ff",
    "execution_start": 1647635810980,
    "execution_millis": 0,
    "deepnote_cell_type": "code",
    "deepnote_cell_height": 135
   },
   "source": "to_drop_sub_use = []\nfor i, element in enumerate(double_entries_sub_use.index):\n    if i % 2 == 1:\n        to_drop_sub_use.append(element)",
   "execution_count": null,
   "outputs": []
  },
  {
   "cell_type": "code",
   "metadata": {
    "cell_id": "44397b66-868e-4b11-9b5a-c54ebd0ef06b",
    "tags": [],
    "deepnote_to_be_reexecuted": false,
    "source_hash": "3e25b680",
    "execution_start": 1647635810980,
    "execution_millis": 3,
    "deepnote_cell_type": "code",
    "deepnote_cell_height": 154.1875,
    "deepnote_output_heights": [
     21
    ]
   },
   "source": "sub_use.drop(index=to_drop_sub_use, inplace=True)\n\nlen(sub_use)",
   "execution_count": null,
   "outputs": [
    {
     "output_type": "execute_result",
     "execution_count": 44,
     "data": {
      "text/plain": "13779"
     },
     "metadata": {}
    }
   ]
  },
  {
   "cell_type": "code",
   "metadata": {
    "cell_id": "098cc33e-7784-4d17-9466-81540ec8b91f",
    "tags": [],
    "deepnote_to_be_reexecuted": false,
    "source_hash": "5e888b56",
    "execution_start": 1647635810981,
    "execution_millis": 0,
    "deepnote_cell_type": "code",
    "deepnote_cell_height": 112.1875
   },
   "source": "print(\"Number of entries that were dropped: \", len_sub_use_before_cleaning - len(sub_use))",
   "execution_count": null,
   "outputs": [
    {
     "name": "stdout",
     "text": "Number of entries that were dropped:  31\n",
     "output_type": "stream"
    }
   ]
  },
  {
   "cell_type": "code",
   "metadata": {
    "cell_id": "af2ce29f-47d0-4b5a-88ce-b16c9cbd7dca",
    "tags": [],
    "deepnote_to_be_reexecuted": false,
    "source_hash": "e014796a",
    "execution_start": 1647635810985,
    "execution_millis": 150,
    "deepnote_cell_type": "code",
    "deepnote_cell_height": 229
   },
   "source": "sub_use[sub_use[\"Participant Num\"] == 28723]",
   "execution_count": null,
   "outputs": [
    {
     "output_type": "execute_result",
     "execution_count": 46,
     "data": {
      "application/vnd.deepnote.dataframe.v3+json": {
       "column_count": 73,
       "row_count": 1,
       "columns": [
        {
         "name": "Participant Num",
         "dtype": "int64",
         "stats": {
          "unique_count": 1,
          "nan_count": 0,
          "min": "28723",
          "max": "28723",
          "histogram": [
           {
            "bin_start": 28722.5,
            "bin_end": 28722.6,
            "count": 0
           },
           {
            "bin_start": 28722.6,
            "bin_end": 28722.7,
            "count": 0
           },
           {
            "bin_start": 28722.7,
            "bin_end": 28722.8,
            "count": 0
           },
           {
            "bin_start": 28722.8,
            "bin_end": 28722.9,
            "count": 0
           },
           {
            "bin_start": 28722.9,
            "bin_end": 28723,
            "count": 0
           },
           {
            "bin_start": 28723,
            "bin_end": 28723.1,
            "count": 1
           },
           {
            "bin_start": 28723.1,
            "bin_end": 28723.2,
            "count": 0
           },
           {
            "bin_start": 28723.2,
            "bin_end": 28723.3,
            "count": 0
           },
           {
            "bin_start": 28723.3,
            "bin_end": 28723.4,
            "count": 0
           },
           {
            "bin_start": 28723.4,
            "bin_end": 28723.5,
            "count": 0
           }
          ]
         }
        },
        {
         "name": "Participant ID",
         "dtype": "object",
         "stats": {
          "unique_count": 1,
          "nan_count": 0,
          "categories": [
           {
            "name": "596cdd2e-b86f-42aa-b59d-26246d7881bb",
            "count": 1
           }
          ]
         }
        },
        {
         "name": "Response ID",
         "dtype": "object",
         "stats": {
          "unique_count": 1,
          "nan_count": 0,
          "categories": [
           {
            "name": "a52b6af5-0bcf-452c-bdd3-c1565e5ef346",
            "count": 1
           }
          ]
         }
        },
        {
         "name": "Join Date",
         "dtype": "datetime64[ns, UTC]",
         "stats": {
          "unique_count": 1,
          "nan_count": 0,
          "min": "2020-05-08 19:14:18.046000+00:00",
          "max": "2020-05-08 19:14:18.046000+00:00",
          "histogram": null
         }
        },
        {
         "name": "Submitted Date",
         "dtype": "object",
         "stats": {
          "unique_count": 1,
          "nan_count": 0,
          "categories": [
           {
            "name": "2020-05-08T19:35:44.085000+00:00",
            "count": 1
           }
          ]
         }
        },
        {
         "name": "Index (Global)",
         "dtype": "object",
         "stats": {
          "unique_count": 1,
          "nan_count": 0,
          "categories": [
           {
            "name": "2",
            "count": 1
           }
          ]
         }
        },
        {
         "name": "Index",
         "dtype": "object",
         "stats": {
          "unique_count": 1,
          "nan_count": 0,
          "categories": [
           {
            "name": "1",
            "count": 1
           }
          ]
         }
        },
        {
         "name": "Participation Days",
         "dtype": "object",
         "stats": {
          "unique_count": 1,
          "nan_count": 0,
          "categories": [
           {
            "name": "1",
            "count": 1
           }
          ]
         }
        },
        {
         "name": "Participation Day",
         "dtype": "object",
         "stats": {
          "unique_count": 1,
          "nan_count": 0,
          "categories": [
           {
            "name": "0",
            "count": 1
           }
          ]
         }
        },
        {
         "name": "Month Index",
         "dtype": "object",
         "stats": {
          "unique_count": 1,
          "nan_count": 0,
          "categories": [
           {
            "name": "0",
            "count": 1
           }
          ]
         }
        },
        {
         "name": "Scoring",
         "dtype": "object",
         "stats": {
          "unique_count": 1,
          "nan_count": 0,
          "categories": [
           {
            "name": "{}",
            "count": 1
           }
          ]
         }
        },
        {
         "name": "Are you currently engaged in a regular practice of microdosing?",
         "dtype": "object",
         "stats": {
          "unique_count": 1,
          "nan_count": 0,
          "categories": [
           {
            "name": "True",
            "count": 1
           }
          ]
         }
        },
        {
         "name": "What are you microdosing with?",
         "dtype": "object",
         "stats": {
          "unique_count": 1,
          "nan_count": 0,
          "categories": [
           {
            "name": "psilocybin",
            "count": 1
           }
          ]
         }
        },
        {
         "name": "What other substance do you microdose with?",
         "dtype": "object",
         "stats": {
          "unique_count": 0,
          "nan_count": 1,
          "categories": [
           {
            "name": "Missing",
            "count": 1
           }
          ]
         }
        },
        {
         "name": "What dosage of LSD do you take per administration?",
         "dtype": "object",
         "stats": {
          "unique_count": 0,
          "nan_count": 1,
          "categories": [
           {
            "name": "Missing",
            "count": 1
           }
          ]
         }
        },
        {
         "name": "What dosage of psilocybin do you take per administration?",
         "dtype": "object",
         "stats": {
          "unique_count": 1,
          "nan_count": 0,
          "categories": [
           {
            "name": "medmd",
            "count": 1
           }
          ]
         }
        },
        {
         "name": "What dosage do you take per administration?",
         "dtype": "object",
         "stats": {
          "unique_count": 0,
          "nan_count": 1,
          "categories": [
           {
            "name": "Missing",
            "count": 1
           }
          ]
         }
        },
        {
         "name": "Do you \"stack\" your microdose with anything? \"Stacking\" refers to combining the microdosing substance with another substance with the idea of enhancing the effects. (Select all that apply)",
         "dtype": "object",
         "stats": {
          "unique_count": 1,
          "nan_count": 0,
          "categories": [
           {
            "name": "lionsmane, niacin",
            "count": 1
           }
          ]
         }
        },
        {
         "name": "If you selected 'Other', or can provide additional dosage information, please specify:",
         "dtype": "object",
         "stats": {
          "unique_count": 0,
          "nan_count": 1,
          "categories": [
           {
            "name": "Missing",
            "count": 1
           }
          ]
         }
        },
        {
         "name": "When microdosing, are you consuming prepared products (pre-weighted pills, microdosing blotter, etc.)",
         "dtype": "object",
         "stats": {
          "unique_count": 1,
          "nan_count": 0,
          "categories": [
           {
            "name": "True",
            "count": 1
           }
          ]
         }
        },
        {
         "name": "Are you following a specific microdosing protocol?",
         "dtype": "object",
         "stats": {
          "unique_count": 1,
          "nan_count": 0,
          "categories": [
           {
            "name": "True",
            "count": 1
           }
          ]
         }
        },
        {
         "name": "What microdosing protocol(s) are you following?",
         "dtype": "object",
         "stats": {
          "unique_count": 1,
          "nan_count": 0,
          "categories": [
           {
            "name": "Stamets, five days on, two days off",
            "count": 1
           }
          ]
         }
        },
        {
         "name": "On average, how often do you microdose?",
         "dtype": "object",
         "stats": {
          "unique_count": 1,
          "nan_count": 0,
          "categories": [
           {
            "name": "5week",
            "count": 1
           }
          ]
         }
        },
        {
         "name": "Please specify how often you microdose on average:",
         "dtype": "object",
         "stats": {
          "unique_count": 0,
          "nan_count": 1,
          "categories": [
           {
            "name": "Missing",
            "count": 1
           }
          ]
         }
        },
        {
         "name": "How long have you been microdosing?",
         "dtype": "object",
         "stats": {
          "unique_count": 1,
          "nan_count": 0,
          "categories": [
           {
            "name": "<1",
            "count": 1
           }
          ]
         }
        },
        {
         "name": "Why did you start microdosing? (Select all that apply)",
         "dtype": "object",
         "stats": {
          "unique_count": 1,
          "nan_count": 0,
          "categories": [
           {
            "name": "2, 3, 4, 5, 9, 10, 11, 15, 16",
            "count": 1
           }
          ]
         }
        },
        {
         "name": "If you selected 'Other', please specify:",
         "dtype": "object",
         "stats": {
          "unique_count": 0,
          "nan_count": 1,
          "categories": [
           {
            "name": "Missing",
            "count": 1
           }
          ]
         }
        },
        {
         "name": "How often do you consume alcohol?",
         "dtype": "object",
         "stats": {
          "unique_count": 1,
          "nan_count": 0,
          "categories": [
           {
            "name": "occasionally",
            "count": 1
           }
          ]
         }
        },
        {
         "name": "How often do you consume, vape, or smoke cannabis?",
         "dtype": "object",
         "stats": {
          "unique_count": 1,
          "nan_count": 0,
          "categories": [
           {
            "name": "5+week",
            "count": 1
           }
          ]
         }
        },
        {
         "name": "How often do you consume CBD?",
         "dtype": "object",
         "stats": {
          "unique_count": 1,
          "nan_count": 0,
          "categories": [
           {
            "name": "occasionally",
            "count": 1
           }
          ]
         }
        },
        {
         "name": "How often do you use nicotine-based products?",
         "dtype": "object",
         "stats": {
          "unique_count": 1,
          "nan_count": 0,
          "categories": [
           {
            "name": "never",
            "count": 1
           }
          ]
         }
        },
        {
         "name": "LSD (Acid)?",
         "dtype": "object",
         "stats": {
          "unique_count": 1,
          "nan_count": 0,
          "categories": [
           {
            "name": "True",
            "count": 1
           }
          ]
         }
        },
        {
         "name": "How many times in the past year?",
         "dtype": "object",
         "stats": {
          "unique_count": 1,
          "nan_count": 0,
          "categories": [
           {
            "name": "never",
            "count": 1
           }
          ]
         }
        },
        {
         "name": "How many times in your lifetime?",
         "dtype": "object",
         "stats": {
          "unique_count": 1,
          "nan_count": 0,
          "categories": [
           {
            "name": "21-50",
            "count": 1
           }
          ]
         }
        },
        {
         "name": "Psilocybin (Magic Mushrooms)?",
         "dtype": "object",
         "stats": {
          "unique_count": 1,
          "nan_count": 0,
          "categories": [
           {
            "name": "True",
            "count": 1
           }
          ]
         }
        },
        {
         "name": "How many times in the past year?.1",
         "dtype": "object",
         "stats": {
          "unique_count": 1,
          "nan_count": 0,
          "categories": [
           {
            "name": ">10",
            "count": 1
           }
          ]
         }
        },
        {
         "name": "How many times in your lifetime?.1",
         "dtype": "object",
         "stats": {
          "unique_count": 1,
          "nan_count": 0,
          "categories": [
           {
            "name": "21-50",
            "count": 1
           }
          ]
         }
        },
        {
         "name": "MDMA?",
         "dtype": "object",
         "stats": {
          "unique_count": 1,
          "nan_count": 0,
          "categories": [
           {
            "name": "True",
            "count": 1
           }
          ]
         }
        },
        {
         "name": "How many times in the past year?.2",
         "dtype": "object",
         "stats": {
          "unique_count": 1,
          "nan_count": 0,
          "categories": [
           {
            "name": "never",
            "count": 1
           }
          ]
         }
        },
        {
         "name": "How many times in your lifetime?.2",
         "dtype": "object",
         "stats": {
          "unique_count": 1,
          "nan_count": 0,
          "categories": [
           {
            "name": "11-20",
            "count": 1
           }
          ]
         }
        },
        {
         "name": "Ketamine?",
         "dtype": "object",
         "stats": {
          "unique_count": 1,
          "nan_count": 0,
          "categories": [
           {
            "name": "False",
            "count": 1
           }
          ]
         }
        },
        {
         "name": "How many times in the past year?.3",
         "dtype": "object",
         "stats": {
          "unique_count": 0,
          "nan_count": 1,
          "categories": [
           {
            "name": "Missing",
            "count": 1
           }
          ]
         }
        },
        {
         "name": "How many times in your lifetime?.3",
         "dtype": "object",
         "stats": {
          "unique_count": 0,
          "nan_count": 1,
          "categories": [
           {
            "name": "Missing",
            "count": 1
           }
          ]
         }
        },
        {
         "name": "Mescaline?",
         "dtype": "object",
         "stats": {
          "unique_count": 1,
          "nan_count": 0,
          "categories": [
           {
            "name": "False",
            "count": 1
           }
          ]
         }
        },
        {
         "name": "How many times in the past year?.4",
         "dtype": "object",
         "stats": {
          "unique_count": 0,
          "nan_count": 1,
          "categories": [
           {
            "name": "Missing",
            "count": 1
           }
          ]
         }
        },
        {
         "name": "How many times in your lifetime?.4",
         "dtype": "object",
         "stats": {
          "unique_count": 0,
          "nan_count": 1,
          "categories": [
           {
            "name": "Missing",
            "count": 1
           }
          ]
         }
        },
        {
         "name": "Dimethyltryptamine (DMT)?",
         "dtype": "object",
         "stats": {
          "unique_count": 1,
          "nan_count": 0,
          "categories": [
           {
            "name": "True",
            "count": 1
           }
          ]
         }
        },
        {
         "name": "How many times in the past year?.5",
         "dtype": "object",
         "stats": {
          "unique_count": 1,
          "nan_count": 0,
          "categories": [
           {
            "name": ">10",
            "count": 1
           }
          ]
         }
        },
        {
         "name": "How many times in your lifetime?.5",
         "dtype": "object",
         "stats": {
          "unique_count": 1,
          "nan_count": 0,
          "categories": [
           {
            "name": "21-50",
            "count": 1
           }
          ]
         }
        },
        {
         "name": "Ayahuasca?",
         "dtype": "object",
         "stats": {
          "unique_count": 1,
          "nan_count": 0,
          "categories": [
           {
            "name": "False",
            "count": 1
           }
          ]
         }
        },
        {
         "name": "How many times in the past year?.6",
         "dtype": "object",
         "stats": {
          "unique_count": 0,
          "nan_count": 1,
          "categories": [
           {
            "name": "Missing",
            "count": 1
           }
          ]
         }
        },
        {
         "name": "How many times in your lifetime?.6",
         "dtype": "object",
         "stats": {
          "unique_count": 0,
          "nan_count": 1,
          "categories": [
           {
            "name": "Missing",
            "count": 1
           }
          ]
         }
        },
        {
         "name": "3-MMC?",
         "dtype": "object",
         "stats": {
          "unique_count": 1,
          "nan_count": 0,
          "categories": [
           {
            "name": "False",
            "count": 1
           }
          ]
         }
        },
        {
         "name": "How many times in the past year?.7",
         "dtype": "object",
         "stats": {
          "unique_count": 0,
          "nan_count": 1,
          "categories": [
           {
            "name": "Missing",
            "count": 1
           }
          ]
         }
        },
        {
         "name": "How many times in your lifetime?.7",
         "dtype": "object",
         "stats": {
          "unique_count": 0,
          "nan_count": 1,
          "categories": [
           {
            "name": "Missing",
            "count": 1
           }
          ]
         }
        },
        {
         "name": "Ibogaine?",
         "dtype": "object",
         "stats": {
          "unique_count": 1,
          "nan_count": 0,
          "categories": [
           {
            "name": "False",
            "count": 1
           }
          ]
         }
        },
        {
         "name": "How many times in the past year?.8",
         "dtype": "object",
         "stats": {
          "unique_count": 0,
          "nan_count": 1,
          "categories": [
           {
            "name": "Missing",
            "count": 1
           }
          ]
         }
        },
        {
         "name": "How many times in your lifetime?.8",
         "dtype": "object",
         "stats": {
          "unique_count": 0,
          "nan_count": 1,
          "categories": [
           {
            "name": "Missing",
            "count": 1
           }
          ]
         }
        },
        {
         "name": "Salvia?",
         "dtype": "object",
         "stats": {
          "unique_count": 1,
          "nan_count": 0,
          "categories": [
           {
            "name": "True",
            "count": 1
           }
          ]
         }
        },
        {
         "name": "How many times in the past year?.9",
         "dtype": "object",
         "stats": {
          "unique_count": 1,
          "nan_count": 0,
          "categories": [
           {
            "name": "never",
            "count": 1
           }
          ]
         }
        },
        {
         "name": "How many times in your lifetime?.9",
         "dtype": "object",
         "stats": {
          "unique_count": 1,
          "nan_count": 0,
          "categories": [
           {
            "name": "1-2",
            "count": 1
           }
          ]
         }
        },
        {
         "name": "Other Lysergamides (e.g. 1P-LSD, ALD-52)?",
         "dtype": "object",
         "stats": {
          "unique_count": 1,
          "nan_count": 0,
          "categories": [
           {
            "name": "False",
            "count": 1
           }
          ]
         }
        },
        {
         "name": "How many times in the past year?.10",
         "dtype": "object",
         "stats": {
          "unique_count": 0,
          "nan_count": 1,
          "categories": [
           {
            "name": "Missing",
            "count": 1
           }
          ]
         }
        },
        {
         "name": "How many times in your lifetime?.10",
         "dtype": "object",
         "stats": {
          "unique_count": 0,
          "nan_count": 1,
          "categories": [
           {
            "name": "Missing",
            "count": 1
           }
          ]
         }
        },
        {
         "name": "Other Tryptamines (e.g. 4-AcO-DMT)?",
         "dtype": "object",
         "stats": {
          "unique_count": 1,
          "nan_count": 0,
          "categories": [
           {
            "name": "False",
            "count": 1
           }
          ]
         }
        },
        {
         "name": "How many times in the past year?.11",
         "dtype": "object",
         "stats": {
          "unique_count": 0,
          "nan_count": 1,
          "categories": [
           {
            "name": "Missing",
            "count": 1
           }
          ]
         }
        },
        {
         "name": "How many times in your lifetime?.11",
         "dtype": "object",
         "stats": {
          "unique_count": 0,
          "nan_count": 1,
          "categories": [
           {
            "name": "Missing",
            "count": 1
           }
          ]
         }
        },
        {
         "name": "Phenethylamines (2C family)?",
         "dtype": "object",
         "stats": {
          "unique_count": 1,
          "nan_count": 0,
          "categories": [
           {
            "name": "False",
            "count": 1
           }
          ]
         }
        },
        {
         "name": "How many times in the past year?.12",
         "dtype": "object",
         "stats": {
          "unique_count": 0,
          "nan_count": 1,
          "categories": [
           {
            "name": "Missing",
            "count": 1
           }
          ]
         }
        },
        {
         "name": "How many times in your lifetime?.12",
         "dtype": "object",
         "stats": {
          "unique_count": 0,
          "nan_count": 1,
          "categories": [
           {
            "name": "Missing",
            "count": 1
           }
          ]
         }
        },
        {
         "name": "Any other psychedelics? If so, please specify:",
         "dtype": "object",
         "stats": {
          "unique_count": 0,
          "nan_count": 1,
          "categories": [
           {
            "name": "Missing",
            "count": 1
           }
          ]
         }
        },
        {
         "name": "How many times in the past year?.13",
         "dtype": "object",
         "stats": {
          "unique_count": 1,
          "nan_count": 0,
          "categories": [
           {
            "name": "never",
            "count": 1
           }
          ]
         }
        },
        {
         "name": "How many times in your lifetime?.13",
         "dtype": "object",
         "stats": {
          "unique_count": 0,
          "nan_count": 1,
          "categories": [
           {
            "name": "Missing",
            "count": 1
           }
          ]
         }
        },
        {
         "name": "_deepnote_index_column",
         "dtype": "int64"
        }
       ],
       "rows": [
        {
         "Participant Num": 28723,
         "Participant ID": "596cdd2e-b86f-42aa-b59d-26246d7881bb",
         "Response ID": "a52b6af5-0bcf-452c-bdd3-c1565e5ef346",
         "Join Date": "2020-05-08T19:14:18.046000",
         "Submitted Date": "2020-05-08T19:35:44.085000+00:00",
         "Index (Global)": "2",
         "Index": "1",
         "Participation Days": "1",
         "Participation Day": "0",
         "Month Index": "0",
         "Scoring": "{}",
         "Are you currently engaged in a regular practice of microdosing?": "True",
         "What are you microdosing with?": "psilocybin",
         "What other substance do you microdose with?": "nan",
         "What dosage of LSD do you take per administration?": "nan",
         "What dosage of psilocybin do you take per administration?": "medmd",
         "What dosage do you take per administration?": "nan",
         "Do you \"stack\" your microdose with anything? \"Stacking\" refers to combining the microdosing substance with another substance with the idea of enhancing the effects. (Select all that apply)": "lionsmane, niacin",
         "If you selected 'Other', or can provide additional dosage information, please specify:": "nan",
         "When microdosing, are you consuming prepared products (pre-weighted pills, microdosing blotter, etc.)": "True",
         "Are you following a specific microdosing protocol?": "True",
         "What microdosing protocol(s) are you following?": "Stamets, five days on, two days off",
         "On average, how often do you microdose?": "5week",
         "Please specify how often you microdose on average:": "nan",
         "How long have you been microdosing?": "<1",
         "Why did you start microdosing? (Select all that apply)": "2, 3, 4, 5, 9, 10, 11, 15, 16",
         "If you selected 'Other', please specify:": "nan",
         "How often do you consume alcohol?": "occasionally",
         "How often do you consume, vape, or smoke cannabis?": "5+week",
         "How often do you consume CBD?": "occasionally",
         "How often do you use nicotine-based products?": "never",
         "LSD (Acid)?": "True",
         "How many times in the past year?": "never",
         "How many times in your lifetime?": "21-50",
         "Psilocybin (Magic Mushrooms)?": "True",
         "How many times in the past year?.1": ">10",
         "How many times in your lifetime?.1": "21-50",
         "MDMA?": "True",
         "How many times in the past year?.2": "never",
         "How many times in your lifetime?.2": "11-20",
         "Ketamine?": "False",
         "How many times in the past year?.3": "nan",
         "How many times in your lifetime?.3": "nan",
         "Mescaline?": "False",
         "How many times in the past year?.4": "nan",
         "How many times in your lifetime?.4": "nan",
         "Dimethyltryptamine (DMT)?": "True",
         "How many times in the past year?.5": ">10",
         "How many times in your lifetime?.5": "21-50",
         "Ayahuasca?": "False",
         "How many times in the past year?.6": "nan",
         "How many times in your lifetime?.6": "nan",
         "3-MMC?": "False",
         "How many times in the past year?.7": "nan",
         "How many times in your lifetime?.7": "nan",
         "Ibogaine?": "False",
         "How many times in the past year?.8": "nan",
         "How many times in your lifetime?.8": "nan",
         "Salvia?": "True",
         "How many times in the past year?.9": "never",
         "How many times in your lifetime?.9": "1-2",
         "Other Lysergamides (e.g. 1P-LSD, ALD-52)?": "False",
         "How many times in the past year?.10": "nan",
         "How many times in your lifetime?.10": "nan",
         "Other Tryptamines (e.g. 4-AcO-DMT)?": "False",
         "How many times in the past year?.11": "nan",
         "How many times in your lifetime?.11": "nan",
         "Phenethylamines (2C family)?": "False",
         "How many times in the past year?.12": "nan",
         "How many times in your lifetime?.12": "nan",
         "Any other psychedelics? If so, please specify:": "nan",
         "How many times in the past year?.13": "never",
         "How many times in your lifetime?.13": "nan",
         "_deepnote_index_column": 4769
        }
       ]
      },
      "text/plain": "      Participant Num                        Participant ID  \\\n4769            28723  596cdd2e-b86f-42aa-b59d-26246d7881bb   \n\n                               Response ID                        Join Date  \\\n4769  a52b6af5-0bcf-452c-bdd3-c1565e5ef346 2020-05-08 19:14:18.046000+00:00   \n\n                        Submitted Date Index (Global) Index  \\\n4769  2020-05-08T19:35:44.085000+00:00              2     1   \n\n     Participation Days Participation Day Month Index  ...  \\\n4769                  1                 0           0  ...   \n\n     How many times in your lifetime?.10 Other Tryptamines (e.g. 4-AcO-DMT)?  \\\n4769                                 NaN                               False   \n\n     How many times in the past year?.11 How many times in your lifetime?.11  \\\n4769                                 NaN                                 NaN   \n\n     Phenethylamines (2C family)? How many times in the past year?.12  \\\n4769                        False                                 NaN   \n\n     How many times in your lifetime?.12  \\\n4769                                 NaN   \n\n     Any other psychedelics? If so, please specify:  \\\n4769                                            NaN   \n\n     How many times in the past year?.13 How many times in your lifetime?.13  \n4769                               never                                 NaN  \n\n[1 rows x 73 columns]",
      "text/html": "<div>\n<style scoped>\n    .dataframe tbody tr th:only-of-type {\n        vertical-align: middle;\n    }\n\n    .dataframe tbody tr th {\n        vertical-align: top;\n    }\n\n    .dataframe thead th {\n        text-align: right;\n    }\n</style>\n<table border=\"1\" class=\"dataframe\">\n  <thead>\n    <tr style=\"text-align: right;\">\n      <th></th>\n      <th>Participant Num</th>\n      <th>Participant ID</th>\n      <th>Response ID</th>\n      <th>Join Date</th>\n      <th>Submitted Date</th>\n      <th>Index (Global)</th>\n      <th>Index</th>\n      <th>Participation Days</th>\n      <th>Participation Day</th>\n      <th>Month Index</th>\n      <th>...</th>\n      <th>How many times in your lifetime?.10</th>\n      <th>Other Tryptamines (e.g. 4-AcO-DMT)?</th>\n      <th>How many times in the past year?.11</th>\n      <th>How many times in your lifetime?.11</th>\n      <th>Phenethylamines (2C family)?</th>\n      <th>How many times in the past year?.12</th>\n      <th>How many times in your lifetime?.12</th>\n      <th>Any other psychedelics? If so, please specify:</th>\n      <th>How many times in the past year?.13</th>\n      <th>How many times in your lifetime?.13</th>\n    </tr>\n  </thead>\n  <tbody>\n    <tr>\n      <th>4769</th>\n      <td>28723</td>\n      <td>596cdd2e-b86f-42aa-b59d-26246d7881bb</td>\n      <td>a52b6af5-0bcf-452c-bdd3-c1565e5ef346</td>\n      <td>2020-05-08 19:14:18.046000+00:00</td>\n      <td>2020-05-08T19:35:44.085000+00:00</td>\n      <td>2</td>\n      <td>1</td>\n      <td>1</td>\n      <td>0</td>\n      <td>0</td>\n      <td>...</td>\n      <td>NaN</td>\n      <td>False</td>\n      <td>NaN</td>\n      <td>NaN</td>\n      <td>False</td>\n      <td>NaN</td>\n      <td>NaN</td>\n      <td>NaN</td>\n      <td>never</td>\n      <td>NaN</td>\n    </tr>\n  </tbody>\n</table>\n<p>1 rows × 73 columns</p>\n</div>"
     },
     "metadata": {}
    }
   ]
  },
  {
   "cell_type": "markdown",
   "source": "### Cleaning",
   "metadata": {
    "tags": [],
    "is_collapsed": false,
    "cell_id": "00071-1a65308d-bf4a-4d6f-aea7-9c2f7d93c8fa",
    "deepnote_cell_type": "text-cell-h3"
   }
  },
  {
   "cell_type": "markdown",
   "source": "Dropping unnecessary cols",
   "metadata": {
    "tags": [],
    "is_collapsed": false,
    "cell_id": "00072-82eee1a9-0a99-4e75-816f-fbc07fa474e3",
    "deepnote_cell_type": "text-cell-p"
   }
  },
  {
   "cell_type": "code",
   "metadata": {
    "tags": [],
    "deepnote_to_be_reexecuted": false,
    "source_hash": "17096c5f",
    "execution_start": 1647635811139,
    "execution_millis": 22,
    "cell_id": "00073-668c95c3-b5a9-4923-9142-2fea5a62e60d",
    "deepnote_cell_type": "code",
    "deepnote_cell_height": 704,
    "deepnote_output_heights": [
     611
    ]
   },
   "source": "sub_use.columns.to_list()",
   "execution_count": null,
   "outputs": [
    {
     "output_type": "execute_result",
     "execution_count": 47,
     "data": {
      "text/plain": "['Participant Num',\n 'Participant ID',\n 'Response ID',\n 'Join Date',\n 'Submitted Date',\n 'Index (Global)',\n 'Index',\n 'Participation Days',\n 'Participation Day',\n 'Month Index',\n 'Scoring',\n 'Are you currently engaged in a regular practice of microdosing?',\n 'What are you microdosing with?',\n 'What other substance do you microdose with?',\n 'What dosage of LSD do you take per administration?',\n 'What dosage of psilocybin do you take per administration?',\n 'What dosage do you take per administration?',\n 'Do you \"stack\" your microdose with anything? \"Stacking\" refers to combining the microdosing substance with another substance with the idea of enhancing the effects. (Select all that apply)',\n \"If you selected 'Other', or can provide additional dosage information, please specify:\",\n 'When microdosing, are you consuming prepared products (pre-weighted pills, microdosing blotter, etc.)',\n 'Are you following a specific microdosing protocol?',\n 'What microdosing protocol(s) are you following?',\n 'On average, how often do you microdose?',\n 'Please specify how often you microdose on average:',\n 'How long have you been microdosing?',\n 'Why did you start microdosing? (Select all that apply)',\n \"If you selected 'Other', please specify:\",\n 'How often do you consume alcohol?',\n 'How often do you consume, vape, or smoke cannabis?',\n 'How often do you consume CBD?',\n 'How often do you use nicotine-based products?',\n 'LSD (Acid)?',\n 'How many times in the past year?',\n 'How many times in your lifetime?',\n 'Psilocybin (Magic Mushrooms)?',\n 'How many times in the past year?.1',\n 'How many times in your lifetime?.1',\n 'MDMA?',\n 'How many times in the past year?.2',\n 'How many times in your lifetime?.2',\n 'Ketamine?',\n 'How many times in the past year?.3',\n 'How many times in your lifetime?.3',\n 'Mescaline?',\n 'How many times in the past year?.4',\n 'How many times in your lifetime?.4',\n 'Dimethyltryptamine (DMT)?',\n 'How many times in the past year?.5',\n 'How many times in your lifetime?.5',\n 'Ayahuasca?',\n 'How many times in the past year?.6',\n 'How many times in your lifetime?.6',\n '3-MMC?',\n 'How many times in the past year?.7',\n 'How many times in your lifetime?.7',\n 'Ibogaine?',\n 'How many times in the past year?.8',\n 'How many times in your lifetime?.8',\n 'Salvia?',\n 'How many times in the past year?.9',\n 'How many times in your lifetime?.9',\n 'Other Lysergamides (e.g. 1P-LSD, ALD-52)?',\n 'How many times in the past year?.10',\n 'How many times in your lifetime?.10',\n 'Other Tryptamines (e.g. 4-AcO-DMT)?',\n 'How many times in the past year?.11',\n 'How many times in your lifetime?.11',\n 'Phenethylamines (2C family)?',\n 'How many times in the past year?.12',\n 'How many times in your lifetime?.12',\n 'Any other psychedelics? If so, please specify:',\n 'How many times in the past year?.13',\n 'How many times in your lifetime?.13']"
     },
     "metadata": {}
    }
   ]
  },
  {
   "cell_type": "code",
   "metadata": {
    "tags": [],
    "deepnote_to_be_reexecuted": false,
    "source_hash": "4fa3f057",
    "execution_start": 1647635811149,
    "execution_millis": 1,
    "cell_id": "00074-bb0a1184-8c49-46fe-8366-5dcd1f051a73",
    "deepnote_cell_type": "code",
    "deepnote_cell_height": 1107
   },
   "source": "sub_use = sub_use[[\n 'Participant Num',\n 'Participant ID',\n 'Are you currently engaged in a regular practice of microdosing?',\n 'What are you microdosing with?',\n 'What dosage of LSD do you take per administration?',\n 'What dosage of psilocybin do you take per administration?',\n 'Do you \"stack\" your microdose with anything? \"Stacking\" refers to combining the microdosing substance with another substance with the idea of enhancing the effects. (Select all that apply)',\n 'When microdosing, are you consuming prepared products (pre-weighted pills, microdosing blotter, etc.)',\n 'Are you following a specific microdosing protocol?',\n 'What microdosing protocol(s) are you following?',\n 'On average, how often do you microdose?',\n 'How long have you been microdosing?',\n 'Why did you start microdosing? (Select all that apply)',\n 'How often do you consume alcohol?',\n 'How often do you consume, vape, or smoke cannabis?',\n 'How often do you consume CBD?',\n 'How often do you use nicotine-based products?',\n 'LSD (Acid)?',\n 'How many times in the past year?',\n 'How many times in your lifetime?',\n 'Psilocybin (Magic Mushrooms)?',\n 'How many times in the past year?.1',\n 'How many times in your lifetime?.1',\n 'MDMA?',\n 'How many times in the past year?.2',\n 'How many times in your lifetime?.2',\n 'Ketamine?',\n 'How many times in the past year?.3',\n 'How many times in your lifetime?.3',\n 'Mescaline?',\n 'How many times in the past year?.4',\n 'How many times in your lifetime?.4',\n 'Dimethyltryptamine (DMT)?',\n 'How many times in the past year?.5',\n 'How many times in your lifetime?.5',\n 'Ayahuasca?',\n 'How many times in the past year?.6',\n 'How many times in your lifetime?.6',\n '3-MMC?',\n 'How many times in the past year?.7',\n 'How many times in your lifetime?.7',\n 'Ibogaine?',\n 'How many times in the past year?.8',\n 'How many times in your lifetime?.8',\n 'Salvia?',\n 'How many times in the past year?.9',\n 'How many times in your lifetime?.9',\n 'Other Lysergamides (e.g. 1P-LSD, ALD-52)?',\n 'How many times in the past year?.10',\n 'How many times in your lifetime?.10',\n 'Other Tryptamines (e.g. 4-AcO-DMT)?',\n 'How many times in the past year?.11',\n 'How many times in your lifetime?.11',\n 'Phenethylamines (2C family)?',\n 'How many times in the past year?.12',\n 'How many times in your lifetime?.12',\n]]",
   "execution_count": null,
   "outputs": []
  },
  {
   "cell_type": "code",
   "metadata": {
    "tags": [],
    "deepnote_to_be_reexecuted": false,
    "source_hash": "4ba6e9d4",
    "execution_start": 1647635811150,
    "execution_millis": 196,
    "cell_id": "00076-9c4aaea2-9792-4422-968b-6088eb4e3709",
    "deepnote_cell_type": "code",
    "deepnote_cell_height": 1696
   },
   "source": "rename_dict = {\n'Are you currently engaged in a regular practice of microdosing?': 'Microdosing (yes/no)',\n'What are you microdosing with?': 'Microdosing (substance)',\n'What dosage of LSD do you take per administration?': 'LSD dosage',\n'What dosage of psilocybin do you take per administration?': 'Psilocybin dosage',\n'Do you \"stack\" your microdose with anything? \"Stacking\" refers to combining the microdosing substance with another substance with the idea of enhancing the effects. (Select all that apply)': 'Stacking (substance)',\n'When microdosing, are you consuming prepared products (pre-weighted pills, microdosing blotter, etc.)': 'Prepared products (yes/no)',\n'Are you following a specific microdosing protocol?': 'Microdosing protocol (yes/no)',\n'What microdosing protocol(s) are you following?': 'Microdosing protocol (type)',\n'On average, how often do you microdose?': \"Averaged microdosing days\",\n'How long have you been microdosing?': 'Microdosing duration',\n'Why did you start microdosing? (Select all that apply)': \"Microdosing reasons\",\n'How often do you consume alcohol?': 'Alcohol',\n'How often do you consume, vape, or smoke cannabis?': 'Cannabis',\n'How often do you consume CBD?': 'CBD',\n'How often do you use nicotine-based products?': 'Nicotine',\n'LSD (Acid)?': 'LSD (yes/no)',\n'How many times in the past year?': 'LSD past year',\n'How many times in your lifetime?': 'LSD lifetime',\n'Psilocybin (Magic Mushrooms)?': 'Psilocybin (yes/no)',\n'How many times in the past year?.1': 'Psilocybin past year',\n'How many times in your lifetime?.1': 'Psilocybin lifetime',\n'MDMA?': 'MDMA (yes/no)',\n'How many times in the past year?.2': 'MDMA past year',\n'How many times in your lifetime?.2': 'MDMA lifetime',\n'Ketamine?': 'Ketamine (yes/no)',\n'How many times in the past year?.3': 'Ketamine past year',\n'How many times in your lifetime?.3': 'Ketamine lifetime',\n'Mescaline?': 'Mescaline (yes/no)',\n'How many times in the past year?.4': 'Mescaline past year',\n'How many times in your lifetime?.4': 'Mescaline lifetime',\n'Dimethyltryptamine (DMT)?': 'DMT (yes/no)',\n'How many times in the past year?.5': 'DMT past year',\n'How many times in your lifetime?.5': 'DMT lifetime',\n'Ayahuasca?': 'Ayahuasca (yes/no)',\n'How many times in the past year?.6': 'Ayahuasca past year',\n'How many times in your lifetime?.6': 'Ayahuasca lifetime',\n'3-MMC?': '3-MMC (yes/no)',\n'How many times in the past year?.7': '3-MMC past year',\n'How many times in your lifetime?.7': '3-MMC lifetime',\n'Ibogaine?': 'Ibogaine (yes/no)',\n'How many times in the past year?.8': 'Ibogaine past year',\n'How many times in your lifetime?.8': 'Ibogaine lifetime',\n'Salvia?': 'Salvia (yes/no)',\n'How many times in the past year?.9': 'Salvia past year',\n'How many times in your lifetime?.9': 'Salvia lifetime',\n'Other Lysergamides (e.g. 1P-LSD, ALD-52)?': 'Other Lysergamides (yes/no)',\n'How many times in the past year?.10': 'Other Lysergamides past year',\n'How many times in your lifetime?.10': 'Other Lysergamides lifetime',\n'Other Tryptamines (e.g. 4-AcO-DMT)?': 'Other Tryptamines (yes/no)',\n'How many times in the past year?.11': 'Other Tryptamines past year',\n'How many times in your lifetime?.11': 'Other Tryptamines lifetime',\n'Phenethylamines (2C family)?': '2C family (yes/no)',\n'How many times in the past year?.12': '2C family past year',\n'How many times in your lifetime?.12': '2C family lifetime',\n}\n\nsub_use = sub_use.rename(columns={col: replace_col(col) for col in sub_use.columns})\n\nsub_use = sub_use.rename(columns=rename_dict)\n\nsub_use",
   "execution_count": null,
   "outputs": [
    {
     "output_type": "execute_result",
     "execution_count": 49,
     "data": {
      "application/vnd.deepnote.dataframe.v3+json": {
       "column_count": 56,
       "row_count": 13779,
       "columns": [
        {
         "name": "Participant Num",
         "dtype": "int64",
         "stats": {
          "unique_count": 13779,
          "nan_count": 0,
          "min": "44",
          "max": "43157",
          "histogram": [
           {
            "bin_start": 44,
            "bin_end": 4355.3,
            "count": 944
           },
           {
            "bin_start": 4355.3,
            "bin_end": 8666.6,
            "count": 987
           },
           {
            "bin_start": 8666.6,
            "bin_end": 12977.900000000001,
            "count": 917
           },
           {
            "bin_start": 12977.900000000001,
            "bin_end": 17289.2,
            "count": 955
           },
           {
            "bin_start": 17289.2,
            "bin_end": 21600.5,
            "count": 988
           },
           {
            "bin_start": 21600.5,
            "bin_end": 25911.800000000003,
            "count": 1942
           },
           {
            "bin_start": 25911.800000000003,
            "bin_end": 30223.100000000002,
            "count": 1670
           },
           {
            "bin_start": 30223.100000000002,
            "bin_end": 34534.4,
            "count": 2007
           },
           {
            "bin_start": 34534.4,
            "bin_end": 38845.700000000004,
            "count": 1888
           },
           {
            "bin_start": 38845.700000000004,
            "bin_end": 43157,
            "count": 1481
           }
          ]
         }
        },
        {
         "name": "Participant ID",
         "dtype": "object",
         "stats": {
          "unique_count": 13779,
          "nan_count": 0,
          "categories": [
           {
            "name": "c6397cdc-6c5a-4ed2-a575-1c7608341694",
            "count": 1
           },
           {
            "name": "2f20267b-eba2-4e5d-b817-89e0ab8de2da",
            "count": 1
           },
           {
            "name": "13777 others",
            "count": 13777
           }
          ]
         }
        },
        {
         "name": "Microdosing (yes/no)",
         "dtype": "object",
         "stats": {
          "unique_count": 4,
          "nan_count": 0,
          "categories": [
           {
            "name": "False",
            "count": 7030
           },
           {
            "name": "True",
            "count": 6749
           }
          ]
         }
        },
        {
         "name": "Microdosing (substance)",
         "dtype": "object",
         "stats": {
          "unique_count": 12,
          "nan_count": 7030,
          "categories": [
           {
            "name": "psilocybin",
            "count": 5959
           },
           {
            "name": "11 others",
            "count": 790
           },
           {
            "name": "Missing",
            "count": 7030
           }
          ]
         }
        },
        {
         "name": "LSD dosage",
         "dtype": "object",
         "stats": {
          "unique_count": 6,
          "nan_count": 13157,
          "categories": [
           {
            "name": "6-10",
            "count": 250
           },
           {
            "name": "5 others",
            "count": 372
           },
           {
            "name": "Missing",
            "count": 13157
           }
          ]
         }
        },
        {
         "name": "Psilocybin dosage",
         "dtype": "object",
         "stats": {
          "unique_count": 3,
          "nan_count": 7820,
          "categories": [
           {
            "name": "medmd",
            "count": 4244
           },
           {
            "name": "2 others",
            "count": 1715
           },
           {
            "name": "Missing",
            "count": 7820
           }
          ]
         }
        },
        {
         "name": "Stacking (substance)",
         "dtype": "object",
         "stats": {
          "unique_count": 44,
          "nan_count": 7092,
          "categories": [
           {
            "name": "none",
            "count": 3149
           },
           {
            "name": "43 others",
            "count": 3538
           },
           {
            "name": "Missing",
            "count": 7092
           }
          ]
         }
        },
        {
         "name": "Prepared products (yes/no)",
         "dtype": "object"
        },
        {
         "name": "Microdosing protocol (yes/no)",
         "dtype": "object"
        },
        {
         "name": "Microdosing protocol (type)",
         "dtype": "object"
        },
        {
         "name": "Averaged microdosing days",
         "dtype": "object"
        },
        {
         "name": "Microdosing duration",
         "dtype": "object"
        },
        {
         "name": "Microdosing reasons",
         "dtype": "object"
        },
        {
         "name": "Alcohol",
         "dtype": "object"
        },
        {
         "name": "Cannabis",
         "dtype": "object"
        },
        {
         "name": "CBD",
         "dtype": "object"
        },
        {
         "name": "Nicotine",
         "dtype": "object"
        },
        {
         "name": "LSD (yes/no)",
         "dtype": "object"
        },
        {
         "name": "LSD past year",
         "dtype": "object"
        },
        {
         "name": "LSD lifetime",
         "dtype": "object"
        },
        {
         "name": "Psilocybin (yes/no)",
         "dtype": "object"
        },
        {
         "name": "Psilocybin past year",
         "dtype": "object"
        },
        {
         "name": "Psilocybin lifetime",
         "dtype": "object"
        },
        {
         "name": "MDMA (yes/no)",
         "dtype": "object"
        },
        {
         "name": "MDMA past year",
         "dtype": "object"
        },
        {
         "name": "MDMA lifetime",
         "dtype": "object"
        },
        {
         "name": "Ketamine (yes/no)",
         "dtype": "object"
        },
        {
         "name": "Ketamine past year",
         "dtype": "object"
        },
        {
         "name": "Ketamine lifetime",
         "dtype": "object"
        },
        {
         "name": "Mescaline (yes/no)",
         "dtype": "object"
        },
        {
         "name": "Mescaline past year",
         "dtype": "object"
        },
        {
         "name": "Mescaline lifetime",
         "dtype": "object"
        },
        {
         "name": "DMT (yes/no)",
         "dtype": "object"
        },
        {
         "name": "DMT past year",
         "dtype": "object"
        },
        {
         "name": "DMT lifetime",
         "dtype": "object"
        },
        {
         "name": "Ayahuasca (yes/no)",
         "dtype": "object"
        },
        {
         "name": "Ayahuasca past year",
         "dtype": "object"
        },
        {
         "name": "Ayahuasca lifetime",
         "dtype": "object"
        },
        {
         "name": "3-MMC (yes/no)",
         "dtype": "object"
        },
        {
         "name": "3-MMC past year",
         "dtype": "object"
        },
        {
         "name": "3-MMC lifetime",
         "dtype": "object"
        },
        {
         "name": "Ibogaine (yes/no)",
         "dtype": "object"
        },
        {
         "name": "Ibogaine past year",
         "dtype": "object"
        },
        {
         "name": "Ibogaine lifetime",
         "dtype": "object"
        },
        {
         "name": "Salvia (yes/no)",
         "dtype": "object"
        },
        {
         "name": "Salvia past year",
         "dtype": "object"
        },
        {
         "name": "Salvia lifetime",
         "dtype": "object"
        },
        {
         "name": "Other Lysergamides (yes/no)",
         "dtype": "object"
        },
        {
         "name": "Other Lysergamides past year",
         "dtype": "object"
        },
        {
         "name": "Other Lysergamides lifetime",
         "dtype": "object"
        },
        {
         "name": "Other Tryptamines (yes/no)",
         "dtype": "object"
        },
        {
         "name": "Other Tryptamines past year",
         "dtype": "object"
        },
        {
         "name": "Other Tryptamines lifetime",
         "dtype": "object"
        },
        {
         "name": "2C family (yes/no)",
         "dtype": "object"
        },
        {
         "name": "2C family past year",
         "dtype": "object"
        },
        {
         "name": "2C family lifetime",
         "dtype": "object"
        },
        {
         "name": "_deepnote_index_column",
         "dtype": "int64"
        }
       ],
       "rows": [
        {
         "Participant Num": 44,
         "Participant ID": "c6397cdc-6c5a-4ed2-a575-1c7608341694",
         "Microdosing (yes/no)": "False",
         "Microdosing (substance)": "nan",
         "LSD dosage": "nan",
         "Psilocybin dosage": "nan",
         "Stacking (substance)": "nan",
         "Prepared products (yes/no)": "nan",
         "Microdosing protocol (yes/no)": "nan",
         "Microdosing protocol (type)": "nan",
         "Averaged microdosing days": "nan",
         "Microdosing duration": "nan",
         "Microdosing reasons": "nan",
         "Alcohol": "34week",
         "Cannabis": "34week",
         "CBD": "occasionally",
         "Nicotine": "never",
         "LSD (yes/no)": "True",
         "LSD past year": "1-2",
         "LSD lifetime": "21-50",
         "Psilocybin (yes/no)": "True",
         "Psilocybin past year": "3-5",
         "Psilocybin lifetime": "11-20",
         "MDMA (yes/no)": "True",
         "MDMA past year": "3-5",
         "MDMA lifetime": "11-20",
         "Ketamine (yes/no)": "False",
         "Ketamine past year": "nan",
         "Ketamine lifetime": "nan",
         "Mescaline (yes/no)": "False",
         "Mescaline past year": "nan",
         "Mescaline lifetime": "nan",
         "DMT (yes/no)": "True",
         "DMT past year": "1-2",
         "DMT lifetime": "1-2",
         "Ayahuasca (yes/no)": "False",
         "Ayahuasca past year": "nan",
         "Ayahuasca lifetime": "nan",
         "3-MMC (yes/no)": "False",
         "3-MMC past year": "nan",
         "3-MMC lifetime": "nan",
         "Ibogaine (yes/no)": "False",
         "Ibogaine past year": "nan",
         "Ibogaine lifetime": "nan",
         "Salvia (yes/no)": "False",
         "Salvia past year": "nan",
         "Salvia lifetime": "nan",
         "Other Lysergamides (yes/no)": "False",
         "Other Lysergamides past year": "nan",
         "Other Lysergamides lifetime": "nan",
         "Other Tryptamines (yes/no)": "False",
         "Other Tryptamines past year": "nan",
         "Other Tryptamines lifetime": "nan",
         "2C family (yes/no)": "False",
         "2C family past year": "nan",
         "2C family lifetime": "nan",
         "_deepnote_index_column": 10705
        },
        {
         "Participant Num": 56,
         "Participant ID": "2f20267b-eba2-4e5d-b817-89e0ab8de2da",
         "Microdosing (yes/no)": "True",
         "Microdosing (substance)": "psilocybin",
         "LSD dosage": "nan",
         "Psilocybin dosage": "medmd",
         "Stacking (substance)": "none",
         "Prepared products (yes/no)": "False",
         "Microdosing protocol (yes/no)": "False",
         "Microdosing protocol (type)": "nan",
         "Averaged microdosing days": "2week",
         "Microdosing duration": "1-3",
         "Microdosing reasons": "1, 5, 6, 10, 11, 18",
         "Alcohol": "5+week",
         "Cannabis": "occasionally",
         "CBD": "never",
         "Nicotine": "occasionally",
         "LSD (yes/no)": "False",
         "LSD past year": "nan",
         "LSD lifetime": "nan",
         "Psilocybin (yes/no)": "True",
         "Psilocybin past year": "6-10",
         "Psilocybin lifetime": "3-10",
         "MDMA (yes/no)": "False",
         "MDMA past year": "nan",
         "MDMA lifetime": "nan",
         "Ketamine (yes/no)": "False",
         "Ketamine past year": "nan",
         "Ketamine lifetime": "nan",
         "Mescaline (yes/no)": "False",
         "Mescaline past year": "nan",
         "Mescaline lifetime": "nan",
         "DMT (yes/no)": "False",
         "DMT past year": "nan",
         "DMT lifetime": "nan",
         "Ayahuasca (yes/no)": "False",
         "Ayahuasca past year": "nan",
         "Ayahuasca lifetime": "nan",
         "3-MMC (yes/no)": "False",
         "3-MMC past year": "nan",
         "3-MMC lifetime": "nan",
         "Ibogaine (yes/no)": "False",
         "Ibogaine past year": "nan",
         "Ibogaine lifetime": "nan",
         "Salvia (yes/no)": "False",
         "Salvia past year": "nan",
         "Salvia lifetime": "nan",
         "Other Lysergamides (yes/no)": "False",
         "Other Lysergamides past year": "nan",
         "Other Lysergamides lifetime": "nan",
         "Other Tryptamines (yes/no)": "False",
         "Other Tryptamines past year": "nan",
         "Other Tryptamines lifetime": "nan",
         "2C family (yes/no)": "False",
         "2C family past year": "nan",
         "2C family lifetime": "nan",
         "_deepnote_index_column": 2496
        },
        {
         "Participant Num": 60,
         "Participant ID": "4e8efe78-a87e-464d-bc44-59f389b67002",
         "Microdosing (yes/no)": "False",
         "Microdosing (substance)": "nan",
         "LSD dosage": "nan",
         "Psilocybin dosage": "nan",
         "Stacking (substance)": "nan",
         "Prepared products (yes/no)": "nan",
         "Microdosing protocol (yes/no)": "nan",
         "Microdosing protocol (type)": "nan",
         "Averaged microdosing days": "nan",
         "Microdosing duration": "nan",
         "Microdosing reasons": "nan",
         "Alcohol": "34week",
         "Cannabis": "occasionally",
         "CBD": "occasionally",
         "Nicotine": "never",
         "LSD (yes/no)": "True",
         "LSD past year": "never",
         "LSD lifetime": "1-2",
         "Psilocybin (yes/no)": "True",
         "Psilocybin past year": "never",
         "Psilocybin lifetime": "3-10",
         "MDMA (yes/no)": "True",
         "MDMA past year": "never",
         "MDMA lifetime": "3-10",
         "Ketamine (yes/no)": "False",
         "Ketamine past year": "nan",
         "Ketamine lifetime": "nan",
         "Mescaline (yes/no)": "False",
         "Mescaline past year": "nan",
         "Mescaline lifetime": "nan",
         "DMT (yes/no)": "False",
         "DMT past year": "nan",
         "DMT lifetime": "nan",
         "Ayahuasca (yes/no)": "True",
         "Ayahuasca past year": "never",
         "Ayahuasca lifetime": "1-2",
         "3-MMC (yes/no)": "False",
         "3-MMC past year": "nan",
         "3-MMC lifetime": "nan",
         "Ibogaine (yes/no)": "False",
         "Ibogaine past year": "nan",
         "Ibogaine lifetime": "nan",
         "Salvia (yes/no)": "False",
         "Salvia past year": "nan",
         "Salvia lifetime": "nan",
         "Other Lysergamides (yes/no)": "False",
         "Other Lysergamides past year": "nan",
         "Other Lysergamides lifetime": "nan",
         "Other Tryptamines (yes/no)": "False",
         "Other Tryptamines past year": "nan",
         "Other Tryptamines lifetime": "nan",
         "2C family (yes/no)": "False",
         "2C family past year": "nan",
         "2C family lifetime": "nan",
         "_deepnote_index_column": 4192
        },
        {
         "Participant Num": 64,
         "Participant ID": "3982e500-bc10-4b67-9f71-dafac3c873fc",
         "Microdosing (yes/no)": "False",
         "Microdosing (substance)": "nan",
         "LSD dosage": "nan",
         "Psilocybin dosage": "nan",
         "Stacking (substance)": "nan",
         "Prepared products (yes/no)": "nan",
         "Microdosing protocol (yes/no)": "nan",
         "Microdosing protocol (type)": "nan",
         "Averaged microdosing days": "nan",
         "Microdosing duration": "nan",
         "Microdosing reasons": "nan",
         "Alcohol": "5+week",
         "Cannabis": "5+week",
         "CBD": "never",
         "Nicotine": "never",
         "LSD (yes/no)": "True",
         "LSD past year": "1-2",
         "LSD lifetime": "1-2",
         "Psilocybin (yes/no)": "True",
         "Psilocybin past year": "1-2",
         "Psilocybin lifetime": "1-2",
         "MDMA (yes/no)": "True",
         "MDMA past year": "1-2",
         "MDMA lifetime": "1-2",
         "Ketamine (yes/no)": "False",
         "Ketamine past year": "nan",
         "Ketamine lifetime": "nan",
         "Mescaline (yes/no)": "False",
         "Mescaline past year": "nan",
         "Mescaline lifetime": "nan",
         "DMT (yes/no)": "False",
         "DMT past year": "nan",
         "DMT lifetime": "nan",
         "Ayahuasca (yes/no)": "False",
         "Ayahuasca past year": "nan",
         "Ayahuasca lifetime": "nan",
         "3-MMC (yes/no)": "False",
         "3-MMC past year": "nan",
         "3-MMC lifetime": "nan",
         "Ibogaine (yes/no)": "False",
         "Ibogaine past year": "nan",
         "Ibogaine lifetime": "nan",
         "Salvia (yes/no)": "False",
         "Salvia past year": "nan",
         "Salvia lifetime": "nan",
         "Other Lysergamides (yes/no)": "False",
         "Other Lysergamides past year": "nan",
         "Other Lysergamides lifetime": "nan",
         "Other Tryptamines (yes/no)": "False",
         "Other Tryptamines past year": "nan",
         "Other Tryptamines lifetime": "nan",
         "2C family (yes/no)": "False",
         "2C family past year": "nan",
         "2C family lifetime": "nan",
         "_deepnote_index_column": 3044
        },
        {
         "Participant Num": 66,
         "Participant ID": "bde6a201-2e84-4102-855f-27f9342d6ba0",
         "Microdosing (yes/no)": "True",
         "Microdosing (substance)": "psilocybin",
         "LSD dosage": "nan",
         "Psilocybin dosage": "medmd",
         "Stacking (substance)": "none",
         "Prepared products (yes/no)": "True",
         "Microdosing protocol (yes/no)": "False",
         "Microdosing protocol (type)": "nan",
         "Averaged microdosing days": "1day",
         "Microdosing duration": "<1",
         "Microdosing reasons": "1, 3, 5, 10",
         "Alcohol": "34week",
         "Cannabis": "occasionally",
         "CBD": "never",
         "Nicotine": "never",
         "LSD (yes/no)": "True",
         "LSD past year": "never",
         "LSD lifetime": "3-10",
         "Psilocybin (yes/no)": "True",
         "Psilocybin past year": ">10",
         "Psilocybin lifetime": "11-20",
         "MDMA (yes/no)": "False",
         "MDMA past year": "nan",
         "MDMA lifetime": "nan",
         "Ketamine (yes/no)": "False",
         "Ketamine past year": "nan",
         "Ketamine lifetime": "nan",
         "Mescaline (yes/no)": "False",
         "Mescaline past year": "nan",
         "Mescaline lifetime": "nan",
         "DMT (yes/no)": "False",
         "DMT past year": "nan",
         "DMT lifetime": "nan",
         "Ayahuasca (yes/no)": "False",
         "Ayahuasca past year": "nan",
         "Ayahuasca lifetime": "nan",
         "3-MMC (yes/no)": "False",
         "3-MMC past year": "nan",
         "3-MMC lifetime": "nan",
         "Ibogaine (yes/no)": "False",
         "Ibogaine past year": "nan",
         "Ibogaine lifetime": "nan",
         "Salvia (yes/no)": "False",
         "Salvia past year": "nan",
         "Salvia lifetime": "nan",
         "Other Lysergamides (yes/no)": "False",
         "Other Lysergamides past year": "nan",
         "Other Lysergamides lifetime": "nan",
         "Other Tryptamines (yes/no)": "False",
         "Other Tryptamines past year": "nan",
         "Other Tryptamines lifetime": "nan",
         "2C family (yes/no)": "False",
         "2C family past year": "nan",
         "2C family lifetime": "nan",
         "_deepnote_index_column": 10258
        },
        {
         "Participant Num": 70,
         "Participant ID": "a98c785a-4d20-4989-bd7b-0f8d5448e35e",
         "Microdosing (yes/no)": "False",
         "Microdosing (substance)": "nan",
         "LSD dosage": "nan",
         "Psilocybin dosage": "nan",
         "Stacking (substance)": "nan",
         "Prepared products (yes/no)": "nan",
         "Microdosing protocol (yes/no)": "nan",
         "Microdosing protocol (type)": "nan",
         "Averaged microdosing days": "nan",
         "Microdosing duration": "nan",
         "Microdosing reasons": "nan",
         "Alcohol": "occasionally",
         "Cannabis": "occasionally",
         "CBD": "never",
         "Nicotine": "never",
         "LSD (yes/no)": "False",
         "LSD past year": "nan",
         "LSD lifetime": "nan",
         "Psilocybin (yes/no)": "False",
         "Psilocybin past year": "nan",
         "Psilocybin lifetime": "nan",
         "MDMA (yes/no)": "False",
         "MDMA past year": "nan",
         "MDMA lifetime": "nan",
         "Ketamine (yes/no)": "False",
         "Ketamine past year": "nan",
         "Ketamine lifetime": "nan",
         "Mescaline (yes/no)": "False",
         "Mescaline past year": "nan",
         "Mescaline lifetime": "nan",
         "DMT (yes/no)": "False",
         "DMT past year": "nan",
         "DMT lifetime": "nan",
         "Ayahuasca (yes/no)": "False",
         "Ayahuasca past year": "nan",
         "Ayahuasca lifetime": "nan",
         "3-MMC (yes/no)": "False",
         "3-MMC past year": "nan",
         "3-MMC lifetime": "nan",
         "Ibogaine (yes/no)": "False",
         "Ibogaine past year": "nan",
         "Ibogaine lifetime": "nan",
         "Salvia (yes/no)": "False",
         "Salvia past year": "nan",
         "Salvia lifetime": "nan",
         "Other Lysergamides (yes/no)": "False",
         "Other Lysergamides past year": "nan",
         "Other Lysergamides lifetime": "nan",
         "Other Tryptamines (yes/no)": "False",
         "Other Tryptamines past year": "nan",
         "Other Tryptamines lifetime": "nan",
         "2C family (yes/no)": "False",
         "2C family past year": "nan",
         "2C family lifetime": "nan",
         "_deepnote_index_column": 9156
        },
        {
         "Participant Num": 78,
         "Participant ID": "da5304fb-0bde-4be9-a73d-e538f94c7003",
         "Microdosing (yes/no)": "True",
         "Microdosing (substance)": "psilocybin",
         "LSD dosage": "nan",
         "Psilocybin dosage": "medmd",
         "Stacking (substance)": "lionsmane, niacin",
         "Prepared products (yes/no)": "False",
         "Microdosing protocol (yes/no)": "True",
         "Microdosing protocol (type)": "Fadiman",
         "Averaged microdosing days": "1month",
         "Microdosing duration": "12-24",
         "Microdosing reasons": "3, 5, 6, 11",
         "Alcohol": "34week",
         "Cannabis": "occasionally",
         "CBD": "never",
         "Nicotine": "occasionally",
         "LSD (yes/no)": "True",
         "LSD past year": "3-5",
         "LSD lifetime": "21-50",
         "Psilocybin (yes/no)": "True",
         "Psilocybin past year": "3-5",
         "Psilocybin lifetime": "21-50",
         "MDMA (yes/no)": "True",
         "MDMA past year": "3-5",
         "MDMA lifetime": "21-50",
         "Ketamine (yes/no)": "True",
         "Ketamine past year": "1-2",
         "Ketamine lifetime": "3-10",
         "Mescaline (yes/no)": "False",
         "Mescaline past year": "nan",
         "Mescaline lifetime": "nan",
         "DMT (yes/no)": "False",
         "DMT past year": "nan",
         "DMT lifetime": "nan",
         "Ayahuasca (yes/no)": "True",
         "Ayahuasca past year": "never",
         "Ayahuasca lifetime": "1-2",
         "3-MMC (yes/no)": "True",
         "3-MMC past year": "3-5",
         "3-MMC lifetime": "3-10",
         "Ibogaine (yes/no)": "False",
         "Ibogaine past year": "nan",
         "Ibogaine lifetime": "nan",
         "Salvia (yes/no)": "False",
         "Salvia past year": "nan",
         "Salvia lifetime": "nan",
         "Other Lysergamides (yes/no)": "False",
         "Other Lysergamides past year": "nan",
         "Other Lysergamides lifetime": "nan",
         "Other Tryptamines (yes/no)": "False",
         "Other Tryptamines past year": "nan",
         "Other Tryptamines lifetime": "nan",
         "2C family (yes/no)": "False",
         "2C family past year": "nan",
         "2C family lifetime": "nan",
         "_deepnote_index_column": 11776
        },
        {
         "Participant Num": 88,
         "Participant ID": "55ee2abe-7b3d-488f-859f-7906606b0aa3",
         "Microdosing (yes/no)": "False",
         "Microdosing (substance)": "nan",
         "LSD dosage": "nan",
         "Psilocybin dosage": "nan",
         "Stacking (substance)": "nan",
         "Prepared products (yes/no)": "nan",
         "Microdosing protocol (yes/no)": "nan",
         "Microdosing protocol (type)": "nan",
         "Averaged microdosing days": "nan",
         "Microdosing duration": "nan",
         "Microdosing reasons": "nan",
         "Alcohol": "occasionally",
         "Cannabis": "never",
         "CBD": "never",
         "Nicotine": "never",
         "LSD (yes/no)": "False",
         "LSD past year": "nan",
         "LSD lifetime": "nan",
         "Psilocybin (yes/no)": "False",
         "Psilocybin past year": "nan",
         "Psilocybin lifetime": "nan",
         "MDMA (yes/no)": "False",
         "MDMA past year": "nan",
         "MDMA lifetime": "nan",
         "Ketamine (yes/no)": "False",
         "Ketamine past year": "nan",
         "Ketamine lifetime": "nan",
         "Mescaline (yes/no)": "False",
         "Mescaline past year": "nan",
         "Mescaline lifetime": "nan",
         "DMT (yes/no)": "False",
         "DMT past year": "nan",
         "DMT lifetime": "nan",
         "Ayahuasca (yes/no)": "False",
         "Ayahuasca past year": "nan",
         "Ayahuasca lifetime": "nan",
         "3-MMC (yes/no)": "False",
         "3-MMC past year": "nan",
         "3-MMC lifetime": "nan",
         "Ibogaine (yes/no)": "False",
         "Ibogaine past year": "nan",
         "Ibogaine lifetime": "nan",
         "Salvia (yes/no)": "False",
         "Salvia past year": "nan",
         "Salvia lifetime": "nan",
         "Other Lysergamides (yes/no)": "False",
         "Other Lysergamides past year": "nan",
         "Other Lysergamides lifetime": "nan",
         "Other Tryptamines (yes/no)": "False",
         "Other Tryptamines past year": "nan",
         "Other Tryptamines lifetime": "nan",
         "2C family (yes/no)": "False",
         "2C family past year": "nan",
         "2C family lifetime": "nan",
         "_deepnote_index_column": 4580
        },
        {
         "Participant Num": 90,
         "Participant ID": "adfee4e4-5fd0-4d99-a001-efa73871bf29",
         "Microdosing (yes/no)": "True",
         "Microdosing (substance)": "psilocybin",
         "LSD dosage": "nan",
         "Psilocybin dosage": "medmd",
         "Stacking (substance)": "lionsmane, other",
         "Prepared products (yes/no)": "False",
         "Microdosing protocol (yes/no)": "True",
         "Microdosing protocol (type)": "Fadiman",
         "Averaged microdosing days": "2week",
         "Microdosing duration": "now",
         "Microdosing reasons": "1, 2, 3, 5, 7, 10, 11",
         "Alcohol": "12week",
         "Cannabis": "5+week",
         "CBD": "occasionally",
         "Nicotine": "12week",
         "LSD (yes/no)": "True",
         "LSD past year": "never",
         "LSD lifetime": "3-10",
         "Psilocybin (yes/no)": "True",
         "Psilocybin past year": "3-5",
         "Psilocybin lifetime": "3-10",
         "MDMA (yes/no)": "False",
         "MDMA past year": "nan",
         "MDMA lifetime": "nan",
         "Ketamine (yes/no)": "True",
         "Ketamine past year": ">10",
         "Ketamine lifetime": "21-50",
         "Mescaline (yes/no)": "False",
         "Mescaline past year": "nan",
         "Mescaline lifetime": "nan",
         "DMT (yes/no)": "True",
         "DMT past year": "3-5",
         "DMT lifetime": "3-10",
         "Ayahuasca (yes/no)": "False",
         "Ayahuasca past year": "nan",
         "Ayahuasca lifetime": "nan",
         "3-MMC (yes/no)": "False",
         "3-MMC past year": "nan",
         "3-MMC lifetime": "nan",
         "Ibogaine (yes/no)": "False",
         "Ibogaine past year": "nan",
         "Ibogaine lifetime": "nan",
         "Salvia (yes/no)": "False",
         "Salvia past year": "nan",
         "Salvia lifetime": "nan",
         "Other Lysergamides (yes/no)": "False",
         "Other Lysergamides past year": "nan",
         "Other Lysergamides lifetime": "nan",
         "Other Tryptamines (yes/no)": "False",
         "Other Tryptamines past year": "nan",
         "Other Tryptamines lifetime": "nan",
         "2C family (yes/no)": "True",
         "2C family past year": "1-2",
         "2C family lifetime": "1-2",
         "_deepnote_index_column": 9386
        },
        {
         "Participant Num": 92,
         "Participant ID": "42b46329-37ee-4ce8-b437-47782c37ea89",
         "Microdosing (yes/no)": "True",
         "Microdosing (substance)": "lsd",
         "LSD dosage": "6-10",
         "Psilocybin dosage": "nan",
         "Stacking (substance)": "other",
         "Prepared products (yes/no)": "False",
         "Microdosing protocol (yes/no)": "True",
         "Microdosing protocol (type)": "Fadimans protocol 1-0-0 (in days)",
         "Averaged microdosing days": "3week",
         "Microdosing duration": "<1",
         "Microdosing reasons": "2, 3, 5, 6, 8, 9, 10, 13, 16",
         "Alcohol": "occasionally",
         "Cannabis": "occasionally",
         "CBD": "occasionally",
         "Nicotine": "occasionally",
         "LSD (yes/no)": "False",
         "LSD past year": "nan",
         "LSD lifetime": "nan",
         "Psilocybin (yes/no)": "False",
         "Psilocybin past year": "nan",
         "Psilocybin lifetime": "nan",
         "MDMA (yes/no)": "False",
         "MDMA past year": "nan",
         "MDMA lifetime": "nan",
         "Ketamine (yes/no)": "False",
         "Ketamine past year": "nan",
         "Ketamine lifetime": "nan",
         "Mescaline (yes/no)": "False",
         "Mescaline past year": "nan",
         "Mescaline lifetime": "nan",
         "DMT (yes/no)": "False",
         "DMT past year": "nan",
         "DMT lifetime": "nan",
         "Ayahuasca (yes/no)": "False",
         "Ayahuasca past year": "nan",
         "Ayahuasca lifetime": "nan",
         "3-MMC (yes/no)": "False",
         "3-MMC past year": "nan",
         "3-MMC lifetime": "nan",
         "Ibogaine (yes/no)": "False",
         "Ibogaine past year": "nan",
         "Ibogaine lifetime": "nan",
         "Salvia (yes/no)": "False",
         "Salvia past year": "nan",
         "Salvia lifetime": "nan",
         "Other Lysergamides (yes/no)": "False",
         "Other Lysergamides past year": "nan",
         "Other Lysergamides lifetime": "nan",
         "Other Tryptamines (yes/no)": "False",
         "Other Tryptamines past year": "nan",
         "Other Tryptamines lifetime": "nan",
         "2C family (yes/no)": "False",
         "2C family past year": "nan",
         "2C family lifetime": "nan",
         "_deepnote_index_column": 3554
        }
       ]
      },
      "text/plain": "       Participant Num                        Participant ID  \\\n10705               44  c6397cdc-6c5a-4ed2-a575-1c7608341694   \n2496                56  2f20267b-eba2-4e5d-b817-89e0ab8de2da   \n4192                60  4e8efe78-a87e-464d-bc44-59f389b67002   \n3044                64  3982e500-bc10-4b67-9f71-dafac3c873fc   \n10258               66  bde6a201-2e84-4102-855f-27f9342d6ba0   \n...                ...                                   ...   \n1862             43149  236b48f2-647d-4b53-84d3-908944ddf98c   \n2552             43151  305b886b-b172-487d-a020-bebe82240bb2   \n10155            43154  bc2debe0-d7b8-4446-b7e7-7e8c0c7c6983   \n3050             43156  398c20c5-be67-4385-9ca9-83b59a91f181   \n7480             43157  8a411a51-a5c0-4ca4-8c08-24303d0a0a35   \n\n      Microdosing (yes/no) Microdosing (substance) LSD dosage  \\\n10705                False                     NaN        NaN   \n2496                  True              psilocybin        NaN   \n4192                 False                     NaN        NaN   \n3044                 False                     NaN        NaN   \n10258                 True              psilocybin        NaN   \n...                    ...                     ...        ...   \n1862                  True              psilocybin        NaN   \n2552                 False                     NaN        NaN   \n10155                False                     NaN        NaN   \n3050                  True              psilocybin        NaN   \n7480                  True              psilocybin        NaN   \n\n      Psilocybin dosage  Stacking (substance) Prepared products (yes/no)  \\\n10705               NaN                   NaN                        NaN   \n2496              medmd                  none                      False   \n4192                NaN                   NaN                        NaN   \n3044                NaN                   NaN                        NaN   \n10258             medmd                  none                       True   \n...                 ...                   ...                        ...   \n1862              lowmd  lionsmane, chocolate                      False   \n2552                NaN                   NaN                        NaN   \n10155               NaN                   NaN                        NaN   \n3050             highmd                  none                       True   \n7480              lowmd     lionsmane, niacin                      False   \n\n      Microdosing protocol (yes/no)  \\\n10705                           NaN   \n2496                          False   \n4192                            NaN   \n3044                            NaN   \n10258                         False   \n...                             ...   \n1862                           True   \n2552                            NaN   \n10155                           NaN   \n3050                           True   \n7480                           True   \n\n                             Microdosing protocol (type)  ... Salvia lifetime  \\\n10705                                                NaN  ...             NaN   \n2496                                                 NaN  ...             NaN   \n4192                                                 NaN  ...             NaN   \n3044                                                 NaN  ...             NaN   \n10258                                                NaN  ...             NaN   \n...                                                  ...  ...             ...   \n1862                         1 day microdosing2 days off  ...             NaN   \n2552                                                 NaN  ...             NaN   \n10155                                                NaN  ...             NaN   \n3050   No more than .75 gram per dose. 3 days on 3 of...  ...             NaN   \n7480   Stamets - dosage is different but 5 days on 2 ...  ...             1-2   \n\n      Other Lysergamides (yes/no) Other Lysergamides past year  \\\n10705                       False                          NaN   \n2496                        False                          NaN   \n4192                        False                          NaN   \n3044                        False                          NaN   \n10258                       False                          NaN   \n...                           ...                          ...   \n1862                        False                          NaN   \n2552                        False                          NaN   \n10155                       False                          NaN   \n3050                        False                          NaN   \n7480                        False                          NaN   \n\n      Other Lysergamides lifetime Other Tryptamines (yes/no)  \\\n10705                         NaN                      False   \n2496                          NaN                      False   \n4192                          NaN                      False   \n3044                          NaN                      False   \n10258                         NaN                      False   \n...                           ...                        ...   \n1862                          NaN                      False   \n2552                          NaN                      False   \n10155                         NaN                      False   \n3050                          NaN                      False   \n7480                          NaN                      False   \n\n      Other Tryptamines past year Other Tryptamines lifetime  \\\n10705                         NaN                        NaN   \n2496                          NaN                        NaN   \n4192                          NaN                        NaN   \n3044                          NaN                        NaN   \n10258                         NaN                        NaN   \n...                           ...                        ...   \n1862                          NaN                        NaN   \n2552                          NaN                        NaN   \n10155                         NaN                        NaN   \n3050                          NaN                        NaN   \n7480                          NaN                        NaN   \n\n      2C family (yes/no) 2C family past year 2C family lifetime  \n10705              False                 NaN                NaN  \n2496               False                 NaN                NaN  \n4192               False                 NaN                NaN  \n3044               False                 NaN                NaN  \n10258              False                 NaN                NaN  \n...                  ...                 ...                ...  \n1862               False                 NaN                NaN  \n2552               False                 NaN                NaN  \n10155              False                 NaN                NaN  \n3050               False                 NaN                NaN  \n7480               False                 NaN                NaN  \n\n[13779 rows x 56 columns]",
      "text/html": "<div>\n<style scoped>\n    .dataframe tbody tr th:only-of-type {\n        vertical-align: middle;\n    }\n\n    .dataframe tbody tr th {\n        vertical-align: top;\n    }\n\n    .dataframe thead th {\n        text-align: right;\n    }\n</style>\n<table border=\"1\" class=\"dataframe\">\n  <thead>\n    <tr style=\"text-align: right;\">\n      <th></th>\n      <th>Participant Num</th>\n      <th>Participant ID</th>\n      <th>Microdosing (yes/no)</th>\n      <th>Microdosing (substance)</th>\n      <th>LSD dosage</th>\n      <th>Psilocybin dosage</th>\n      <th>Stacking (substance)</th>\n      <th>Prepared products (yes/no)</th>\n      <th>Microdosing protocol (yes/no)</th>\n      <th>Microdosing protocol (type)</th>\n      <th>...</th>\n      <th>Salvia lifetime</th>\n      <th>Other Lysergamides (yes/no)</th>\n      <th>Other Lysergamides past year</th>\n      <th>Other Lysergamides lifetime</th>\n      <th>Other Tryptamines (yes/no)</th>\n      <th>Other Tryptamines past year</th>\n      <th>Other Tryptamines lifetime</th>\n      <th>2C family (yes/no)</th>\n      <th>2C family past year</th>\n      <th>2C family lifetime</th>\n    </tr>\n  </thead>\n  <tbody>\n    <tr>\n      <th>10705</th>\n      <td>44</td>\n      <td>c6397cdc-6c5a-4ed2-a575-1c7608341694</td>\n      <td>False</td>\n      <td>NaN</td>\n      <td>NaN</td>\n      <td>NaN</td>\n      <td>NaN</td>\n      <td>NaN</td>\n      <td>NaN</td>\n      <td>NaN</td>\n      <td>...</td>\n      <td>NaN</td>\n      <td>False</td>\n      <td>NaN</td>\n      <td>NaN</td>\n      <td>False</td>\n      <td>NaN</td>\n      <td>NaN</td>\n      <td>False</td>\n      <td>NaN</td>\n      <td>NaN</td>\n    </tr>\n    <tr>\n      <th>2496</th>\n      <td>56</td>\n      <td>2f20267b-eba2-4e5d-b817-89e0ab8de2da</td>\n      <td>True</td>\n      <td>psilocybin</td>\n      <td>NaN</td>\n      <td>medmd</td>\n      <td>none</td>\n      <td>False</td>\n      <td>False</td>\n      <td>NaN</td>\n      <td>...</td>\n      <td>NaN</td>\n      <td>False</td>\n      <td>NaN</td>\n      <td>NaN</td>\n      <td>False</td>\n      <td>NaN</td>\n      <td>NaN</td>\n      <td>False</td>\n      <td>NaN</td>\n      <td>NaN</td>\n    </tr>\n    <tr>\n      <th>4192</th>\n      <td>60</td>\n      <td>4e8efe78-a87e-464d-bc44-59f389b67002</td>\n      <td>False</td>\n      <td>NaN</td>\n      <td>NaN</td>\n      <td>NaN</td>\n      <td>NaN</td>\n      <td>NaN</td>\n      <td>NaN</td>\n      <td>NaN</td>\n      <td>...</td>\n      <td>NaN</td>\n      <td>False</td>\n      <td>NaN</td>\n      <td>NaN</td>\n      <td>False</td>\n      <td>NaN</td>\n      <td>NaN</td>\n      <td>False</td>\n      <td>NaN</td>\n      <td>NaN</td>\n    </tr>\n    <tr>\n      <th>3044</th>\n      <td>64</td>\n      <td>3982e500-bc10-4b67-9f71-dafac3c873fc</td>\n      <td>False</td>\n      <td>NaN</td>\n      <td>NaN</td>\n      <td>NaN</td>\n      <td>NaN</td>\n      <td>NaN</td>\n      <td>NaN</td>\n      <td>NaN</td>\n      <td>...</td>\n      <td>NaN</td>\n      <td>False</td>\n      <td>NaN</td>\n      <td>NaN</td>\n      <td>False</td>\n      <td>NaN</td>\n      <td>NaN</td>\n      <td>False</td>\n      <td>NaN</td>\n      <td>NaN</td>\n    </tr>\n    <tr>\n      <th>10258</th>\n      <td>66</td>\n      <td>bde6a201-2e84-4102-855f-27f9342d6ba0</td>\n      <td>True</td>\n      <td>psilocybin</td>\n      <td>NaN</td>\n      <td>medmd</td>\n      <td>none</td>\n      <td>True</td>\n      <td>False</td>\n      <td>NaN</td>\n      <td>...</td>\n      <td>NaN</td>\n      <td>False</td>\n      <td>NaN</td>\n      <td>NaN</td>\n      <td>False</td>\n      <td>NaN</td>\n      <td>NaN</td>\n      <td>False</td>\n      <td>NaN</td>\n      <td>NaN</td>\n    </tr>\n    <tr>\n      <th>...</th>\n      <td>...</td>\n      <td>...</td>\n      <td>...</td>\n      <td>...</td>\n      <td>...</td>\n      <td>...</td>\n      <td>...</td>\n      <td>...</td>\n      <td>...</td>\n      <td>...</td>\n      <td>...</td>\n      <td>...</td>\n      <td>...</td>\n      <td>...</td>\n      <td>...</td>\n      <td>...</td>\n      <td>...</td>\n      <td>...</td>\n      <td>...</td>\n      <td>...</td>\n      <td>...</td>\n    </tr>\n    <tr>\n      <th>1862</th>\n      <td>43149</td>\n      <td>236b48f2-647d-4b53-84d3-908944ddf98c</td>\n      <td>True</td>\n      <td>psilocybin</td>\n      <td>NaN</td>\n      <td>lowmd</td>\n      <td>lionsmane, chocolate</td>\n      <td>False</td>\n      <td>True</td>\n      <td>1 day microdosing2 days off</td>\n      <td>...</td>\n      <td>NaN</td>\n      <td>False</td>\n      <td>NaN</td>\n      <td>NaN</td>\n      <td>False</td>\n      <td>NaN</td>\n      <td>NaN</td>\n      <td>False</td>\n      <td>NaN</td>\n      <td>NaN</td>\n    </tr>\n    <tr>\n      <th>2552</th>\n      <td>43151</td>\n      <td>305b886b-b172-487d-a020-bebe82240bb2</td>\n      <td>False</td>\n      <td>NaN</td>\n      <td>NaN</td>\n      <td>NaN</td>\n      <td>NaN</td>\n      <td>NaN</td>\n      <td>NaN</td>\n      <td>NaN</td>\n      <td>...</td>\n      <td>NaN</td>\n      <td>False</td>\n      <td>NaN</td>\n      <td>NaN</td>\n      <td>False</td>\n      <td>NaN</td>\n      <td>NaN</td>\n      <td>False</td>\n      <td>NaN</td>\n      <td>NaN</td>\n    </tr>\n    <tr>\n      <th>10155</th>\n      <td>43154</td>\n      <td>bc2debe0-d7b8-4446-b7e7-7e8c0c7c6983</td>\n      <td>False</td>\n      <td>NaN</td>\n      <td>NaN</td>\n      <td>NaN</td>\n      <td>NaN</td>\n      <td>NaN</td>\n      <td>NaN</td>\n      <td>NaN</td>\n      <td>...</td>\n      <td>NaN</td>\n      <td>False</td>\n      <td>NaN</td>\n      <td>NaN</td>\n      <td>False</td>\n      <td>NaN</td>\n      <td>NaN</td>\n      <td>False</td>\n      <td>NaN</td>\n      <td>NaN</td>\n    </tr>\n    <tr>\n      <th>3050</th>\n      <td>43156</td>\n      <td>398c20c5-be67-4385-9ca9-83b59a91f181</td>\n      <td>True</td>\n      <td>psilocybin</td>\n      <td>NaN</td>\n      <td>highmd</td>\n      <td>none</td>\n      <td>True</td>\n      <td>True</td>\n      <td>No more than .75 gram per dose. 3 days on 3 of...</td>\n      <td>...</td>\n      <td>NaN</td>\n      <td>False</td>\n      <td>NaN</td>\n      <td>NaN</td>\n      <td>False</td>\n      <td>NaN</td>\n      <td>NaN</td>\n      <td>False</td>\n      <td>NaN</td>\n      <td>NaN</td>\n    </tr>\n    <tr>\n      <th>7480</th>\n      <td>43157</td>\n      <td>8a411a51-a5c0-4ca4-8c08-24303d0a0a35</td>\n      <td>True</td>\n      <td>psilocybin</td>\n      <td>NaN</td>\n      <td>lowmd</td>\n      <td>lionsmane, niacin</td>\n      <td>False</td>\n      <td>True</td>\n      <td>Stamets - dosage is different but 5 days on 2 ...</td>\n      <td>...</td>\n      <td>1-2</td>\n      <td>False</td>\n      <td>NaN</td>\n      <td>NaN</td>\n      <td>False</td>\n      <td>NaN</td>\n      <td>NaN</td>\n      <td>False</td>\n      <td>NaN</td>\n      <td>NaN</td>\n    </tr>\n  </tbody>\n</table>\n<p>13779 rows × 56 columns</p>\n</div>"
     },
     "metadata": {}
    }
   ]
  },
  {
   "cell_type": "markdown",
   "source": "Checking for missing values",
   "metadata": {
    "tags": [],
    "is_collapsed": false,
    "cell_id": "00077-abbaa9e3-1972-4551-b65b-4bab43bd1a70",
    "deepnote_cell_type": "text-cell-p"
   }
  },
  {
   "cell_type": "code",
   "metadata": {
    "tags": [],
    "cell_id": "00048-e06e134f-5b5f-4403-9a9f-2499e57ea23e",
    "deepnote_to_be_reexecuted": false,
    "source_hash": "65c8caf1",
    "execution_start": 1647635811318,
    "execution_millis": 53,
    "deepnote_table_state": {
     "pageSize": 10,
     "pageIndex": 0,
     "filters": [],
     "sortBy": []
    },
    "deepnote_table_loading": false,
    "deepnote_cell_type": "code",
    "deepnote_cell_height": 634
   },
   "source": "percentage_missing_values = pd.DataFrame(sub_use.isna().sum()/len(sub_use))\n\npercentage_missing_values",
   "execution_count": null,
   "outputs": [
    {
     "output_type": "execute_result",
     "execution_count": 50,
     "data": {
      "application/vnd.deepnote.dataframe.v3+json": {
       "column_count": 1,
       "row_count": 56,
       "columns": [
        {
         "name": 0,
         "dtype": "float64",
         "stats": {
          "unique_count": 36,
          "nan_count": 0,
          "min": "0.0",
          "max": "0.9946295086726178",
          "histogram": [
           {
            "bin_start": 0,
            "bin_end": 0.09946295086726178,
            "count": 20
           },
           {
            "bin_start": 0.09946295086726178,
            "bin_end": 0.19892590173452357,
            "count": 2
           },
           {
            "bin_start": 0.19892590173452357,
            "bin_end": 0.2983888526017854,
            "count": 0
           },
           {
            "bin_start": 0.2983888526017854,
            "bin_end": 0.39785180346904714,
            "count": 2
           },
           {
            "bin_start": 0.39785180346904714,
            "bin_end": 0.4973147543363089,
            "count": 2
           },
           {
            "bin_start": 0.4973147543363089,
            "bin_end": 0.5967777052035708,
            "count": 8
           },
           {
            "bin_start": 0.5967777052035708,
            "bin_end": 0.6962406560708325,
            "count": 1
           },
           {
            "bin_start": 0.6962406560708325,
            "bin_end": 0.7957036069380943,
            "count": 4
           },
           {
            "bin_start": 0.7957036069380943,
            "bin_end": 0.895166557805356,
            "count": 2
           },
           {
            "bin_start": 0.895166557805356,
            "bin_end": 0.9946295086726178,
            "count": 15
           }
          ]
         }
        },
        {
         "name": "_deepnote_index_column",
         "dtype": "object"
        }
       ],
       "rows": [
        {
         "0": 0,
         "_deepnote_index_column": "Participant Num"
        },
        {
         "0": 0,
         "_deepnote_index_column": "Participant ID"
        },
        {
         "0": 0,
         "_deepnote_index_column": "Microdosing (yes/no)"
        },
        {
         "0": 0.5101966761013136,
         "_deepnote_index_column": "Microdosing (substance)"
        },
        {
         "0": 0.9548588431671384,
         "_deepnote_index_column": "LSD dosage"
        },
        {
         "0": 0.5675302997314754,
         "_deepnote_index_column": "Psilocybin dosage"
        },
        {
         "0": 0.5146962769431744,
         "_deepnote_index_column": "Stacking (substance)"
        },
        {
         "0": 0.5141156832861601,
         "_deepnote_index_column": "Prepared products (yes/no)"
        },
        {
         "0": 0.5103418245155672,
         "_deepnote_index_column": "Microdosing protocol (yes/no)"
        },
        {
         "0": 0.668263299223456,
         "_deepnote_index_column": "Microdosing protocol (type)"
        }
       ]
      },
      "text/plain": "                                      0\nParticipant Num                0.000000\nParticipant ID                 0.000000\nMicrodosing (yes/no)           0.000000\nMicrodosing (substance)        0.510197\nLSD dosage                     0.954859\nPsilocybin dosage              0.567530\nStacking (substance)           0.514696\nPrepared products (yes/no)     0.514116\nMicrodosing protocol (yes/no)  0.510342\nMicrodosing protocol (type)    0.668263\nAveraged microdosing days      0.510777\nMicrodosing duration           0.510197\nMicrodosing reasons            0.510632\nAlcohol                        0.000290\nCannabis                       0.000435\nCBD                            0.000653\nNicotine                       0.000218\nLSD (yes/no)                   0.000290\nLSD past year                  0.395239\nLSD lifetime                   0.394876\nPsilocybin (yes/no)            0.000073\nPsilocybin past year           0.178242\nPsilocybin lifetime            0.178242\nMDMA (yes/no)                  0.000145\nMDMA past year                 0.439219\nMDMA lifetime                  0.439219\nKetamine (yes/no)              0.000218\nKetamine past year             0.774439\nKetamine lifetime              0.774367\nMescaline (yes/no)             0.000218\nMescaline past year            0.904783\nMescaline lifetime             0.904783\nDMT (yes/no)                   0.000145\nDMT past year                  0.777633\nDMT lifetime                   0.777705\nAyahuasca (yes/no)             0.000218\nAyahuasca past year            0.914653\nAyahuasca lifetime             0.914653\n3-MMC (yes/no)                 0.000145\n3-MMC past year                0.993904\n3-MMC lifetime                 0.993976\nIbogaine (yes/no)              0.000145\nIbogaine past year             0.994557\nIbogaine lifetime              0.994630\nSalvia (yes/no)                0.000145\nSalvia past year               0.816823\nSalvia lifetime                0.816750\nOther Lysergamides (yes/no)    0.000218\nOther Lysergamides past year   0.940852\nOther Lysergamides lifetime    0.940852\nOther Tryptamines (yes/no)     0.000145\nOther Tryptamines past year    0.967704\nOther Tryptamines lifetime     0.967704\n2C family (yes/no)             0.000218\n2C family past year            0.923870\n2C family lifetime             0.923942",
      "text/html": "<div>\n<style scoped>\n    .dataframe tbody tr th:only-of-type {\n        vertical-align: middle;\n    }\n\n    .dataframe tbody tr th {\n        vertical-align: top;\n    }\n\n    .dataframe thead th {\n        text-align: right;\n    }\n</style>\n<table border=\"1\" class=\"dataframe\">\n  <thead>\n    <tr style=\"text-align: right;\">\n      <th></th>\n      <th>0</th>\n    </tr>\n  </thead>\n  <tbody>\n    <tr>\n      <th>Participant Num</th>\n      <td>0.000000</td>\n    </tr>\n    <tr>\n      <th>Participant ID</th>\n      <td>0.000000</td>\n    </tr>\n    <tr>\n      <th>Microdosing (yes/no)</th>\n      <td>0.000000</td>\n    </tr>\n    <tr>\n      <th>Microdosing (substance)</th>\n      <td>0.510197</td>\n    </tr>\n    <tr>\n      <th>LSD dosage</th>\n      <td>0.954859</td>\n    </tr>\n    <tr>\n      <th>Psilocybin dosage</th>\n      <td>0.567530</td>\n    </tr>\n    <tr>\n      <th>Stacking (substance)</th>\n      <td>0.514696</td>\n    </tr>\n    <tr>\n      <th>Prepared products (yes/no)</th>\n      <td>0.514116</td>\n    </tr>\n    <tr>\n      <th>Microdosing protocol (yes/no)</th>\n      <td>0.510342</td>\n    </tr>\n    <tr>\n      <th>Microdosing protocol (type)</th>\n      <td>0.668263</td>\n    </tr>\n    <tr>\n      <th>Averaged microdosing days</th>\n      <td>0.510777</td>\n    </tr>\n    <tr>\n      <th>Microdosing duration</th>\n      <td>0.510197</td>\n    </tr>\n    <tr>\n      <th>Microdosing reasons</th>\n      <td>0.510632</td>\n    </tr>\n    <tr>\n      <th>Alcohol</th>\n      <td>0.000290</td>\n    </tr>\n    <tr>\n      <th>Cannabis</th>\n      <td>0.000435</td>\n    </tr>\n    <tr>\n      <th>CBD</th>\n      <td>0.000653</td>\n    </tr>\n    <tr>\n      <th>Nicotine</th>\n      <td>0.000218</td>\n    </tr>\n    <tr>\n      <th>LSD (yes/no)</th>\n      <td>0.000290</td>\n    </tr>\n    <tr>\n      <th>LSD past year</th>\n      <td>0.395239</td>\n    </tr>\n    <tr>\n      <th>LSD lifetime</th>\n      <td>0.394876</td>\n    </tr>\n    <tr>\n      <th>Psilocybin (yes/no)</th>\n      <td>0.000073</td>\n    </tr>\n    <tr>\n      <th>Psilocybin past year</th>\n      <td>0.178242</td>\n    </tr>\n    <tr>\n      <th>Psilocybin lifetime</th>\n      <td>0.178242</td>\n    </tr>\n    <tr>\n      <th>MDMA (yes/no)</th>\n      <td>0.000145</td>\n    </tr>\n    <tr>\n      <th>MDMA past year</th>\n      <td>0.439219</td>\n    </tr>\n    <tr>\n      <th>MDMA lifetime</th>\n      <td>0.439219</td>\n    </tr>\n    <tr>\n      <th>Ketamine (yes/no)</th>\n      <td>0.000218</td>\n    </tr>\n    <tr>\n      <th>Ketamine past year</th>\n      <td>0.774439</td>\n    </tr>\n    <tr>\n      <th>Ketamine lifetime</th>\n      <td>0.774367</td>\n    </tr>\n    <tr>\n      <th>Mescaline (yes/no)</th>\n      <td>0.000218</td>\n    </tr>\n    <tr>\n      <th>Mescaline past year</th>\n      <td>0.904783</td>\n    </tr>\n    <tr>\n      <th>Mescaline lifetime</th>\n      <td>0.904783</td>\n    </tr>\n    <tr>\n      <th>DMT (yes/no)</th>\n      <td>0.000145</td>\n    </tr>\n    <tr>\n      <th>DMT past year</th>\n      <td>0.777633</td>\n    </tr>\n    <tr>\n      <th>DMT lifetime</th>\n      <td>0.777705</td>\n    </tr>\n    <tr>\n      <th>Ayahuasca (yes/no)</th>\n      <td>0.000218</td>\n    </tr>\n    <tr>\n      <th>Ayahuasca past year</th>\n      <td>0.914653</td>\n    </tr>\n    <tr>\n      <th>Ayahuasca lifetime</th>\n      <td>0.914653</td>\n    </tr>\n    <tr>\n      <th>3-MMC (yes/no)</th>\n      <td>0.000145</td>\n    </tr>\n    <tr>\n      <th>3-MMC past year</th>\n      <td>0.993904</td>\n    </tr>\n    <tr>\n      <th>3-MMC lifetime</th>\n      <td>0.993976</td>\n    </tr>\n    <tr>\n      <th>Ibogaine (yes/no)</th>\n      <td>0.000145</td>\n    </tr>\n    <tr>\n      <th>Ibogaine past year</th>\n      <td>0.994557</td>\n    </tr>\n    <tr>\n      <th>Ibogaine lifetime</th>\n      <td>0.994630</td>\n    </tr>\n    <tr>\n      <th>Salvia (yes/no)</th>\n      <td>0.000145</td>\n    </tr>\n    <tr>\n      <th>Salvia past year</th>\n      <td>0.816823</td>\n    </tr>\n    <tr>\n      <th>Salvia lifetime</th>\n      <td>0.816750</td>\n    </tr>\n    <tr>\n      <th>Other Lysergamides (yes/no)</th>\n      <td>0.000218</td>\n    </tr>\n    <tr>\n      <th>Other Lysergamides past year</th>\n      <td>0.940852</td>\n    </tr>\n    <tr>\n      <th>Other Lysergamides lifetime</th>\n      <td>0.940852</td>\n    </tr>\n    <tr>\n      <th>Other Tryptamines (yes/no)</th>\n      <td>0.000145</td>\n    </tr>\n    <tr>\n      <th>Other Tryptamines past year</th>\n      <td>0.967704</td>\n    </tr>\n    <tr>\n      <th>Other Tryptamines lifetime</th>\n      <td>0.967704</td>\n    </tr>\n    <tr>\n      <th>2C family (yes/no)</th>\n      <td>0.000218</td>\n    </tr>\n    <tr>\n      <th>2C family past year</th>\n      <td>0.923870</td>\n    </tr>\n    <tr>\n      <th>2C family lifetime</th>\n      <td>0.923942</td>\n    </tr>\n  </tbody>\n</table>\n</div>"
     },
     "metadata": {}
    }
   ]
  },
  {
   "cell_type": "markdown",
   "source": "### Encoding values",
   "metadata": {
    "tags": [],
    "is_collapsed": false,
    "cell_id": "00084-fc6ae579-9454-4360-8d48-571a1795c013",
    "deepnote_cell_type": "text-cell-h3"
   }
  },
  {
   "cell_type": "code",
   "metadata": {
    "tags": [],
    "cell_id": "00053-4acb1ad6-ca76-43de-9c1e-7c86acd71a6e",
    "deepnote_to_be_reexecuted": false,
    "source_hash": "f4ea8c63",
    "execution_start": 1647635811329,
    "execution_millis": 37,
    "deepnote_cell_type": "code",
    "deepnote_cell_height": 81
   },
   "source": "sub_use = sub_use.replace('prefernotsay', 'Skipped question')",
   "execution_count": null,
   "outputs": []
  },
  {
   "cell_type": "code",
   "metadata": {
    "tags": [],
    "cell_id": "00055-7e2c076d-ee1c-4edb-a638-106cf34cca60",
    "deepnote_to_be_reexecuted": false,
    "source_hash": "3dab4647",
    "execution_start": 1647635811367,
    "execution_millis": 0,
    "deepnote_cell_type": "code",
    "deepnote_cell_height": 81
   },
   "source": "sub_use[\"Microdosing protocol (type)\"] = sub_use[\"Microdosing protocol (type)\"].str.lower()",
   "execution_count": null,
   "outputs": []
  },
  {
   "cell_type": "code",
   "metadata": {
    "tags": [],
    "cell_id": "00053-3340ac9c-2509-481c-8844-c3f418fe0904",
    "deepnote_to_be_reexecuted": false,
    "source_hash": "926ca05d",
    "execution_start": 1647635811369,
    "execution_millis": 66,
    "deepnote_cell_type": "code",
    "deepnote_cell_height": 329.25,
    "deepnote_output_heights": [
     232
    ]
   },
   "source": "sub_use[\"Microdosing protocol (type)\"].value_counts()",
   "execution_count": null,
   "outputs": [
    {
     "output_type": "execute_result",
     "execution_count": 53,
     "data": {
      "text/plain": "fadiman                                                      280\nevery third day                                              183\nstamets                                                      137\nstamets                                                      102\nfadiman                                                       89\n                                                            ... \ntwo days on, one off, three days off every other weekend       1\n.3 every 3days                                                 1\n.3gm every third day                                           1\nm,w,f                                                          1\nstamets - dosage is different but 5 days on 2 off              1\nName: Microdosing protocol (type), Length: 2469, dtype: int64"
     },
     "metadata": {}
    }
   ]
  },
  {
   "cell_type": "code",
   "metadata": {
    "tags": [],
    "cell_id": "00056-6d07d322-72c5-4bdb-8c4b-0172730dac54",
    "deepnote_to_be_reexecuted": false,
    "source_hash": "b0007cc0",
    "execution_start": 1647635811370,
    "execution_millis": 67,
    "deepnote_cell_type": "code",
    "deepnote_cell_height": 118.1875,
    "deepnote_output_heights": [
     21
    ]
   },
   "source": "sub_use[\"Microdosing protocol (type)\"].isna().sum()",
   "execution_count": null,
   "outputs": [
    {
     "output_type": "execute_result",
     "execution_count": 54,
     "data": {
      "text/plain": "9208"
     },
     "metadata": {}
    }
   ]
  },
  {
   "cell_type": "code",
   "metadata": {
    "tags": [],
    "cell_id": "00057-927cf9db-22c2-4f85-b06d-a7cf81366bd2",
    "deepnote_to_be_reexecuted": false,
    "source_hash": "1e1dc17b",
    "execution_start": 1647635811433,
    "execution_millis": 1,
    "deepnote_cell_type": "code",
    "deepnote_cell_height": 99
   },
   "source": "#Needed to fill in NaN's otherwise the cell below wouldn't work\nsub_use[\"Microdosing protocol (type)\"] = sub_use[\"Microdosing protocol (type)\"].fillna(\"None\")",
   "execution_count": null,
   "outputs": []
  },
  {
   "cell_type": "code",
   "metadata": {
    "tags": [],
    "cell_id": "00053-7cb3074d-56f7-424a-a538-91e9ae54641f",
    "deepnote_to_be_reexecuted": false,
    "source_hash": "bfa97a4b",
    "execution_start": 1647635811434,
    "execution_millis": 46,
    "deepnote_cell_type": "code",
    "deepnote_cell_height": 423
   },
   "source": "protocol_dict = {\n    \"fadiman\": \"Fadiman\",\n    'stamet':'Stamets',\n    'every day':'Every day',\n    'every other day':'Every other day',\n    'every third day':'Fadiman',\n    '4 days on 3 days off':'Stamets',\n    '5 days on 2 days off':'5 days on 2 days off',\n    '4 on 3 off':'Stamets',\n    '5 on 2 off':'5 days on 2 days off',\n    '1 day on 2 days off':'Fadiman',\n    '1 on 2 off':'Fadiman',\n    'every 3rd day':'Fadiman'\n\n}\n\nfor old_protocol_name in protocol_dict:\n    new_protocol_name = protocol_dict[old_protocol_name]\n    sub_use.at[sub_use['Microdosing protocol (type)'].str.contains(old_protocol_name,case=False), \"Microdosing protocol (type)\"] = new_protocol_name\n",
   "execution_count": null,
   "outputs": []
  },
  {
   "cell_type": "code",
   "metadata": {
    "tags": [],
    "cell_id": "00059-2f8d2bf1-c730-4426-a4d6-f112791b1966",
    "deepnote_to_be_reexecuted": false,
    "source_hash": "487b7afb",
    "execution_start": 1647635811493,
    "execution_millis": 698,
    "deepnote_cell_type": "code",
    "deepnote_cell_height": 171
   },
   "source": "protocol_types = [\"None\", \"Fadiman\", \"Stamets\", \"5 days on 2 days off\", \"Every other day\", \"Every day\"]\n\nfor i, row in sub_use.iterrows():\n    if row[\"Microdosing protocol (type)\"] not in protocol_types:\n        cell = \"Other protocol\"\n        sub_use.at[i, \"Microdosing protocol (type)\"] = cell",
   "execution_count": null,
   "outputs": []
  },
  {
   "cell_type": "code",
   "metadata": {
    "cell_id": "70d8e154-3a87-475f-99d7-ec044315feab",
    "tags": [],
    "deepnote_to_be_reexecuted": false,
    "source_hash": "926ca05d",
    "execution_start": 1647635812198,
    "execution_millis": 11,
    "deepnote_cell_type": "code",
    "deepnote_cell_height": 252.5,
    "deepnote_output_heights": [
     156
    ]
   },
   "source": "sub_use[\"Microdosing protocol (type)\"].value_counts()",
   "execution_count": null,
   "outputs": [
    {
     "output_type": "execute_result",
     "execution_count": 58,
     "data": {
      "text/plain": "None                    9208\nOther protocol          1913\nFadiman                 1231\nStamets                 1142\nEvery other day          131\n5 days on 2 days off     130\nEvery day                 24\nName: Microdosing protocol (type), dtype: int64"
     },
     "metadata": {}
    }
   ]
  },
  {
   "cell_type": "code",
   "metadata": {
    "tags": [],
    "cell_id": "00054-5192ccb5-e3d9-4b1c-ad9a-21d6df8632b8",
    "deepnote_to_be_reexecuted": false,
    "source_hash": "78284c6",
    "execution_start": 1647635812211,
    "execution_millis": 9,
    "deepnote_cell_type": "code",
    "deepnote_cell_height": 174.5625,
    "deepnote_output_heights": [
     60
    ]
   },
   "source": "sub_use[\"Microdosing (yes/no)\"] = sub_use[\"Microdosing (yes/no)\"].astype(str)\nsub_use[\"Microdosing (yes/no)\"].value_counts(dropna=False)",
   "execution_count": null,
   "outputs": [
    {
     "output_type": "execute_result",
     "execution_count": 59,
     "data": {
      "text/plain": "False    7030\nTrue     6749\nName: Microdosing (yes/no), dtype: int64"
     },
     "metadata": {}
    }
   ]
  },
  {
   "cell_type": "code",
   "metadata": {
    "tags": [],
    "deepnote_to_be_reexecuted": false,
    "source_hash": "cbfaecd4",
    "execution_start": 1647635812229,
    "execution_millis": 6,
    "cell_id": "00088-0284cbbb-9d95-4d82-825e-46271376fed5",
    "deepnote_cell_type": "code",
    "deepnote_cell_height": 475.625,
    "deepnote_output_heights": [
     271
    ]
   },
   "source": "sub_use[\"Microdosing (substance)\"] = sub_use[\"Microdosing (substance)\"].replace([\n                                            \"2c\",\"ayahuasca\",\"dmt\",\"ibogaine\",\"ketamine\",\"lsd\",\"mdma\",\"mescaline\",\"other\",\"otherls\",\n                                            \"othertryp\",\"psilocybin\"], \n                                            [\"2c family\",\"Ayahuasca\",\"DMT\",\"Ibogaine\",\"Ketamine\",\"LSD\",\"MDMA\",\"Mescaline\",\"Other psychedelics\",\n                                            \"Other ls\",\"Other tryp\",\"Psilocybin\"])\n\nsub_use[\"Microdosing (substance)\"].value_counts(dropna=False)",
   "execution_count": null,
   "outputs": [
    {
     "output_type": "execute_result",
     "execution_count": 60,
     "data": {
      "text/plain": "NaN                   7030\nPsilocybin            5959\nLSD                    624\nOther psychedelics      66\nOther ls                50\nOther tryp              10\nMDMA                     8\nAyahuasca                7\nDMT                      6\nIbogaine                 6\nMescaline                6\nKetamine                 5\n2c family                2\nName: Microdosing (substance), dtype: int64"
     },
     "metadata": {}
    }
   ]
  },
  {
   "cell_type": "code",
   "metadata": {
    "tags": [],
    "deepnote_to_be_reexecuted": false,
    "source_hash": "4fffc9b1",
    "execution_start": 1647635812281,
    "execution_millis": 3,
    "cell_id": "00090-92be7c13-1004-4dff-9980-40e69706a673",
    "deepnote_cell_type": "code",
    "deepnote_cell_height": 266.9375,
    "deepnote_output_heights": [
     98
    ]
   },
   "source": "sub_use[\"Psilocybin dosage\"] = sub_use[\"Psilocybin dosage\"].replace([\n                                            \"medmd\", \"lowmd\", \"highmd\"], \n                                            [\"Medium\", \"Low\", \"High\"])\n\nsub_use[\"Psilocybin dosage\"].value_counts(dropna=False)",
   "execution_count": null,
   "outputs": [
    {
     "output_type": "execute_result",
     "execution_count": 61,
     "data": {
      "text/plain": "NaN       7820\nMedium    4244\nLow        938\nHigh       777\nName: Psilocybin dosage, dtype: int64"
     },
     "metadata": {}
    }
   ]
  },
  {
   "cell_type": "code",
   "metadata": {
    "tags": [],
    "deepnote_to_be_reexecuted": false,
    "source_hash": "83006053",
    "execution_start": 1647635812282,
    "execution_millis": 2,
    "cell_id": "00093-ed6fb373-284e-4ac6-aba9-ce04b9cec4a3",
    "deepnote_cell_type": "code",
    "deepnote_cell_height": 1158.4375,
    "deepnote_output_heights": [
     251
    ]
   },
   "source": "sub_use[\"Stacking (substance)\"] = sub_use[\"Stacking (substance)\"].replace(\n{\n'lionsmane': \"Lion's mane\",\n'none': 'None',\n'chocolate': 'Chocolate',\n'lionsmane, niacinnon': \"Lion's mane + other\",\n'lionsmane, niacin': \"Lion's mane + niacin\",\n'lionsmane, niacin, chocolate': \"Lion's mane + other\",\n'other': \"Other\",\n'lionsmane, niacin, other': \"Lion's mane + other\",\n'niacinnon': \"Other\",\n'lionsmane, other': \"Lion's mane + other\",\n'niacin': \"Niacin\",\n'lionsmane, chocolate': \"Lion's mane + other\",\n'peanutbutter': \"Other\",\n'lionsmane, niacin, peanutbutter': \"Lion's mane + other\",\n'chocolate, other': \"Other\",\n'lionsmane, chocolate, peanutbutter': \"Lion's mane + other\",\n'lionsmane, peanutbutter': \"Lion's mane + other\",\n'niacin, peanutbutter': \"Niacin + other\",\n'chocolate, peanutbutter': \"Other\",\n'niacinnon, other': \"Niacin + other\",\n'lionsmane, chocolate, other': \"Lion's mane + other\",\n'lionsmane, niacinnon, other': \"Lion's mane + other\",\n'niacin, chocolate': \"Niacin + other\",\n'lionsmane, niacin, niacinnon, other': \"Lion's mane + other\",\n'lionsmane, niacinnon, chocolate': \"Lion's mane + other\",\n'peanutbutter, other': \"Other\",\n'niacin, other': \"Niacin + other\",\n'chocolate, peanutbutter, other': \"Other\",\n'lionsmane, niacin, chocolate, peanutbutter': \"Lion's mane + other\",\n'lionsmane, niacin, niacinnon': \"Lion's mane + other\",\n'lionsmane, niacin, chocolate, other': \"Lion's mane + other\",\n'lionsmane, chocolate, peanutbutter, other': \"Lion's mane + other\",\n'lionsmane, peanutbutter, other': \"Lion's mane + other\",\n'niacin, chocolate, other': \"Niacin + other\",\n'lionsmane, niacin, chocolate, peanutbutter, other': \"Lion's mane + other\",\n'lionsmane, niacin, niacinnon, chocolate, peanutbutter, other': \"Lion's mane + other\",\n'niacinnon, peanutbutter': \"Other\",\n'lionsmane, niacinnon, peanutbutter': \"Lion's mane + other\",\n'lionsmane, niacinnon, chocolate, peanutbutter': \"Lion's mane + other\",\n'lionsmane, niacinnon, chocolate, other': \"Lion's mane + other\",\n'niacinnon, chocolate': \"Other\"\n})\n\nsub_use[\"Stacking (substance)\"].value_counts(dropna=False)",
   "execution_count": null,
   "outputs": [
    {
     "output_type": "execute_result",
     "execution_count": 62,
     "data": {
      "text/plain": "NaN                                7092\nNone                               3149\nLion's mane                        1124\nLion's mane + niacin                867\nLion's mane + other                 759\nOther                               535\nChocolate                           133\nNiacin                               83\nNiacin + other                       23\nSkipped question                     12\nniacin, chocolate, peanutbutter       1\nniacin, niacinnon                     1\nName: Stacking (substance), dtype: int64"
     },
     "metadata": {}
    }
   ]
  },
  {
   "cell_type": "code",
   "metadata": {
    "tags": [],
    "deepnote_to_be_reexecuted": false,
    "source_hash": "f50bf5e0",
    "execution_start": 1647635812286,
    "execution_millis": 12,
    "cell_id": "00099-5a85793e-37d4-4ef9-bbe8-dfa59fe9127b",
    "deepnote_cell_type": "code",
    "deepnote_cell_height": 438.4375,
    "deepnote_output_heights": [
     251
    ]
   },
   "source": "sub_use[\"Averaged microdosing days\"] = sub_use[\"Averaged microdosing days\"].replace([\n                                            \"4week\",\"2week\",\"3week\",\"5week\",\"1day\",\"1week\",\"other\",\n                                            \"3month\",\"6week\",\"2month\",\"1month\"], \n                                            [\"4x/week\", \"2x/week\", \"3x/week\",\"5x/week\",\"Daily\",\"Weekly\", \"Other\",\n                                            \"3x/month\",\"6x/week\",\"2x/month\",\"Monthly\"])\nsub_use[\"Averaged microdosing days\"].value_counts(dropna=False)                           ",
   "execution_count": null,
   "outputs": [
    {
     "output_type": "execute_result",
     "execution_count": 63,
     "data": {
      "text/plain": "NaN         7038\n4x/week     1586\n2x/week     1544\n3x/week     1470\n5x/week      898\nDaily        581\nWeekly       230\nOther        152\n3x/month     100\n6x/week       81\n2x/month      52\nMonthly       47\nName: Averaged microdosing days, dtype: int64"
     },
     "metadata": {}
    }
   ]
  },
  {
   "cell_type": "code",
   "metadata": {
    "tags": [],
    "deepnote_to_be_reexecuted": false,
    "source_hash": "566af16e",
    "execution_start": 1647635812303,
    "execution_millis": 9,
    "cell_id": "00101-a7a8214c-762b-4d23-9b32-f99370240118",
    "deepnote_cell_type": "code",
    "deepnote_cell_height": 361.6875,
    "deepnote_output_heights": [
     175
    ]
   },
   "source": "sub_use[\"Microdosing duration\"] = sub_use[\"Microdosing duration\"].replace([\n                                            \"<1\",\"now\",\"1-3\",\"12-24\",\"3-6\",\"6-12\",\">24\"], \n                                            [\"Less than month\", \"Starting now\", \"1-3 months\",\"1-2 years\",\"3-6 months\",\n                                            \"6-12 months\",\"more than 2 years\"])\n\nsub_use[\"Microdosing duration\"].value_counts(dropna=False)",
   "execution_count": null,
   "outputs": [
    {
     "output_type": "execute_result",
     "execution_count": 64,
     "data": {
      "text/plain": "NaN                  7030\nLess than month      2639\nStarting now         1822\n1-3 months            977\n1-2 years             399\n3-6 months            397\n6-12 months           384\nmore than 2 years     131\nName: Microdosing duration, dtype: int64"
     },
     "metadata": {}
    }
   ]
  },
  {
   "cell_type": "markdown",
   "source": "### Frequency analysis for Microdosing reasons",
   "metadata": {
    "cell_id": "1e1ea993-1f61-4d32-b412-2d1a18fccfff",
    "tags": [],
    "is_collapsed": false,
    "deepnote_cell_type": "text-cell-h3"
   }
  },
  {
   "cell_type": "code",
   "metadata": {
    "cell_id": "6ee047da-7b0a-4b49-9a87-2e4af2da10f4",
    "tags": [],
    "deepnote_to_be_reexecuted": false,
    "source_hash": "4e5b8bb5",
    "execution_start": 1647635812317,
    "execution_millis": 7,
    "deepnote_cell_type": "code",
    "deepnote_cell_height": 347.25,
    "deepnote_output_heights": [
     232
    ]
   },
   "source": "sub_use[\"Microdosing reasons\"] = sub_use[\"Microdosing reasons\"].fillna(\"None\")\nsub_use[\"Microdosing reasons\"].value_counts(dropna=False)",
   "execution_count": null,
   "outputs": [
    {
     "output_type": "execute_result",
     "execution_count": 65,
     "data": {
      "text/plain": "None                            7036\nother                             78\n10                                47\n1, 3, 5                           36\n3, 5, 6, 10                       36\n                                ... \n6, 7, 9, 11, 14, 16, other         1\n3, 5, 6, 9, 14, 15                 1\n2, 3, 5, 6, 7, 9, 10, 14, 16       1\n1, 2, 3, 5, 10, 15, 16             1\n1, 2, 3, 5, 7, other               1\nName: Microdosing reasons, Length: 3259, dtype: int64"
     },
     "metadata": {}
    }
   ]
  },
  {
   "cell_type": "code",
   "metadata": {
    "cell_id": "88d240b8-91a3-4df8-965a-79630455882a",
    "tags": [],
    "deepnote_to_be_reexecuted": false,
    "source_hash": "2933d0da",
    "execution_start": 1647635812327,
    "execution_millis": 656,
    "deepnote_cell_type": "code",
    "deepnote_cell_height": 716.75,
    "deepnote_output_heights": [
     386
    ]
   },
   "source": "numeric_reasons_dict = {}\n\ndef reasons_counter(df):\n    for i, row in df.iterrows():\n        keys = row['Microdosing reasons'].split(\", \")\n        for key in keys:\n            if key not in numeric_reasons_dict:\n                numeric_reasons_dict[key] = 1\n            elif key in numeric_reasons_dict:\n                numeric_reasons_dict[key] += 1\n\nreasons_counter(sub_use)\n\nnumeric_reasons_dict",
   "execution_count": null,
   "outputs": [
    {
     "output_type": "execute_result",
     "execution_count": 66,
     "data": {
      "text/plain": "{'None': 7036,\n '1': 4036,\n '5': 5612,\n '6': 4835,\n '10': 4339,\n '11': 3771,\n '18': 1396,\n '3': 5169,\n '2': 2858,\n '7': 1785,\n '8': 659,\n '9': 3091,\n '13': 388,\n '16': 3013,\n '15': 1560,\n '4': 1938,\n '14': 1611,\n 'other': 723,\n '17': 312,\n '12': 233}"
     },
     "metadata": {}
    }
   ]
  },
  {
   "cell_type": "code",
   "metadata": {
    "tags": [],
    "deepnote_to_be_reexecuted": false,
    "source_hash": "f1488c38",
    "execution_start": 1647635812991,
    "execution_millis": 830,
    "cell_id": "00103-06ef4e01-9e78-4c65-a28e-35ac4d8661a3",
    "deepnote_cell_type": "code",
    "deepnote_cell_height": 621
   },
   "source": "reasons_dict = {\n\"None\": \"None\",\n\"other\": \"Other\",\n\"1\": \"Lessen anxiety\",\n\"2\": \"Increase sociability\",\n\"3\": \"Increase mood\",\n\"4\": \"Improve sleep\",\n\"5\": \"Increase mindfulness\",\n\"6\": \"Enhance creativity\",\n\"7\": \"Decrease substance use\",\n\"8\": \"Improve headaches\",\n\"9\": \"Improve health habits\",\n\"10\": \"Personal (therapeutic)\",\n\"11\": \"Enhance learning\",\n\"12\": \"Lessen menstruation pain\",\n\"13\": \"Lessen migraines\",\n\"14\": \"Enhance physical skills\",\n\"15\": \"Decrease trauma symptoms\",\n\"16\": \"Decrease procrastination\",\n\"17\": \"Lessen stuttering\",\n\"18\": \"Improve writing\"\n}\n\nfor i, row in sub_use.iterrows():\n    reason =  row[\"Microdosing reasons\"].split(\", \")\n    new_reasons = []\n    for old_reason_name in reason:\n        new_reason_name = reasons_dict[old_reason_name]\n        new_reasons.append(new_reason_name)\n    sub_use.at[i, \"Microdosing reasons\"] = \", \".join(new_reasons)\n",
   "execution_count": null,
   "outputs": []
  },
  {
   "cell_type": "code",
   "metadata": {
    "cell_id": "385e281e-70f5-47b5-8745-f1e79e6510fd",
    "tags": [],
    "deepnote_to_be_reexecuted": false,
    "source_hash": "3dc0a714",
    "execution_start": 1647635813827,
    "execution_millis": 162,
    "deepnote_cell_type": "code",
    "deepnote_cell_height": 616
   },
   "source": "searchfor = [\"Decrease substance use\"]\nsub_use[sub_use[\"Microdosing reasons\"].str.contains('|'.join(searchfor))]",
   "execution_count": null,
   "outputs": [
    {
     "output_type": "execute_result",
     "execution_count": 68,
     "data": {
      "application/vnd.deepnote.dataframe.v3+json": {
       "column_count": 56,
       "row_count": 1785,
       "columns": [
        {
         "name": "Participant Num",
         "dtype": "int64",
         "stats": {
          "unique_count": 1785,
          "nan_count": 0,
          "min": "90",
          "max": "43157",
          "histogram": [
           {
            "bin_start": 90,
            "bin_end": 4396.7,
            "count": 105
           },
           {
            "bin_start": 4396.7,
            "bin_end": 8703.4,
            "count": 110
           },
           {
            "bin_start": 8703.4,
            "bin_end": 13010.099999999999,
            "count": 84
           },
           {
            "bin_start": 13010.099999999999,
            "bin_end": 17316.8,
            "count": 89
           },
           {
            "bin_start": 17316.8,
            "bin_end": 21623.5,
            "count": 142
           },
           {
            "bin_start": 21623.5,
            "bin_end": 25930.199999999997,
            "count": 237
           },
           {
            "bin_start": 25930.199999999997,
            "bin_end": 30236.899999999998,
            "count": 237
           },
           {
            "bin_start": 30236.899999999998,
            "bin_end": 34543.6,
            "count": 292
           },
           {
            "bin_start": 34543.6,
            "bin_end": 38850.299999999996,
            "count": 269
           },
           {
            "bin_start": 38850.299999999996,
            "bin_end": 43157,
            "count": 220
           }
          ]
         }
        },
        {
         "name": "Participant ID",
         "dtype": "object",
         "stats": {
          "unique_count": 1785,
          "nan_count": 0,
          "categories": [
           {
            "name": "adfee4e4-5fd0-4d99-a001-efa73871bf29",
            "count": 1
           },
           {
            "name": "2ca76cfe-2ce5-48cb-85af-d0ad09adcf69",
            "count": 1
           },
           {
            "name": "1783 others",
            "count": 1783
           }
          ]
         }
        },
        {
         "name": "Microdosing (yes/no)",
         "dtype": "object",
         "stats": {
          "unique_count": 1,
          "nan_count": 0,
          "categories": [
           {
            "name": "True",
            "count": 1785
           }
          ]
         }
        },
        {
         "name": "Microdosing (substance)",
         "dtype": "object",
         "stats": {
          "unique_count": 12,
          "nan_count": 0,
          "categories": [
           {
            "name": "Psilocybin",
            "count": 1592
           },
           {
            "name": "LSD",
            "count": 141
           },
           {
            "name": "10 others",
            "count": 52
           }
          ]
         }
        },
        {
         "name": "LSD dosage",
         "dtype": "object",
         "stats": {
          "unique_count": 6,
          "nan_count": 1645,
          "categories": [
           {
            "name": "6-10",
            "count": 55
           },
           {
            "name": "5 others",
            "count": 85
           },
           {
            "name": "Missing",
            "count": 1645
           }
          ]
         }
        },
        {
         "name": "Psilocybin dosage",
         "dtype": "object",
         "stats": {
          "unique_count": 3,
          "nan_count": 193,
          "categories": [
           {
            "name": "Medium",
            "count": 1155
           },
           {
            "name": "2 others",
            "count": 437
           },
           {
            "name": "Missing",
            "count": 193
           }
          ]
         }
        },
        {
         "name": "Stacking (substance)",
         "dtype": "object",
         "stats": {
          "unique_count": 9,
          "nan_count": 23,
          "categories": [
           {
            "name": "None",
            "count": 807
           },
           {
            "name": "8 others",
            "count": 955
           },
           {
            "name": "Missing",
            "count": 23
           }
          ]
         }
        },
        {
         "name": "Prepared products (yes/no)",
         "dtype": "object",
         "stats": {
          "unique_count": 3,
          "nan_count": 9,
          "categories": [
           {
            "name": "True",
            "count": 888
           },
           {
            "name": "2 others",
            "count": 888
           },
           {
            "name": "Missing",
            "count": 9
           }
          ]
         }
        },
        {
         "name": "Microdosing protocol (yes/no)",
         "dtype": "object",
         "stats": {
          "unique_count": 3,
          "nan_count": 0,
          "categories": [
           {
            "name": "True",
            "count": 1223
           },
           {
            "name": "False",
            "count": 554
           },
           {
            "name": "Skipped question",
            "count": 8
           }
          ]
         }
        },
        {
         "name": "Microdosing protocol (type)",
         "dtype": "object",
         "stats": {
          "unique_count": 7,
          "nan_count": 0,
          "categories": [
           {
            "name": "None",
            "count": 582
           },
           {
            "name": "Other protocol",
            "count": 510
           },
           {
            "name": "5 others",
            "count": 693
           }
          ]
         }
        },
        {
         "name": "Averaged microdosing days",
         "dtype": "object",
         "stats": {
          "unique_count": 11,
          "nan_count": 0,
          "categories": [
           {
            "name": "4x/week",
            "count": 456
           },
           {
            "name": "3x/week",
            "count": 379
           },
           {
            "name": "9 others",
            "count": 950
           }
          ]
         }
        },
        {
         "name": "Microdosing duration",
         "dtype": "object",
         "stats": {
          "unique_count": 7,
          "nan_count": 0,
          "categories": [
           {
            "name": "Less than month",
            "count": 760
           },
           {
            "name": "Starting now",
            "count": 494
           },
           {
            "name": "5 others",
            "count": 531
           }
          ]
         }
        },
        {
         "name": "Microdosing reasons",
         "dtype": "object",
         "stats": {
          "unique_count": 1038,
          "nan_count": 0,
          "categories": [
           {
            "name": "Lessen anxiety, Increase sociability, Increase mood, Increase mindfulness, Enhance creativity, Decrease substance use, Improve health habits, Personal (therapeutic), Enhance learning, Decrease procrastination",
            "count": 22
           },
           {
            "name": "Lessen anxiety, Increase sociability, Increase mood, Improve sleep, Increase mindfulness, Enhance creativity, Decrease substance use, Improve health habits, Personal (therapeutic), Enhance learning, Enhance physical skills, Decrease procrastination, Improve writing",
            "count": 20
           },
           {
            "name": "1036 others",
            "count": 1743
           }
          ]
         }
        },
        {
         "name": "Alcohol",
         "dtype": "object",
         "stats": {
          "unique_count": 5,
          "nan_count": 0,
          "categories": [
           {
            "name": "occasionally",
            "count": 661
           },
           {
            "name": "never",
            "count": 354
           },
           {
            "name": "3 others",
            "count": 770
           }
          ]
         }
        },
        {
         "name": "Cannabis",
         "dtype": "object",
         "stats": {
          "unique_count": 5,
          "nan_count": 2,
          "categories": [
           {
            "name": "5+week",
            "count": 880
           },
           {
            "name": "4 others",
            "count": 903
           },
           {
            "name": "Missing",
            "count": 2
           }
          ]
         }
        },
        {
         "name": "CBD",
         "dtype": "object",
         "stats": {
          "unique_count": 5,
          "nan_count": 2,
          "categories": [
           {
            "name": "occasionally",
            "count": 682
           },
           {
            "name": "4 others",
            "count": 1101
           },
           {
            "name": "Missing",
            "count": 2
           }
          ]
         }
        },
        {
         "name": "Nicotine",
         "dtype": "object",
         "stats": {
          "unique_count": 7,
          "nan_count": 0,
          "categories": [
           {
            "name": "never",
            "count": 788
           },
           {
            "name": "5+day",
            "count": 455
           },
           {
            "name": "5 others",
            "count": 542
           }
          ]
         }
        },
        {
         "name": "LSD (yes/no)",
         "dtype": "object",
         "stats": {
          "unique_count": 3,
          "nan_count": 1,
          "categories": [
           {
            "name": "True",
            "count": 1284
           },
           {
            "name": "2 others",
            "count": 500
           },
           {
            "name": "Missing",
            "count": 1
           }
          ]
         }
        },
        {
         "name": "LSD past year",
         "dtype": "object",
         "stats": {
          "unique_count": 5,
          "nan_count": 502,
          "categories": [
           {
            "name": "never",
            "count": 564
           },
           {
            "name": "4 others",
            "count": 719
           },
           {
            "name": "Missing",
            "count": 502
           }
          ]
         }
        },
        {
         "name": "LSD lifetime",
         "dtype": "object",
         "stats": {
          "unique_count": 5,
          "nan_count": 501,
          "categories": [
           {
            "name": "3-10",
            "count": 519
           },
           {
            "name": "4 others",
            "count": 765
           },
           {
            "name": "Missing",
            "count": 501
           }
          ]
         }
        },
        {
         "name": "Psilocybin (yes/no)",
         "dtype": "object",
         "stats": {
          "unique_count": 3,
          "nan_count": 0,
          "categories": [
           {
            "name": "True",
            "count": 1626
           },
           {
            "name": "False",
            "count": 158
           },
           {
            "name": "Skipped question",
            "count": 1
           }
          ]
         }
        },
        {
         "name": "Psilocybin past year",
         "dtype": "object",
         "stats": {
          "unique_count": 5,
          "nan_count": 159,
          "categories": [
           {
            "name": "1-2",
            "count": 598
           },
           {
            "name": "4 others",
            "count": 1028
           },
           {
            "name": "Missing",
            "count": 159
           }
          ]
         }
        },
        {
         "name": "Psilocybin lifetime",
         "dtype": "object",
         "stats": {
          "unique_count": 5,
          "nan_count": 161,
          "categories": [
           {
            "name": "3-10",
            "count": 627
           },
           {
            "name": "4 others",
            "count": 997
           },
           {
            "name": "Missing",
            "count": 161
           }
          ]
         }
        },
        {
         "name": "MDMA (yes/no)",
         "dtype": "object",
         "stats": {
          "unique_count": 3,
          "nan_count": 1,
          "categories": [
           {
            "name": "True",
            "count": 1197
           },
           {
            "name": "2 others",
            "count": 587
           },
           {
            "name": "Missing",
            "count": 1
           }
          ]
         }
        },
        {
         "name": "MDMA past year",
         "dtype": "object",
         "stats": {
          "unique_count": 5,
          "nan_count": 588,
          "categories": [
           {
            "name": "never",
            "count": 589
           },
           {
            "name": "4 others",
            "count": 608
           },
           {
            "name": "Missing",
            "count": 588
           }
          ]
         }
        },
        {
         "name": "MDMA lifetime",
         "dtype": "object",
         "stats": {
          "unique_count": 5,
          "nan_count": 588,
          "categories": [
           {
            "name": "3-10",
            "count": 382
           },
           {
            "name": "4 others",
            "count": 815
           },
           {
            "name": "Missing",
            "count": 588
           }
          ]
         }
        },
        {
         "name": "Ketamine (yes/no)",
         "dtype": "object",
         "stats": {
          "unique_count": 3,
          "nan_count": 0,
          "categories": [
           {
            "name": "False",
            "count": 1233
           },
           {
            "name": "True",
            "count": 551
           },
           {
            "name": "Skipped question",
            "count": 1
           }
          ]
         }
        },
        {
         "name": "Ketamine past year",
         "dtype": "object",
         "stats": {
          "unique_count": 5,
          "nan_count": 1234,
          "categories": [
           {
            "name": "never",
            "count": 290
           },
           {
            "name": "4 others",
            "count": 261
           },
           {
            "name": "Missing",
            "count": 1234
           }
          ]
         }
        },
        {
         "name": "Ketamine lifetime",
         "dtype": "object",
         "stats": {
          "unique_count": 5,
          "nan_count": 1234,
          "categories": [
           {
            "name": "1-2",
            "count": 217
           },
           {
            "name": "4 others",
            "count": 334
           },
           {
            "name": "Missing",
            "count": 1234
           }
          ]
         }
        },
        {
         "name": "Mescaline (yes/no)",
         "dtype": "object",
         "stats": {
          "unique_count": 3,
          "nan_count": 0,
          "categories": [
           {
            "name": "False",
            "count": 1584
           },
           {
            "name": "True",
            "count": 199
           },
           {
            "name": "Skipped question",
            "count": 2
           }
          ]
         }
        },
        {
         "name": "Mescaline past year",
         "dtype": "object",
         "stats": {
          "unique_count": 5,
          "nan_count": 1586,
          "categories": [
           {
            "name": "never",
            "count": 144
           },
           {
            "name": "4 others",
            "count": 55
           },
           {
            "name": "Missing",
            "count": 1586
           }
          ]
         }
        },
        {
         "name": "Mescaline lifetime",
         "dtype": "object",
         "stats": {
          "unique_count": 5,
          "nan_count": 1586,
          "categories": [
           {
            "name": "1-2",
            "count": 123
           },
           {
            "name": "4 others",
            "count": 76
           },
           {
            "name": "Missing",
            "count": 1586
           }
          ]
         }
        },
        {
         "name": "DMT (yes/no)",
         "dtype": "object",
         "stats": {
          "unique_count": 3,
          "nan_count": 0,
          "categories": [
           {
            "name": "False",
            "count": 1258
           },
           {
            "name": "True",
            "count": 525
           },
           {
            "name": "Skipped question",
            "count": 2
           }
          ]
         }
        },
        {
         "name": "DMT past year",
         "dtype": "object",
         "stats": {
          "unique_count": 5,
          "nan_count": 1260,
          "categories": [
           {
            "name": "never",
            "count": 199
           },
           {
            "name": "4 others",
            "count": 326
           },
           {
            "name": "Missing",
            "count": 1260
           }
          ]
         }
        },
        {
         "name": "DMT lifetime",
         "dtype": "object",
         "stats": {
          "unique_count": 5,
          "nan_count": 1260,
          "categories": [
           {
            "name": "1-2",
            "count": 235
           },
           {
            "name": "4 others",
            "count": 290
           },
           {
            "name": "Missing",
            "count": 1260
           }
          ]
         }
        },
        {
         "name": "Ayahuasca (yes/no)",
         "dtype": "object",
         "stats": {
          "unique_count": 3,
          "nan_count": 0,
          "categories": [
           {
            "name": "False",
            "count": 1620
           },
           {
            "name": "True",
            "count": 162
           },
           {
            "name": "Skipped question",
            "count": 3
           }
          ]
         }
        },
        {
         "name": "Ayahuasca past year",
         "dtype": "object",
         "stats": {
          "unique_count": 5,
          "nan_count": 1623,
          "categories": [
           {
            "name": "never",
            "count": 79
           },
           {
            "name": "4 others",
            "count": 83
           },
           {
            "name": "Missing",
            "count": 1623
           }
          ]
         }
        },
        {
         "name": "Ayahuasca lifetime",
         "dtype": "object",
         "stats": {
          "unique_count": 5,
          "nan_count": 1623,
          "categories": [
           {
            "name": "1-2",
            "count": 79
           },
           {
            "name": "4 others",
            "count": 83
           },
           {
            "name": "Missing",
            "count": 1623
           }
          ]
         }
        },
        {
         "name": "3-MMC (yes/no)",
         "dtype": "object",
         "stats": {
          "unique_count": 3,
          "nan_count": 0,
          "categories": [
           {
            "name": "False",
            "count": 1765
           },
           {
            "name": "True",
            "count": 15
           },
           {
            "name": "Skipped question",
            "count": 5
           }
          ]
         }
        },
        {
         "name": "3-MMC past year",
         "dtype": "object",
         "stats": {
          "unique_count": 4,
          "nan_count": 1770,
          "categories": [
           {
            "name": "never",
            "count": 7
           },
           {
            "name": "3 others",
            "count": 8
           },
           {
            "name": "Missing",
            "count": 1770
           }
          ]
         }
        },
        {
         "name": "3-MMC lifetime",
         "dtype": "object",
         "stats": {
          "unique_count": 4,
          "nan_count": 1770,
          "categories": [
           {
            "name": "1-2",
            "count": 8
           },
           {
            "name": "3 others",
            "count": 7
           },
           {
            "name": "Missing",
            "count": 1770
           }
          ]
         }
        },
        {
         "name": "Ibogaine (yes/no)",
         "dtype": "object",
         "stats": {
          "unique_count": 3,
          "nan_count": 0,
          "categories": [
           {
            "name": "False",
            "count": 1771
           },
           {
            "name": "True",
            "count": 12
           },
           {
            "name": "Skipped question",
            "count": 2
           }
          ]
         }
        },
        {
         "name": "Ibogaine past year",
         "dtype": "object",
         "stats": {
          "unique_count": 3,
          "nan_count": 1773,
          "categories": [
           {
            "name": "never",
            "count": 7
           },
           {
            "name": "2 others",
            "count": 5
           },
           {
            "name": "Missing",
            "count": 1773
           }
          ]
         }
        },
        {
         "name": "Ibogaine lifetime",
         "dtype": "object",
         "stats": {
          "unique_count": 3,
          "nan_count": 1773,
          "categories": [
           {
            "name": "1-2",
            "count": 9
           },
           {
            "name": "2 others",
            "count": 3
           },
           {
            "name": "Missing",
            "count": 1773
           }
          ]
         }
        },
        {
         "name": "Salvia (yes/no)",
         "dtype": "object",
         "stats": {
          "unique_count": 3,
          "nan_count": 0,
          "categories": [
           {
            "name": "False",
            "count": 1330
           },
           {
            "name": "True",
            "count": 452
           },
           {
            "name": "Skipped question",
            "count": 3
           }
          ]
         }
        },
        {
         "name": "Salvia past year",
         "dtype": "object",
         "stats": {
          "unique_count": 4,
          "nan_count": 1333,
          "categories": [
           {
            "name": "never",
            "count": 396
           },
           {
            "name": "3 others",
            "count": 56
           },
           {
            "name": "Missing",
            "count": 1333
           }
          ]
         }
        },
        {
         "name": "Salvia lifetime",
         "dtype": "object",
         "stats": {
          "unique_count": 5,
          "nan_count": 1333,
          "categories": [
           {
            "name": "1-2",
            "count": 289
           },
           {
            "name": "4 others",
            "count": 163
           },
           {
            "name": "Missing",
            "count": 1333
           }
          ]
         }
        },
        {
         "name": "Other Lysergamides (yes/no)",
         "dtype": "object",
         "stats": {
          "unique_count": 3,
          "nan_count": 0,
          "categories": [
           {
            "name": "False",
            "count": 1619
           },
           {
            "name": "True",
            "count": 158
           },
           {
            "name": "Skipped question",
            "count": 8
           }
          ]
         }
        },
        {
         "name": "Other Lysergamides past year",
         "dtype": "object",
         "stats": {
          "unique_count": 5,
          "nan_count": 1627,
          "categories": [
           {
            "name": "never",
            "count": 85
           },
           {
            "name": "4 others",
            "count": 73
           },
           {
            "name": "Missing",
            "count": 1627
           }
          ]
         }
        },
        {
         "name": "Other Lysergamides lifetime",
         "dtype": "object",
         "stats": {
          "unique_count": 5,
          "nan_count": 1627,
          "categories": [
           {
            "name": "1-2",
            "count": 81
           },
           {
            "name": "4 others",
            "count": 77
           },
           {
            "name": "Missing",
            "count": 1627
           }
          ]
         }
        },
        {
         "name": "Other Tryptamines (yes/no)",
         "dtype": "object",
         "stats": {
          "unique_count": 3,
          "nan_count": 0,
          "categories": [
           {
            "name": "False",
            "count": 1708
           },
           {
            "name": "True",
            "count": 72
           },
           {
            "name": "Skipped question",
            "count": 5
           }
          ]
         }
        },
        {
         "name": "Other Tryptamines past year",
         "dtype": "object",
         "stats": {
          "unique_count": 5,
          "nan_count": 1713,
          "categories": [
           {
            "name": "never",
            "count": 39
           },
           {
            "name": "4 others",
            "count": 33
           },
           {
            "name": "Missing",
            "count": 1713
           }
          ]
         }
        },
        {
         "name": "Other Tryptamines lifetime",
         "dtype": "object",
         "stats": {
          "unique_count": 5,
          "nan_count": 1713,
          "categories": [
           {
            "name": "1-2",
            "count": 36
           },
           {
            "name": "4 others",
            "count": 36
           },
           {
            "name": "Missing",
            "count": 1713
           }
          ]
         }
        },
        {
         "name": "2C family (yes/no)",
         "dtype": "object",
         "stats": {
          "unique_count": 3,
          "nan_count": 0,
          "categories": [
           {
            "name": "False",
            "count": 1587
           },
           {
            "name": "True",
            "count": 190
           },
           {
            "name": "Skipped question",
            "count": 8
           }
          ]
         }
        },
        {
         "name": "2C family past year",
         "dtype": "object",
         "stats": {
          "unique_count": 5,
          "nan_count": 1595,
          "categories": [
           {
            "name": "never",
            "count": 136
           },
           {
            "name": "4 others",
            "count": 54
           },
           {
            "name": "Missing",
            "count": 1595
           }
          ]
         }
        },
        {
         "name": "2C family lifetime",
         "dtype": "object",
         "stats": {
          "unique_count": 5,
          "nan_count": 1595,
          "categories": [
           {
            "name": "1-2",
            "count": 103
           },
           {
            "name": "4 others",
            "count": 87
           },
           {
            "name": "Missing",
            "count": 1595
           }
          ]
         }
        },
        {
         "name": "_deepnote_index_column",
         "dtype": "int64"
        }
       ],
       "rows": [
        {
         "Participant Num": 90,
         "Participant ID": "adfee4e4-5fd0-4d99-a001-efa73871bf29",
         "Microdosing (yes/no)": "True",
         "Microdosing (substance)": "Psilocybin",
         "LSD dosage": "nan",
         "Psilocybin dosage": "Medium",
         "Stacking (substance)": "Lion's mane + other",
         "Prepared products (yes/no)": "False",
         "Microdosing protocol (yes/no)": "True",
         "Microdosing protocol (type)": "Fadiman",
         "Averaged microdosing days": "2x/week",
         "Microdosing duration": "Starting now",
         "Microdosing reasons": "Lessen anxiety, Increase sociability, Increase mood, Increase mindfulness, Decrease substance use, …",
         "Alcohol": "12week",
         "Cannabis": "5+week",
         "CBD": "occasionally",
         "Nicotine": "12week",
         "LSD (yes/no)": "True",
         "LSD past year": "never",
         "LSD lifetime": "3-10",
         "Psilocybin (yes/no)": "True",
         "Psilocybin past year": "3-5",
         "Psilocybin lifetime": "3-10",
         "MDMA (yes/no)": "False",
         "MDMA past year": "nan",
         "MDMA lifetime": "nan",
         "Ketamine (yes/no)": "True",
         "Ketamine past year": ">10",
         "Ketamine lifetime": "21-50",
         "Mescaline (yes/no)": "False",
         "Mescaline past year": "nan",
         "Mescaline lifetime": "nan",
         "DMT (yes/no)": "True",
         "DMT past year": "3-5",
         "DMT lifetime": "3-10",
         "Ayahuasca (yes/no)": "False",
         "Ayahuasca past year": "nan",
         "Ayahuasca lifetime": "nan",
         "3-MMC (yes/no)": "False",
         "3-MMC past year": "nan",
         "3-MMC lifetime": "nan",
         "Ibogaine (yes/no)": "False",
         "Ibogaine past year": "nan",
         "Ibogaine lifetime": "nan",
         "Salvia (yes/no)": "False",
         "Salvia past year": "nan",
         "Salvia lifetime": "nan",
         "Other Lysergamides (yes/no)": "False",
         "Other Lysergamides past year": "nan",
         "Other Lysergamides lifetime": "nan",
         "Other Tryptamines (yes/no)": "False",
         "Other Tryptamines past year": "nan",
         "Other Tryptamines lifetime": "nan",
         "2C family (yes/no)": "True",
         "2C family past year": "1-2",
         "2C family lifetime": "1-2",
         "_deepnote_index_column": 9386
        },
        {
         "Participant Num": 102,
         "Participant ID": "2ca76cfe-2ce5-48cb-85af-d0ad09adcf69",
         "Microdosing (yes/no)": "True",
         "Microdosing (substance)": "Ketamine",
         "LSD dosage": "nan",
         "Psilocybin dosage": "nan",
         "Stacking (substance)": "None",
         "Prepared products (yes/no)": "True",
         "Microdosing protocol (yes/no)": "False",
         "Microdosing protocol (type)": "None",
         "Averaged microdosing days": "3x/week",
         "Microdosing duration": "1-2 years",
         "Microdosing reasons": "Increase mood, Decrease substance use",
         "Alcohol": "occasionally",
         "Cannabis": "never",
         "CBD": "never",
         "Nicotine": "never",
         "LSD (yes/no)": "True",
         "LSD past year": "3-5",
         "LSD lifetime": "21-50",
         "Psilocybin (yes/no)": "True",
         "Psilocybin past year": ">10",
         "Psilocybin lifetime": ">50",
         "MDMA (yes/no)": "True",
         "MDMA past year": "1-2",
         "MDMA lifetime": "11-20",
         "Ketamine (yes/no)": "True",
         "Ketamine past year": ">10",
         "Ketamine lifetime": ">50",
         "Mescaline (yes/no)": "False",
         "Mescaline past year": "nan",
         "Mescaline lifetime": "nan",
         "DMT (yes/no)": "False",
         "DMT past year": "nan",
         "DMT lifetime": "nan",
         "Ayahuasca (yes/no)": "False",
         "Ayahuasca past year": "nan",
         "Ayahuasca lifetime": "nan",
         "3-MMC (yes/no)": "False",
         "3-MMC past year": "nan",
         "3-MMC lifetime": "nan",
         "Ibogaine (yes/no)": "False",
         "Ibogaine past year": "nan",
         "Ibogaine lifetime": "nan",
         "Salvia (yes/no)": "False",
         "Salvia past year": "nan",
         "Salvia lifetime": "nan",
         "Other Lysergamides (yes/no)": "True",
         "Other Lysergamides past year": "never",
         "Other Lysergamides lifetime": "3-10",
         "Other Tryptamines (yes/no)": "False",
         "Other Tryptamines past year": "nan",
         "Other Tryptamines lifetime": "nan",
         "2C family (yes/no)": "False",
         "2C family past year": "nan",
         "2C family lifetime": "nan",
         "_deepnote_index_column": 2361
        },
        {
         "Participant Num": 107,
         "Participant ID": "cbd9c9e3-9367-474e-b7de-ae9e2f3b1e43",
         "Microdosing (yes/no)": "True",
         "Microdosing (substance)": "Psilocybin",
         "LSD dosage": "nan",
         "Psilocybin dosage": "Medium",
         "Stacking (substance)": "Lion's mane",
         "Prepared products (yes/no)": "False",
         "Microdosing protocol (yes/no)": "False",
         "Microdosing protocol (type)": "None",
         "Averaged microdosing days": "3x/week",
         "Microdosing duration": "more than 2 years",
         "Microdosing reasons": "Lessen anxiety, Increase sociability, Increase mood, Improve sleep, Increase mindfulness, Enhance c…",
         "Alcohol": "5+week",
         "Cannabis": "5+week",
         "CBD": "occasionally",
         "Nicotine": "never",
         "LSD (yes/no)": "True",
         "LSD past year": "1-2",
         "LSD lifetime": "21-50",
         "Psilocybin (yes/no)": "True",
         "Psilocybin past year": "3-5",
         "Psilocybin lifetime": ">50",
         "MDMA (yes/no)": "True",
         "MDMA past year": "never",
         "MDMA lifetime": "21-50",
         "Ketamine (yes/no)": "True",
         "Ketamine past year": "3-5",
         "Ketamine lifetime": "11-20",
         "Mescaline (yes/no)": "True",
         "Mescaline past year": "never",
         "Mescaline lifetime": "3-10",
         "DMT (yes/no)": "True",
         "DMT past year": "6-10",
         "DMT lifetime": "11-20",
         "Ayahuasca (yes/no)": "True",
         "Ayahuasca past year": "never",
         "Ayahuasca lifetime": "21-50",
         "3-MMC (yes/no)": "False",
         "3-MMC past year": "nan",
         "3-MMC lifetime": "nan",
         "Ibogaine (yes/no)": "False",
         "Ibogaine past year": "nan",
         "Ibogaine lifetime": "nan",
         "Salvia (yes/no)": "True",
         "Salvia past year": "never",
         "Salvia lifetime": "3-10",
         "Other Lysergamides (yes/no)": "False",
         "Other Lysergamides past year": "nan",
         "Other Lysergamides lifetime": "nan",
         "Other Tryptamines (yes/no)": "True",
         "Other Tryptamines past year": "never",
         "Other Tryptamines lifetime": "3-10",
         "2C family (yes/no)": "True",
         "2C family past year": "never",
         "2C family lifetime": "3-10",
         "_deepnote_index_column": 10994
        },
        {
         "Participant Num": 182,
         "Participant ID": "1051a05a-9fff-4698-91da-4f294ebe664e",
         "Microdosing (yes/no)": "True",
         "Microdosing (substance)": "Psilocybin",
         "LSD dosage": "nan",
         "Psilocybin dosage": "Medium",
         "Stacking (substance)": "None",
         "Prepared products (yes/no)": "False",
         "Microdosing protocol (yes/no)": "True",
         "Microdosing protocol (type)": "None",
         "Averaged microdosing days": "3x/week",
         "Microdosing duration": "Less than month",
         "Microdosing reasons": "Lessen anxiety, Increase mood, Improve sleep, Increase mindfulness, Decrease substance use, Persona…",
         "Alcohol": "12week",
         "Cannabis": "12week",
         "CBD": "12week",
         "Nicotine": "occasionally",
         "LSD (yes/no)": "True",
         "LSD past year": "never",
         "LSD lifetime": "21-50",
         "Psilocybin (yes/no)": "True",
         "Psilocybin past year": "1-2",
         "Psilocybin lifetime": "3-10",
         "MDMA (yes/no)": "False",
         "MDMA past year": "nan",
         "MDMA lifetime": "nan",
         "Ketamine (yes/no)": "False",
         "Ketamine past year": "nan",
         "Ketamine lifetime": "nan",
         "Mescaline (yes/no)": "False",
         "Mescaline past year": "nan",
         "Mescaline lifetime": "nan",
         "DMT (yes/no)": "False",
         "DMT past year": "nan",
         "DMT lifetime": "nan",
         "Ayahuasca (yes/no)": "False",
         "Ayahuasca past year": "nan",
         "Ayahuasca lifetime": "nan",
         "3-MMC (yes/no)": "False",
         "3-MMC past year": "nan",
         "3-MMC lifetime": "nan",
         "Ibogaine (yes/no)": "False",
         "Ibogaine past year": "nan",
         "Ibogaine lifetime": "nan",
         "Salvia (yes/no)": "False",
         "Salvia past year": "nan",
         "Salvia lifetime": "nan",
         "Other Lysergamides (yes/no)": "True",
         "Other Lysergamides past year": "never",
         "Other Lysergamides lifetime": "11-20",
         "Other Tryptamines (yes/no)": "False",
         "Other Tryptamines past year": "nan",
         "Other Tryptamines lifetime": "nan",
         "2C family (yes/no)": "False",
         "2C family past year": "nan",
         "2C family lifetime": "nan",
         "_deepnote_index_column": 868
        },
        {
         "Participant Num": 184,
         "Participant ID": "fbceab18-88b5-40f4-ab6f-8c789892d78b",
         "Microdosing (yes/no)": "True",
         "Microdosing (substance)": "LSD",
         "LSD dosage": "6-10",
         "Psilocybin dosage": "nan",
         "Stacking (substance)": "None",
         "Prepared products (yes/no)": "True",
         "Microdosing protocol (yes/no)": "True",
         "Microdosing protocol (type)": "Other protocol",
         "Averaged microdosing days": "2x/week",
         "Microdosing duration": "6-12 months",
         "Microdosing reasons": "Increase mindfulness, Enhance creativity, Decrease substance use, Enhance learning, Decrease procra…",
         "Alcohol": "never",
         "Cannabis": "5+week",
         "CBD": "occasionally",
         "Nicotine": "never",
         "LSD (yes/no)": "True",
         "LSD past year": "1-2",
         "LSD lifetime": "3-10",
         "Psilocybin (yes/no)": "True",
         "Psilocybin past year": "3-5",
         "Psilocybin lifetime": "3-10",
         "MDMA (yes/no)": "True",
         "MDMA past year": "3-5",
         "MDMA lifetime": "3-10",
         "Ketamine (yes/no)": "False",
         "Ketamine past year": "nan",
         "Ketamine lifetime": "nan",
         "Mescaline (yes/no)": "False",
         "Mescaline past year": "nan",
         "Mescaline lifetime": "nan",
         "DMT (yes/no)": "False",
         "DMT past year": "nan",
         "DMT lifetime": "nan",
         "Ayahuasca (yes/no)": "False",
         "Ayahuasca past year": "nan",
         "Ayahuasca lifetime": "nan",
         "3-MMC (yes/no)": "False",
         "3-MMC past year": "nan",
         "3-MMC lifetime": "nan",
         "Ibogaine (yes/no)": "False",
         "Ibogaine past year": "nan",
         "Ibogaine lifetime": "nan",
         "Salvia (yes/no)": "False",
         "Salvia past year": "nan",
         "Salvia lifetime": "nan",
         "Other Lysergamides (yes/no)": "False",
         "Other Lysergamides past year": "nan",
         "Other Lysergamides lifetime": "nan",
         "Other Tryptamines (yes/no)": "False",
         "Other Tryptamines past year": "nan",
         "Other Tryptamines lifetime": "nan",
         "2C family (yes/no)": "False",
         "2C family past year": "nan",
         "2C family lifetime": "nan",
         "_deepnote_index_column": 13571
        },
        {
         "Participant Num": 212,
         "Participant ID": "400b7b1d-066f-42f5-a1d5-8a57f310269e",
         "Microdosing (yes/no)": "True",
         "Microdosing (substance)": "Psilocybin",
         "LSD dosage": "nan",
         "Psilocybin dosage": "Medium",
         "Stacking (substance)": "None",
         "Prepared products (yes/no)": "False",
         "Microdosing protocol (yes/no)": "True",
         "Microdosing protocol (type)": "Every other day",
         "Averaged microdosing days": "3x/week",
         "Microdosing duration": "6-12 months",
         "Microdosing reasons": "Lessen anxiety, Increase mood, Increase mindfulness, Decrease substance use, Improve health habits",
         "Alcohol": "occasionally",
         "Cannabis": "occasionally",
         "CBD": "34week",
         "Nicotine": "occasionally",
         "LSD (yes/no)": "True",
         "LSD past year": "never",
         "LSD lifetime": "1-2",
         "Psilocybin (yes/no)": "True",
         "Psilocybin past year": "3-5",
         "Psilocybin lifetime": "21-50",
         "MDMA (yes/no)": "True",
         "MDMA past year": "never",
         "MDMA lifetime": "3-10",
         "Ketamine (yes/no)": "False",
         "Ketamine past year": "nan",
         "Ketamine lifetime": "nan",
         "Mescaline (yes/no)": "True",
         "Mescaline past year": "1-2",
         "Mescaline lifetime": "1-2",
         "DMT (yes/no)": "False",
         "DMT past year": "nan",
         "DMT lifetime": "nan",
         "Ayahuasca (yes/no)": "True",
         "Ayahuasca past year": "1-2",
         "Ayahuasca lifetime": "1-2",
         "3-MMC (yes/no)": "False",
         "3-MMC past year": "nan",
         "3-MMC lifetime": "nan",
         "Ibogaine (yes/no)": "False",
         "Ibogaine past year": "nan",
         "Ibogaine lifetime": "nan",
         "Salvia (yes/no)": "False",
         "Salvia past year": "nan",
         "Salvia lifetime": "nan",
         "Other Lysergamides (yes/no)": "False",
         "Other Lysergamides past year": "nan",
         "Other Lysergamides lifetime": "nan",
         "Other Tryptamines (yes/no)": "False",
         "Other Tryptamines past year": "nan",
         "Other Tryptamines lifetime": "nan",
         "2C family (yes/no)": "False",
         "2C family past year": "nan",
         "2C family lifetime": "nan",
         "_deepnote_index_column": 3389
        },
        {
         "Participant Num": 222,
         "Participant ID": "5b79d7ff-529b-4f84-a6b1-dbff21d1f9b5",
         "Microdosing (yes/no)": "True",
         "Microdosing (substance)": "Psilocybin",
         "LSD dosage": "nan",
         "Psilocybin dosage": "Medium",
         "Stacking (substance)": "None",
         "Prepared products (yes/no)": "True",
         "Microdosing protocol (yes/no)": "True",
         "Microdosing protocol (type)": "Fadiman",
         "Averaged microdosing days": "2x/week",
         "Microdosing duration": "1-3 months",
         "Microdosing reasons": "Increase mood, Increase mindfulness, Decrease substance use",
         "Alcohol": "34week",
         "Cannabis": "never",
         "CBD": "never",
         "Nicotine": "never",
         "LSD (yes/no)": "False",
         "LSD past year": "nan",
         "LSD lifetime": "nan",
         "Psilocybin (yes/no)": "False",
         "Psilocybin past year": "nan",
         "Psilocybin lifetime": "nan",
         "MDMA (yes/no)": "False",
         "MDMA past year": "nan",
         "MDMA lifetime": "nan",
         "Ketamine (yes/no)": "False",
         "Ketamine past year": "nan",
         "Ketamine lifetime": "nan",
         "Mescaline (yes/no)": "False",
         "Mescaline past year": "nan",
         "Mescaline lifetime": "nan",
         "DMT (yes/no)": "False",
         "DMT past year": "nan",
         "DMT lifetime": "nan",
         "Ayahuasca (yes/no)": "False",
         "Ayahuasca past year": "nan",
         "Ayahuasca lifetime": "nan",
         "3-MMC (yes/no)": "False",
         "3-MMC past year": "nan",
         "3-MMC lifetime": "nan",
         "Ibogaine (yes/no)": "False",
         "Ibogaine past year": "nan",
         "Ibogaine lifetime": "nan",
         "Salvia (yes/no)": "False",
         "Salvia past year": "nan",
         "Salvia lifetime": "nan",
         "Other Lysergamides (yes/no)": "False",
         "Other Lysergamides past year": "nan",
         "Other Lysergamides lifetime": "nan",
         "Other Tryptamines (yes/no)": "False",
         "Other Tryptamines past year": "nan",
         "Other Tryptamines lifetime": "nan",
         "2C family (yes/no)": "False",
         "2C family past year": "nan",
         "2C family lifetime": "nan",
         "_deepnote_index_column": 4876
        },
        {
         "Participant Num": 266,
         "Participant ID": "fe9a7a64-bc16-47d2-81ac-dc1a031e9b2e",
         "Microdosing (yes/no)": "True",
         "Microdosing (substance)": "Psilocybin",
         "LSD dosage": "nan",
         "Psilocybin dosage": "Medium",
         "Stacking (substance)": "None",
         "Prepared products (yes/no)": "False",
         "Microdosing protocol (yes/no)": "True",
         "Microdosing protocol (type)": "Every day",
         "Averaged microdosing days": "Daily",
         "Microdosing duration": "Less than month",
         "Microdosing reasons": "Lessen anxiety, Increase sociability, Increase mood, Increase mindfulness, Enhance creativity, Decr…",
         "Alcohol": "occasionally",
         "Cannabis": "5+week",
         "CBD": "occasionally",
         "Nicotine": "5+day",
         "LSD (yes/no)": "True",
         "LSD past year": "never",
         "LSD lifetime": "1-2",
         "Psilocybin (yes/no)": "True",
         "Psilocybin past year": ">10",
         "Psilocybin lifetime": "11-20",
         "MDMA (yes/no)": "True",
         "MDMA past year": ">10",
         "MDMA lifetime": "21-50",
         "Ketamine (yes/no)": "True",
         "Ketamine past year": "1-2",
         "Ketamine lifetime": "1-2",
         "Mescaline (yes/no)": "False",
         "Mescaline past year": "nan",
         "Mescaline lifetime": "nan",
         "DMT (yes/no)": "False",
         "DMT past year": "nan",
         "DMT lifetime": "nan",
         "Ayahuasca (yes/no)": "False",
         "Ayahuasca past year": "nan",
         "Ayahuasca lifetime": "nan",
         "3-MMC (yes/no)": "False",
         "3-MMC past year": "nan",
         "3-MMC lifetime": "nan",
         "Ibogaine (yes/no)": "False",
         "Ibogaine past year": "nan",
         "Ibogaine lifetime": "nan",
         "Salvia (yes/no)": "True",
         "Salvia past year": "6-10",
         "Salvia lifetime": "3-10",
         "Other Lysergamides (yes/no)": "False",
         "Other Lysergamides past year": "nan",
         "Other Lysergamides lifetime": "nan",
         "Other Tryptamines (yes/no)": "False",
         "Other Tryptamines past year": "nan",
         "Other Tryptamines lifetime": "nan",
         "2C family (yes/no)": "False",
         "2C family past year": "nan",
         "2C family lifetime": "nan",
         "_deepnote_index_column": 13729
        },
        {
         "Participant Num": 287,
         "Participant ID": "331e25eb-c89e-4cfd-8bcc-1b3760d55506",
         "Microdosing (yes/no)": "True",
         "Microdosing (substance)": "Psilocybin",
         "LSD dosage": "nan",
         "Psilocybin dosage": "High",
         "Stacking (substance)": "Other",
         "Prepared products (yes/no)": "False",
         "Microdosing protocol (yes/no)": "False",
         "Microdosing protocol (type)": "None",
         "Averaged microdosing days": "Weekly",
         "Microdosing duration": "3-6 months",
         "Microdosing reasons": "Lessen anxiety, Increase mood, Improve sleep, Increase mindfulness, Enhance creativity, Decrease su…",
         "Alcohol": "never",
         "Cannabis": "occasionally",
         "CBD": "occasionally",
         "Nicotine": "5+day",
         "LSD (yes/no)": "True",
         "LSD past year": "1-2",
         "LSD lifetime": "1-2",
         "Psilocybin (yes/no)": "True",
         "Psilocybin past year": "6-10",
         "Psilocybin lifetime": "11-20",
         "MDMA (yes/no)": "False",
         "MDMA past year": "nan",
         "MDMA lifetime": "nan",
         "Ketamine (yes/no)": "False",
         "Ketamine past year": "nan",
         "Ketamine lifetime": "nan",
         "Mescaline (yes/no)": "False",
         "Mescaline past year": "nan",
         "Mescaline lifetime": "nan",
         "DMT (yes/no)": "False",
         "DMT past year": "nan",
         "DMT lifetime": "nan",
         "Ayahuasca (yes/no)": "False",
         "Ayahuasca past year": "nan",
         "Ayahuasca lifetime": "nan",
         "3-MMC (yes/no)": "False",
         "3-MMC past year": "nan",
         "3-MMC lifetime": "nan",
         "Ibogaine (yes/no)": "False",
         "Ibogaine past year": "nan",
         "Ibogaine lifetime": "nan",
         "Salvia (yes/no)": "False",
         "Salvia past year": "nan",
         "Salvia lifetime": "nan",
         "Other Lysergamides (yes/no)": "False",
         "Other Lysergamides past year": "nan",
         "Other Lysergamides lifetime": "nan",
         "Other Tryptamines (yes/no)": "False",
         "Other Tryptamines past year": "nan",
         "Other Tryptamines lifetime": "nan",
         "2C family (yes/no)": "False",
         "2C family past year": "nan",
         "2C family lifetime": "nan",
         "_deepnote_index_column": 2701
        },
        {
         "Participant Num": 292,
         "Participant ID": "dab6cc7e-1fb7-4d6d-85d3-247f4d4b80bf",
         "Microdosing (yes/no)": "True",
         "Microdosing (substance)": "Psilocybin",
         "LSD dosage": "nan",
         "Psilocybin dosage": "Medium",
         "Stacking (substance)": "None",
         "Prepared products (yes/no)": "True",
         "Microdosing protocol (yes/no)": "True",
         "Microdosing protocol (type)": "Other protocol",
         "Averaged microdosing days": "4x/week",
         "Microdosing duration": "Starting now",
         "Microdosing reasons": "Lessen anxiety, Increase sociability, Increase mood, Increase mindfulness, Decrease substance use, …",
         "Alcohol": "occasionally",
         "Cannabis": "5+week",
         "CBD": "occasionally",
         "Nicotine": "never",
         "LSD (yes/no)": "False",
         "LSD past year": "nan",
         "LSD lifetime": "nan",
         "Psilocybin (yes/no)": "True",
         "Psilocybin past year": "1-2",
         "Psilocybin lifetime": "3-10",
         "MDMA (yes/no)": "True",
         "MDMA past year": "never",
         "MDMA lifetime": "21-50",
         "Ketamine (yes/no)": "False",
         "Ketamine past year": "nan",
         "Ketamine lifetime": "nan",
         "Mescaline (yes/no)": "False",
         "Mescaline past year": "nan",
         "Mescaline lifetime": "nan",
         "DMT (yes/no)": "False",
         "DMT past year": "nan",
         "DMT lifetime": "nan",
         "Ayahuasca (yes/no)": "True",
         "Ayahuasca past year": "6-10",
         "Ayahuasca lifetime": "3-10",
         "3-MMC (yes/no)": "False",
         "3-MMC past year": "nan",
         "3-MMC lifetime": "nan",
         "Ibogaine (yes/no)": "False",
         "Ibogaine past year": "nan",
         "Ibogaine lifetime": "nan",
         "Salvia (yes/no)": "False",
         "Salvia past year": "nan",
         "Salvia lifetime": "nan",
         "Other Lysergamides (yes/no)": "False",
         "Other Lysergamides past year": "nan",
         "Other Lysergamides lifetime": "nan",
         "Other Tryptamines (yes/no)": "False",
         "Other Tryptamines past year": "nan",
         "Other Tryptamines lifetime": "nan",
         "2C family (yes/no)": "False",
         "2C family past year": "nan",
         "2C family lifetime": "nan",
         "_deepnote_index_column": 11801
        }
       ]
      },
      "text/plain": "       Participant Num                        Participant ID  \\\n9386                90  adfee4e4-5fd0-4d99-a001-efa73871bf29   \n2361               102  2ca76cfe-2ce5-48cb-85af-d0ad09adcf69   \n10994              107  cbd9c9e3-9367-474e-b7de-ae9e2f3b1e43   \n868                182  1051a05a-9fff-4698-91da-4f294ebe664e   \n13571              184  fbceab18-88b5-40f4-ab6f-8c789892d78b   \n...                ...                                   ...   \n11851            43069  dbb9964e-98c0-4b11-9c55-e93095fc5c03   \n9670             43081  b31c5049-6377-4595-9859-67aeacc84d20   \n774              43099  0e57f4db-de76-4610-844c-1ef05d7d6429   \n1675             43147  1f921df8-a525-41e9-bf51-dea2a314c9fa   \n7480             43157  8a411a51-a5c0-4ca4-8c08-24303d0a0a35   \n\n      Microdosing (yes/no) Microdosing (substance) LSD dosage  \\\n9386                  True              Psilocybin        NaN   \n2361                  True                Ketamine        NaN   \n10994                 True              Psilocybin        NaN   \n868                   True              Psilocybin        NaN   \n13571                 True                     LSD       6-10   \n...                    ...                     ...        ...   \n11851                 True              Psilocybin        NaN   \n9670                  True              Psilocybin        NaN   \n774                   True              Psilocybin        NaN   \n1675                  True              Psilocybin        NaN   \n7480                  True              Psilocybin        NaN   \n\n      Psilocybin dosage  Stacking (substance) Prepared products (yes/no)  \\\n9386             Medium   Lion's mane + other                      False   \n2361                NaN                  None                       True   \n10994            Medium           Lion's mane                      False   \n868              Medium                  None                      False   \n13571               NaN                  None                       True   \n...                 ...                   ...                        ...   \n11851            Medium                  None                        NaN   \n9670                Low  Lion's mane + niacin                       True   \n774              Medium                  None                       True   \n1675                Low                 Other                       True   \n7480                Low  Lion's mane + niacin                      False   \n\n      Microdosing protocol (yes/no) Microdosing protocol (type)  ...  \\\n9386                           True                     Fadiman  ...   \n2361                          False                        None  ...   \n10994                         False                        None  ...   \n868                            True                        None  ...   \n13571                          True              Other protocol  ...   \n...                             ...                         ...  ...   \n11851                          True              Other protocol  ...   \n9670                           True              Other protocol  ...   \n774                           False                        None  ...   \n1675                          False                        None  ...   \n7480                           True                     Stamets  ...   \n\n      Salvia lifetime Other Lysergamides (yes/no)  \\\n9386              NaN                       False   \n2361              NaN                        True   \n10994            3-10                       False   \n868               NaN                        True   \n13571             NaN                       False   \n...               ...                         ...   \n11851             NaN                       False   \n9670              NaN                       False   \n774               NaN                       False   \n1675              NaN                       False   \n7480              1-2                       False   \n\n      Other Lysergamides past year Other Lysergamides lifetime  \\\n9386                           NaN                         NaN   \n2361                         never                        3-10   \n10994                          NaN                         NaN   \n868                          never                       11-20   \n13571                          NaN                         NaN   \n...                            ...                         ...   \n11851                          NaN                         NaN   \n9670                           NaN                         NaN   \n774                            NaN                         NaN   \n1675                           NaN                         NaN   \n7480                           NaN                         NaN   \n\n      Other Tryptamines (yes/no) Other Tryptamines past year  \\\n9386                       False                         NaN   \n2361                       False                         NaN   \n10994                       True                       never   \n868                        False                         NaN   \n13571                      False                         NaN   \n...                          ...                         ...   \n11851                      False                         NaN   \n9670                       False                         NaN   \n774                        False                         NaN   \n1675                       False                         NaN   \n7480                       False                         NaN   \n\n      Other Tryptamines lifetime 2C family (yes/no) 2C family past year  \\\n9386                         NaN               True                 1-2   \n2361                         NaN              False                 NaN   \n10994                       3-10               True               never   \n868                          NaN              False                 NaN   \n13571                        NaN              False                 NaN   \n...                          ...                ...                 ...   \n11851                        NaN              False                 NaN   \n9670                         NaN              False                 NaN   \n774                          NaN              False                 NaN   \n1675                         NaN              False                 NaN   \n7480                         NaN              False                 NaN   \n\n      2C family lifetime  \n9386                 1-2  \n2361                 NaN  \n10994               3-10  \n868                  NaN  \n13571                NaN  \n...                  ...  \n11851                NaN  \n9670                 NaN  \n774                  NaN  \n1675                 NaN  \n7480                 NaN  \n\n[1785 rows x 56 columns]",
      "text/html": "<div>\n<style scoped>\n    .dataframe tbody tr th:only-of-type {\n        vertical-align: middle;\n    }\n\n    .dataframe tbody tr th {\n        vertical-align: top;\n    }\n\n    .dataframe thead th {\n        text-align: right;\n    }\n</style>\n<table border=\"1\" class=\"dataframe\">\n  <thead>\n    <tr style=\"text-align: right;\">\n      <th></th>\n      <th>Participant Num</th>\n      <th>Participant ID</th>\n      <th>Microdosing (yes/no)</th>\n      <th>Microdosing (substance)</th>\n      <th>LSD dosage</th>\n      <th>Psilocybin dosage</th>\n      <th>Stacking (substance)</th>\n      <th>Prepared products (yes/no)</th>\n      <th>Microdosing protocol (yes/no)</th>\n      <th>Microdosing protocol (type)</th>\n      <th>...</th>\n      <th>Salvia lifetime</th>\n      <th>Other Lysergamides (yes/no)</th>\n      <th>Other Lysergamides past year</th>\n      <th>Other Lysergamides lifetime</th>\n      <th>Other Tryptamines (yes/no)</th>\n      <th>Other Tryptamines past year</th>\n      <th>Other Tryptamines lifetime</th>\n      <th>2C family (yes/no)</th>\n      <th>2C family past year</th>\n      <th>2C family lifetime</th>\n    </tr>\n  </thead>\n  <tbody>\n    <tr>\n      <th>9386</th>\n      <td>90</td>\n      <td>adfee4e4-5fd0-4d99-a001-efa73871bf29</td>\n      <td>True</td>\n      <td>Psilocybin</td>\n      <td>NaN</td>\n      <td>Medium</td>\n      <td>Lion's mane + other</td>\n      <td>False</td>\n      <td>True</td>\n      <td>Fadiman</td>\n      <td>...</td>\n      <td>NaN</td>\n      <td>False</td>\n      <td>NaN</td>\n      <td>NaN</td>\n      <td>False</td>\n      <td>NaN</td>\n      <td>NaN</td>\n      <td>True</td>\n      <td>1-2</td>\n      <td>1-2</td>\n    </tr>\n    <tr>\n      <th>2361</th>\n      <td>102</td>\n      <td>2ca76cfe-2ce5-48cb-85af-d0ad09adcf69</td>\n      <td>True</td>\n      <td>Ketamine</td>\n      <td>NaN</td>\n      <td>NaN</td>\n      <td>None</td>\n      <td>True</td>\n      <td>False</td>\n      <td>None</td>\n      <td>...</td>\n      <td>NaN</td>\n      <td>True</td>\n      <td>never</td>\n      <td>3-10</td>\n      <td>False</td>\n      <td>NaN</td>\n      <td>NaN</td>\n      <td>False</td>\n      <td>NaN</td>\n      <td>NaN</td>\n    </tr>\n    <tr>\n      <th>10994</th>\n      <td>107</td>\n      <td>cbd9c9e3-9367-474e-b7de-ae9e2f3b1e43</td>\n      <td>True</td>\n      <td>Psilocybin</td>\n      <td>NaN</td>\n      <td>Medium</td>\n      <td>Lion's mane</td>\n      <td>False</td>\n      <td>False</td>\n      <td>None</td>\n      <td>...</td>\n      <td>3-10</td>\n      <td>False</td>\n      <td>NaN</td>\n      <td>NaN</td>\n      <td>True</td>\n      <td>never</td>\n      <td>3-10</td>\n      <td>True</td>\n      <td>never</td>\n      <td>3-10</td>\n    </tr>\n    <tr>\n      <th>868</th>\n      <td>182</td>\n      <td>1051a05a-9fff-4698-91da-4f294ebe664e</td>\n      <td>True</td>\n      <td>Psilocybin</td>\n      <td>NaN</td>\n      <td>Medium</td>\n      <td>None</td>\n      <td>False</td>\n      <td>True</td>\n      <td>None</td>\n      <td>...</td>\n      <td>NaN</td>\n      <td>True</td>\n      <td>never</td>\n      <td>11-20</td>\n      <td>False</td>\n      <td>NaN</td>\n      <td>NaN</td>\n      <td>False</td>\n      <td>NaN</td>\n      <td>NaN</td>\n    </tr>\n    <tr>\n      <th>13571</th>\n      <td>184</td>\n      <td>fbceab18-88b5-40f4-ab6f-8c789892d78b</td>\n      <td>True</td>\n      <td>LSD</td>\n      <td>6-10</td>\n      <td>NaN</td>\n      <td>None</td>\n      <td>True</td>\n      <td>True</td>\n      <td>Other protocol</td>\n      <td>...</td>\n      <td>NaN</td>\n      <td>False</td>\n      <td>NaN</td>\n      <td>NaN</td>\n      <td>False</td>\n      <td>NaN</td>\n      <td>NaN</td>\n      <td>False</td>\n      <td>NaN</td>\n      <td>NaN</td>\n    </tr>\n    <tr>\n      <th>...</th>\n      <td>...</td>\n      <td>...</td>\n      <td>...</td>\n      <td>...</td>\n      <td>...</td>\n      <td>...</td>\n      <td>...</td>\n      <td>...</td>\n      <td>...</td>\n      <td>...</td>\n      <td>...</td>\n      <td>...</td>\n      <td>...</td>\n      <td>...</td>\n      <td>...</td>\n      <td>...</td>\n      <td>...</td>\n      <td>...</td>\n      <td>...</td>\n      <td>...</td>\n      <td>...</td>\n    </tr>\n    <tr>\n      <th>11851</th>\n      <td>43069</td>\n      <td>dbb9964e-98c0-4b11-9c55-e93095fc5c03</td>\n      <td>True</td>\n      <td>Psilocybin</td>\n      <td>NaN</td>\n      <td>Medium</td>\n      <td>None</td>\n      <td>NaN</td>\n      <td>True</td>\n      <td>Other protocol</td>\n      <td>...</td>\n      <td>NaN</td>\n      <td>False</td>\n      <td>NaN</td>\n      <td>NaN</td>\n      <td>False</td>\n      <td>NaN</td>\n      <td>NaN</td>\n      <td>False</td>\n      <td>NaN</td>\n      <td>NaN</td>\n    </tr>\n    <tr>\n      <th>9670</th>\n      <td>43081</td>\n      <td>b31c5049-6377-4595-9859-67aeacc84d20</td>\n      <td>True</td>\n      <td>Psilocybin</td>\n      <td>NaN</td>\n      <td>Low</td>\n      <td>Lion's mane + niacin</td>\n      <td>True</td>\n      <td>True</td>\n      <td>Other protocol</td>\n      <td>...</td>\n      <td>NaN</td>\n      <td>False</td>\n      <td>NaN</td>\n      <td>NaN</td>\n      <td>False</td>\n      <td>NaN</td>\n      <td>NaN</td>\n      <td>False</td>\n      <td>NaN</td>\n      <td>NaN</td>\n    </tr>\n    <tr>\n      <th>774</th>\n      <td>43099</td>\n      <td>0e57f4db-de76-4610-844c-1ef05d7d6429</td>\n      <td>True</td>\n      <td>Psilocybin</td>\n      <td>NaN</td>\n      <td>Medium</td>\n      <td>None</td>\n      <td>True</td>\n      <td>False</td>\n      <td>None</td>\n      <td>...</td>\n      <td>NaN</td>\n      <td>False</td>\n      <td>NaN</td>\n      <td>NaN</td>\n      <td>False</td>\n      <td>NaN</td>\n      <td>NaN</td>\n      <td>False</td>\n      <td>NaN</td>\n      <td>NaN</td>\n    </tr>\n    <tr>\n      <th>1675</th>\n      <td>43147</td>\n      <td>1f921df8-a525-41e9-bf51-dea2a314c9fa</td>\n      <td>True</td>\n      <td>Psilocybin</td>\n      <td>NaN</td>\n      <td>Low</td>\n      <td>Other</td>\n      <td>True</td>\n      <td>False</td>\n      <td>None</td>\n      <td>...</td>\n      <td>NaN</td>\n      <td>False</td>\n      <td>NaN</td>\n      <td>NaN</td>\n      <td>False</td>\n      <td>NaN</td>\n      <td>NaN</td>\n      <td>False</td>\n      <td>NaN</td>\n      <td>NaN</td>\n    </tr>\n    <tr>\n      <th>7480</th>\n      <td>43157</td>\n      <td>8a411a51-a5c0-4ca4-8c08-24303d0a0a35</td>\n      <td>True</td>\n      <td>Psilocybin</td>\n      <td>NaN</td>\n      <td>Low</td>\n      <td>Lion's mane + niacin</td>\n      <td>False</td>\n      <td>True</td>\n      <td>Stamets</td>\n      <td>...</td>\n      <td>1-2</td>\n      <td>False</td>\n      <td>NaN</td>\n      <td>NaN</td>\n      <td>False</td>\n      <td>NaN</td>\n      <td>NaN</td>\n      <td>False</td>\n      <td>NaN</td>\n      <td>NaN</td>\n    </tr>\n  </tbody>\n</table>\n<p>1785 rows × 56 columns</p>\n</div>"
     },
     "metadata": {}
    }
   ]
  },
  {
   "cell_type": "code",
   "metadata": {
    "cell_id": "42a724f7-2a97-4e76-9eb4-c3a17142d12a",
    "tags": [],
    "deepnote_to_be_reexecuted": false,
    "source_hash": "1a22353e",
    "execution_start": 1647635813990,
    "execution_millis": 4,
    "deepnote_cell_type": "code",
    "deepnote_cell_height": 118.1875,
    "deepnote_output_heights": [
     21
    ]
   },
   "source": "1785 / len(sub_use)",
   "execution_count": null,
   "outputs": [
    {
     "output_type": "execute_result",
     "execution_count": 69,
     "data": {
      "text/plain": "0.12954495972131505"
     },
     "metadata": {}
    }
   ]
  },
  {
   "cell_type": "code",
   "metadata": {
    "cell_id": "8c17f39d-7b08-48e7-a6b8-a9f5b07740d0",
    "tags": [],
    "deepnote_to_be_reexecuted": false,
    "source_hash": "52be3a56",
    "execution_start": 1647635813997,
    "execution_millis": 656,
    "deepnote_cell_type": "code",
    "deepnote_cell_height": 716.75,
    "deepnote_output_heights": [
     386
    ]
   },
   "source": "semantic_reasons_dict = {}\n\ndef reasons_counter(df):\n    for i, row in df.iterrows():\n        keys = row['Microdosing reasons'].split(\", \")\n        for key in keys:\n            if key not in semantic_reasons_dict:\n                semantic_reasons_dict[key] = 1\n            elif key in semantic_reasons_dict:\n                semantic_reasons_dict[key] += 1\n\nreasons_counter(sub_use)\n\nsemantic_reasons_dict",
   "execution_count": null,
   "outputs": [
    {
     "output_type": "execute_result",
     "execution_count": 70,
     "data": {
      "text/plain": "{'None': 7036,\n 'Lessen anxiety': 4036,\n 'Increase mindfulness': 5612,\n 'Enhance creativity': 4835,\n 'Personal (therapeutic)': 4339,\n 'Enhance learning': 3771,\n 'Improve writing': 1396,\n 'Increase mood': 5169,\n 'Increase sociability': 2858,\n 'Decrease substance use': 1785,\n 'Improve headaches': 659,\n 'Improve health habits': 3091,\n 'Lessen migraines': 388,\n 'Decrease procrastination': 3013,\n 'Decrease trauma symptoms': 1560,\n 'Improve sleep': 1938,\n 'Enhance physical skills': 1611,\n 'Other': 723,\n 'Lessen stuttering': 312,\n 'Lessen menstruation pain': 233}"
     },
     "metadata": {}
    }
   ]
  },
  {
   "cell_type": "code",
   "metadata": {
    "tags": [],
    "deepnote_to_be_reexecuted": false,
    "source_hash": "e25c4b4f",
    "execution_start": 1647635814660,
    "execution_millis": 11,
    "cell_id": "00107-4bcb5661-ac53-4145-bd69-08ab271082fc",
    "deepnote_cell_type": "code",
    "deepnote_cell_height": 287.3125,
    "deepnote_output_heights": [
     136
    ]
   },
   "source": "sub_use[\"Alcohol\"] = sub_use[\"Alcohol\"].replace([\"occasionally\",\"12week\",\"never\",\"34week\",\"5+week\"], \n                                            [\"Occasionally\", \"1-2x/week\", \"Never\",\"3-4x/week\",\"More than 5x/week\"])\n\nsub_use['Alcohol'].value_counts(dropna=False)                                           ",
   "execution_count": null,
   "outputs": [
    {
     "output_type": "execute_result",
     "execution_count": 71,
     "data": {
      "text/plain": "Occasionally         5709\n1-2x/week            2895\nNever                2526\n3-4x/week            1667\nMore than 5x/week     978\nNaN                     4\nName: Alcohol, dtype: int64"
     },
     "metadata": {}
    }
   ]
  },
  {
   "cell_type": "code",
   "metadata": {
    "tags": [],
    "deepnote_to_be_reexecuted": false,
    "source_hash": "16d6b3a4",
    "execution_start": 1647635814673,
    "execution_millis": 9,
    "cell_id": "00109-31897eab-30c9-4c43-9b39-595cd9dbcc01",
    "deepnote_cell_type": "code",
    "deepnote_cell_height": 305.3125,
    "deepnote_output_heights": [
     136
    ]
   },
   "source": "sub_use[\"Cannabis\"] = sub_use[\"Cannabis\"].replace([\"occasionally\",\"12week\",\"never\",\"34week\",\"5+week\"], \n                                            [\"Occasionally\", \"1-2x/week\", \"Never\",\"3-4x/week\",\"More than 5x/week\"])\n\n\nsub_use[\"Cannabis\"].value_counts(dropna=False)",
   "execution_count": null,
   "outputs": [
    {
     "output_type": "execute_result",
     "execution_count": 72,
     "data": {
      "text/plain": "More than 5x/week    4412\nOccasionally         3730\nNever                3184\n3-4x/week            1242\n1-2x/week            1205\nNaN                     6\nName: Cannabis, dtype: int64"
     },
     "metadata": {}
    }
   ]
  },
  {
   "cell_type": "code",
   "metadata": {
    "tags": [],
    "deepnote_to_be_reexecuted": false,
    "source_hash": "d27ce289",
    "execution_start": 1647635814686,
    "execution_millis": 396,
    "cell_id": "00111-40e8b1bf-3b62-4e5e-ad09-4f8e039a21db",
    "deepnote_cell_type": "code",
    "deepnote_cell_height": 287.3125,
    "deepnote_output_heights": [
     136
    ]
   },
   "source": "sub_use[\"CBD\"] = sub_use[\"CBD\"].replace([\"occasionally\",\"12week\",\"never\",\"34week\",\"5+week\"], \n                                        [\"Occasionally\", \"1-2x/week\", \"Never\",\"3-4x/week\",\"More than 5x/week\"])\n\nsub_use[\"CBD\"].value_counts(dropna=False)",
   "execution_count": null,
   "outputs": [
    {
     "output_type": "execute_result",
     "execution_count": 73,
     "data": {
      "text/plain": "Never                5699\nOccasionally         5219\nMore than 5x/week    1262\n1-2x/week             873\n3-4x/week             717\nNaN                     9\nName: CBD, dtype: int64"
     },
     "metadata": {}
    }
   ]
  },
  {
   "cell_type": "code",
   "metadata": {
    "tags": [],
    "deepnote_to_be_reexecuted": false,
    "source_hash": "60f58687",
    "execution_start": 1647635814741,
    "execution_millis": 392,
    "cell_id": "00113-6d6d5467-6713-4521-ae98-699bd062e27f",
    "deepnote_cell_type": "code",
    "deepnote_cell_height": 307.6875,
    "deepnote_output_heights": [
     175
    ]
   },
   "source": "sub_use[\"Nicotine\"] = sub_use[\"Nicotine\"].replace([\"occasionally\",\"12week\",\"never\",\"34week\",\"5+day\",\"12day\",\"34day\"], \n                                            [\"Occasionally\", \"1-2x/week\", \"Never\",\"3-4x/week\",\"More than 5x/day\",\"1-2x/day\",\"3-4x/day\"])\nsub_use[\"Nicotine\"].value_counts(dropna=False)",
   "execution_count": null,
   "outputs": [
    {
     "output_type": "execute_result",
     "execution_count": 74,
     "data": {
      "text/plain": "Never               8215\nOccasionally        2171\nMore than 5x/day    2022\n3-4x/day             425\n1-2x/day             324\n3-4x/week            319\n1-2x/week            300\nNaN                    3\nName: Nicotine, dtype: int64"
     },
     "metadata": {}
    }
   ]
  },
  {
   "cell_type": "markdown",
   "source": "### Writing clean data frames to CSV's",
   "metadata": {
    "cell_id": "9eb45ef7-a096-4d23-ba14-ba1e3ea18772",
    "tags": [],
    "is_collapsed": false,
    "deepnote_cell_type": "text-cell-h3"
   }
  },
  {
   "cell_type": "code",
   "metadata": {
    "tags": [],
    "cell_id": "00066-3daab004-ba97-4bd9-aa58-da5dee45a038",
    "deepnote_to_be_reexecuted": false,
    "source_hash": "d016c3e0",
    "execution_start": 1647635814742,
    "execution_millis": 0,
    "deepnote_cell_type": "code",
    "deepnote_cell_height": 99
   },
   "source": "# This is the df that has used in the latest version of dashboards, I think. We won't need it anymore, I'll create a master df containing all activity data.\n# sub_use.to_csv('/work/exports_november2021/data/QC_Microdf_Nov2021.csv',index=False)",
   "execution_count": null,
   "outputs": []
  },
  {
   "cell_type": "code",
   "metadata": {
    "cell_id": "3fe27bae-9cc5-4ab4-bdda-169dee1a732a",
    "tags": [],
    "deepnote_to_be_reexecuted": false,
    "source_hash": "52309514",
    "execution_start": 1647635814742,
    "execution_millis": 127,
    "deepnote_cell_type": "code",
    "deepnote_cell_height": 81
   },
   "source": "sub_use.to_csv('/work/exports_november2021/data/sub_use_clean.csv',index=False)",
   "execution_count": null,
   "outputs": []
  },
  {
   "cell_type": "code",
   "metadata": {
    "cell_id": "059bb02a-20e4-4b72-8595-d5f6852e4789",
    "tags": [],
    "deepnote_to_be_reexecuted": false,
    "source_hash": "8705624c",
    "execution_start": 1647635814870,
    "execution_millis": 200,
    "deepnote_cell_type": "code",
    "deepnote_cell_height": 81
   },
   "source": "intake_clean.to_csv('/work/exports_november2021/data/intake_clean.csv',index=False)",
   "execution_count": null,
   "outputs": []
  },
  {
   "cell_type": "code",
   "metadata": {
    "cell_id": "1a6b0d94-90c1-47f6-9ebf-30d523da7d8c",
    "tags": [],
    "deepnote_to_be_reexecuted": false,
    "source_hash": "5589476",
    "execution_start": 1647635815075,
    "execution_millis": 30,
    "deepnote_cell_type": "code",
    "deepnote_cell_height": 99
   },
   "source": "microdosing_df = sub_use[[\"Participant Num\", \"Participant ID\", \"Microdosing (yes/no)\", \"Microdosing (substance)\"]]\nmicrodosing_df.to_csv('/work/exports_november2021/data/microdosing.csv',index=False)",
   "execution_count": null,
   "outputs": []
  },
  {
   "cell_type": "markdown",
   "source": "Making long version of the dataframe",
   "metadata": {
    "tags": [],
    "cell_id": "00064-499c0e75-22a4-4946-8157-8bde978c0e17",
    "deepnote_cell_type": "markdown",
    "deepnote_cell_height": 52.390625
   }
  },
  {
   "cell_type": "code",
   "metadata": {
    "tags": [],
    "cell_id": "00065-f53c53fe-4766-41eb-8f0b-64e427eaff6d",
    "deepnote_to_be_reexecuted": false,
    "source_hash": "d23f77e3",
    "execution_start": 1647635815108,
    "execution_millis": 35,
    "deepnote_cell_type": "code",
    "deepnote_cell_height": 252.1875
   },
   "source": "colslist=list(sub_use.columns)\ncolslist.remove('Participant Num')\ncolslist.remove('Submitted Date')\ncolslist.remove('Microdosing (yes/no)')\ncolslist.remove('Age')\n\nprint(colslist)",
   "execution_count": null,
   "outputs": [
    {
     "output_type": "error",
     "ename": "ValueError",
     "evalue": "list.remove(x): x not in list",
     "traceback": [
      "\u001b[0;31m---------------------------------------------------------------------------\u001b[0m",
      "\u001b[0;31mValueError\u001b[0m                                Traceback (most recent call last)",
      "\u001b[0;32m<ipython-input-79-d0158efa6a0a>\u001b[0m in \u001b[0;36m<module>\u001b[0;34m\u001b[0m\n\u001b[1;32m      1\u001b[0m \u001b[0mcolslist\u001b[0m\u001b[0;34m=\u001b[0m\u001b[0mlist\u001b[0m\u001b[0;34m(\u001b[0m\u001b[0msub_use\u001b[0m\u001b[0;34m.\u001b[0m\u001b[0mcolumns\u001b[0m\u001b[0;34m)\u001b[0m\u001b[0;34m\u001b[0m\u001b[0;34m\u001b[0m\u001b[0m\n\u001b[1;32m      2\u001b[0m \u001b[0mcolslist\u001b[0m\u001b[0;34m.\u001b[0m\u001b[0mremove\u001b[0m\u001b[0;34m(\u001b[0m\u001b[0;34m'Participant Num'\u001b[0m\u001b[0;34m)\u001b[0m\u001b[0;34m\u001b[0m\u001b[0;34m\u001b[0m\u001b[0m\n\u001b[0;32m----> 3\u001b[0;31m \u001b[0mcolslist\u001b[0m\u001b[0;34m.\u001b[0m\u001b[0mremove\u001b[0m\u001b[0;34m(\u001b[0m\u001b[0;34m'Submitted Date'\u001b[0m\u001b[0;34m)\u001b[0m\u001b[0;34m\u001b[0m\u001b[0;34m\u001b[0m\u001b[0m\n\u001b[0m\u001b[1;32m      4\u001b[0m \u001b[0mcolslist\u001b[0m\u001b[0;34m.\u001b[0m\u001b[0mremove\u001b[0m\u001b[0;34m(\u001b[0m\u001b[0;34m'Microdosing (yes/no)'\u001b[0m\u001b[0;34m)\u001b[0m\u001b[0;34m\u001b[0m\u001b[0;34m\u001b[0m\u001b[0m\n\u001b[1;32m      5\u001b[0m \u001b[0mcolslist\u001b[0m\u001b[0;34m.\u001b[0m\u001b[0mremove\u001b[0m\u001b[0;34m(\u001b[0m\u001b[0;34m'Age'\u001b[0m\u001b[0;34m)\u001b[0m\u001b[0;34m\u001b[0m\u001b[0;34m\u001b[0m\u001b[0m\n",
      "\u001b[0;31mValueError\u001b[0m: list.remove(x): x not in list"
     ]
    }
   ]
  },
  {
   "cell_type": "code",
   "metadata": {
    "tags": [],
    "cell_id": "00068-57c75550-7105-4371-8b68-f387481f0cf8",
    "deepnote_to_be_reexecuted": true,
    "source_hash": "c9bb2347",
    "execution_start": 1644101151518,
    "execution_millis": 121,
    "deepnote_table_state": {
     "pageSize": 25,
     "pageIndex": 0,
     "filters": [],
     "sortBy": []
    },
    "deepnote_table_loading": false,
    "deepnote_cell_type": "code",
    "deepnote_cell_height": 1231
   },
   "source": "finaldf=pd.melt(sub_use, id_vars=['Microdosing (yes/no)','Participant Num','Submitted Date','Age'], value_vars=colslist)\nfinaldf.head()",
   "execution_count": null,
   "outputs": [
    {
     "output_type": "execute_result",
     "execution_count": 74,
     "data": {
      "application/vnd.deepnote.dataframe.v3+json": {
       "column_count": 6,
       "row_count": 1084736,
       "columns": [
        {
         "name": "Microdosing (yes/no)",
         "dtype": "object"
        },
        {
         "name": "Participant Num",
         "dtype": "object"
        },
        {
         "name": "Submitted Date",
         "dtype": "object"
        },
        {
         "name": "Age",
         "dtype": "object"
        },
        {
         "name": "variable",
         "dtype": "object"
        },
        {
         "name": "value",
         "dtype": "object"
        },
        {
         "name": "_deepnote_index_column",
         "dtype": "int64"
        }
       ],
       "rows": [
        {
         "Microdosing (yes/no)": "False",
         "Participant Num": "44",
         "Submitted Date": "2019-11-13T18:54:15.349000+00:00",
         "Age": "18-24",
         "variable": "Join Date",
         "value": "2019-11-13T18:50:13.052000+00:00",
         "_deepnote_index_column": 0
        },
        {
         "Microdosing (yes/no)": "nan",
         "Participant Num": "52",
         "Submitted Date": "nan",
         "Age": "25-34",
         "variable": "Join Date",
         "value": "2019-11-13T19:17:18.037000+00:00",
         "_deepnote_index_column": 1
        },
        {
         "Microdosing (yes/no)": "True",
         "Participant Num": "66",
         "Submitted Date": "2019-11-14T00:33:27.307000+00:00",
         "Age": "45-54",
         "variable": "Join Date",
         "value": "2019-11-14T00:27:00.846000+00:00",
         "_deepnote_index_column": 2
        },
        {
         "Microdosing (yes/no)": "False",
         "Participant Num": "70",
         "Submitted Date": "2019-11-14T07:42:08.740000+00:00",
         "Age": "25-34",
         "variable": "Join Date",
         "value": "2019-11-14T01:02:24.797000+00:00",
         "_deepnote_index_column": 3
        },
        {
         "Microdosing (yes/no)": "True",
         "Participant Num": "78",
         "Submitted Date": "2019-11-14T06:20:15.766000+00:00",
         "Age": "35-44",
         "variable": "Join Date",
         "value": "2019-11-14T06:14:30.402000+00:00",
         "_deepnote_index_column": 4
        },
        {
         "Microdosing (yes/no)": "True",
         "Participant Num": "90",
         "Submitted Date": "2019-11-14T13:41:57.120000+00:00",
         "Age": "18-24",
         "variable": "Join Date",
         "value": "2019-11-14T13:29:46.769000+00:00",
         "_deepnote_index_column": 5
        },
        {
         "Microdosing (yes/no)": "True",
         "Participant Num": "96",
         "Submitted Date": "2019-11-14T16:55:33.214000+00:00",
         "Age": "35-44",
         "variable": "Join Date",
         "value": "nan",
         "_deepnote_index_column": 6
        },
        {
         "Microdosing (yes/no)": "True",
         "Participant Num": "104",
         "Submitted Date": "2019-11-14T17:46:54.501000+00:00",
         "Age": "35-44",
         "variable": "Join Date",
         "value": "nan",
         "_deepnote_index_column": 7
        },
        {
         "Microdosing (yes/no)": "True",
         "Participant Num": "107",
         "Submitted Date": "2019-11-21T16:52:12.183000+00:00",
         "Age": "45-54",
         "variable": "Join Date",
         "value": "2019-11-14T17:29:57.620000+00:00",
         "_deepnote_index_column": 8
        },
        {
         "Microdosing (yes/no)": "nan",
         "Participant Num": "109",
         "Submitted Date": "nan",
         "Age": "35-44",
         "variable": "Join Date",
         "value": "2019-11-14T17:36:28.116000+00:00",
         "_deepnote_index_column": 9
        },
        {
         "Microdosing (yes/no)": "False",
         "Participant Num": "111",
         "Submitted Date": "2019-11-17T17:10:11.141000+00:00",
         "Age": "35-44",
         "variable": "Join Date",
         "value": "2019-11-14T17:48:39.247000+00:00",
         "_deepnote_index_column": 10
        },
        {
         "Microdosing (yes/no)": "nan",
         "Participant Num": "117",
         "Submitted Date": "nan",
         "Age": "Skipped question",
         "variable": "Join Date",
         "value": "2019-11-14T18:00:53.584000+00:00",
         "_deepnote_index_column": 11
        },
        {
         "Microdosing (yes/no)": "True",
         "Participant Num": "119",
         "Submitted Date": "2019-11-14T18:24:11.318000+00:00",
         "Age": "18-24",
         "variable": "Join Date",
         "value": "2019-11-14T18:15:24.396000+00:00",
         "_deepnote_index_column": 12
        },
        {
         "Microdosing (yes/no)": "True",
         "Participant Num": "121",
         "Submitted Date": "2019-11-15T09:32:48.114000+00:00",
         "Age": "35-44",
         "variable": "Join Date",
         "value": "2019-11-14T18:27:57.886000+00:00",
         "_deepnote_index_column": 13
        },
        {
         "Microdosing (yes/no)": "True",
         "Participant Num": "131",
         "Submitted Date": "2019-11-14T19:09:05.068000+00:00",
         "Age": "25-34",
         "variable": "Join Date",
         "value": "2019-11-14T18:57:06.378000+00:00",
         "_deepnote_index_column": 14
        },
        {
         "Microdosing (yes/no)": "True",
         "Participant Num": "143",
         "Submitted Date": "2019-11-15T06:36:24.433000+00:00",
         "Age": "25-34",
         "variable": "Join Date",
         "value": "2019-11-14T19:36:06.966000+00:00",
         "_deepnote_index_column": 15
        },
        {
         "Microdosing (yes/no)": "True",
         "Participant Num": "147",
         "Submitted Date": "2019-11-14T20:03:01.590000+00:00",
         "Age": "25-34",
         "variable": "Join Date",
         "value": "2019-11-14T19:58:27.595000+00:00",
         "_deepnote_index_column": 16
        },
        {
         "Microdosing (yes/no)": "nan",
         "Participant Num": "149",
         "Submitted Date": "nan",
         "Age": "45-54",
         "variable": "Join Date",
         "value": "2019-11-14T20:10:45.406000+00:00",
         "_deepnote_index_column": 17
        },
        {
         "Microdosing (yes/no)": "nan",
         "Participant Num": "153",
         "Submitted Date": "nan",
         "Age": "25-34",
         "variable": "Join Date",
         "value": "2019-11-14T20:33:24.065000+00:00",
         "_deepnote_index_column": 18
        },
        {
         "Microdosing (yes/no)": "nan",
         "Participant Num": "156",
         "Submitted Date": "nan",
         "Age": "18-24",
         "variable": "Join Date",
         "value": "2019-11-14T20:37:20.901000+00:00",
         "_deepnote_index_column": 19
        },
        {
         "Microdosing (yes/no)": "True",
         "Participant Num": "172",
         "Submitted Date": "2019-11-14T22:21:42.330000+00:00",
         "Age": "25-34",
         "variable": "Join Date",
         "value": "2019-11-14T22:11:27.340000+00:00",
         "_deepnote_index_column": 20
        },
        {
         "Microdosing (yes/no)": "nan",
         "Participant Num": "178",
         "Submitted Date": "nan",
         "Age": "Skipped question",
         "variable": "Join Date",
         "value": "2019-11-14T22:38:02.573000+00:00",
         "_deepnote_index_column": 21
        },
        {
         "Microdosing (yes/no)": "False",
         "Participant Num": "180",
         "Submitted Date": "2019-11-14T23:28:22.324000+00:00",
         "Age": "25-34",
         "variable": "Join Date",
         "value": "2019-11-14T23:02:20.993000+00:00",
         "_deepnote_index_column": 22
        },
        {
         "Microdosing (yes/no)": "True",
         "Participant Num": "184",
         "Submitted Date": "2019-11-15T11:34:03.674000+00:00",
         "Age": "45-54",
         "variable": "Join Date",
         "value": "nan",
         "_deepnote_index_column": 23
        },
        {
         "Microdosing (yes/no)": "nan",
         "Participant Num": "198",
         "Submitted Date": "nan",
         "Age": "35-44",
         "variable": "Join Date",
         "value": "2019-11-15T00:32:45.775000+00:00",
         "_deepnote_index_column": 24
        }
       ]
      },
      "text/plain": "        Microdosing (yes/no) Participant Num  \\\n0                      False              44   \n1                        nan              52   \n2                       True              66   \n3                      False              70   \n4                       True              78   \n...                      ...             ...   \n1084731                False            9966   \n1084732                False            9975   \n1084733                False            9977   \n1084734                False            9987   \n1084735                 True             999   \n\n                           Submitted Date    Age            variable  \\\n0        2019-11-13T18:54:15.349000+00:00  18-24           Join Date   \n1                                     NaN  25-34           Join Date   \n2        2019-11-14T00:33:27.307000+00:00  45-54           Join Date   \n3        2019-11-14T07:42:08.740000+00:00  25-34           Join Date   \n4        2019-11-14T06:20:15.766000+00:00  35-44           Join Date   \n...                                   ...    ...                 ...   \n1084731  2019-11-20T22:14:11.041000+00:00  45-54  2C family lifetime   \n1084732  2019-11-21T18:22:52.981000+00:00  18-24  2C family lifetime   \n1084733  2019-11-20T22:29:28.091000+00:00  25-34  2C family lifetime   \n1084734  2019-11-20T22:30:51.906000+00:00  18-24  2C family lifetime   \n1084735  2019-11-16T02:07:10.302000+00:00  25-34  2C family lifetime   \n\n                                    value  \n0        2019-11-13T18:50:13.052000+00:00  \n1        2019-11-13T19:17:18.037000+00:00  \n2        2019-11-14T00:27:00.846000+00:00  \n3        2019-11-14T01:02:24.797000+00:00  \n4        2019-11-14T06:14:30.402000+00:00  \n...                                   ...  \n1084731                               NaN  \n1084732                               NaN  \n1084733                               1-2  \n1084734                               NaN  \n1084735                               NaN  \n\n[1084736 rows x 6 columns]",
      "text/html": "<div>\n<style scoped>\n    .dataframe tbody tr th:only-of-type {\n        vertical-align: middle;\n    }\n\n    .dataframe tbody tr th {\n        vertical-align: top;\n    }\n\n    .dataframe thead th {\n        text-align: right;\n    }\n</style>\n<table border=\"1\" class=\"dataframe\">\n  <thead>\n    <tr style=\"text-align: right;\">\n      <th></th>\n      <th>Microdosing (yes/no)</th>\n      <th>Participant Num</th>\n      <th>Submitted Date</th>\n      <th>Age</th>\n      <th>variable</th>\n      <th>value</th>\n    </tr>\n  </thead>\n  <tbody>\n    <tr>\n      <th>0</th>\n      <td>False</td>\n      <td>44</td>\n      <td>2019-11-13T18:54:15.349000+00:00</td>\n      <td>18-24</td>\n      <td>Join Date</td>\n      <td>2019-11-13T18:50:13.052000+00:00</td>\n    </tr>\n    <tr>\n      <th>1</th>\n      <td>nan</td>\n      <td>52</td>\n      <td>NaN</td>\n      <td>25-34</td>\n      <td>Join Date</td>\n      <td>2019-11-13T19:17:18.037000+00:00</td>\n    </tr>\n    <tr>\n      <th>2</th>\n      <td>True</td>\n      <td>66</td>\n      <td>2019-11-14T00:33:27.307000+00:00</td>\n      <td>45-54</td>\n      <td>Join Date</td>\n      <td>2019-11-14T00:27:00.846000+00:00</td>\n    </tr>\n    <tr>\n      <th>3</th>\n      <td>False</td>\n      <td>70</td>\n      <td>2019-11-14T07:42:08.740000+00:00</td>\n      <td>25-34</td>\n      <td>Join Date</td>\n      <td>2019-11-14T01:02:24.797000+00:00</td>\n    </tr>\n    <tr>\n      <th>4</th>\n      <td>True</td>\n      <td>78</td>\n      <td>2019-11-14T06:20:15.766000+00:00</td>\n      <td>35-44</td>\n      <td>Join Date</td>\n      <td>2019-11-14T06:14:30.402000+00:00</td>\n    </tr>\n    <tr>\n      <th>...</th>\n      <td>...</td>\n      <td>...</td>\n      <td>...</td>\n      <td>...</td>\n      <td>...</td>\n      <td>...</td>\n    </tr>\n    <tr>\n      <th>1084731</th>\n      <td>False</td>\n      <td>9966</td>\n      <td>2019-11-20T22:14:11.041000+00:00</td>\n      <td>45-54</td>\n      <td>2C family lifetime</td>\n      <td>NaN</td>\n    </tr>\n    <tr>\n      <th>1084732</th>\n      <td>False</td>\n      <td>9975</td>\n      <td>2019-11-21T18:22:52.981000+00:00</td>\n      <td>18-24</td>\n      <td>2C family lifetime</td>\n      <td>NaN</td>\n    </tr>\n    <tr>\n      <th>1084733</th>\n      <td>False</td>\n      <td>9977</td>\n      <td>2019-11-20T22:29:28.091000+00:00</td>\n      <td>25-34</td>\n      <td>2C family lifetime</td>\n      <td>1-2</td>\n    </tr>\n    <tr>\n      <th>1084734</th>\n      <td>False</td>\n      <td>9987</td>\n      <td>2019-11-20T22:30:51.906000+00:00</td>\n      <td>18-24</td>\n      <td>2C family lifetime</td>\n      <td>NaN</td>\n    </tr>\n    <tr>\n      <th>1084735</th>\n      <td>True</td>\n      <td>999</td>\n      <td>2019-11-16T02:07:10.302000+00:00</td>\n      <td>25-34</td>\n      <td>2C family lifetime</td>\n      <td>NaN</td>\n    </tr>\n  </tbody>\n</table>\n<p>1084736 rows × 6 columns</p>\n</div>"
     },
     "metadata": {}
    }
   ]
  },
  {
   "cell_type": "code",
   "metadata": {
    "tags": [],
    "cell_id": "00069-f08cfd5e-dab5-4980-882c-3a999ffebdc7",
    "deepnote_to_be_reexecuted": true,
    "source_hash": "8c7199f3",
    "execution_start": 1644101183244,
    "execution_millis": 985,
    "deepnote_cell_type": "code",
    "deepnote_cell_height": 216.1875
   },
   "source": "drugdf=finaldf[finaldf['variable'].str.contains('Alcohol|Cannabis|CBD|Nicotine|LSD|Psilocybin|MDMA|Ketamine|Mescaline|DMT|Ayahuasca|\\\n3-MMC|Ibogaine|Salvia|Other Lysergamides|Tryptamines|2C family')]\n\ndrugdf= pd.pivot_table(drugdf, index =['Participant Num', 'Submitted Date','Microdosing (yes/no)'],values ='value')\ndrugdf.head()",
   "execution_count": null,
   "outputs": [
    {
     "output_type": "error",
     "ename": "DataError",
     "evalue": "No numeric types to aggregate",
     "traceback": [
      "\u001b[0;31m---------------------------------------------------------------------------\u001b[0m",
      "\u001b[0;31mDataError\u001b[0m                                 Traceback (most recent call last)",
      "\u001b[0;32m<ipython-input-75-da7ab1ccdc9d>\u001b[0m in \u001b[0;36m<module>\u001b[0;34m\u001b[0m\n\u001b[1;32m      2\u001b[0m 3-MMC|Ibogaine|Salvia|Other Lysergamides|Tryptamines|2C family')]\n\u001b[1;32m      3\u001b[0m \u001b[0;34m\u001b[0m\u001b[0m\n\u001b[0;32m----> 4\u001b[0;31m \u001b[0mdrugdf\u001b[0m\u001b[0;34m=\u001b[0m \u001b[0mpd\u001b[0m\u001b[0;34m.\u001b[0m\u001b[0mpivot_table\u001b[0m\u001b[0;34m(\u001b[0m\u001b[0mdrugdf\u001b[0m\u001b[0;34m,\u001b[0m \u001b[0mindex\u001b[0m \u001b[0;34m=\u001b[0m\u001b[0;34m[\u001b[0m\u001b[0;34m'Participant Num'\u001b[0m\u001b[0;34m,\u001b[0m \u001b[0;34m'Submitted Date'\u001b[0m\u001b[0;34m,\u001b[0m\u001b[0;34m'Microdosing (yes/no)'\u001b[0m\u001b[0;34m]\u001b[0m\u001b[0;34m,\u001b[0m\u001b[0mvalues\u001b[0m \u001b[0;34m=\u001b[0m\u001b[0;34m'value'\u001b[0m\u001b[0;34m)\u001b[0m\u001b[0;34m\u001b[0m\u001b[0;34m\u001b[0m\u001b[0m\n\u001b[0m\u001b[1;32m      5\u001b[0m \u001b[0mdrugdf\u001b[0m\u001b[0;34m.\u001b[0m\u001b[0mhead\u001b[0m\u001b[0;34m(\u001b[0m\u001b[0;34m)\u001b[0m\u001b[0;34m\u001b[0m\u001b[0;34m\u001b[0m\u001b[0m\n",
      "\u001b[0;32m/shared-libs/python3.7/py/lib/python3.7/site-packages/pandas/core/reshape/pivot.py\u001b[0m in \u001b[0;36mpivot_table\u001b[0;34m(data, values, index, columns, aggfunc, fill_value, margins, dropna, margins_name, observed)\u001b[0m\n\u001b[1;32m    111\u001b[0m \u001b[0;34m\u001b[0m\u001b[0m\n\u001b[1;32m    112\u001b[0m     \u001b[0mgrouped\u001b[0m \u001b[0;34m=\u001b[0m \u001b[0mdata\u001b[0m\u001b[0;34m.\u001b[0m\u001b[0mgroupby\u001b[0m\u001b[0;34m(\u001b[0m\u001b[0mkeys\u001b[0m\u001b[0;34m,\u001b[0m \u001b[0mobserved\u001b[0m\u001b[0;34m=\u001b[0m\u001b[0mobserved\u001b[0m\u001b[0;34m)\u001b[0m\u001b[0;34m\u001b[0m\u001b[0;34m\u001b[0m\u001b[0m\n\u001b[0;32m--> 113\u001b[0;31m     \u001b[0magged\u001b[0m \u001b[0;34m=\u001b[0m \u001b[0mgrouped\u001b[0m\u001b[0;34m.\u001b[0m\u001b[0magg\u001b[0m\u001b[0;34m(\u001b[0m\u001b[0maggfunc\u001b[0m\u001b[0;34m)\u001b[0m\u001b[0;34m\u001b[0m\u001b[0;34m\u001b[0m\u001b[0m\n\u001b[0m\u001b[1;32m    114\u001b[0m     \u001b[0;32mif\u001b[0m \u001b[0mdropna\u001b[0m \u001b[0;32mand\u001b[0m \u001b[0misinstance\u001b[0m\u001b[0;34m(\u001b[0m\u001b[0magged\u001b[0m\u001b[0;34m,\u001b[0m \u001b[0mABCDataFrame\u001b[0m\u001b[0;34m)\u001b[0m \u001b[0;32mand\u001b[0m \u001b[0mlen\u001b[0m\u001b[0;34m(\u001b[0m\u001b[0magged\u001b[0m\u001b[0;34m.\u001b[0m\u001b[0mcolumns\u001b[0m\u001b[0;34m)\u001b[0m\u001b[0;34m:\u001b[0m\u001b[0;34m\u001b[0m\u001b[0;34m\u001b[0m\u001b[0m\n\u001b[1;32m    115\u001b[0m         \u001b[0magged\u001b[0m \u001b[0;34m=\u001b[0m \u001b[0magged\u001b[0m\u001b[0;34m.\u001b[0m\u001b[0mdropna\u001b[0m\u001b[0;34m(\u001b[0m\u001b[0mhow\u001b[0m\u001b[0;34m=\u001b[0m\u001b[0;34m\"all\"\u001b[0m\u001b[0;34m)\u001b[0m\u001b[0;34m\u001b[0m\u001b[0;34m\u001b[0m\u001b[0m\n",
      "\u001b[0;32m/shared-libs/python3.7/py/lib/python3.7/site-packages/pandas/core/groupby/generic.py\u001b[0m in \u001b[0;36maggregate\u001b[0;34m(self, func, engine, engine_kwargs, *args, **kwargs)\u001b[0m\n\u001b[1;32m    943\u001b[0m         \u001b[0mfunc\u001b[0m \u001b[0;34m=\u001b[0m \u001b[0mmaybe_mangle_lambdas\u001b[0m\u001b[0;34m(\u001b[0m\u001b[0mfunc\u001b[0m\u001b[0;34m)\u001b[0m\u001b[0;34m\u001b[0m\u001b[0;34m\u001b[0m\u001b[0m\n\u001b[1;32m    944\u001b[0m \u001b[0;34m\u001b[0m\u001b[0m\n\u001b[0;32m--> 945\u001b[0;31m         \u001b[0mresult\u001b[0m\u001b[0;34m,\u001b[0m \u001b[0mhow\u001b[0m \u001b[0;34m=\u001b[0m \u001b[0maggregate\u001b[0m\u001b[0;34m(\u001b[0m\u001b[0mself\u001b[0m\u001b[0;34m,\u001b[0m \u001b[0mfunc\u001b[0m\u001b[0;34m,\u001b[0m \u001b[0;34m*\u001b[0m\u001b[0margs\u001b[0m\u001b[0;34m,\u001b[0m \u001b[0;34m**\u001b[0m\u001b[0mkwargs\u001b[0m\u001b[0;34m)\u001b[0m\u001b[0;34m\u001b[0m\u001b[0;34m\u001b[0m\u001b[0m\n\u001b[0m\u001b[1;32m    946\u001b[0m         \u001b[0;32mif\u001b[0m \u001b[0mhow\u001b[0m \u001b[0;32mis\u001b[0m \u001b[0;32mNone\u001b[0m\u001b[0;34m:\u001b[0m\u001b[0;34m\u001b[0m\u001b[0;34m\u001b[0m\u001b[0m\n\u001b[1;32m    947\u001b[0m             \u001b[0;32mreturn\u001b[0m \u001b[0mresult\u001b[0m\u001b[0;34m\u001b[0m\u001b[0;34m\u001b[0m\u001b[0m\n",
      "\u001b[0;32m/shared-libs/python3.7/py/lib/python3.7/site-packages/pandas/core/aggregation.py\u001b[0m in \u001b[0;36maggregate\u001b[0;34m(obj, arg, *args, **kwargs)\u001b[0m\n\u001b[1;32m    577\u001b[0m \u001b[0;34m\u001b[0m\u001b[0m\n\u001b[1;32m    578\u001b[0m     \u001b[0;32mif\u001b[0m \u001b[0misinstance\u001b[0m\u001b[0;34m(\u001b[0m\u001b[0marg\u001b[0m\u001b[0;34m,\u001b[0m \u001b[0mstr\u001b[0m\u001b[0;34m)\u001b[0m\u001b[0;34m:\u001b[0m\u001b[0;34m\u001b[0m\u001b[0;34m\u001b[0m\u001b[0m\n\u001b[0;32m--> 579\u001b[0;31m         \u001b[0;32mreturn\u001b[0m \u001b[0mobj\u001b[0m\u001b[0;34m.\u001b[0m\u001b[0m_try_aggregate_string_function\u001b[0m\u001b[0;34m(\u001b[0m\u001b[0marg\u001b[0m\u001b[0;34m,\u001b[0m \u001b[0;34m*\u001b[0m\u001b[0margs\u001b[0m\u001b[0;34m,\u001b[0m \u001b[0;34m**\u001b[0m\u001b[0mkwargs\u001b[0m\u001b[0;34m)\u001b[0m\u001b[0;34m,\u001b[0m \u001b[0;32mNone\u001b[0m\u001b[0;34m\u001b[0m\u001b[0;34m\u001b[0m\u001b[0m\n\u001b[0m\u001b[1;32m    580\u001b[0m     \u001b[0;32melif\u001b[0m \u001b[0mis_dict_like\u001b[0m\u001b[0;34m(\u001b[0m\u001b[0marg\u001b[0m\u001b[0;34m)\u001b[0m\u001b[0;34m:\u001b[0m\u001b[0;34m\u001b[0m\u001b[0;34m\u001b[0m\u001b[0m\n\u001b[1;32m    581\u001b[0m         \u001b[0marg\u001b[0m \u001b[0;34m=\u001b[0m \u001b[0mcast\u001b[0m\u001b[0;34m(\u001b[0m\u001b[0mAggFuncTypeDict\u001b[0m\u001b[0;34m,\u001b[0m \u001b[0marg\u001b[0m\u001b[0;34m)\u001b[0m\u001b[0;34m\u001b[0m\u001b[0;34m\u001b[0m\u001b[0m\n",
      "\u001b[0;32m/shared-libs/python3.7/py/lib/python3.7/site-packages/pandas/core/base.py\u001b[0m in \u001b[0;36m_try_aggregate_string_function\u001b[0;34m(self, arg, *args, **kwargs)\u001b[0m\n\u001b[1;32m    313\u001b[0m         \u001b[0;32mif\u001b[0m \u001b[0mf\u001b[0m \u001b[0;32mis\u001b[0m \u001b[0;32mnot\u001b[0m \u001b[0;32mNone\u001b[0m\u001b[0;34m:\u001b[0m\u001b[0;34m\u001b[0m\u001b[0;34m\u001b[0m\u001b[0m\n\u001b[1;32m    314\u001b[0m             \u001b[0;32mif\u001b[0m \u001b[0mcallable\u001b[0m\u001b[0;34m(\u001b[0m\u001b[0mf\u001b[0m\u001b[0;34m)\u001b[0m\u001b[0;34m:\u001b[0m\u001b[0;34m\u001b[0m\u001b[0;34m\u001b[0m\u001b[0m\n\u001b[0;32m--> 315\u001b[0;31m                 \u001b[0;32mreturn\u001b[0m \u001b[0mf\u001b[0m\u001b[0;34m(\u001b[0m\u001b[0;34m*\u001b[0m\u001b[0margs\u001b[0m\u001b[0;34m,\u001b[0m \u001b[0;34m**\u001b[0m\u001b[0mkwargs\u001b[0m\u001b[0;34m)\u001b[0m\u001b[0;34m\u001b[0m\u001b[0;34m\u001b[0m\u001b[0m\n\u001b[0m\u001b[1;32m    316\u001b[0m \u001b[0;34m\u001b[0m\u001b[0m\n\u001b[1;32m    317\u001b[0m             \u001b[0;31m# people may try to aggregate on a non-callable attribute\u001b[0m\u001b[0;34m\u001b[0m\u001b[0;34m\u001b[0m\u001b[0;34m\u001b[0m\u001b[0m\n",
      "\u001b[0;32m/shared-libs/python3.7/py/lib/python3.7/site-packages/pandas/core/groupby/groupby.py\u001b[0m in \u001b[0;36mmean\u001b[0;34m(self, numeric_only)\u001b[0m\n\u001b[1;32m   1497\u001b[0m             \u001b[0;34m\"mean\"\u001b[0m\u001b[0;34m,\u001b[0m\u001b[0;34m\u001b[0m\u001b[0;34m\u001b[0m\u001b[0m\n\u001b[1;32m   1498\u001b[0m             \u001b[0malt\u001b[0m\u001b[0;34m=\u001b[0m\u001b[0;32mlambda\u001b[0m \u001b[0mx\u001b[0m\u001b[0;34m,\u001b[0m \u001b[0maxis\u001b[0m\u001b[0;34m:\u001b[0m \u001b[0mSeries\u001b[0m\u001b[0;34m(\u001b[0m\u001b[0mx\u001b[0m\u001b[0;34m)\u001b[0m\u001b[0;34m.\u001b[0m\u001b[0mmean\u001b[0m\u001b[0;34m(\u001b[0m\u001b[0mnumeric_only\u001b[0m\u001b[0;34m=\u001b[0m\u001b[0mnumeric_only\u001b[0m\u001b[0;34m)\u001b[0m\u001b[0;34m,\u001b[0m\u001b[0;34m\u001b[0m\u001b[0;34m\u001b[0m\u001b[0m\n\u001b[0;32m-> 1499\u001b[0;31m             \u001b[0mnumeric_only\u001b[0m\u001b[0;34m=\u001b[0m\u001b[0mnumeric_only\u001b[0m\u001b[0;34m,\u001b[0m\u001b[0;34m\u001b[0m\u001b[0;34m\u001b[0m\u001b[0m\n\u001b[0m\u001b[1;32m   1500\u001b[0m         )\n\u001b[1;32m   1501\u001b[0m \u001b[0;34m\u001b[0m\u001b[0m\n",
      "\u001b[0;32m/shared-libs/python3.7/py/lib/python3.7/site-packages/pandas/core/groupby/generic.py\u001b[0m in \u001b[0;36m_cython_agg_general\u001b[0;34m(self, how, alt, numeric_only, min_count)\u001b[0m\n\u001b[1;32m   1014\u001b[0m     ) -> DataFrame:\n\u001b[1;32m   1015\u001b[0m         agg_mgr = self._cython_agg_blocks(\n\u001b[0;32m-> 1016\u001b[0;31m             \u001b[0mhow\u001b[0m\u001b[0;34m,\u001b[0m \u001b[0malt\u001b[0m\u001b[0;34m=\u001b[0m\u001b[0malt\u001b[0m\u001b[0;34m,\u001b[0m \u001b[0mnumeric_only\u001b[0m\u001b[0;34m=\u001b[0m\u001b[0mnumeric_only\u001b[0m\u001b[0;34m,\u001b[0m \u001b[0mmin_count\u001b[0m\u001b[0;34m=\u001b[0m\u001b[0mmin_count\u001b[0m\u001b[0;34m\u001b[0m\u001b[0;34m\u001b[0m\u001b[0m\n\u001b[0m\u001b[1;32m   1017\u001b[0m         )\n\u001b[1;32m   1018\u001b[0m         \u001b[0;32mreturn\u001b[0m \u001b[0mself\u001b[0m\u001b[0;34m.\u001b[0m\u001b[0m_wrap_agged_blocks\u001b[0m\u001b[0;34m(\u001b[0m\u001b[0magg_mgr\u001b[0m\u001b[0;34m.\u001b[0m\u001b[0mblocks\u001b[0m\u001b[0;34m,\u001b[0m \u001b[0mitems\u001b[0m\u001b[0;34m=\u001b[0m\u001b[0magg_mgr\u001b[0m\u001b[0;34m.\u001b[0m\u001b[0mitems\u001b[0m\u001b[0;34m)\u001b[0m\u001b[0;34m\u001b[0m\u001b[0;34m\u001b[0m\u001b[0m\n",
      "\u001b[0;32m/shared-libs/python3.7/py/lib/python3.7/site-packages/pandas/core/groupby/generic.py\u001b[0m in \u001b[0;36m_cython_agg_blocks\u001b[0;34m(self, how, alt, numeric_only, min_count)\u001b[0m\n\u001b[1;32m   1119\u001b[0m \u001b[0;34m\u001b[0m\u001b[0m\n\u001b[1;32m   1120\u001b[0m         \u001b[0;32mif\u001b[0m \u001b[0;32mnot\u001b[0m \u001b[0mlen\u001b[0m\u001b[0;34m(\u001b[0m\u001b[0mnew_mgr\u001b[0m\u001b[0;34m)\u001b[0m\u001b[0;34m:\u001b[0m\u001b[0;34m\u001b[0m\u001b[0;34m\u001b[0m\u001b[0m\n\u001b[0;32m-> 1121\u001b[0;31m             \u001b[0;32mraise\u001b[0m \u001b[0mDataError\u001b[0m\u001b[0;34m(\u001b[0m\u001b[0;34m\"No numeric types to aggregate\"\u001b[0m\u001b[0;34m)\u001b[0m\u001b[0;34m\u001b[0m\u001b[0;34m\u001b[0m\u001b[0m\n\u001b[0m\u001b[1;32m   1122\u001b[0m \u001b[0;34m\u001b[0m\u001b[0m\n\u001b[1;32m   1123\u001b[0m         \u001b[0;32mreturn\u001b[0m \u001b[0mnew_mgr\u001b[0m\u001b[0;34m\u001b[0m\u001b[0;34m\u001b[0m\u001b[0m\n",
      "\u001b[0;31mDataError\u001b[0m: No numeric types to aggregate"
     ]
    }
   ]
  },
  {
   "cell_type": "code",
   "metadata": {
    "tags": [],
    "cell_id": "00070-5f808ca2-7a19-4297-9d20-02e43ee38f23",
    "deepnote_to_be_reexecuted": true,
    "source_hash": "9783c542",
    "execution_start": 1639079971814,
    "execution_millis": 19,
    "deepnote_cell_type": "code",
    "deepnote_cell_height": 274,
    "deepnote_output_heights": [
     177
    ]
   },
   "source": "drugdf.head()",
   "execution_count": null,
   "outputs": [
    {
     "output_type": "execute_result",
     "execution_count": 56,
     "data": {
      "application/vnd.deepnote.dataframe.v2+json": {
       "row_count": 5,
       "column_count": 5,
       "columns": [
        {
         "name": "Microdosing (yes/no)",
         "dtype": "object",
         "stats": {
          "unique_count": 3,
          "nan_count": 0,
          "categories": [
           {
            "name": "False",
            "count": 2
           },
           {
            "name": "True",
            "count": 2
           },
           {
            "name": "nan",
            "count": 1
           }
          ]
         }
        },
        {
         "name": "Participant Num",
         "dtype": "object",
         "stats": {
          "unique_count": 5,
          "nan_count": 0,
          "categories": [
           {
            "name": "44",
            "count": 1
           },
           {
            "name": "52",
            "count": 1
           },
           {
            "name": "3 others",
            "count": 3
           }
          ]
         }
        },
        {
         "name": "Submitted Date",
         "dtype": "object",
         "stats": {
          "unique_count": 4,
          "nan_count": 1,
          "categories": [
           {
            "name": "2019-11-13T18:54:15.349000+00:00",
            "count": 1
           },
           {
            "name": "3 others",
            "count": 3
           },
           {
            "name": "Missing",
            "count": 1
           }
          ]
         }
        },
        {
         "name": "variable",
         "dtype": "object",
         "stats": {
          "unique_count": 1,
          "nan_count": 0,
          "categories": [
           {
            "name": "LSD dosage",
            "count": 5
           }
          ]
         }
        },
        {
         "name": "value",
         "dtype": "object",
         "stats": {
          "unique_count": 0,
          "nan_count": 5,
          "categories": [
           {
            "name": "Missing",
            "count": 5
           }
          ]
         }
        },
        {
         "name": "_deepnote_index_column",
         "dtype": "int64"
        }
       ],
       "rows_top": [
        {
         "Microdosing (yes/no)": "False",
         "Participant Num": "44",
         "Submitted Date": "2019-11-13T18:54:15.349000+00:00",
         "variable": "LSD dosage",
         "value": "nan",
         "_deepnote_index_column": 254235
        },
        {
         "Microdosing (yes/no)": "nan",
         "Participant Num": "52",
         "Submitted Date": "nan",
         "variable": "LSD dosage",
         "value": "nan",
         "_deepnote_index_column": 254236
        },
        {
         "Microdosing (yes/no)": "True",
         "Participant Num": "66",
         "Submitted Date": "2019-11-14T00:33:27.307000+00:00",
         "variable": "LSD dosage",
         "value": "nan",
         "_deepnote_index_column": 254237
        },
        {
         "Microdosing (yes/no)": "False",
         "Participant Num": "70",
         "Submitted Date": "2019-11-14T07:42:08.740000+00:00",
         "variable": "LSD dosage",
         "value": "nan",
         "_deepnote_index_column": 254238
        },
        {
         "Microdosing (yes/no)": "True",
         "Participant Num": "78",
         "Submitted Date": "2019-11-14T06:20:15.766000+00:00",
         "variable": "LSD dosage",
         "value": "nan",
         "_deepnote_index_column": 254239
        }
       ],
       "rows_bottom": null
      },
      "text/plain": "       Microdosing (yes/no) Participant Num                    Submitted Date  \\\n254235                False              44  2019-11-13T18:54:15.349000+00:00   \n254236                  nan              52                               NaN   \n254237                 True              66  2019-11-14T00:33:27.307000+00:00   \n254238                False              70  2019-11-14T07:42:08.740000+00:00   \n254239                 True              78  2019-11-14T06:20:15.766000+00:00   \n\n          variable value  \n254235  LSD dosage   NaN  \n254236  LSD dosage   NaN  \n254237  LSD dosage   NaN  \n254238  LSD dosage   NaN  \n254239  LSD dosage   NaN  ",
      "text/html": "<div>\n<style scoped>\n    .dataframe tbody tr th:only-of-type {\n        vertical-align: middle;\n    }\n\n    .dataframe tbody tr th {\n        vertical-align: top;\n    }\n\n    .dataframe thead th {\n        text-align: right;\n    }\n</style>\n<table border=\"1\" class=\"dataframe\">\n  <thead>\n    <tr style=\"text-align: right;\">\n      <th></th>\n      <th>Microdosing (yes/no)</th>\n      <th>Participant Num</th>\n      <th>Submitted Date</th>\n      <th>variable</th>\n      <th>value</th>\n    </tr>\n  </thead>\n  <tbody>\n    <tr>\n      <th>254235</th>\n      <td>False</td>\n      <td>44</td>\n      <td>2019-11-13T18:54:15.349000+00:00</td>\n      <td>LSD dosage</td>\n      <td>NaN</td>\n    </tr>\n    <tr>\n      <th>254236</th>\n      <td>nan</td>\n      <td>52</td>\n      <td>NaN</td>\n      <td>LSD dosage</td>\n      <td>NaN</td>\n    </tr>\n    <tr>\n      <th>254237</th>\n      <td>True</td>\n      <td>66</td>\n      <td>2019-11-14T00:33:27.307000+00:00</td>\n      <td>LSD dosage</td>\n      <td>NaN</td>\n    </tr>\n    <tr>\n      <th>254238</th>\n      <td>False</td>\n      <td>70</td>\n      <td>2019-11-14T07:42:08.740000+00:00</td>\n      <td>LSD dosage</td>\n      <td>NaN</td>\n    </tr>\n    <tr>\n      <th>254239</th>\n      <td>True</td>\n      <td>78</td>\n      <td>2019-11-14T06:20:15.766000+00:00</td>\n      <td>LSD dosage</td>\n      <td>NaN</td>\n    </tr>\n  </tbody>\n</table>\n</div>"
     },
     "metadata": {}
    }
   ]
  },
  {
   "cell_type": "code",
   "metadata": {
    "tags": [],
    "cell_id": "00069-a9d848fb-bf35-4442-bd43-4ff63fad8493",
    "deepnote_to_be_reexecuted": true,
    "source_hash": "87777171",
    "execution_start": 1639079971852,
    "execution_millis": 102,
    "deepnote_cell_type": "code",
    "deepnote_cell_height": 536.125
   },
   "source": "print(finaldf.variable.unique())",
   "execution_count": null,
   "outputs": [
    {
     "name": "stdout",
     "text": "['Join Date' 'Gender' 'Age' 'Sexual orientation' 'Ethnicity' 'Country'\n 'Living area' 'Employment' 'Education'\n 'Yearly household income (thousand USD)'\n 'Mental health concerns (yes/no)' 'Mental health concerns (type)'\n 'EntryNumber' 'CountryFull' 'Microdosing (substance)' 'LSD dosage'\n 'Psilocybin dosage' 'Stacking (substance)' 'Prepared products (yes/no)'\n 'Microdosing protocol (yes/no)' 'Microdosing protocol (type)'\n 'Averaged microdosing days' 'Microdosing duration' 'Microdosing reasons'\n 'Alcohol' 'Cannabis' 'CBD' 'Nicotine' 'LSD (yes/no)' 'LSD past year'\n 'LSD lifetime' 'Psilocybin (yes/no)' 'Psilocybin past year'\n 'Psilocybin lifetime' 'MDMA (yes/no)' 'MDMA past year' 'MDMA lifetime'\n 'Ketamine (yes/no)' 'Ketamine past year' 'Ketamine lifetime'\n 'Mescaline (yes/no)' 'Mescaline past year' 'Mescaline lifetime'\n 'DMT (yes/no)' 'DMT past year' 'DMT lifetime' 'Ayahuasca (yes/no)'\n 'Ayahuasca past year' 'Ayahuasca lifetime' '3-MMC (yes/no)'\n '3-MMC past year' '3-MMC lifetime' 'Ibogaine (yes/no)'\n 'Ibogaine past year' 'Ibogaine lifetime' 'Salvia (yes/no)'\n 'Salvia past year' 'Salvia lifetime' 'Other Lysergamides (yes/no)'\n 'Other Lysergamides past year' 'Other Lysergamides lifetime'\n 'Other Tryptamines (yes/no)' 'Other Tryptamines past year'\n 'Other Tryptamines lifetime' '2C family (yes/no)' '2C family past year'\n '2C family lifetime']\n",
     "output_type": "stream"
    }
   ]
  },
  {
   "cell_type": "code",
   "metadata": {
    "tags": [],
    "cell_id": "00070-517cad0d-3933-4423-abeb-e32c5bd6b477",
    "deepnote_to_be_reexecuted": true,
    "source_hash": "e55b2076",
    "execution_start": 1638996959951,
    "execution_millis": 1860,
    "deepnote_cell_type": "code",
    "deepnote_cell_height": 400,
    "deepnote_output_heights": [
     181
    ]
   },
   "source": "druglist=['Alcohol','Cannabis','CBD','Nicotine','LSD','Psilocybin','MDMA','Ketamine','Mescaline','DMT','Ayahuasca',\\\n'3-MMC','Ibogaine','Salvia','Lysergamides','Tryptamines','2C family']\ndrugquest=['yes/no','past year','lifetime']\n\nfinaldf['drugcat']=finaldf['variable'].str.contains('|'.join(druglist))\nfinaldf['drugquest']=finaldf['variable'].str.contains('|'.join(drugquest))\n\nfinaldf.head()",
   "execution_count": null,
   "outputs": [
    {
     "output_type": "execute_result",
     "execution_count": 84,
     "data": {
      "application/vnd.deepnote.dataframe.v2+json": {
       "row_count": 5,
       "column_count": 7,
       "columns": [
        {
         "name": "Microdosing (yes/no)",
         "dtype": "object",
         "stats": {
          "unique_count": 3,
          "nan_count": 0,
          "categories": [
           {
            "name": "False",
            "count": 2
           },
           {
            "name": "True",
            "count": 2
           },
           {
            "name": "nan",
            "count": 1
           }
          ]
         }
        },
        {
         "name": "Participant Num",
         "dtype": "object",
         "stats": {
          "unique_count": 5,
          "nan_count": 0,
          "categories": [
           {
            "name": "44",
            "count": 1
           },
           {
            "name": "52",
            "count": 1
           },
           {
            "name": "3 others",
            "count": 3
           }
          ]
         }
        },
        {
         "name": "Submitted Date",
         "dtype": "object",
         "stats": {
          "unique_count": 4,
          "nan_count": 1,
          "categories": [
           {
            "name": "2019-11-13T18:54:15.349000+00:00",
            "count": 1
           },
           {
            "name": "3 others",
            "count": 3
           },
           {
            "name": "Missing",
            "count": 1
           }
          ]
         }
        },
        {
         "name": "variable",
         "dtype": "object",
         "stats": {
          "unique_count": 1,
          "nan_count": 0,
          "categories": [
           {
            "name": "Join Date",
            "count": 5
           }
          ]
         }
        },
        {
         "name": "value",
         "dtype": "object",
         "stats": {
          "unique_count": 5,
          "nan_count": 0,
          "categories": [
           {
            "name": "2019-11-13T18:50:13.052000+00:00",
            "count": 1
           },
           {
            "name": "2019-11-13T19:17:18.037000+00:00",
            "count": 1
           },
           {
            "name": "3 others",
            "count": 3
           }
          ]
         }
        },
        {
         "name": "drugcat",
         "dtype": "bool",
         "stats": {
          "unique_count": 1,
          "nan_count": 0,
          "categories": [
           {
            "name": "False",
            "count": 5
           }
          ]
         }
        },
        {
         "name": "drugquest",
         "dtype": "bool",
         "stats": {
          "unique_count": 1,
          "nan_count": 0,
          "categories": [
           {
            "name": "False",
            "count": 5
           }
          ]
         }
        },
        {
         "name": "_deepnote_index_column",
         "dtype": "int64"
        }
       ],
       "rows_top": [
        {
         "Microdosing (yes/no)": "False",
         "Participant Num": "44",
         "Submitted Date": "2019-11-13T18:54:15.349000+00:00",
         "variable": "Join Date",
         "value": "2019-11-13T18:50:13.052000+00:00",
         "drugcat": false,
         "drugquest": false,
         "_deepnote_index_column": 0
        },
        {
         "Microdosing (yes/no)": "nan",
         "Participant Num": "52",
         "Submitted Date": "nan",
         "variable": "Join Date",
         "value": "2019-11-13T19:17:18.037000+00:00",
         "drugcat": false,
         "drugquest": false,
         "_deepnote_index_column": 1
        },
        {
         "Microdosing (yes/no)": "True",
         "Participant Num": "66",
         "Submitted Date": "2019-11-14T00:33:27.307000+00:00",
         "variable": "Join Date",
         "value": "2019-11-14T00:27:00.846000+00:00",
         "drugcat": false,
         "drugquest": false,
         "_deepnote_index_column": 2
        },
        {
         "Microdosing (yes/no)": "False",
         "Participant Num": "70",
         "Submitted Date": "2019-11-14T07:42:08.740000+00:00",
         "variable": "Join Date",
         "value": "2019-11-14T01:02:24.797000+00:00",
         "drugcat": false,
         "drugquest": false,
         "_deepnote_index_column": 3
        },
        {
         "Microdosing (yes/no)": "True",
         "Participant Num": "78",
         "Submitted Date": "2019-11-14T06:20:15.766000+00:00",
         "variable": "Join Date",
         "value": "2019-11-14T06:14:30.402000+00:00",
         "drugcat": false,
         "drugquest": false,
         "_deepnote_index_column": 4
        }
       ],
       "rows_bottom": null
      },
      "text/plain": "  Microdosing (yes/no) Participant Num                    Submitted Date  \\\n0                False              44  2019-11-13T18:54:15.349000+00:00   \n1                  nan              52                               NaN   \n2                 True              66  2019-11-14T00:33:27.307000+00:00   \n3                False              70  2019-11-14T07:42:08.740000+00:00   \n4                 True              78  2019-11-14T06:20:15.766000+00:00   \n\n    variable                             value  drugcat  drugquest  \n0  Join Date  2019-11-13T18:50:13.052000+00:00    False      False  \n1  Join Date  2019-11-13T19:17:18.037000+00:00    False      False  \n2  Join Date  2019-11-14T00:27:00.846000+00:00    False      False  \n3  Join Date  2019-11-14T01:02:24.797000+00:00    False      False  \n4  Join Date  2019-11-14T06:14:30.402000+00:00    False      False  ",
      "text/html": "<div>\n<style scoped>\n    .dataframe tbody tr th:only-of-type {\n        vertical-align: middle;\n    }\n\n    .dataframe tbody tr th {\n        vertical-align: top;\n    }\n\n    .dataframe thead th {\n        text-align: right;\n    }\n</style>\n<table border=\"1\" class=\"dataframe\">\n  <thead>\n    <tr style=\"text-align: right;\">\n      <th></th>\n      <th>Microdosing (yes/no)</th>\n      <th>Participant Num</th>\n      <th>Submitted Date</th>\n      <th>variable</th>\n      <th>value</th>\n      <th>drugcat</th>\n      <th>drugquest</th>\n    </tr>\n  </thead>\n  <tbody>\n    <tr>\n      <th>0</th>\n      <td>False</td>\n      <td>44</td>\n      <td>2019-11-13T18:54:15.349000+00:00</td>\n      <td>Join Date</td>\n      <td>2019-11-13T18:50:13.052000+00:00</td>\n      <td>False</td>\n      <td>False</td>\n    </tr>\n    <tr>\n      <th>1</th>\n      <td>nan</td>\n      <td>52</td>\n      <td>NaN</td>\n      <td>Join Date</td>\n      <td>2019-11-13T19:17:18.037000+00:00</td>\n      <td>False</td>\n      <td>False</td>\n    </tr>\n    <tr>\n      <th>2</th>\n      <td>True</td>\n      <td>66</td>\n      <td>2019-11-14T00:33:27.307000+00:00</td>\n      <td>Join Date</td>\n      <td>2019-11-14T00:27:00.846000+00:00</td>\n      <td>False</td>\n      <td>False</td>\n    </tr>\n    <tr>\n      <th>3</th>\n      <td>False</td>\n      <td>70</td>\n      <td>2019-11-14T07:42:08.740000+00:00</td>\n      <td>Join Date</td>\n      <td>2019-11-14T01:02:24.797000+00:00</td>\n      <td>False</td>\n      <td>False</td>\n    </tr>\n    <tr>\n      <th>4</th>\n      <td>True</td>\n      <td>78</td>\n      <td>2019-11-14T06:20:15.766000+00:00</td>\n      <td>Join Date</td>\n      <td>2019-11-14T06:14:30.402000+00:00</td>\n      <td>False</td>\n      <td>False</td>\n    </tr>\n  </tbody>\n</table>\n</div>"
     },
     "metadata": {}
    }
   ]
  },
  {
   "cell_type": "markdown",
   "source": "<a style='text-decoration:none;line-height:16px;display:flex;color:#5B5B62;padding:10px;justify-content:end;' href='https://deepnote.com?utm_source=created-in-deepnote-cell&projectId=1fc2b6f9-1143-4a64-a727-59306e123dd1' target=\"_blank\">\n<img alt='Created in deepnote.com' style='display:inline;max-height:16px;margin:0px;margin-right:7.5px;' src='data:image/svg+xml;base64,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' > </img>\nCreated in <span style='font-weight:600;margin-left:4px;'>Deepnote</span></a>",
   "metadata": {
    "tags": [],
    "created_in_deepnote_cell": true,
    "deepnote_cell_type": "markdown"
   }
  }
 ],
 "nbformat": 4,
 "nbformat_minor": 2,
 "metadata": {
  "orig_nbformat": 2,
  "deepnote": {
   "is_reactive": false
  },
  "deepnote_notebook_id": "81e21e4f-5f71-4471-8646-941bb1dadd4b",
  "deepnote_execution_queue": []
 }
}